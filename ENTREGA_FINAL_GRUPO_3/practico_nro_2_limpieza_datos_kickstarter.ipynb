{
  "nbformat": 4,
  "nbformat_minor": 0,
  "metadata": {
    "colab": {
      "name": "segundo_ejercicio_limpieza_datos_kickstarter.ipynb",
      "provenance": [],
      "collapsed_sections": [
        "oGI_4tR0IXUz"
      ]
    },
    "kernelspec": {
      "display_name": "Python 3",
      "language": "python",
      "name": "python3"
    },
    "language_info": {
      "codemirror_mode": {
        "name": "ipython",
        "version": 3
      },
      "file_extension": ".py",
      "mimetype": "text/x-python",
      "name": "python",
      "nbconvert_exporter": "python",
      "pygments_lexer": "ipython3",
      "version": "3.7.3"
    }
  },
  "cells": [
    {
      "cell_type": "markdown",
      "metadata": {
        "id": "jFFtRM0NbCLF",
        "colab_type": "text"
      },
      "source": [
        "# Segundo Práctico: Limpieza de datos"
      ]
    },
    {
      "cell_type": "markdown",
      "metadata": {
        "id": "T1XniUY8bCLG",
        "colab_type": "text"
      },
      "source": [
        "Vamos a aplicar el [checklist del Banco Mundial](https://dimewiki.worldbank.org/wiki/Checklist:_Data_Cleaning) en Python usando el [SciPy stack](https://www.scipy.org/stackspec.html), principalmente pandas"
      ]
    },
    {
      "cell_type": "markdown",
      "metadata": {
        "colab_type": "text",
        "id": "0Z9ck1e6FMXn"
      },
      "source": [
        "## 0. Prerequisitos"
      ]
    },
    {
      "cell_type": "markdown",
      "metadata": {
        "id": "h4ZegCnDbCLI",
        "colab_type": "text"
      },
      "source": [
        "Aclaración: La próxima celda es para compatilibidad con Colab, NO ES RECOMENDADO realizar pip install desde un notebook."
      ]
    },
    {
      "cell_type": "code",
      "metadata": {
        "colab_type": "code",
        "id": "53S0ap0UFLRz",
        "colab": {
          "base_uri": "https://localhost:8080/",
          "height": 117
        },
        "outputId": "853d0d34-4ee1-4e58-c001-490e93a7dedc"
      },
      "source": [
        "import sys\n",
        "in_colab = 'google.colab' in sys.modules\n",
        "\n",
        "if in_colab:\n",
        "  BASE_DIR = \"https://github.com/DiploDatos/AnalisisYCuracion/raw/master/\"\n",
        "else:\n",
        "  BASE_DIR = \"..\"\n",
        "if 'ftfy' not in sys.modules:\n",
        "    !pip install 'ftfy<5.6'"
      ],
      "execution_count": 1,
      "outputs": [
        {
          "output_type": "stream",
          "text": [
            "Collecting ftfy<5.6\n",
            "\u001b[?25l  Downloading https://files.pythonhosted.org/packages/8f/86/df789c5834f15ae1ca53a8d4c1fc4788676c2e32112f6a786f2625d9c6e6/ftfy-5.5.1-py3-none-any.whl (43kB)\n",
            "\r\u001b[K     |███████▌                        | 10kB 20.1MB/s eta 0:00:01\r\u001b[K     |███████████████                 | 20kB 2.9MB/s eta 0:00:01\r\u001b[K     |██████████████████████▍         | 30kB 3.9MB/s eta 0:00:01\r\u001b[K     |█████████████████████████████▉  | 40kB 4.2MB/s eta 0:00:01\r\u001b[K     |████████████████████████████████| 51kB 2.5MB/s \n",
            "\u001b[?25hRequirement already satisfied: wcwidth in /usr/local/lib/python3.6/dist-packages (from ftfy<5.6) (0.2.5)\n",
            "Installing collected packages: ftfy\n",
            "Successfully installed ftfy-5.5.1\n"
          ],
          "name": "stdout"
        }
      ]
    },
    {
      "cell_type": "markdown",
      "metadata": {
        "id": "tCCWn3N0bCLO",
        "colab_type": "text"
      },
      "source": [
        "# 1. Importando los datos"
      ]
    },
    {
      "cell_type": "markdown",
      "metadata": {
        "colab_type": "text",
        "id": "uD9wmnXUYStG"
      },
      "source": [
        "# 1.1. Verificar que no hay problemas en la importación"
      ]
    },
    {
      "cell_type": "code",
      "metadata": {
        "colab_type": "code",
        "id": "VYFnOBCKYStI",
        "colab": {}
      },
      "source": [
        "import pandas as pd\n",
        "pd.options.display.float_format = '{:.2f}'.format  # para que aparezcan con 2 decimales"
      ],
      "execution_count": 2,
      "outputs": []
    },
    {
      "cell_type": "markdown",
      "metadata": {
        "colab_type": "text",
        "id": "0MdlP2YUYStN"
      },
      "source": [
        "Veamos de importar datos de proyectos de Kickstarter la plataforma de Crowdsourcing"
      ]
    },
    {
      "cell_type": "code",
      "metadata": {
        "colab_type": "code",
        "id": "b-_bMXxOYStW",
        "colab": {}
      },
      "source": [
        "kickstarter_2018 = pd.read_csv(BASE_DIR + \"/input/kickstarter-projects/ks-projects-201801.csv\")"
      ],
      "execution_count": 3,
      "outputs": []
    },
    {
      "cell_type": "markdown",
      "metadata": {
        "colab_type": "text",
        "id": "2p0dbU1yYStY"
      },
      "source": [
        "Veamos los datos cargados en el dataframe"
      ]
    },
    {
      "cell_type": "code",
      "metadata": {
        "colab_type": "code",
        "id": "etZ09t5MYStZ",
        "colab": {
          "base_uri": "https://localhost:8080/",
          "height": 909
        },
        "outputId": "16e6b12a-74e8-421f-e194-c750ac2296ca"
      },
      "source": [
        "kickstarter_2018"
      ],
      "execution_count": 4,
      "outputs": [
        {
          "output_type": "execute_result",
          "data": {
            "text/html": [
              "<div>\n",
              "<style scoped>\n",
              "    .dataframe tbody tr th:only-of-type {\n",
              "        vertical-align: middle;\n",
              "    }\n",
              "\n",
              "    .dataframe tbody tr th {\n",
              "        vertical-align: top;\n",
              "    }\n",
              "\n",
              "    .dataframe thead th {\n",
              "        text-align: right;\n",
              "    }\n",
              "</style>\n",
              "<table border=\"1\" class=\"dataframe\">\n",
              "  <thead>\n",
              "    <tr style=\"text-align: right;\">\n",
              "      <th></th>\n",
              "      <th>ID</th>\n",
              "      <th>name</th>\n",
              "      <th>category</th>\n",
              "      <th>main_category</th>\n",
              "      <th>currency</th>\n",
              "      <th>deadline</th>\n",
              "      <th>goal</th>\n",
              "      <th>launched</th>\n",
              "      <th>pledged</th>\n",
              "      <th>state</th>\n",
              "      <th>backers</th>\n",
              "      <th>country</th>\n",
              "      <th>usd pledged</th>\n",
              "      <th>usd_pledged_real</th>\n",
              "      <th>usd_goal_real</th>\n",
              "    </tr>\n",
              "  </thead>\n",
              "  <tbody>\n",
              "    <tr>\n",
              "      <th>0</th>\n",
              "      <td>1000002330</td>\n",
              "      <td>The Songs of Adelaide &amp; Abullah</td>\n",
              "      <td>Poetry</td>\n",
              "      <td>Publishing</td>\n",
              "      <td>GBP</td>\n",
              "      <td>2015-10-09</td>\n",
              "      <td>1000.00</td>\n",
              "      <td>2015-08-11 12:12:28</td>\n",
              "      <td>0.00</td>\n",
              "      <td>failed</td>\n",
              "      <td>0</td>\n",
              "      <td>GB</td>\n",
              "      <td>0.00</td>\n",
              "      <td>0.00</td>\n",
              "      <td>1533.95</td>\n",
              "    </tr>\n",
              "    <tr>\n",
              "      <th>1</th>\n",
              "      <td>1000003930</td>\n",
              "      <td>Greeting From Earth: ZGAC Arts Capsule For ET</td>\n",
              "      <td>Narrative Film</td>\n",
              "      <td>Film &amp; Video</td>\n",
              "      <td>USD</td>\n",
              "      <td>2017-11-01</td>\n",
              "      <td>30000.00</td>\n",
              "      <td>2017-09-02 04:43:57</td>\n",
              "      <td>2421.00</td>\n",
              "      <td>failed</td>\n",
              "      <td>15</td>\n",
              "      <td>US</td>\n",
              "      <td>100.00</td>\n",
              "      <td>2421.00</td>\n",
              "      <td>30000.00</td>\n",
              "    </tr>\n",
              "    <tr>\n",
              "      <th>2</th>\n",
              "      <td>1000004038</td>\n",
              "      <td>Where is Hank?</td>\n",
              "      <td>Narrative Film</td>\n",
              "      <td>Film &amp; Video</td>\n",
              "      <td>USD</td>\n",
              "      <td>2013-02-26</td>\n",
              "      <td>45000.00</td>\n",
              "      <td>2013-01-12 00:20:50</td>\n",
              "      <td>220.00</td>\n",
              "      <td>failed</td>\n",
              "      <td>3</td>\n",
              "      <td>US</td>\n",
              "      <td>220.00</td>\n",
              "      <td>220.00</td>\n",
              "      <td>45000.00</td>\n",
              "    </tr>\n",
              "    <tr>\n",
              "      <th>3</th>\n",
              "      <td>1000007540</td>\n",
              "      <td>ToshiCapital Rekordz Needs Help to Complete Album</td>\n",
              "      <td>Music</td>\n",
              "      <td>Music</td>\n",
              "      <td>USD</td>\n",
              "      <td>2012-04-16</td>\n",
              "      <td>5000.00</td>\n",
              "      <td>2012-03-17 03:24:11</td>\n",
              "      <td>1.00</td>\n",
              "      <td>failed</td>\n",
              "      <td>1</td>\n",
              "      <td>US</td>\n",
              "      <td>1.00</td>\n",
              "      <td>1.00</td>\n",
              "      <td>5000.00</td>\n",
              "    </tr>\n",
              "    <tr>\n",
              "      <th>4</th>\n",
              "      <td>1000011046</td>\n",
              "      <td>Community Film Project: The Art of Neighborhoo...</td>\n",
              "      <td>Film &amp; Video</td>\n",
              "      <td>Film &amp; Video</td>\n",
              "      <td>USD</td>\n",
              "      <td>2015-08-29</td>\n",
              "      <td>19500.00</td>\n",
              "      <td>2015-07-04 08:35:03</td>\n",
              "      <td>1283.00</td>\n",
              "      <td>canceled</td>\n",
              "      <td>14</td>\n",
              "      <td>US</td>\n",
              "      <td>1283.00</td>\n",
              "      <td>1283.00</td>\n",
              "      <td>19500.00</td>\n",
              "    </tr>\n",
              "    <tr>\n",
              "      <th>...</th>\n",
              "      <td>...</td>\n",
              "      <td>...</td>\n",
              "      <td>...</td>\n",
              "      <td>...</td>\n",
              "      <td>...</td>\n",
              "      <td>...</td>\n",
              "      <td>...</td>\n",
              "      <td>...</td>\n",
              "      <td>...</td>\n",
              "      <td>...</td>\n",
              "      <td>...</td>\n",
              "      <td>...</td>\n",
              "      <td>...</td>\n",
              "      <td>...</td>\n",
              "      <td>...</td>\n",
              "    </tr>\n",
              "    <tr>\n",
              "      <th>378656</th>\n",
              "      <td>999976400</td>\n",
              "      <td>ChknTruk Nationwide Charity Drive 2014 (Canceled)</td>\n",
              "      <td>Documentary</td>\n",
              "      <td>Film &amp; Video</td>\n",
              "      <td>USD</td>\n",
              "      <td>2014-10-17</td>\n",
              "      <td>50000.00</td>\n",
              "      <td>2014-09-17 02:35:30</td>\n",
              "      <td>25.00</td>\n",
              "      <td>canceled</td>\n",
              "      <td>1</td>\n",
              "      <td>US</td>\n",
              "      <td>25.00</td>\n",
              "      <td>25.00</td>\n",
              "      <td>50000.00</td>\n",
              "    </tr>\n",
              "    <tr>\n",
              "      <th>378657</th>\n",
              "      <td>999977640</td>\n",
              "      <td>The Tribe</td>\n",
              "      <td>Narrative Film</td>\n",
              "      <td>Film &amp; Video</td>\n",
              "      <td>USD</td>\n",
              "      <td>2011-07-19</td>\n",
              "      <td>1500.00</td>\n",
              "      <td>2011-06-22 03:35:14</td>\n",
              "      <td>155.00</td>\n",
              "      <td>failed</td>\n",
              "      <td>5</td>\n",
              "      <td>US</td>\n",
              "      <td>155.00</td>\n",
              "      <td>155.00</td>\n",
              "      <td>1500.00</td>\n",
              "    </tr>\n",
              "    <tr>\n",
              "      <th>378658</th>\n",
              "      <td>999986353</td>\n",
              "      <td>Walls of Remedy- New lesbian Romantic Comedy f...</td>\n",
              "      <td>Narrative Film</td>\n",
              "      <td>Film &amp; Video</td>\n",
              "      <td>USD</td>\n",
              "      <td>2010-08-16</td>\n",
              "      <td>15000.00</td>\n",
              "      <td>2010-07-01 19:40:30</td>\n",
              "      <td>20.00</td>\n",
              "      <td>failed</td>\n",
              "      <td>1</td>\n",
              "      <td>US</td>\n",
              "      <td>20.00</td>\n",
              "      <td>20.00</td>\n",
              "      <td>15000.00</td>\n",
              "    </tr>\n",
              "    <tr>\n",
              "      <th>378659</th>\n",
              "      <td>999987933</td>\n",
              "      <td>BioDefense Education Kit</td>\n",
              "      <td>Technology</td>\n",
              "      <td>Technology</td>\n",
              "      <td>USD</td>\n",
              "      <td>2016-02-13</td>\n",
              "      <td>15000.00</td>\n",
              "      <td>2016-01-13 18:13:53</td>\n",
              "      <td>200.00</td>\n",
              "      <td>failed</td>\n",
              "      <td>6</td>\n",
              "      <td>US</td>\n",
              "      <td>200.00</td>\n",
              "      <td>200.00</td>\n",
              "      <td>15000.00</td>\n",
              "    </tr>\n",
              "    <tr>\n",
              "      <th>378660</th>\n",
              "      <td>999988282</td>\n",
              "      <td>Nou Renmen Ayiti!  We Love Haiti!</td>\n",
              "      <td>Performance Art</td>\n",
              "      <td>Art</td>\n",
              "      <td>USD</td>\n",
              "      <td>2011-08-16</td>\n",
              "      <td>2000.00</td>\n",
              "      <td>2011-07-19 09:07:47</td>\n",
              "      <td>524.00</td>\n",
              "      <td>failed</td>\n",
              "      <td>17</td>\n",
              "      <td>US</td>\n",
              "      <td>524.00</td>\n",
              "      <td>524.00</td>\n",
              "      <td>2000.00</td>\n",
              "    </tr>\n",
              "  </tbody>\n",
              "</table>\n",
              "<p>378661 rows × 15 columns</p>\n",
              "</div>"
            ],
            "text/plain": [
              "                ID  ... usd_goal_real\n",
              "0       1000002330  ...       1533.95\n",
              "1       1000003930  ...      30000.00\n",
              "2       1000004038  ...      45000.00\n",
              "3       1000007540  ...       5000.00\n",
              "4       1000011046  ...      19500.00\n",
              "...            ...  ...           ...\n",
              "378656   999976400  ...      50000.00\n",
              "378657   999977640  ...       1500.00\n",
              "378658   999986353  ...      15000.00\n",
              "378659   999987933  ...      15000.00\n",
              "378660   999988282  ...       2000.00\n",
              "\n",
              "[378661 rows x 15 columns]"
            ]
          },
          "metadata": {
            "tags": []
          },
          "execution_count": 4
        }
      ]
    },
    {
      "cell_type": "markdown",
      "metadata": {
        "colab_type": "text",
        "id": "MFpogEXQYStc"
      },
      "source": [
        "Por defecto solo vemos los valores al comienzo o al final del archivo.\n",
        "\n",
        "Tomemos una muestra al azar para ver valores más dispersos"
      ]
    },
    {
      "cell_type": "code",
      "metadata": {
        "colab_type": "code",
        "id": "Upvlit8QYStd",
        "colab": {}
      },
      "source": [
        "# set seed for reproducibility\n",
        "import numpy as np\n",
        "np.random.seed(0)"
      ],
      "execution_count": 5,
      "outputs": []
    },
    {
      "cell_type": "code",
      "metadata": {
        "colab_type": "code",
        "id": "vDQdf2xEYStf",
        "colab": {
          "base_uri": "https://localhost:8080/",
          "height": 467
        },
        "outputId": "f7409e58-d0ec-4cb7-872a-73e606251e90"
      },
      "source": [
        "kickstarter_2018.sample(5)  # trae 5 filas al azar"
      ],
      "execution_count": 6,
      "outputs": [
        {
          "output_type": "execute_result",
          "data": {
            "text/html": [
              "<div>\n",
              "<style scoped>\n",
              "    .dataframe tbody tr th:only-of-type {\n",
              "        vertical-align: middle;\n",
              "    }\n",
              "\n",
              "    .dataframe tbody tr th {\n",
              "        vertical-align: top;\n",
              "    }\n",
              "\n",
              "    .dataframe thead th {\n",
              "        text-align: right;\n",
              "    }\n",
              "</style>\n",
              "<table border=\"1\" class=\"dataframe\">\n",
              "  <thead>\n",
              "    <tr style=\"text-align: right;\">\n",
              "      <th></th>\n",
              "      <th>ID</th>\n",
              "      <th>name</th>\n",
              "      <th>category</th>\n",
              "      <th>main_category</th>\n",
              "      <th>currency</th>\n",
              "      <th>deadline</th>\n",
              "      <th>goal</th>\n",
              "      <th>launched</th>\n",
              "      <th>pledged</th>\n",
              "      <th>state</th>\n",
              "      <th>backers</th>\n",
              "      <th>country</th>\n",
              "      <th>usd pledged</th>\n",
              "      <th>usd_pledged_real</th>\n",
              "      <th>usd_goal_real</th>\n",
              "    </tr>\n",
              "  </thead>\n",
              "  <tbody>\n",
              "    <tr>\n",
              "      <th>338862</th>\n",
              "      <td>796196901</td>\n",
              "      <td>10G Christmas Tree</td>\n",
              "      <td>Art</td>\n",
              "      <td>Art</td>\n",
              "      <td>USD</td>\n",
              "      <td>2010-12-26</td>\n",
              "      <td>10526.00</td>\n",
              "      <td>2010-12-08 08:44:04</td>\n",
              "      <td>0.00</td>\n",
              "      <td>failed</td>\n",
              "      <td>0</td>\n",
              "      <td>US</td>\n",
              "      <td>0.00</td>\n",
              "      <td>0.00</td>\n",
              "      <td>10526.00</td>\n",
              "    </tr>\n",
              "    <tr>\n",
              "      <th>277871</th>\n",
              "      <td>483825010</td>\n",
              "      <td>Gliff</td>\n",
              "      <td>Gaming Hardware</td>\n",
              "      <td>Games</td>\n",
              "      <td>USD</td>\n",
              "      <td>2016-03-28</td>\n",
              "      <td>10000.00</td>\n",
              "      <td>2016-01-28 04:56:18</td>\n",
              "      <td>51.00</td>\n",
              "      <td>failed</td>\n",
              "      <td>5</td>\n",
              "      <td>US</td>\n",
              "      <td>51.00</td>\n",
              "      <td>51.00</td>\n",
              "      <td>10000.00</td>\n",
              "    </tr>\n",
              "    <tr>\n",
              "      <th>47000</th>\n",
              "      <td>123916947</td>\n",
              "      <td>STUFFED Food Truck</td>\n",
              "      <td>Food Trucks</td>\n",
              "      <td>Food</td>\n",
              "      <td>USD</td>\n",
              "      <td>2015-01-06</td>\n",
              "      <td>60000.00</td>\n",
              "      <td>2014-11-07 02:24:36</td>\n",
              "      <td>25.00</td>\n",
              "      <td>failed</td>\n",
              "      <td>1</td>\n",
              "      <td>US</td>\n",
              "      <td>25.00</td>\n",
              "      <td>25.00</td>\n",
              "      <td>60000.00</td>\n",
              "    </tr>\n",
              "    <tr>\n",
              "      <th>111338</th>\n",
              "      <td>1565733636</td>\n",
              "      <td>NeoExodus Adventure: Origin of Man for Pathfin...</td>\n",
              "      <td>Tabletop Games</td>\n",
              "      <td>Games</td>\n",
              "      <td>USD</td>\n",
              "      <td>2012-05-01</td>\n",
              "      <td>500.00</td>\n",
              "      <td>2012-03-15 01:16:10</td>\n",
              "      <td>585.00</td>\n",
              "      <td>successful</td>\n",
              "      <td>17</td>\n",
              "      <td>US</td>\n",
              "      <td>585.00</td>\n",
              "      <td>585.00</td>\n",
              "      <td>500.00</td>\n",
              "    </tr>\n",
              "    <tr>\n",
              "      <th>53743</th>\n",
              "      <td>1273544891</td>\n",
              "      <td>NAPOLEON IN NEW YORK! an original TV Series</td>\n",
              "      <td>Comedy</td>\n",
              "      <td>Film &amp; Video</td>\n",
              "      <td>USD</td>\n",
              "      <td>2016-07-26</td>\n",
              "      <td>25000.00</td>\n",
              "      <td>2016-05-27 00:07:25</td>\n",
              "      <td>25.00</td>\n",
              "      <td>failed</td>\n",
              "      <td>1</td>\n",
              "      <td>US</td>\n",
              "      <td>25.00</td>\n",
              "      <td>25.00</td>\n",
              "      <td>25000.00</td>\n",
              "    </tr>\n",
              "  </tbody>\n",
              "</table>\n",
              "</div>"
            ],
            "text/plain": [
              "                ID  ... usd_goal_real\n",
              "338862   796196901  ...      10526.00\n",
              "277871   483825010  ...      10000.00\n",
              "47000    123916947  ...      60000.00\n",
              "111338  1565733636  ...        500.00\n",
              "53743   1273544891  ...      25000.00\n",
              "\n",
              "[5 rows x 15 columns]"
            ]
          },
          "metadata": {
            "tags": []
          },
          "execution_count": 6
        }
      ]
    },
    {
      "cell_type": "markdown",
      "metadata": {
        "colab_type": "text",
        "id": "e-cEmDnQYSti"
      },
      "source": [
        "No se observa a simple vista ningún problema obvio.\n",
        "\n",
        "Notar que todos vimos los mismos resultados. Al fijar la semilla no hubo tal azar, esto es algo necesario cuando queremos \"reproducir valores aleatorios\""
      ]
    },
    {
      "cell_type": "markdown",
      "metadata": {
        "colab_type": "text",
        "id": "O7mBSqudYStj"
      },
      "source": [
        "Veamos la descripción del dataset si se corresponde con lo levantado https://www.kaggle.com/kemical/kickstarter-projects/data"
      ]
    },
    {
      "cell_type": "code",
      "metadata": {
        "colab_type": "code",
        "id": "GMoezCxSYStk",
        "colab": {
          "base_uri": "https://localhost:8080/",
          "height": 494
        },
        "outputId": "ef8c794a-86f3-4c1d-a496-a0298e5c7fa9"
      },
      "source": [
        "pd.DataFrame([[\"ID\", \"No description provided\", \"Numeric\"],\n",
        "[\"name\", \"No description provided\", \"String\"],\n",
        "[\"category\", \"No description provided\", \"String\"],\n",
        "[\"main_category\", \"No description provided\", \"String\"],\n",
        "[\"currency\", \"No description provided\", \"String\"],\n",
        "[\"deadline\", \"No description provided\", \"DateTime\"],\n",
        "[\"goal\", \"Goal amount in project currency\", \"Numeric\"],\n",
        "[\"launched\", \"No description provided\", \"DateTime\"],\n",
        "[\"pledged\", \"Pledged amount in the project currency\", \"Numeric\"],\n",
        "[\"state\", \"No description provided\", \"String\"],\n",
        "[\"backers\", \"No description provided\", \"Numeric\"],\n",
        "[\"country\", \"No description provided\", \"String\"],\n",
        "[\"usd pledged\", \"Pledged amount in USD (conversion made by KS)\", \"Numeric\"],\n",
        "[\"usd_pledged_real\", \"Pledged amount in USD (conversion made by fixer.io api)\", \"Numeric\"],\n",
        "[\"usd_goal_real\", \"Goal amount in USD\", \"Numeric\"]], columns=[\"Field name\",\"Field description\", \"Type\"])"
      ],
      "execution_count": 7,
      "outputs": [
        {
          "output_type": "execute_result",
          "data": {
            "text/html": [
              "<div>\n",
              "<style scoped>\n",
              "    .dataframe tbody tr th:only-of-type {\n",
              "        vertical-align: middle;\n",
              "    }\n",
              "\n",
              "    .dataframe tbody tr th {\n",
              "        vertical-align: top;\n",
              "    }\n",
              "\n",
              "    .dataframe thead th {\n",
              "        text-align: right;\n",
              "    }\n",
              "</style>\n",
              "<table border=\"1\" class=\"dataframe\">\n",
              "  <thead>\n",
              "    <tr style=\"text-align: right;\">\n",
              "      <th></th>\n",
              "      <th>Field name</th>\n",
              "      <th>Field description</th>\n",
              "      <th>Type</th>\n",
              "    </tr>\n",
              "  </thead>\n",
              "  <tbody>\n",
              "    <tr>\n",
              "      <th>0</th>\n",
              "      <td>ID</td>\n",
              "      <td>No description provided</td>\n",
              "      <td>Numeric</td>\n",
              "    </tr>\n",
              "    <tr>\n",
              "      <th>1</th>\n",
              "      <td>name</td>\n",
              "      <td>No description provided</td>\n",
              "      <td>String</td>\n",
              "    </tr>\n",
              "    <tr>\n",
              "      <th>2</th>\n",
              "      <td>category</td>\n",
              "      <td>No description provided</td>\n",
              "      <td>String</td>\n",
              "    </tr>\n",
              "    <tr>\n",
              "      <th>3</th>\n",
              "      <td>main_category</td>\n",
              "      <td>No description provided</td>\n",
              "      <td>String</td>\n",
              "    </tr>\n",
              "    <tr>\n",
              "      <th>4</th>\n",
              "      <td>currency</td>\n",
              "      <td>No description provided</td>\n",
              "      <td>String</td>\n",
              "    </tr>\n",
              "    <tr>\n",
              "      <th>5</th>\n",
              "      <td>deadline</td>\n",
              "      <td>No description provided</td>\n",
              "      <td>DateTime</td>\n",
              "    </tr>\n",
              "    <tr>\n",
              "      <th>6</th>\n",
              "      <td>goal</td>\n",
              "      <td>Goal amount in project currency</td>\n",
              "      <td>Numeric</td>\n",
              "    </tr>\n",
              "    <tr>\n",
              "      <th>7</th>\n",
              "      <td>launched</td>\n",
              "      <td>No description provided</td>\n",
              "      <td>DateTime</td>\n",
              "    </tr>\n",
              "    <tr>\n",
              "      <th>8</th>\n",
              "      <td>pledged</td>\n",
              "      <td>Pledged amount in the project currency</td>\n",
              "      <td>Numeric</td>\n",
              "    </tr>\n",
              "    <tr>\n",
              "      <th>9</th>\n",
              "      <td>state</td>\n",
              "      <td>No description provided</td>\n",
              "      <td>String</td>\n",
              "    </tr>\n",
              "    <tr>\n",
              "      <th>10</th>\n",
              "      <td>backers</td>\n",
              "      <td>No description provided</td>\n",
              "      <td>Numeric</td>\n",
              "    </tr>\n",
              "    <tr>\n",
              "      <th>11</th>\n",
              "      <td>country</td>\n",
              "      <td>No description provided</td>\n",
              "      <td>String</td>\n",
              "    </tr>\n",
              "    <tr>\n",
              "      <th>12</th>\n",
              "      <td>usd pledged</td>\n",
              "      <td>Pledged amount in USD (conversion made by KS)</td>\n",
              "      <td>Numeric</td>\n",
              "    </tr>\n",
              "    <tr>\n",
              "      <th>13</th>\n",
              "      <td>usd_pledged_real</td>\n",
              "      <td>Pledged amount in USD (conversion made by fixe...</td>\n",
              "      <td>Numeric</td>\n",
              "    </tr>\n",
              "    <tr>\n",
              "      <th>14</th>\n",
              "      <td>usd_goal_real</td>\n",
              "      <td>Goal amount in USD</td>\n",
              "      <td>Numeric</td>\n",
              "    </tr>\n",
              "  </tbody>\n",
              "</table>\n",
              "</div>"
            ],
            "text/plain": [
              "          Field name  ...      Type\n",
              "0                 ID  ...   Numeric\n",
              "1               name  ...    String\n",
              "2           category  ...    String\n",
              "3      main_category  ...    String\n",
              "4           currency  ...    String\n",
              "5           deadline  ...  DateTime\n",
              "6               goal  ...   Numeric\n",
              "7           launched  ...  DateTime\n",
              "8            pledged  ...   Numeric\n",
              "9              state  ...    String\n",
              "10           backers  ...   Numeric\n",
              "11           country  ...    String\n",
              "12       usd pledged  ...   Numeric\n",
              "13  usd_pledged_real  ...   Numeric\n",
              "14     usd_goal_real  ...   Numeric\n",
              "\n",
              "[15 rows x 3 columns]"
            ]
          },
          "metadata": {
            "tags": []
          },
          "execution_count": 7
        }
      ]
    },
    {
      "cell_type": "markdown",
      "metadata": {
        "id": "I-_TDDZ9bCLw",
        "colab_type": "text"
      },
      "source": [
        "Ahora veamos los **tipos de datos** que detectó pandas"
      ]
    },
    {
      "cell_type": "markdown",
      "metadata": {
        "id": "nkk1-GRXtOon",
        "colab_type": "text"
      },
      "source": [
        ""
      ]
    },
    {
      "cell_type": "code",
      "metadata": {
        "colab_type": "code",
        "id": "kYTfRt4GYStn",
        "colab": {
          "base_uri": "https://localhost:8080/",
          "height": 284
        },
        "outputId": "0bec1eaf-629a-4425-8b09-a060236295b1"
      },
      "source": [
        "kickstarter_2018.dtypes"
      ],
      "execution_count": 8,
      "outputs": [
        {
          "output_type": "execute_result",
          "data": {
            "text/plain": [
              "ID                    int64\n",
              "name                 object\n",
              "category             object\n",
              "main_category        object\n",
              "currency             object\n",
              "deadline             object\n",
              "goal                float64\n",
              "launched             object\n",
              "pledged             float64\n",
              "state                object\n",
              "backers               int64\n",
              "country              object\n",
              "usd pledged         float64\n",
              "usd_pledged_real    float64\n",
              "usd_goal_real       float64\n",
              "dtype: object"
            ]
          },
          "metadata": {
            "tags": []
          },
          "execution_count": 8
        }
      ]
    },
    {
      "cell_type": "markdown",
      "metadata": {
        "colab_type": "text",
        "id": "9mmqjlyoYStq"
      },
      "source": [
        "Los campos object generalmente son String, entonces parece que no reconoció como fechas en **deadline** y **launched** :("
      ]
    },
    {
      "cell_type": "markdown",
      "metadata": {
        "colab_type": "text",
        "id": "tovZm0SrYStq"
      },
      "source": [
        "Veamos los datos un resumen de los datos"
      ]
    },
    {
      "cell_type": "code",
      "metadata": {
        "colab_type": "code",
        "id": "rJYD_yW5YStr",
        "colab": {
          "base_uri": "https://localhost:8080/",
          "height": 286
        },
        "outputId": "21cd3c80-c14f-4bf0-e320-0e87978e481c"
      },
      "source": [
        "kickstarter_2018.describe()   # nos brinda un resúmen descriptivo de los datos, tipo summarise en R"
      ],
      "execution_count": 9,
      "outputs": [
        {
          "output_type": "execute_result",
          "data": {
            "text/html": [
              "<div>\n",
              "<style scoped>\n",
              "    .dataframe tbody tr th:only-of-type {\n",
              "        vertical-align: middle;\n",
              "    }\n",
              "\n",
              "    .dataframe tbody tr th {\n",
              "        vertical-align: top;\n",
              "    }\n",
              "\n",
              "    .dataframe thead th {\n",
              "        text-align: right;\n",
              "    }\n",
              "</style>\n",
              "<table border=\"1\" class=\"dataframe\">\n",
              "  <thead>\n",
              "    <tr style=\"text-align: right;\">\n",
              "      <th></th>\n",
              "      <th>ID</th>\n",
              "      <th>goal</th>\n",
              "      <th>pledged</th>\n",
              "      <th>backers</th>\n",
              "      <th>usd pledged</th>\n",
              "      <th>usd_pledged_real</th>\n",
              "      <th>usd_goal_real</th>\n",
              "    </tr>\n",
              "  </thead>\n",
              "  <tbody>\n",
              "    <tr>\n",
              "      <th>count</th>\n",
              "      <td>378661.00</td>\n",
              "      <td>378661.00</td>\n",
              "      <td>378661.00</td>\n",
              "      <td>378661.00</td>\n",
              "      <td>374864.00</td>\n",
              "      <td>378661.00</td>\n",
              "      <td>378661.00</td>\n",
              "    </tr>\n",
              "    <tr>\n",
              "      <th>mean</th>\n",
              "      <td>1074731191.99</td>\n",
              "      <td>49080.79</td>\n",
              "      <td>9682.98</td>\n",
              "      <td>105.62</td>\n",
              "      <td>7036.73</td>\n",
              "      <td>9058.92</td>\n",
              "      <td>45454.40</td>\n",
              "    </tr>\n",
              "    <tr>\n",
              "      <th>std</th>\n",
              "      <td>619086204.32</td>\n",
              "      <td>1183391.26</td>\n",
              "      <td>95636.01</td>\n",
              "      <td>907.19</td>\n",
              "      <td>78639.75</td>\n",
              "      <td>90973.34</td>\n",
              "      <td>1152950.06</td>\n",
              "    </tr>\n",
              "    <tr>\n",
              "      <th>min</th>\n",
              "      <td>5971.00</td>\n",
              "      <td>0.01</td>\n",
              "      <td>0.00</td>\n",
              "      <td>0.00</td>\n",
              "      <td>0.00</td>\n",
              "      <td>0.00</td>\n",
              "      <td>0.01</td>\n",
              "    </tr>\n",
              "    <tr>\n",
              "      <th>25%</th>\n",
              "      <td>538263516.00</td>\n",
              "      <td>2000.00</td>\n",
              "      <td>30.00</td>\n",
              "      <td>2.00</td>\n",
              "      <td>16.98</td>\n",
              "      <td>31.00</td>\n",
              "      <td>2000.00</td>\n",
              "    </tr>\n",
              "    <tr>\n",
              "      <th>50%</th>\n",
              "      <td>1075275634.00</td>\n",
              "      <td>5200.00</td>\n",
              "      <td>620.00</td>\n",
              "      <td>12.00</td>\n",
              "      <td>394.72</td>\n",
              "      <td>624.33</td>\n",
              "      <td>5500.00</td>\n",
              "    </tr>\n",
              "    <tr>\n",
              "      <th>75%</th>\n",
              "      <td>1610148624.00</td>\n",
              "      <td>16000.00</td>\n",
              "      <td>4076.00</td>\n",
              "      <td>56.00</td>\n",
              "      <td>3034.09</td>\n",
              "      <td>4050.00</td>\n",
              "      <td>15500.00</td>\n",
              "    </tr>\n",
              "    <tr>\n",
              "      <th>max</th>\n",
              "      <td>2147476221.00</td>\n",
              "      <td>100000000.00</td>\n",
              "      <td>20338986.27</td>\n",
              "      <td>219382.00</td>\n",
              "      <td>20338986.27</td>\n",
              "      <td>20338986.27</td>\n",
              "      <td>166361390.71</td>\n",
              "    </tr>\n",
              "  </tbody>\n",
              "</table>\n",
              "</div>"
            ],
            "text/plain": [
              "                 ID         goal  ...  usd_pledged_real  usd_goal_real\n",
              "count     378661.00    378661.00  ...         378661.00      378661.00\n",
              "mean  1074731191.99     49080.79  ...           9058.92       45454.40\n",
              "std    619086204.32   1183391.26  ...          90973.34     1152950.06\n",
              "min         5971.00         0.01  ...              0.00           0.01\n",
              "25%    538263516.00      2000.00  ...             31.00        2000.00\n",
              "50%   1075275634.00      5200.00  ...            624.33        5500.00\n",
              "75%   1610148624.00     16000.00  ...           4050.00       15500.00\n",
              "max   2147476221.00 100000000.00  ...       20338986.27   166361390.71\n",
              "\n",
              "[8 rows x 7 columns]"
            ]
          },
          "metadata": {
            "tags": []
          },
          "execution_count": 9
        }
      ]
    },
    {
      "cell_type": "markdown",
      "metadata": {
        "colab_type": "text",
        "id": "JE0dlfRdYStv"
      },
      "source": [
        "Por defecto **se ven los datos numéricos, veamos el resto.**"
      ]
    },
    {
      "cell_type": "code",
      "metadata": {
        "colab_type": "code",
        "id": "F3vOZk3zYStw",
        "colab": {
          "base_uri": "https://localhost:8080/",
          "height": 166
        },
        "outputId": "4759ba59-6143-47a9-9dbd-beba93f68a74"
      },
      "source": [
        "kickstarter_2018.describe(include=['object'])"
      ],
      "execution_count": 10,
      "outputs": [
        {
          "output_type": "execute_result",
          "data": {
            "text/html": [
              "<div>\n",
              "<style scoped>\n",
              "    .dataframe tbody tr th:only-of-type {\n",
              "        vertical-align: middle;\n",
              "    }\n",
              "\n",
              "    .dataframe tbody tr th {\n",
              "        vertical-align: top;\n",
              "    }\n",
              "\n",
              "    .dataframe thead th {\n",
              "        text-align: right;\n",
              "    }\n",
              "</style>\n",
              "<table border=\"1\" class=\"dataframe\">\n",
              "  <thead>\n",
              "    <tr style=\"text-align: right;\">\n",
              "      <th></th>\n",
              "      <th>name</th>\n",
              "      <th>category</th>\n",
              "      <th>main_category</th>\n",
              "      <th>currency</th>\n",
              "      <th>deadline</th>\n",
              "      <th>launched</th>\n",
              "      <th>state</th>\n",
              "      <th>country</th>\n",
              "    </tr>\n",
              "  </thead>\n",
              "  <tbody>\n",
              "    <tr>\n",
              "      <th>count</th>\n",
              "      <td>378657</td>\n",
              "      <td>378661</td>\n",
              "      <td>378661</td>\n",
              "      <td>378661</td>\n",
              "      <td>378661</td>\n",
              "      <td>378661</td>\n",
              "      <td>378661</td>\n",
              "      <td>378661</td>\n",
              "    </tr>\n",
              "    <tr>\n",
              "      <th>unique</th>\n",
              "      <td>375764</td>\n",
              "      <td>159</td>\n",
              "      <td>15</td>\n",
              "      <td>14</td>\n",
              "      <td>3164</td>\n",
              "      <td>378089</td>\n",
              "      <td>6</td>\n",
              "      <td>23</td>\n",
              "    </tr>\n",
              "    <tr>\n",
              "      <th>top</th>\n",
              "      <td>New EP/Music Development</td>\n",
              "      <td>Product Design</td>\n",
              "      <td>Film &amp; Video</td>\n",
              "      <td>USD</td>\n",
              "      <td>2014-08-08</td>\n",
              "      <td>1970-01-01 01:00:00</td>\n",
              "      <td>failed</td>\n",
              "      <td>US</td>\n",
              "    </tr>\n",
              "    <tr>\n",
              "      <th>freq</th>\n",
              "      <td>41</td>\n",
              "      <td>22314</td>\n",
              "      <td>63585</td>\n",
              "      <td>295365</td>\n",
              "      <td>705</td>\n",
              "      <td>7</td>\n",
              "      <td>197719</td>\n",
              "      <td>292627</td>\n",
              "    </tr>\n",
              "  </tbody>\n",
              "</table>\n",
              "</div>"
            ],
            "text/plain": [
              "                            name        category  ...   state country\n",
              "count                     378657          378661  ...  378661  378661\n",
              "unique                    375764             159  ...       6      23\n",
              "top     New EP/Music Development  Product Design  ...  failed      US\n",
              "freq                          41           22314  ...  197719  292627\n",
              "\n",
              "[4 rows x 8 columns]"
            ]
          },
          "metadata": {
            "tags": []
          },
          "execution_count": 10
        }
      ]
    },
    {
      "cell_type": "markdown",
      "metadata": {
        "colab_type": "text",
        "id": "ql55gxdOYStz"
      },
      "source": [
        "Operemos un cacho sobre los datos de lanzamiento"
      ]
    },
    {
      "cell_type": "code",
      "metadata": {
        "colab_type": "code",
        "id": "lWP5PHJdYSt0",
        "colab": {
          "base_uri": "https://localhost:8080/",
          "height": 35
        },
        "outputId": "06dc80a0-669f-4918-a35c-d067272c062b"
      },
      "source": [
        "kickstarter_2018['launched'].min()   # nos devuelve el mínimo valor, es decir, el proyecto con la fecha más antigua de lanzamiento. "
      ],
      "execution_count": 11,
      "outputs": [
        {
          "output_type": "execute_result",
          "data": {
            "application/vnd.google.colaboratory.intrinsic+json": {
              "type": "string"
            },
            "text/plain": [
              "'1970-01-01 01:00:00'"
            ]
          },
          "metadata": {
            "tags": []
          },
          "execution_count": 11
        }
      ]
    },
    {
      "cell_type": "markdown",
      "metadata": {
        "colab_type": "text",
        "id": "29NhQ8eEYSt9"
      },
      "source": [
        "Indiquemos que columnas son fechas como indica la [documentación](https://pandas.pydata.org/pandas-docs/stable/io.html#datetime-handling)"
      ]
    },
    {
      "cell_type": "code",
      "metadata": {
        "colab_type": "code",
        "id": "8Y21tDSYYSt_",
        "colab": {
          "base_uri": "https://localhost:8080/",
          "height": 284
        },
        "outputId": "9a0501c6-15c2-4c54-93e5-4e890ac70eaa"
      },
      "source": [
        "kickstarter_2018 = pd.read_csv(BASE_DIR + \"/input/kickstarter-projects/ks-projects-201801.csv\", \n",
        "                               parse_dates=[\"deadline\",\"launched\"])    # indicamos que ambas columnas son fechas\n",
        "kickstarter_2018.dtypes"
      ],
      "execution_count": 12,
      "outputs": [
        {
          "output_type": "execute_result",
          "data": {
            "text/plain": [
              "ID                           int64\n",
              "name                        object\n",
              "category                    object\n",
              "main_category               object\n",
              "currency                    object\n",
              "deadline            datetime64[ns]\n",
              "goal                       float64\n",
              "launched            datetime64[ns]\n",
              "pledged                    float64\n",
              "state                       object\n",
              "backers                      int64\n",
              "country                     object\n",
              "usd pledged                float64\n",
              "usd_pledged_real           float64\n",
              "usd_goal_real              float64\n",
              "dtype: object"
            ]
          },
          "metadata": {
            "tags": []
          },
          "execution_count": 12
        }
      ]
    },
    {
      "cell_type": "markdown",
      "metadata": {
        "colab_type": "text",
        "id": "qKtgnTnYYSuD"
      },
      "source": [
        "Ahora vemos que esas columnas fueron reconocidas como fechas\n",
        "\n",
        "Veamos la misma muestra de nuevo"
      ]
    },
    {
      "cell_type": "code",
      "metadata": {
        "colab_type": "code",
        "id": "PW04V4DiYSuF",
        "colab": {
          "base_uri": "https://localhost:8080/",
          "height": 517
        },
        "outputId": "ff0f5f9a-e82f-420a-c179-3d1e08f91ed2"
      },
      "source": [
        "kickstarter_2018.sample(5)"
      ],
      "execution_count": 13,
      "outputs": [
        {
          "output_type": "execute_result",
          "data": {
            "text/html": [
              "<div>\n",
              "<style scoped>\n",
              "    .dataframe tbody tr th:only-of-type {\n",
              "        vertical-align: middle;\n",
              "    }\n",
              "\n",
              "    .dataframe tbody tr th {\n",
              "        vertical-align: top;\n",
              "    }\n",
              "\n",
              "    .dataframe thead th {\n",
              "        text-align: right;\n",
              "    }\n",
              "</style>\n",
              "<table border=\"1\" class=\"dataframe\">\n",
              "  <thead>\n",
              "    <tr style=\"text-align: right;\">\n",
              "      <th></th>\n",
              "      <th>ID</th>\n",
              "      <th>name</th>\n",
              "      <th>category</th>\n",
              "      <th>main_category</th>\n",
              "      <th>currency</th>\n",
              "      <th>deadline</th>\n",
              "      <th>goal</th>\n",
              "      <th>launched</th>\n",
              "      <th>pledged</th>\n",
              "      <th>state</th>\n",
              "      <th>backers</th>\n",
              "      <th>country</th>\n",
              "      <th>usd pledged</th>\n",
              "      <th>usd_pledged_real</th>\n",
              "      <th>usd_goal_real</th>\n",
              "    </tr>\n",
              "  </thead>\n",
              "  <tbody>\n",
              "    <tr>\n",
              "      <th>299667</th>\n",
              "      <td>595962034</td>\n",
              "      <td>Button Poetry Live!</td>\n",
              "      <td>Mixed Media</td>\n",
              "      <td>Art</td>\n",
              "      <td>USD</td>\n",
              "      <td>2015-09-18</td>\n",
              "      <td>10000.00</td>\n",
              "      <td>2015-08-19 19:34:20</td>\n",
              "      <td>18216.27</td>\n",
              "      <td>successful</td>\n",
              "      <td>455</td>\n",
              "      <td>US</td>\n",
              "      <td>18216.27</td>\n",
              "      <td>18216.27</td>\n",
              "      <td>10000.00</td>\n",
              "    </tr>\n",
              "    <tr>\n",
              "      <th>181674</th>\n",
              "      <td>1924707671</td>\n",
              "      <td>C STREET 2012 : Tbilisi, Georgia</td>\n",
              "      <td>World Music</td>\n",
              "      <td>Music</td>\n",
              "      <td>USD</td>\n",
              "      <td>2012-06-07</td>\n",
              "      <td>5000.00</td>\n",
              "      <td>2012-05-08 18:22:59</td>\n",
              "      <td>7210.69</td>\n",
              "      <td>successful</td>\n",
              "      <td>82</td>\n",
              "      <td>US</td>\n",
              "      <td>7210.69</td>\n",
              "      <td>7210.69</td>\n",
              "      <td>5000.00</td>\n",
              "    </tr>\n",
              "    <tr>\n",
              "      <th>137583</th>\n",
              "      <td>1698707842</td>\n",
              "      <td>Dérive's Next Project</td>\n",
              "      <td>Punk</td>\n",
              "      <td>Music</td>\n",
              "      <td>USD</td>\n",
              "      <td>2014-07-06</td>\n",
              "      <td>1200.00</td>\n",
              "      <td>2014-06-08 17:58:37</td>\n",
              "      <td>1255.66</td>\n",
              "      <td>successful</td>\n",
              "      <td>33</td>\n",
              "      <td>US</td>\n",
              "      <td>1255.66</td>\n",
              "      <td>1255.66</td>\n",
              "      <td>1200.00</td>\n",
              "    </tr>\n",
              "    <tr>\n",
              "      <th>296861</th>\n",
              "      <td>581269566</td>\n",
              "      <td>Photo Book - World Santa Claus Congress</td>\n",
              "      <td>Photobooks</td>\n",
              "      <td>Photography</td>\n",
              "      <td>DKK</td>\n",
              "      <td>2017-04-14</td>\n",
              "      <td>110000.00</td>\n",
              "      <td>2017-03-14 23:45:35</td>\n",
              "      <td>462.00</td>\n",
              "      <td>failed</td>\n",
              "      <td>5</td>\n",
              "      <td>DK</td>\n",
              "      <td>0.00</td>\n",
              "      <td>66.46</td>\n",
              "      <td>15823.47</td>\n",
              "    </tr>\n",
              "    <tr>\n",
              "      <th>66362</th>\n",
              "      <td>1337585114</td>\n",
              "      <td>Kickstart CLE Brewing to greatness!</td>\n",
              "      <td>Drinks</td>\n",
              "      <td>Food</td>\n",
              "      <td>USD</td>\n",
              "      <td>2017-08-19</td>\n",
              "      <td>6500.00</td>\n",
              "      <td>2017-07-20 21:22:43</td>\n",
              "      <td>250.00</td>\n",
              "      <td>failed</td>\n",
              "      <td>5</td>\n",
              "      <td>US</td>\n",
              "      <td>75.00</td>\n",
              "      <td>250.00</td>\n",
              "      <td>6500.00</td>\n",
              "    </tr>\n",
              "  </tbody>\n",
              "</table>\n",
              "</div>"
            ],
            "text/plain": [
              "                ID  ... usd_goal_real\n",
              "299667   595962034  ...      10000.00\n",
              "181674  1924707671  ...       5000.00\n",
              "137583  1698707842  ...       1200.00\n",
              "296861   581269566  ...      15823.47\n",
              "66362   1337585114  ...       6500.00\n",
              "\n",
              "[5 rows x 15 columns]"
            ]
          },
          "metadata": {
            "tags": []
          },
          "execution_count": 13
        }
      ]
    },
    {
      "cell_type": "markdown",
      "metadata": {
        "colab_type": "text",
        "id": "yizWLJJ6YSuI"
      },
      "source": [
        "Y veamos el resumen de los datos"
      ]
    },
    {
      "cell_type": "code",
      "metadata": {
        "colab_type": "code",
        "id": "2PAmAj3XYSuJ",
        "colab": {
          "base_uri": "https://localhost:8080/",
          "height": 572
        },
        "outputId": "24f3d834-9383-472d-c8e9-bf10712bf456"
      },
      "source": [
        "kickstarter_2018.describe(include='all')  # ahora en el resúmen se incluyen las fechas "
      ],
      "execution_count": 14,
      "outputs": [
        {
          "output_type": "execute_result",
          "data": {
            "text/html": [
              "<div>\n",
              "<style scoped>\n",
              "    .dataframe tbody tr th:only-of-type {\n",
              "        vertical-align: middle;\n",
              "    }\n",
              "\n",
              "    .dataframe tbody tr th {\n",
              "        vertical-align: top;\n",
              "    }\n",
              "\n",
              "    .dataframe thead th {\n",
              "        text-align: right;\n",
              "    }\n",
              "</style>\n",
              "<table border=\"1\" class=\"dataframe\">\n",
              "  <thead>\n",
              "    <tr style=\"text-align: right;\">\n",
              "      <th></th>\n",
              "      <th>ID</th>\n",
              "      <th>name</th>\n",
              "      <th>category</th>\n",
              "      <th>main_category</th>\n",
              "      <th>currency</th>\n",
              "      <th>deadline</th>\n",
              "      <th>goal</th>\n",
              "      <th>launched</th>\n",
              "      <th>pledged</th>\n",
              "      <th>state</th>\n",
              "      <th>backers</th>\n",
              "      <th>country</th>\n",
              "      <th>usd pledged</th>\n",
              "      <th>usd_pledged_real</th>\n",
              "      <th>usd_goal_real</th>\n",
              "    </tr>\n",
              "  </thead>\n",
              "  <tbody>\n",
              "    <tr>\n",
              "      <th>count</th>\n",
              "      <td>378661.00</td>\n",
              "      <td>378657</td>\n",
              "      <td>378661</td>\n",
              "      <td>378661</td>\n",
              "      <td>378661</td>\n",
              "      <td>378661</td>\n",
              "      <td>378661.00</td>\n",
              "      <td>378661</td>\n",
              "      <td>378661.00</td>\n",
              "      <td>378661</td>\n",
              "      <td>378661.00</td>\n",
              "      <td>378661</td>\n",
              "      <td>374864.00</td>\n",
              "      <td>378661.00</td>\n",
              "      <td>378661.00</td>\n",
              "    </tr>\n",
              "    <tr>\n",
              "      <th>unique</th>\n",
              "      <td>nan</td>\n",
              "      <td>375764</td>\n",
              "      <td>159</td>\n",
              "      <td>15</td>\n",
              "      <td>14</td>\n",
              "      <td>3164</td>\n",
              "      <td>nan</td>\n",
              "      <td>378089</td>\n",
              "      <td>nan</td>\n",
              "      <td>6</td>\n",
              "      <td>nan</td>\n",
              "      <td>23</td>\n",
              "      <td>nan</td>\n",
              "      <td>nan</td>\n",
              "      <td>nan</td>\n",
              "    </tr>\n",
              "    <tr>\n",
              "      <th>top</th>\n",
              "      <td>nan</td>\n",
              "      <td>New EP/Music Development</td>\n",
              "      <td>Product Design</td>\n",
              "      <td>Film &amp; Video</td>\n",
              "      <td>USD</td>\n",
              "      <td>2014-08-08 00:00:00</td>\n",
              "      <td>nan</td>\n",
              "      <td>1970-01-01 01:00:00</td>\n",
              "      <td>nan</td>\n",
              "      <td>failed</td>\n",
              "      <td>nan</td>\n",
              "      <td>US</td>\n",
              "      <td>nan</td>\n",
              "      <td>nan</td>\n",
              "      <td>nan</td>\n",
              "    </tr>\n",
              "    <tr>\n",
              "      <th>freq</th>\n",
              "      <td>nan</td>\n",
              "      <td>41</td>\n",
              "      <td>22314</td>\n",
              "      <td>63585</td>\n",
              "      <td>295365</td>\n",
              "      <td>705</td>\n",
              "      <td>nan</td>\n",
              "      <td>7</td>\n",
              "      <td>nan</td>\n",
              "      <td>197719</td>\n",
              "      <td>nan</td>\n",
              "      <td>292627</td>\n",
              "      <td>nan</td>\n",
              "      <td>nan</td>\n",
              "      <td>nan</td>\n",
              "    </tr>\n",
              "    <tr>\n",
              "      <th>first</th>\n",
              "      <td>nan</td>\n",
              "      <td>NaN</td>\n",
              "      <td>NaN</td>\n",
              "      <td>NaN</td>\n",
              "      <td>NaN</td>\n",
              "      <td>2009-05-03 00:00:00</td>\n",
              "      <td>nan</td>\n",
              "      <td>1970-01-01 01:00:00</td>\n",
              "      <td>nan</td>\n",
              "      <td>NaN</td>\n",
              "      <td>nan</td>\n",
              "      <td>NaN</td>\n",
              "      <td>nan</td>\n",
              "      <td>nan</td>\n",
              "      <td>nan</td>\n",
              "    </tr>\n",
              "    <tr>\n",
              "      <th>last</th>\n",
              "      <td>nan</td>\n",
              "      <td>NaN</td>\n",
              "      <td>NaN</td>\n",
              "      <td>NaN</td>\n",
              "      <td>NaN</td>\n",
              "      <td>2018-03-03 00:00:00</td>\n",
              "      <td>nan</td>\n",
              "      <td>2018-01-02 15:02:31</td>\n",
              "      <td>nan</td>\n",
              "      <td>NaN</td>\n",
              "      <td>nan</td>\n",
              "      <td>NaN</td>\n",
              "      <td>nan</td>\n",
              "      <td>nan</td>\n",
              "      <td>nan</td>\n",
              "    </tr>\n",
              "    <tr>\n",
              "      <th>mean</th>\n",
              "      <td>1074731191.99</td>\n",
              "      <td>NaN</td>\n",
              "      <td>NaN</td>\n",
              "      <td>NaN</td>\n",
              "      <td>NaN</td>\n",
              "      <td>NaN</td>\n",
              "      <td>49080.79</td>\n",
              "      <td>NaN</td>\n",
              "      <td>9682.98</td>\n",
              "      <td>NaN</td>\n",
              "      <td>105.62</td>\n",
              "      <td>NaN</td>\n",
              "      <td>7036.73</td>\n",
              "      <td>9058.92</td>\n",
              "      <td>45454.40</td>\n",
              "    </tr>\n",
              "    <tr>\n",
              "      <th>std</th>\n",
              "      <td>619086204.32</td>\n",
              "      <td>NaN</td>\n",
              "      <td>NaN</td>\n",
              "      <td>NaN</td>\n",
              "      <td>NaN</td>\n",
              "      <td>NaN</td>\n",
              "      <td>1183391.26</td>\n",
              "      <td>NaN</td>\n",
              "      <td>95636.01</td>\n",
              "      <td>NaN</td>\n",
              "      <td>907.19</td>\n",
              "      <td>NaN</td>\n",
              "      <td>78639.75</td>\n",
              "      <td>90973.34</td>\n",
              "      <td>1152950.06</td>\n",
              "    </tr>\n",
              "    <tr>\n",
              "      <th>min</th>\n",
              "      <td>5971.00</td>\n",
              "      <td>NaN</td>\n",
              "      <td>NaN</td>\n",
              "      <td>NaN</td>\n",
              "      <td>NaN</td>\n",
              "      <td>NaN</td>\n",
              "      <td>0.01</td>\n",
              "      <td>NaN</td>\n",
              "      <td>0.00</td>\n",
              "      <td>NaN</td>\n",
              "      <td>0.00</td>\n",
              "      <td>NaN</td>\n",
              "      <td>0.00</td>\n",
              "      <td>0.00</td>\n",
              "      <td>0.01</td>\n",
              "    </tr>\n",
              "    <tr>\n",
              "      <th>25%</th>\n",
              "      <td>538263516.00</td>\n",
              "      <td>NaN</td>\n",
              "      <td>NaN</td>\n",
              "      <td>NaN</td>\n",
              "      <td>NaN</td>\n",
              "      <td>NaN</td>\n",
              "      <td>2000.00</td>\n",
              "      <td>NaN</td>\n",
              "      <td>30.00</td>\n",
              "      <td>NaN</td>\n",
              "      <td>2.00</td>\n",
              "      <td>NaN</td>\n",
              "      <td>16.98</td>\n",
              "      <td>31.00</td>\n",
              "      <td>2000.00</td>\n",
              "    </tr>\n",
              "    <tr>\n",
              "      <th>50%</th>\n",
              "      <td>1075275634.00</td>\n",
              "      <td>NaN</td>\n",
              "      <td>NaN</td>\n",
              "      <td>NaN</td>\n",
              "      <td>NaN</td>\n",
              "      <td>NaN</td>\n",
              "      <td>5200.00</td>\n",
              "      <td>NaN</td>\n",
              "      <td>620.00</td>\n",
              "      <td>NaN</td>\n",
              "      <td>12.00</td>\n",
              "      <td>NaN</td>\n",
              "      <td>394.72</td>\n",
              "      <td>624.33</td>\n",
              "      <td>5500.00</td>\n",
              "    </tr>\n",
              "    <tr>\n",
              "      <th>75%</th>\n",
              "      <td>1610148624.00</td>\n",
              "      <td>NaN</td>\n",
              "      <td>NaN</td>\n",
              "      <td>NaN</td>\n",
              "      <td>NaN</td>\n",
              "      <td>NaN</td>\n",
              "      <td>16000.00</td>\n",
              "      <td>NaN</td>\n",
              "      <td>4076.00</td>\n",
              "      <td>NaN</td>\n",
              "      <td>56.00</td>\n",
              "      <td>NaN</td>\n",
              "      <td>3034.09</td>\n",
              "      <td>4050.00</td>\n",
              "      <td>15500.00</td>\n",
              "    </tr>\n",
              "    <tr>\n",
              "      <th>max</th>\n",
              "      <td>2147476221.00</td>\n",
              "      <td>NaN</td>\n",
              "      <td>NaN</td>\n",
              "      <td>NaN</td>\n",
              "      <td>NaN</td>\n",
              "      <td>NaN</td>\n",
              "      <td>100000000.00</td>\n",
              "      <td>NaN</td>\n",
              "      <td>20338986.27</td>\n",
              "      <td>NaN</td>\n",
              "      <td>219382.00</td>\n",
              "      <td>NaN</td>\n",
              "      <td>20338986.27</td>\n",
              "      <td>20338986.27</td>\n",
              "      <td>166361390.71</td>\n",
              "    </tr>\n",
              "  </tbody>\n",
              "</table>\n",
              "</div>"
            ],
            "text/plain": [
              "                  ID                      name  ... usd_pledged_real usd_goal_real\n",
              "count      378661.00                    378657  ...        378661.00     378661.00\n",
              "unique           nan                    375764  ...              nan           nan\n",
              "top              nan  New EP/Music Development  ...              nan           nan\n",
              "freq             nan                        41  ...              nan           nan\n",
              "first            nan                       NaN  ...              nan           nan\n",
              "last             nan                       NaN  ...              nan           nan\n",
              "mean   1074731191.99                       NaN  ...          9058.92      45454.40\n",
              "std     619086204.32                       NaN  ...         90973.34    1152950.06\n",
              "min          5971.00                       NaN  ...             0.00          0.01\n",
              "25%     538263516.00                       NaN  ...            31.00       2000.00\n",
              "50%    1075275634.00                       NaN  ...           624.33       5500.00\n",
              "75%    1610148624.00                       NaN  ...          4050.00      15500.00\n",
              "max    2147476221.00                       NaN  ...      20338986.27  166361390.71\n",
              "\n",
              "[13 rows x 15 columns]"
            ]
          },
          "metadata": {
            "tags": []
          },
          "execution_count": 14
        }
      ]
    },
    {
      "cell_type": "markdown",
      "metadata": {
        "colab_type": "text",
        "id": "WSd5WYsMYSuQ"
      },
      "source": [
        "Podemos ver que tenemos primero y último en el resumen de las columnas de fechas.\n",
        "\n",
        "Ahora deberíamos poder calcular el rango de fechas de lanzamietos"
      ]
    },
    {
      "cell_type": "code",
      "metadata": {
        "colab_type": "code",
        "id": "8qhSEoVJYSuR",
        "colab": {
          "base_uri": "https://localhost:8080/",
          "height": 33
        },
        "outputId": "e79efe23-56e3-4942-d451-bbcc991180dc"
      },
      "source": [
        "kickstarter_2018['launched'].max() - kickstarter_2018['launched'].min()    #como ambos campos son del tipo fecha ahora si funciona el ejercicio"
      ],
      "execution_count": 15,
      "outputs": [
        {
          "output_type": "execute_result",
          "data": {
            "text/plain": [
              "Timedelta('17533 days 14:02:31')"
            ]
          },
          "metadata": {
            "tags": []
          },
          "execution_count": 15
        }
      ]
    },
    {
      "cell_type": "markdown",
      "metadata": {
        "colab_type": "text",
        "id": "kUuWg5XxYSuU"
      },
      "source": [
        "# 1.2. Asegurar de tener ids/claves únicas"
      ]
    },
    {
      "cell_type": "markdown",
      "metadata": {
        "colab_type": "text",
        "id": "a8kLSONTYSuV"
      },
      "source": [
        "Chequear que no hay datos duplicados"
      ]
    },
    {
      "cell_type": "code",
      "metadata": {
        "colab_type": "code",
        "id": "wIbpcwGKYSuW",
        "colab": {
          "base_uri": "https://localhost:8080/",
          "height": 33
        },
        "outputId": "e7352a05-9981-4d24-b626-2f4337949fd5"
      },
      "source": [
        "kickstarter_2018.shape   # verifico que no haya duplicados"
      ],
      "execution_count": 16,
      "outputs": [
        {
          "output_type": "execute_result",
          "data": {
            "text/plain": [
              "(378661, 15)"
            ]
          },
          "metadata": {
            "tags": []
          },
          "execution_count": 16
        }
      ]
    },
    {
      "cell_type": "markdown",
      "metadata": {
        "id": "dHGfXytobCMa",
        "colab_type": "text"
      },
      "source": [
        "Pandas soporta índices en los DataFrames vamos a recargar el conjunto de datos"
      ]
    },
    {
      "cell_type": "code",
      "metadata": {
        "colab_type": "code",
        "id": "85qApsv2YSuZ",
        "colab": {}
      },
      "source": [
        "kickstarter_2018 = pd.read_csv(BASE_DIR + \"/input/kickstarter-projects/ks-projects-201801.csv\", \n",
        "                               parse_dates=[\"deadline\",\"launched\"],\n",
        "                               index_col=['ID'])"
      ],
      "execution_count": 17,
      "outputs": []
    },
    {
      "cell_type": "code",
      "metadata": {
        "colab_type": "code",
        "id": "zUl3zjhQYSuc",
        "colab": {
          "base_uri": "https://localhost:8080/",
          "height": 939
        },
        "outputId": "a93ef5cc-7d29-49c9-8333-779b20c048b6"
      },
      "source": [
        "kickstarter_2018"
      ],
      "execution_count": 18,
      "outputs": [
        {
          "output_type": "execute_result",
          "data": {
            "text/html": [
              "<div>\n",
              "<style scoped>\n",
              "    .dataframe tbody tr th:only-of-type {\n",
              "        vertical-align: middle;\n",
              "    }\n",
              "\n",
              "    .dataframe tbody tr th {\n",
              "        vertical-align: top;\n",
              "    }\n",
              "\n",
              "    .dataframe thead th {\n",
              "        text-align: right;\n",
              "    }\n",
              "</style>\n",
              "<table border=\"1\" class=\"dataframe\">\n",
              "  <thead>\n",
              "    <tr style=\"text-align: right;\">\n",
              "      <th></th>\n",
              "      <th>name</th>\n",
              "      <th>category</th>\n",
              "      <th>main_category</th>\n",
              "      <th>currency</th>\n",
              "      <th>deadline</th>\n",
              "      <th>goal</th>\n",
              "      <th>launched</th>\n",
              "      <th>pledged</th>\n",
              "      <th>state</th>\n",
              "      <th>backers</th>\n",
              "      <th>country</th>\n",
              "      <th>usd pledged</th>\n",
              "      <th>usd_pledged_real</th>\n",
              "      <th>usd_goal_real</th>\n",
              "    </tr>\n",
              "    <tr>\n",
              "      <th>ID</th>\n",
              "      <th></th>\n",
              "      <th></th>\n",
              "      <th></th>\n",
              "      <th></th>\n",
              "      <th></th>\n",
              "      <th></th>\n",
              "      <th></th>\n",
              "      <th></th>\n",
              "      <th></th>\n",
              "      <th></th>\n",
              "      <th></th>\n",
              "      <th></th>\n",
              "      <th></th>\n",
              "      <th></th>\n",
              "    </tr>\n",
              "  </thead>\n",
              "  <tbody>\n",
              "    <tr>\n",
              "      <th>1000002330</th>\n",
              "      <td>The Songs of Adelaide &amp; Abullah</td>\n",
              "      <td>Poetry</td>\n",
              "      <td>Publishing</td>\n",
              "      <td>GBP</td>\n",
              "      <td>2015-10-09</td>\n",
              "      <td>1000.00</td>\n",
              "      <td>2015-08-11 12:12:28</td>\n",
              "      <td>0.00</td>\n",
              "      <td>failed</td>\n",
              "      <td>0</td>\n",
              "      <td>GB</td>\n",
              "      <td>0.00</td>\n",
              "      <td>0.00</td>\n",
              "      <td>1533.95</td>\n",
              "    </tr>\n",
              "    <tr>\n",
              "      <th>1000003930</th>\n",
              "      <td>Greeting From Earth: ZGAC Arts Capsule For ET</td>\n",
              "      <td>Narrative Film</td>\n",
              "      <td>Film &amp; Video</td>\n",
              "      <td>USD</td>\n",
              "      <td>2017-11-01</td>\n",
              "      <td>30000.00</td>\n",
              "      <td>2017-09-02 04:43:57</td>\n",
              "      <td>2421.00</td>\n",
              "      <td>failed</td>\n",
              "      <td>15</td>\n",
              "      <td>US</td>\n",
              "      <td>100.00</td>\n",
              "      <td>2421.00</td>\n",
              "      <td>30000.00</td>\n",
              "    </tr>\n",
              "    <tr>\n",
              "      <th>1000004038</th>\n",
              "      <td>Where is Hank?</td>\n",
              "      <td>Narrative Film</td>\n",
              "      <td>Film &amp; Video</td>\n",
              "      <td>USD</td>\n",
              "      <td>2013-02-26</td>\n",
              "      <td>45000.00</td>\n",
              "      <td>2013-01-12 00:20:50</td>\n",
              "      <td>220.00</td>\n",
              "      <td>failed</td>\n",
              "      <td>3</td>\n",
              "      <td>US</td>\n",
              "      <td>220.00</td>\n",
              "      <td>220.00</td>\n",
              "      <td>45000.00</td>\n",
              "    </tr>\n",
              "    <tr>\n",
              "      <th>1000007540</th>\n",
              "      <td>ToshiCapital Rekordz Needs Help to Complete Album</td>\n",
              "      <td>Music</td>\n",
              "      <td>Music</td>\n",
              "      <td>USD</td>\n",
              "      <td>2012-04-16</td>\n",
              "      <td>5000.00</td>\n",
              "      <td>2012-03-17 03:24:11</td>\n",
              "      <td>1.00</td>\n",
              "      <td>failed</td>\n",
              "      <td>1</td>\n",
              "      <td>US</td>\n",
              "      <td>1.00</td>\n",
              "      <td>1.00</td>\n",
              "      <td>5000.00</td>\n",
              "    </tr>\n",
              "    <tr>\n",
              "      <th>1000011046</th>\n",
              "      <td>Community Film Project: The Art of Neighborhoo...</td>\n",
              "      <td>Film &amp; Video</td>\n",
              "      <td>Film &amp; Video</td>\n",
              "      <td>USD</td>\n",
              "      <td>2015-08-29</td>\n",
              "      <td>19500.00</td>\n",
              "      <td>2015-07-04 08:35:03</td>\n",
              "      <td>1283.00</td>\n",
              "      <td>canceled</td>\n",
              "      <td>14</td>\n",
              "      <td>US</td>\n",
              "      <td>1283.00</td>\n",
              "      <td>1283.00</td>\n",
              "      <td>19500.00</td>\n",
              "    </tr>\n",
              "    <tr>\n",
              "      <th>...</th>\n",
              "      <td>...</td>\n",
              "      <td>...</td>\n",
              "      <td>...</td>\n",
              "      <td>...</td>\n",
              "      <td>...</td>\n",
              "      <td>...</td>\n",
              "      <td>...</td>\n",
              "      <td>...</td>\n",
              "      <td>...</td>\n",
              "      <td>...</td>\n",
              "      <td>...</td>\n",
              "      <td>...</td>\n",
              "      <td>...</td>\n",
              "      <td>...</td>\n",
              "    </tr>\n",
              "    <tr>\n",
              "      <th>999976400</th>\n",
              "      <td>ChknTruk Nationwide Charity Drive 2014 (Canceled)</td>\n",
              "      <td>Documentary</td>\n",
              "      <td>Film &amp; Video</td>\n",
              "      <td>USD</td>\n",
              "      <td>2014-10-17</td>\n",
              "      <td>50000.00</td>\n",
              "      <td>2014-09-17 02:35:30</td>\n",
              "      <td>25.00</td>\n",
              "      <td>canceled</td>\n",
              "      <td>1</td>\n",
              "      <td>US</td>\n",
              "      <td>25.00</td>\n",
              "      <td>25.00</td>\n",
              "      <td>50000.00</td>\n",
              "    </tr>\n",
              "    <tr>\n",
              "      <th>999977640</th>\n",
              "      <td>The Tribe</td>\n",
              "      <td>Narrative Film</td>\n",
              "      <td>Film &amp; Video</td>\n",
              "      <td>USD</td>\n",
              "      <td>2011-07-19</td>\n",
              "      <td>1500.00</td>\n",
              "      <td>2011-06-22 03:35:14</td>\n",
              "      <td>155.00</td>\n",
              "      <td>failed</td>\n",
              "      <td>5</td>\n",
              "      <td>US</td>\n",
              "      <td>155.00</td>\n",
              "      <td>155.00</td>\n",
              "      <td>1500.00</td>\n",
              "    </tr>\n",
              "    <tr>\n",
              "      <th>999986353</th>\n",
              "      <td>Walls of Remedy- New lesbian Romantic Comedy f...</td>\n",
              "      <td>Narrative Film</td>\n",
              "      <td>Film &amp; Video</td>\n",
              "      <td>USD</td>\n",
              "      <td>2010-08-16</td>\n",
              "      <td>15000.00</td>\n",
              "      <td>2010-07-01 19:40:30</td>\n",
              "      <td>20.00</td>\n",
              "      <td>failed</td>\n",
              "      <td>1</td>\n",
              "      <td>US</td>\n",
              "      <td>20.00</td>\n",
              "      <td>20.00</td>\n",
              "      <td>15000.00</td>\n",
              "    </tr>\n",
              "    <tr>\n",
              "      <th>999987933</th>\n",
              "      <td>BioDefense Education Kit</td>\n",
              "      <td>Technology</td>\n",
              "      <td>Technology</td>\n",
              "      <td>USD</td>\n",
              "      <td>2016-02-13</td>\n",
              "      <td>15000.00</td>\n",
              "      <td>2016-01-13 18:13:53</td>\n",
              "      <td>200.00</td>\n",
              "      <td>failed</td>\n",
              "      <td>6</td>\n",
              "      <td>US</td>\n",
              "      <td>200.00</td>\n",
              "      <td>200.00</td>\n",
              "      <td>15000.00</td>\n",
              "    </tr>\n",
              "    <tr>\n",
              "      <th>999988282</th>\n",
              "      <td>Nou Renmen Ayiti!  We Love Haiti!</td>\n",
              "      <td>Performance Art</td>\n",
              "      <td>Art</td>\n",
              "      <td>USD</td>\n",
              "      <td>2011-08-16</td>\n",
              "      <td>2000.00</td>\n",
              "      <td>2011-07-19 09:07:47</td>\n",
              "      <td>524.00</td>\n",
              "      <td>failed</td>\n",
              "      <td>17</td>\n",
              "      <td>US</td>\n",
              "      <td>524.00</td>\n",
              "      <td>524.00</td>\n",
              "      <td>2000.00</td>\n",
              "    </tr>\n",
              "  </tbody>\n",
              "</table>\n",
              "<p>378661 rows × 14 columns</p>\n",
              "</div>"
            ],
            "text/plain": [
              "                                                         name  ... usd_goal_real\n",
              "ID                                                             ...              \n",
              "1000002330                    The Songs of Adelaide & Abullah  ...       1533.95\n",
              "1000003930      Greeting From Earth: ZGAC Arts Capsule For ET  ...      30000.00\n",
              "1000004038                                     Where is Hank?  ...      45000.00\n",
              "1000007540  ToshiCapital Rekordz Needs Help to Complete Album  ...       5000.00\n",
              "1000011046  Community Film Project: The Art of Neighborhoo...  ...      19500.00\n",
              "...                                                       ...  ...           ...\n",
              "999976400   ChknTruk Nationwide Charity Drive 2014 (Canceled)  ...      50000.00\n",
              "999977640                                           The Tribe  ...       1500.00\n",
              "999986353   Walls of Remedy- New lesbian Romantic Comedy f...  ...      15000.00\n",
              "999987933                            BioDefense Education Kit  ...      15000.00\n",
              "999988282                   Nou Renmen Ayiti!  We Love Haiti!  ...       2000.00\n",
              "\n",
              "[378661 rows x 14 columns]"
            ]
          },
          "metadata": {
            "tags": []
          },
          "execution_count": 18
        }
      ]
    },
    {
      "cell_type": "code",
      "metadata": {
        "colab_type": "code",
        "id": "RirO_GHkYSuf",
        "colab": {
          "base_uri": "https://localhost:8080/",
          "height": 33
        },
        "outputId": "dd4d3238-fbcd-46b3-d2c8-738f19d3d16d"
      },
      "source": [
        "kickstarter_2018.shape"
      ],
      "execution_count": 19,
      "outputs": [
        {
          "output_type": "execute_result",
          "data": {
            "text/plain": [
              "(378661, 14)"
            ]
          },
          "metadata": {
            "tags": []
          },
          "execution_count": 19
        }
      ]
    },
    {
      "cell_type": "markdown",
      "metadata": {
        "id": "g8Z4QZgabCMi",
        "colab_type": "text"
      },
      "source": [
        "De esta forma podemos buscar por el índice"
      ]
    },
    {
      "cell_type": "code",
      "metadata": {
        "id": "aa5IVN6CbCMj",
        "colab_type": "code",
        "colab": {
          "base_uri": "https://localhost:8080/",
          "height": 268
        },
        "outputId": "491de6fc-ddac-4911-87a3-5133c787794b"
      },
      "source": [
        "kickstarter_2018.loc[999988282]  "
      ],
      "execution_count": 20,
      "outputs": [
        {
          "output_type": "execute_result",
          "data": {
            "text/plain": [
              "name                Nou Renmen Ayiti!  We Love Haiti!\n",
              "category                              Performance Art\n",
              "main_category                                     Art\n",
              "currency                                          USD\n",
              "deadline                          2011-08-16 00:00:00\n",
              "goal                                          2000.00\n",
              "launched                          2011-07-19 09:07:47\n",
              "pledged                                        524.00\n",
              "state                                          failed\n",
              "backers                                            17\n",
              "country                                            US\n",
              "usd pledged                                    524.00\n",
              "usd_pledged_real                               524.00\n",
              "usd_goal_real                                 2000.00\n",
              "Name: 999988282, dtype: object"
            ]
          },
          "metadata": {
            "tags": []
          },
          "execution_count": 20
        }
      ]
    },
    {
      "cell_type": "markdown",
      "metadata": {
        "id": "gkD7uBUsbCMl",
        "colab_type": "text"
      },
      "source": [
        "También podemos verificar si hay **filas de contenidos duplicado**"
      ]
    },
    {
      "cell_type": "code",
      "metadata": {
        "colab_type": "code",
        "id": "ezFOfJESYSui",
        "colab": {
          "base_uri": "https://localhost:8080/",
          "height": 77
        },
        "outputId": "96b7291e-3526-463d-a4dc-856146d565eb"
      },
      "source": [
        "kickstarter_2018[kickstarter_2018.duplicated()]"
      ],
      "execution_count": 21,
      "outputs": [
        {
          "output_type": "execute_result",
          "data": {
            "text/html": [
              "<div>\n",
              "<style scoped>\n",
              "    .dataframe tbody tr th:only-of-type {\n",
              "        vertical-align: middle;\n",
              "    }\n",
              "\n",
              "    .dataframe tbody tr th {\n",
              "        vertical-align: top;\n",
              "    }\n",
              "\n",
              "    .dataframe thead th {\n",
              "        text-align: right;\n",
              "    }\n",
              "</style>\n",
              "<table border=\"1\" class=\"dataframe\">\n",
              "  <thead>\n",
              "    <tr style=\"text-align: right;\">\n",
              "      <th></th>\n",
              "      <th>name</th>\n",
              "      <th>category</th>\n",
              "      <th>main_category</th>\n",
              "      <th>currency</th>\n",
              "      <th>deadline</th>\n",
              "      <th>goal</th>\n",
              "      <th>launched</th>\n",
              "      <th>pledged</th>\n",
              "      <th>state</th>\n",
              "      <th>backers</th>\n",
              "      <th>country</th>\n",
              "      <th>usd pledged</th>\n",
              "      <th>usd_pledged_real</th>\n",
              "      <th>usd_goal_real</th>\n",
              "    </tr>\n",
              "    <tr>\n",
              "      <th>ID</th>\n",
              "      <th></th>\n",
              "      <th></th>\n",
              "      <th></th>\n",
              "      <th></th>\n",
              "      <th></th>\n",
              "      <th></th>\n",
              "      <th></th>\n",
              "      <th></th>\n",
              "      <th></th>\n",
              "      <th></th>\n",
              "      <th></th>\n",
              "      <th></th>\n",
              "      <th></th>\n",
              "      <th></th>\n",
              "    </tr>\n",
              "  </thead>\n",
              "  <tbody>\n",
              "  </tbody>\n",
              "</table>\n",
              "</div>"
            ],
            "text/plain": [
              "Empty DataFrame\n",
              "Columns: [name, category, main_category, currency, deadline, goal, launched, pledged, state, backers, country, usd pledged, usd_pledged_real, usd_goal_real]\n",
              "Index: []"
            ]
          },
          "metadata": {
            "tags": []
          },
          "execution_count": 21
        }
      ]
    },
    {
      "cell_type": "markdown",
      "metadata": {
        "id": "zFwAHxiZbCMo",
        "colab_type": "text"
      },
      "source": [
        "Como Pandas **acepta valores duplicados en los índices también debemos verificar ahí**"
      ]
    },
    {
      "cell_type": "code",
      "metadata": {
        "id": "QUUdg4IsbCMo",
        "colab_type": "code",
        "colab": {
          "base_uri": "https://localhost:8080/",
          "height": 100
        },
        "outputId": "7b814732-26e0-4246-82bd-1d6b0c874485"
      },
      "source": [
        "pd.Series(kickstarter_2018.index,dtype=str).describe()   # verificamos si en los índices no hay duplicados"
      ],
      "execution_count": 22,
      "outputs": [
        {
          "output_type": "execute_result",
          "data": {
            "text/plain": [
              "count         378661\n",
              "unique        378661\n",
              "top       1211723636\n",
              "freq               1\n",
              "Name: ID, dtype: object"
            ]
          },
          "metadata": {
            "tags": []
          },
          "execution_count": 22
        }
      ]
    },
    {
      "cell_type": "code",
      "metadata": {
        "id": "arDUcbedbCMq",
        "colab_type": "code",
        "colab": {
          "base_uri": "https://localhost:8080/",
          "height": 77
        },
        "outputId": "8fa3fc4b-0b80-4088-d9a5-fd2f95f132d0"
      },
      "source": [
        "kickstarter_2018[kickstarter_2018.index.duplicated()]"
      ],
      "execution_count": 23,
      "outputs": [
        {
          "output_type": "execute_result",
          "data": {
            "text/html": [
              "<div>\n",
              "<style scoped>\n",
              "    .dataframe tbody tr th:only-of-type {\n",
              "        vertical-align: middle;\n",
              "    }\n",
              "\n",
              "    .dataframe tbody tr th {\n",
              "        vertical-align: top;\n",
              "    }\n",
              "\n",
              "    .dataframe thead th {\n",
              "        text-align: right;\n",
              "    }\n",
              "</style>\n",
              "<table border=\"1\" class=\"dataframe\">\n",
              "  <thead>\n",
              "    <tr style=\"text-align: right;\">\n",
              "      <th></th>\n",
              "      <th>name</th>\n",
              "      <th>category</th>\n",
              "      <th>main_category</th>\n",
              "      <th>currency</th>\n",
              "      <th>deadline</th>\n",
              "      <th>goal</th>\n",
              "      <th>launched</th>\n",
              "      <th>pledged</th>\n",
              "      <th>state</th>\n",
              "      <th>backers</th>\n",
              "      <th>country</th>\n",
              "      <th>usd pledged</th>\n",
              "      <th>usd_pledged_real</th>\n",
              "      <th>usd_goal_real</th>\n",
              "    </tr>\n",
              "    <tr>\n",
              "      <th>ID</th>\n",
              "      <th></th>\n",
              "      <th></th>\n",
              "      <th></th>\n",
              "      <th></th>\n",
              "      <th></th>\n",
              "      <th></th>\n",
              "      <th></th>\n",
              "      <th></th>\n",
              "      <th></th>\n",
              "      <th></th>\n",
              "      <th></th>\n",
              "      <th></th>\n",
              "      <th></th>\n",
              "      <th></th>\n",
              "    </tr>\n",
              "  </thead>\n",
              "  <tbody>\n",
              "  </tbody>\n",
              "</table>\n",
              "</div>"
            ],
            "text/plain": [
              "Empty DataFrame\n",
              "Columns: [name, category, main_category, currency, deadline, goal, launched, pledged, state, backers, country, usd pledged, usd_pledged_real, usd_goal_real]\n",
              "Index: []"
            ]
          },
          "metadata": {
            "tags": []
          },
          "execution_count": 23
        }
      ]
    },
    {
      "cell_type": "markdown",
      "metadata": {
        "id": "0LTRcod3bCM2",
        "colab_type": "text"
      },
      "source": [
        "# **Ejercicio 1 para entrega final**\n",
        "\n",
        "Armar una tabla con todos los proyectos con nombres duplicados, ordenados para revisar agrupados. "
      ]
    },
    {
      "cell_type": "code",
      "metadata": {
        "id": "3R3iQ9XoVzP0",
        "colab_type": "code",
        "colab": {
          "base_uri": "https://localhost:8080/",
          "height": 906
        },
        "outputId": "7bd0bcb0-87cc-42bf-f0a5-367740a4f49e"
      },
      "source": [
        "kickstarter_2018[kickstarter_2018.name.duplicated(keep=False)].sort_values('name')"
      ],
      "execution_count": 28,
      "outputs": [
        {
          "output_type": "execute_result",
          "data": {
            "text/html": [
              "<div>\n",
              "<style scoped>\n",
              "    .dataframe tbody tr th:only-of-type {\n",
              "        vertical-align: middle;\n",
              "    }\n",
              "\n",
              "    .dataframe tbody tr th {\n",
              "        vertical-align: top;\n",
              "    }\n",
              "\n",
              "    .dataframe thead th {\n",
              "        text-align: right;\n",
              "    }\n",
              "</style>\n",
              "<table border=\"1\" class=\"dataframe\">\n",
              "  <thead>\n",
              "    <tr style=\"text-align: right;\">\n",
              "      <th></th>\n",
              "      <th>name</th>\n",
              "      <th>category</th>\n",
              "      <th>main_category</th>\n",
              "      <th>currency</th>\n",
              "      <th>deadline</th>\n",
              "      <th>goal</th>\n",
              "      <th>launched</th>\n",
              "      <th>pledged</th>\n",
              "      <th>state</th>\n",
              "      <th>backers</th>\n",
              "      <th>country</th>\n",
              "      <th>usd pledged</th>\n",
              "      <th>usd_pledged_real</th>\n",
              "      <th>usd_goal_real</th>\n",
              "    </tr>\n",
              "    <tr>\n",
              "      <th>ID</th>\n",
              "      <th></th>\n",
              "      <th></th>\n",
              "      <th></th>\n",
              "      <th></th>\n",
              "      <th></th>\n",
              "      <th></th>\n",
              "      <th></th>\n",
              "      <th></th>\n",
              "      <th></th>\n",
              "      <th></th>\n",
              "      <th></th>\n",
              "      <th></th>\n",
              "      <th></th>\n",
              "      <th></th>\n",
              "    </tr>\n",
              "  </thead>\n",
              "  <tbody>\n",
              "    <tr>\n",
              "      <th>816998285</th>\n",
              "      <td>\"...The Last shall be first...\" LODB Lifestyle...</td>\n",
              "      <td>Fashion</td>\n",
              "      <td>Fashion</td>\n",
              "      <td>USD</td>\n",
              "      <td>2014-02-09</td>\n",
              "      <td>6500.00</td>\n",
              "      <td>2013-12-19 21:51:50</td>\n",
              "      <td>0.00</td>\n",
              "      <td>canceled</td>\n",
              "      <td>0</td>\n",
              "      <td>US</td>\n",
              "      <td>0.00</td>\n",
              "      <td>0.00</td>\n",
              "      <td>6500.00</td>\n",
              "    </tr>\n",
              "    <tr>\n",
              "      <th>815783250</th>\n",
              "      <td>\"...The Last shall be first...\" LODB Lifestyle...</td>\n",
              "      <td>Fashion</td>\n",
              "      <td>Fashion</td>\n",
              "      <td>USD</td>\n",
              "      <td>2014-03-01</td>\n",
              "      <td>6500.00</td>\n",
              "      <td>2014-01-03 20:39:16</td>\n",
              "      <td>37.00</td>\n",
              "      <td>failed</td>\n",
              "      <td>3</td>\n",
              "      <td>US</td>\n",
              "      <td>37.00</td>\n",
              "      <td>37.00</td>\n",
              "      <td>6500.00</td>\n",
              "    </tr>\n",
              "    <tr>\n",
              "      <th>1010584633</th>\n",
              "      <td>\"A Fresh Start\"</td>\n",
              "      <td>Shorts</td>\n",
              "      <td>Film &amp; Video</td>\n",
              "      <td>USD</td>\n",
              "      <td>2011-09-25</td>\n",
              "      <td>3000.00</td>\n",
              "      <td>2011-08-28 21:27:52</td>\n",
              "      <td>3000.00</td>\n",
              "      <td>successful</td>\n",
              "      <td>24</td>\n",
              "      <td>US</td>\n",
              "      <td>3000.00</td>\n",
              "      <td>3000.00</td>\n",
              "      <td>3000.00</td>\n",
              "    </tr>\n",
              "    <tr>\n",
              "      <th>713417995</th>\n",
              "      <td>\"A Fresh Start\"</td>\n",
              "      <td>Documentary</td>\n",
              "      <td>Film &amp; Video</td>\n",
              "      <td>USD</td>\n",
              "      <td>2013-03-27</td>\n",
              "      <td>5000.00</td>\n",
              "      <td>2013-01-26 03:51:47</td>\n",
              "      <td>1417.00</td>\n",
              "      <td>failed</td>\n",
              "      <td>26</td>\n",
              "      <td>US</td>\n",
              "      <td>1417.00</td>\n",
              "      <td>1417.00</td>\n",
              "      <td>5000.00</td>\n",
              "    </tr>\n",
              "    <tr>\n",
              "      <th>1880084695</th>\n",
              "      <td>\"American Sports Stories\" - An Athletic Quest</td>\n",
              "      <td>Shorts</td>\n",
              "      <td>Film &amp; Video</td>\n",
              "      <td>USD</td>\n",
              "      <td>2015-08-26</td>\n",
              "      <td>100000.00</td>\n",
              "      <td>2015-06-27 02:02:00</td>\n",
              "      <td>100.00</td>\n",
              "      <td>failed</td>\n",
              "      <td>1</td>\n",
              "      <td>US</td>\n",
              "      <td>100.00</td>\n",
              "      <td>100.00</td>\n",
              "      <td>100000.00</td>\n",
              "    </tr>\n",
              "    <tr>\n",
              "      <th>...</th>\n",
              "      <td>...</td>\n",
              "      <td>...</td>\n",
              "      <td>...</td>\n",
              "      <td>...</td>\n",
              "      <td>...</td>\n",
              "      <td>...</td>\n",
              "      <td>...</td>\n",
              "      <td>...</td>\n",
              "      <td>...</td>\n",
              "      <td>...</td>\n",
              "      <td>...</td>\n",
              "      <td>...</td>\n",
              "      <td>...</td>\n",
              "      <td>...</td>\n",
              "    </tr>\n",
              "    <tr>\n",
              "      <th>329580179</th>\n",
              "      <td>xxx (Canceled)</td>\n",
              "      <td>Art</td>\n",
              "      <td>Art</td>\n",
              "      <td>USD</td>\n",
              "      <td>2011-09-03</td>\n",
              "      <td>10000.00</td>\n",
              "      <td>2011-06-05 04:54:37</td>\n",
              "      <td>1151.00</td>\n",
              "      <td>canceled</td>\n",
              "      <td>18</td>\n",
              "      <td>US</td>\n",
              "      <td>1151.00</td>\n",
              "      <td>1151.00</td>\n",
              "      <td>10000.00</td>\n",
              "    </tr>\n",
              "    <tr>\n",
              "      <th>1848699072</th>\n",
              "      <td>NaN</td>\n",
              "      <td>Narrative Film</td>\n",
              "      <td>Film &amp; Video</td>\n",
              "      <td>USD</td>\n",
              "      <td>2012-02-29</td>\n",
              "      <td>200000.00</td>\n",
              "      <td>2012-01-01 12:35:31</td>\n",
              "      <td>100.00</td>\n",
              "      <td>failed</td>\n",
              "      <td>1</td>\n",
              "      <td>US</td>\n",
              "      <td>100.00</td>\n",
              "      <td>100.00</td>\n",
              "      <td>200000.00</td>\n",
              "    </tr>\n",
              "    <tr>\n",
              "      <th>634871725</th>\n",
              "      <td>NaN</td>\n",
              "      <td>Video Games</td>\n",
              "      <td>Games</td>\n",
              "      <td>GBP</td>\n",
              "      <td>2013-01-06</td>\n",
              "      <td>2000.00</td>\n",
              "      <td>2012-12-19 23:57:48</td>\n",
              "      <td>196.00</td>\n",
              "      <td>failed</td>\n",
              "      <td>12</td>\n",
              "      <td>GB</td>\n",
              "      <td>317.73</td>\n",
              "      <td>316.05</td>\n",
              "      <td>3224.97</td>\n",
              "    </tr>\n",
              "    <tr>\n",
              "      <th>648853978</th>\n",
              "      <td>NaN</td>\n",
              "      <td>Product Design</td>\n",
              "      <td>Design</td>\n",
              "      <td>USD</td>\n",
              "      <td>2016-07-18</td>\n",
              "      <td>2500.00</td>\n",
              "      <td>2016-06-18 05:01:47</td>\n",
              "      <td>0.00</td>\n",
              "      <td>suspended</td>\n",
              "      <td>0</td>\n",
              "      <td>US</td>\n",
              "      <td>0.00</td>\n",
              "      <td>0.00</td>\n",
              "      <td>2500.00</td>\n",
              "    </tr>\n",
              "    <tr>\n",
              "      <th>796533179</th>\n",
              "      <td>NaN</td>\n",
              "      <td>Painting</td>\n",
              "      <td>Art</td>\n",
              "      <td>USD</td>\n",
              "      <td>2011-12-05</td>\n",
              "      <td>35000.00</td>\n",
              "      <td>2011-11-06 23:55:55</td>\n",
              "      <td>220.00</td>\n",
              "      <td>failed</td>\n",
              "      <td>5</td>\n",
              "      <td>US</td>\n",
              "      <td>220.00</td>\n",
              "      <td>220.00</td>\n",
              "      <td>35000.00</td>\n",
              "    </tr>\n",
              "  </tbody>\n",
              "</table>\n",
              "<p>5125 rows × 14 columns</p>\n",
              "</div>"
            ],
            "text/plain": [
              "                                                         name  ... usd_goal_real\n",
              "ID                                                             ...              \n",
              "816998285   \"...The Last shall be first...\" LODB Lifestyle...  ...       6500.00\n",
              "815783250   \"...The Last shall be first...\" LODB Lifestyle...  ...       6500.00\n",
              "1010584633                                    \"A Fresh Start\"  ...       3000.00\n",
              "713417995                                     \"A Fresh Start\"  ...       5000.00\n",
              "1880084695      \"American Sports Stories\" - An Athletic Quest  ...     100000.00\n",
              "...                                                       ...  ...           ...\n",
              "329580179                                      xxx (Canceled)  ...      10000.00\n",
              "1848699072                                                NaN  ...     200000.00\n",
              "634871725                                                 NaN  ...       3224.97\n",
              "648853978                                                 NaN  ...       2500.00\n",
              "796533179                                                 NaN  ...      35000.00\n",
              "\n",
              "[5125 rows x 14 columns]"
            ]
          },
          "metadata": {
            "tags": []
          },
          "execution_count": 28
        }
      ]
    },
    {
      "cell_type": "markdown",
      "metadata": {
        "colab_type": "text",
        "id": "NeVjrYP2YSu2"
      },
      "source": [
        "# 1.3. Despersonalizar datos y guardarlos en un nuevo archivo"
      ]
    },
    {
      "cell_type": "markdown",
      "metadata": {
        "colab_type": "text",
        "id": "oKIo48BBYSu3"
      },
      "source": [
        "Hay muuuchas técnicas para despersonalizar datos.\n",
        "\n",
        "Para ilustrar mostramos las ofrecidas por Google https://cloud.google.com/dlp/docs/transformations-reference:\n",
        "\n",
        "* **Reemplazo**: Reemplaza cada valor de entrada con un valor determinado.\n",
        "* **Ocultamiento**: Quita un valor y lo oculta.\n",
        "* **Enmascaramiento con caracteres**: Enmascara una string por completo o parcialmente mediante el reemplazo de un número determinado de caracteres con un carácter fijo especificado..\n",
        "* **Seudonimización mediante el reemplazo de un valor de entrada con un hash criptográfico**: Reemplaza valores de entrada con una string hexadecimal de 32 bytes mediante una clave de encriptación de datos.\n",
        "* **Cambio de fechas**: Cambia las fechas por un número de días al azar, con la opción de ser coherente en el mismo contexto..\n",
        "* **Seudonimización mediante el reemplazo con token de preservación de formato criptográfico**: Reemplaza un valor de entrada con un token, o valor sustituto, de la misma longitud mediante la encriptación de preservación de formato (FPE) con el modo de operación FFX. Esto permite que se use el resultado en sistemas con validación de formato o que necesitan aparecer como reales a pesar de que la información no se revela.\n",
        "* **Valores de depósito con base en rangos de tamaño fijos**: Enmascara los valores de entrada y los reemplaza por depósitos, o rangos dentro de los cuales se encuentra el valor de entrada.\n",
        "* **Valores de depósito con base en rangos de tamaño personalizados**: Valores de entrada de depósito con base en rangos configurables por el usuario y valores de reemplazo.\n",
        "* **Extracción de datos de tiempo**: EExtrae o preserva una porción de los valores Date, Timestamp y TimeOfDay."
      ]
    },
    {
      "cell_type": "code",
      "metadata": {
        "colab_type": "code",
        "id": "VQ5HQI73YSu3",
        "colab": {}
      },
      "source": [
        "from hashlib import md5"
      ],
      "execution_count": 29,
      "outputs": []
    },
    {
      "cell_type": "code",
      "metadata": {
        "colab_type": "code",
        "id": "Dv1gB3GpYSvF",
        "colab": {
          "base_uri": "https://localhost:8080/",
          "height": 234
        },
        "outputId": "279a3fb5-c5f8-421b-eab4-056790a09a21"
      },
      "source": [
        "def hashit(val):\n",
        "    if isinstance(val, float): \n",
        "        return str(val)\n",
        "    return md5(val.encode('utf-8')).hexdigest()\n",
        "\n",
        "\n",
        "kickstarter_2018['name'].apply(hashit)"
      ],
      "execution_count": 30,
      "outputs": [
        {
          "output_type": "execute_result",
          "data": {
            "text/plain": [
              "ID\n",
              "1000002330    a6828ae8a2eca25f0dd7035efc0af0a0\n",
              "1000003930    81609b3bdc0b96f429672d69702f2524\n",
              "1000004038    c12f5c3bace2f0213cdb2679a265dca0\n",
              "1000007540    4dbdcf09c86bbf5683ec39bc57b77f81\n",
              "1000011046    9c01404a2ef702811c2088ce139042ad\n",
              "                            ...               \n",
              "999976400     d89228576343394467096843057f3aa4\n",
              "999977640     bbcb30bd9bd4f9bff0a96fc44d0001f0\n",
              "999986353     6c3094666e1a315b6e179566fe3972d9\n",
              "999987933     887be409ad8b93f26084845a41d4c178\n",
              "999988282     11f7ae3385c567df409deb5f4ac9a2a5\n",
              "Name: name, Length: 378661, dtype: object"
            ]
          },
          "metadata": {
            "tags": []
          },
          "execution_count": 30
        }
      ]
    },
    {
      "cell_type": "markdown",
      "metadata": {
        "id": "3st8FJLCbCNN",
        "colab_type": "text"
      },
      "source": [
        "# **Ejercicio 2 para entrega final**\n",
        "\n",
        "Verificar que los proyectos que tienen nombres duplicados también tienen el hash de nombre duplicado"
      ]
    },
    {
      "cell_type": "code",
      "metadata": {
        "id": "9u-YbyRPWtCs",
        "colab_type": "code",
        "colab": {
          "base_uri": "https://localhost:8080/",
          "height": 922
        },
        "outputId": "9e06e416-6658-48eb-993b-dfc79f143ceb"
      },
      "source": [
        "repeat = kickstarter_2018[kickstarter_2018.name.duplicated(keep=False)].sort_values('name')\n",
        "name_hash = repeat['name'].apply(hashit)\n",
        "print('Dado que los proyectos repetidos estan ordenados podemos ver que los hash son los \\\n",
        "      mismos si los nombres son iguales.')\n",
        "repeat.merge(name_hash, on='ID')"
      ],
      "execution_count": 31,
      "outputs": [
        {
          "output_type": "stream",
          "text": [
            "Dado que los proyectos repetidos estan ordenados podemos ver que los hash son los       mismos si los nombres son iguales.\n"
          ],
          "name": "stdout"
        },
        {
          "output_type": "execute_result",
          "data": {
            "text/html": [
              "<div>\n",
              "<style scoped>\n",
              "    .dataframe tbody tr th:only-of-type {\n",
              "        vertical-align: middle;\n",
              "    }\n",
              "\n",
              "    .dataframe tbody tr th {\n",
              "        vertical-align: top;\n",
              "    }\n",
              "\n",
              "    .dataframe thead th {\n",
              "        text-align: right;\n",
              "    }\n",
              "</style>\n",
              "<table border=\"1\" class=\"dataframe\">\n",
              "  <thead>\n",
              "    <tr style=\"text-align: right;\">\n",
              "      <th></th>\n",
              "      <th>name_x</th>\n",
              "      <th>category</th>\n",
              "      <th>main_category</th>\n",
              "      <th>currency</th>\n",
              "      <th>deadline</th>\n",
              "      <th>goal</th>\n",
              "      <th>launched</th>\n",
              "      <th>pledged</th>\n",
              "      <th>state</th>\n",
              "      <th>backers</th>\n",
              "      <th>country</th>\n",
              "      <th>usd pledged</th>\n",
              "      <th>usd_pledged_real</th>\n",
              "      <th>usd_goal_real</th>\n",
              "      <th>name_y</th>\n",
              "    </tr>\n",
              "    <tr>\n",
              "      <th>ID</th>\n",
              "      <th></th>\n",
              "      <th></th>\n",
              "      <th></th>\n",
              "      <th></th>\n",
              "      <th></th>\n",
              "      <th></th>\n",
              "      <th></th>\n",
              "      <th></th>\n",
              "      <th></th>\n",
              "      <th></th>\n",
              "      <th></th>\n",
              "      <th></th>\n",
              "      <th></th>\n",
              "      <th></th>\n",
              "      <th></th>\n",
              "    </tr>\n",
              "  </thead>\n",
              "  <tbody>\n",
              "    <tr>\n",
              "      <th>816998285</th>\n",
              "      <td>\"...The Last shall be first...\" LODB Lifestyle...</td>\n",
              "      <td>Fashion</td>\n",
              "      <td>Fashion</td>\n",
              "      <td>USD</td>\n",
              "      <td>2014-02-09</td>\n",
              "      <td>6500.00</td>\n",
              "      <td>2013-12-19 21:51:50</td>\n",
              "      <td>0.00</td>\n",
              "      <td>canceled</td>\n",
              "      <td>0</td>\n",
              "      <td>US</td>\n",
              "      <td>0.00</td>\n",
              "      <td>0.00</td>\n",
              "      <td>6500.00</td>\n",
              "      <td>0c7a251ffe4c7834cbc4b04906952ff1</td>\n",
              "    </tr>\n",
              "    <tr>\n",
              "      <th>815783250</th>\n",
              "      <td>\"...The Last shall be first...\" LODB Lifestyle...</td>\n",
              "      <td>Fashion</td>\n",
              "      <td>Fashion</td>\n",
              "      <td>USD</td>\n",
              "      <td>2014-03-01</td>\n",
              "      <td>6500.00</td>\n",
              "      <td>2014-01-03 20:39:16</td>\n",
              "      <td>37.00</td>\n",
              "      <td>failed</td>\n",
              "      <td>3</td>\n",
              "      <td>US</td>\n",
              "      <td>37.00</td>\n",
              "      <td>37.00</td>\n",
              "      <td>6500.00</td>\n",
              "      <td>0c7a251ffe4c7834cbc4b04906952ff1</td>\n",
              "    </tr>\n",
              "    <tr>\n",
              "      <th>1010584633</th>\n",
              "      <td>\"A Fresh Start\"</td>\n",
              "      <td>Shorts</td>\n",
              "      <td>Film &amp; Video</td>\n",
              "      <td>USD</td>\n",
              "      <td>2011-09-25</td>\n",
              "      <td>3000.00</td>\n",
              "      <td>2011-08-28 21:27:52</td>\n",
              "      <td>3000.00</td>\n",
              "      <td>successful</td>\n",
              "      <td>24</td>\n",
              "      <td>US</td>\n",
              "      <td>3000.00</td>\n",
              "      <td>3000.00</td>\n",
              "      <td>3000.00</td>\n",
              "      <td>67554ab4203d95f2f2f05365f768206e</td>\n",
              "    </tr>\n",
              "    <tr>\n",
              "      <th>713417995</th>\n",
              "      <td>\"A Fresh Start\"</td>\n",
              "      <td>Documentary</td>\n",
              "      <td>Film &amp; Video</td>\n",
              "      <td>USD</td>\n",
              "      <td>2013-03-27</td>\n",
              "      <td>5000.00</td>\n",
              "      <td>2013-01-26 03:51:47</td>\n",
              "      <td>1417.00</td>\n",
              "      <td>failed</td>\n",
              "      <td>26</td>\n",
              "      <td>US</td>\n",
              "      <td>1417.00</td>\n",
              "      <td>1417.00</td>\n",
              "      <td>5000.00</td>\n",
              "      <td>67554ab4203d95f2f2f05365f768206e</td>\n",
              "    </tr>\n",
              "    <tr>\n",
              "      <th>1880084695</th>\n",
              "      <td>\"American Sports Stories\" - An Athletic Quest</td>\n",
              "      <td>Shorts</td>\n",
              "      <td>Film &amp; Video</td>\n",
              "      <td>USD</td>\n",
              "      <td>2015-08-26</td>\n",
              "      <td>100000.00</td>\n",
              "      <td>2015-06-27 02:02:00</td>\n",
              "      <td>100.00</td>\n",
              "      <td>failed</td>\n",
              "      <td>1</td>\n",
              "      <td>US</td>\n",
              "      <td>100.00</td>\n",
              "      <td>100.00</td>\n",
              "      <td>100000.00</td>\n",
              "      <td>19a82bc4c5961834282575d07d9b5f7c</td>\n",
              "    </tr>\n",
              "    <tr>\n",
              "      <th>...</th>\n",
              "      <td>...</td>\n",
              "      <td>...</td>\n",
              "      <td>...</td>\n",
              "      <td>...</td>\n",
              "      <td>...</td>\n",
              "      <td>...</td>\n",
              "      <td>...</td>\n",
              "      <td>...</td>\n",
              "      <td>...</td>\n",
              "      <td>...</td>\n",
              "      <td>...</td>\n",
              "      <td>...</td>\n",
              "      <td>...</td>\n",
              "      <td>...</td>\n",
              "      <td>...</td>\n",
              "    </tr>\n",
              "    <tr>\n",
              "      <th>329580179</th>\n",
              "      <td>xxx (Canceled)</td>\n",
              "      <td>Art</td>\n",
              "      <td>Art</td>\n",
              "      <td>USD</td>\n",
              "      <td>2011-09-03</td>\n",
              "      <td>10000.00</td>\n",
              "      <td>2011-06-05 04:54:37</td>\n",
              "      <td>1151.00</td>\n",
              "      <td>canceled</td>\n",
              "      <td>18</td>\n",
              "      <td>US</td>\n",
              "      <td>1151.00</td>\n",
              "      <td>1151.00</td>\n",
              "      <td>10000.00</td>\n",
              "      <td>930857c212f21166427b23d4a7fe52a3</td>\n",
              "    </tr>\n",
              "    <tr>\n",
              "      <th>1848699072</th>\n",
              "      <td>NaN</td>\n",
              "      <td>Narrative Film</td>\n",
              "      <td>Film &amp; Video</td>\n",
              "      <td>USD</td>\n",
              "      <td>2012-02-29</td>\n",
              "      <td>200000.00</td>\n",
              "      <td>2012-01-01 12:35:31</td>\n",
              "      <td>100.00</td>\n",
              "      <td>failed</td>\n",
              "      <td>1</td>\n",
              "      <td>US</td>\n",
              "      <td>100.00</td>\n",
              "      <td>100.00</td>\n",
              "      <td>200000.00</td>\n",
              "      <td>nan</td>\n",
              "    </tr>\n",
              "    <tr>\n",
              "      <th>634871725</th>\n",
              "      <td>NaN</td>\n",
              "      <td>Video Games</td>\n",
              "      <td>Games</td>\n",
              "      <td>GBP</td>\n",
              "      <td>2013-01-06</td>\n",
              "      <td>2000.00</td>\n",
              "      <td>2012-12-19 23:57:48</td>\n",
              "      <td>196.00</td>\n",
              "      <td>failed</td>\n",
              "      <td>12</td>\n",
              "      <td>GB</td>\n",
              "      <td>317.73</td>\n",
              "      <td>316.05</td>\n",
              "      <td>3224.97</td>\n",
              "      <td>nan</td>\n",
              "    </tr>\n",
              "    <tr>\n",
              "      <th>648853978</th>\n",
              "      <td>NaN</td>\n",
              "      <td>Product Design</td>\n",
              "      <td>Design</td>\n",
              "      <td>USD</td>\n",
              "      <td>2016-07-18</td>\n",
              "      <td>2500.00</td>\n",
              "      <td>2016-06-18 05:01:47</td>\n",
              "      <td>0.00</td>\n",
              "      <td>suspended</td>\n",
              "      <td>0</td>\n",
              "      <td>US</td>\n",
              "      <td>0.00</td>\n",
              "      <td>0.00</td>\n",
              "      <td>2500.00</td>\n",
              "      <td>nan</td>\n",
              "    </tr>\n",
              "    <tr>\n",
              "      <th>796533179</th>\n",
              "      <td>NaN</td>\n",
              "      <td>Painting</td>\n",
              "      <td>Art</td>\n",
              "      <td>USD</td>\n",
              "      <td>2011-12-05</td>\n",
              "      <td>35000.00</td>\n",
              "      <td>2011-11-06 23:55:55</td>\n",
              "      <td>220.00</td>\n",
              "      <td>failed</td>\n",
              "      <td>5</td>\n",
              "      <td>US</td>\n",
              "      <td>220.00</td>\n",
              "      <td>220.00</td>\n",
              "      <td>35000.00</td>\n",
              "      <td>nan</td>\n",
              "    </tr>\n",
              "  </tbody>\n",
              "</table>\n",
              "<p>5125 rows × 15 columns</p>\n",
              "</div>"
            ],
            "text/plain": [
              "                                                       name_x  ...                            name_y\n",
              "ID                                                             ...                                  \n",
              "816998285   \"...The Last shall be first...\" LODB Lifestyle...  ...  0c7a251ffe4c7834cbc4b04906952ff1\n",
              "815783250   \"...The Last shall be first...\" LODB Lifestyle...  ...  0c7a251ffe4c7834cbc4b04906952ff1\n",
              "1010584633                                    \"A Fresh Start\"  ...  67554ab4203d95f2f2f05365f768206e\n",
              "713417995                                     \"A Fresh Start\"  ...  67554ab4203d95f2f2f05365f768206e\n",
              "1880084695      \"American Sports Stories\" - An Athletic Quest  ...  19a82bc4c5961834282575d07d9b5f7c\n",
              "...                                                       ...  ...                               ...\n",
              "329580179                                      xxx (Canceled)  ...  930857c212f21166427b23d4a7fe52a3\n",
              "1848699072                                                NaN  ...                               nan\n",
              "634871725                                                 NaN  ...                               nan\n",
              "648853978                                                 NaN  ...                               nan\n",
              "796533179                                                 NaN  ...                               nan\n",
              "\n",
              "[5125 rows x 15 columns]"
            ]
          },
          "metadata": {
            "tags": []
          },
          "execution_count": 31
        }
      ]
    },
    {
      "cell_type": "markdown",
      "metadata": {
        "colab_type": "text",
        "id": "XGk94uFaYSvI"
      },
      "source": [
        "# 1.4. Nunca modificar los datos crudos u originales\n"
      ]
    },
    {
      "cell_type": "code",
      "metadata": {
        "colab_type": "code",
        "id": "ZicBTqBaYSvJ",
        "colab": {}
      },
      "source": [
        "if not in_colab:\n",
        "  kickstarter_2018.to_csv(BASE_DIR + \"/output/ks-projects-201801-for-pandas.csv\")"
      ],
      "execution_count": 32,
      "outputs": []
    },
    {
      "cell_type": "markdown",
      "metadata": {
        "colab_type": "text",
        "id": "XzR8-UpTIS8S"
      },
      "source": [
        "\n",
        "# 2. Pasos necesarios\n"
      ]
    },
    {
      "cell_type": "code",
      "metadata": {
        "colab_type": "code",
        "id": "jY_rB6dIIXTS",
        "colab": {}
      },
      "source": [
        "#import pandas as pd\n",
        "if not in_colab:\n",
        "  kickstarter_2018 = pd.read_csv(BASE_DIR + \"/output/ks-projects-201801-for-pandas.csv\",\n",
        "                        index_col='ID',\n",
        "                        parse_dates=['deadline','launched'])"
      ],
      "execution_count": 33,
      "outputs": []
    },
    {
      "cell_type": "code",
      "metadata": {
        "colab_type": "code",
        "id": "dXFOyYeiIXTV",
        "colab": {
          "base_uri": "https://localhost:8080/",
          "height": 572
        },
        "outputId": "9e4a0b64-b397-473a-a24e-aff848a21bb0"
      },
      "source": [
        "kickstarter_2018.describe(include='all')"
      ],
      "execution_count": 34,
      "outputs": [
        {
          "output_type": "execute_result",
          "data": {
            "text/html": [
              "<div>\n",
              "<style scoped>\n",
              "    .dataframe tbody tr th:only-of-type {\n",
              "        vertical-align: middle;\n",
              "    }\n",
              "\n",
              "    .dataframe tbody tr th {\n",
              "        vertical-align: top;\n",
              "    }\n",
              "\n",
              "    .dataframe thead th {\n",
              "        text-align: right;\n",
              "    }\n",
              "</style>\n",
              "<table border=\"1\" class=\"dataframe\">\n",
              "  <thead>\n",
              "    <tr style=\"text-align: right;\">\n",
              "      <th></th>\n",
              "      <th>name</th>\n",
              "      <th>category</th>\n",
              "      <th>main_category</th>\n",
              "      <th>currency</th>\n",
              "      <th>deadline</th>\n",
              "      <th>goal</th>\n",
              "      <th>launched</th>\n",
              "      <th>pledged</th>\n",
              "      <th>state</th>\n",
              "      <th>backers</th>\n",
              "      <th>country</th>\n",
              "      <th>usd pledged</th>\n",
              "      <th>usd_pledged_real</th>\n",
              "      <th>usd_goal_real</th>\n",
              "    </tr>\n",
              "  </thead>\n",
              "  <tbody>\n",
              "    <tr>\n",
              "      <th>count</th>\n",
              "      <td>378657</td>\n",
              "      <td>378661</td>\n",
              "      <td>378661</td>\n",
              "      <td>378661</td>\n",
              "      <td>378661</td>\n",
              "      <td>378661.00</td>\n",
              "      <td>378661</td>\n",
              "      <td>378661.00</td>\n",
              "      <td>378661</td>\n",
              "      <td>378661.00</td>\n",
              "      <td>378661</td>\n",
              "      <td>374864.00</td>\n",
              "      <td>378661.00</td>\n",
              "      <td>378661.00</td>\n",
              "    </tr>\n",
              "    <tr>\n",
              "      <th>unique</th>\n",
              "      <td>375764</td>\n",
              "      <td>159</td>\n",
              "      <td>15</td>\n",
              "      <td>14</td>\n",
              "      <td>3164</td>\n",
              "      <td>nan</td>\n",
              "      <td>378089</td>\n",
              "      <td>nan</td>\n",
              "      <td>6</td>\n",
              "      <td>nan</td>\n",
              "      <td>23</td>\n",
              "      <td>nan</td>\n",
              "      <td>nan</td>\n",
              "      <td>nan</td>\n",
              "    </tr>\n",
              "    <tr>\n",
              "      <th>top</th>\n",
              "      <td>New EP/Music Development</td>\n",
              "      <td>Product Design</td>\n",
              "      <td>Film &amp; Video</td>\n",
              "      <td>USD</td>\n",
              "      <td>2014-08-08 00:00:00</td>\n",
              "      <td>nan</td>\n",
              "      <td>1970-01-01 01:00:00</td>\n",
              "      <td>nan</td>\n",
              "      <td>failed</td>\n",
              "      <td>nan</td>\n",
              "      <td>US</td>\n",
              "      <td>nan</td>\n",
              "      <td>nan</td>\n",
              "      <td>nan</td>\n",
              "    </tr>\n",
              "    <tr>\n",
              "      <th>freq</th>\n",
              "      <td>41</td>\n",
              "      <td>22314</td>\n",
              "      <td>63585</td>\n",
              "      <td>295365</td>\n",
              "      <td>705</td>\n",
              "      <td>nan</td>\n",
              "      <td>7</td>\n",
              "      <td>nan</td>\n",
              "      <td>197719</td>\n",
              "      <td>nan</td>\n",
              "      <td>292627</td>\n",
              "      <td>nan</td>\n",
              "      <td>nan</td>\n",
              "      <td>nan</td>\n",
              "    </tr>\n",
              "    <tr>\n",
              "      <th>first</th>\n",
              "      <td>NaN</td>\n",
              "      <td>NaN</td>\n",
              "      <td>NaN</td>\n",
              "      <td>NaN</td>\n",
              "      <td>2009-05-03 00:00:00</td>\n",
              "      <td>nan</td>\n",
              "      <td>1970-01-01 01:00:00</td>\n",
              "      <td>nan</td>\n",
              "      <td>NaN</td>\n",
              "      <td>nan</td>\n",
              "      <td>NaN</td>\n",
              "      <td>nan</td>\n",
              "      <td>nan</td>\n",
              "      <td>nan</td>\n",
              "    </tr>\n",
              "    <tr>\n",
              "      <th>last</th>\n",
              "      <td>NaN</td>\n",
              "      <td>NaN</td>\n",
              "      <td>NaN</td>\n",
              "      <td>NaN</td>\n",
              "      <td>2018-03-03 00:00:00</td>\n",
              "      <td>nan</td>\n",
              "      <td>2018-01-02 15:02:31</td>\n",
              "      <td>nan</td>\n",
              "      <td>NaN</td>\n",
              "      <td>nan</td>\n",
              "      <td>NaN</td>\n",
              "      <td>nan</td>\n",
              "      <td>nan</td>\n",
              "      <td>nan</td>\n",
              "    </tr>\n",
              "    <tr>\n",
              "      <th>mean</th>\n",
              "      <td>NaN</td>\n",
              "      <td>NaN</td>\n",
              "      <td>NaN</td>\n",
              "      <td>NaN</td>\n",
              "      <td>NaN</td>\n",
              "      <td>49080.79</td>\n",
              "      <td>NaN</td>\n",
              "      <td>9682.98</td>\n",
              "      <td>NaN</td>\n",
              "      <td>105.62</td>\n",
              "      <td>NaN</td>\n",
              "      <td>7036.73</td>\n",
              "      <td>9058.92</td>\n",
              "      <td>45454.40</td>\n",
              "    </tr>\n",
              "    <tr>\n",
              "      <th>std</th>\n",
              "      <td>NaN</td>\n",
              "      <td>NaN</td>\n",
              "      <td>NaN</td>\n",
              "      <td>NaN</td>\n",
              "      <td>NaN</td>\n",
              "      <td>1183391.26</td>\n",
              "      <td>NaN</td>\n",
              "      <td>95636.01</td>\n",
              "      <td>NaN</td>\n",
              "      <td>907.19</td>\n",
              "      <td>NaN</td>\n",
              "      <td>78639.75</td>\n",
              "      <td>90973.34</td>\n",
              "      <td>1152950.06</td>\n",
              "    </tr>\n",
              "    <tr>\n",
              "      <th>min</th>\n",
              "      <td>NaN</td>\n",
              "      <td>NaN</td>\n",
              "      <td>NaN</td>\n",
              "      <td>NaN</td>\n",
              "      <td>NaN</td>\n",
              "      <td>0.01</td>\n",
              "      <td>NaN</td>\n",
              "      <td>0.00</td>\n",
              "      <td>NaN</td>\n",
              "      <td>0.00</td>\n",
              "      <td>NaN</td>\n",
              "      <td>0.00</td>\n",
              "      <td>0.00</td>\n",
              "      <td>0.01</td>\n",
              "    </tr>\n",
              "    <tr>\n",
              "      <th>25%</th>\n",
              "      <td>NaN</td>\n",
              "      <td>NaN</td>\n",
              "      <td>NaN</td>\n",
              "      <td>NaN</td>\n",
              "      <td>NaN</td>\n",
              "      <td>2000.00</td>\n",
              "      <td>NaN</td>\n",
              "      <td>30.00</td>\n",
              "      <td>NaN</td>\n",
              "      <td>2.00</td>\n",
              "      <td>NaN</td>\n",
              "      <td>16.98</td>\n",
              "      <td>31.00</td>\n",
              "      <td>2000.00</td>\n",
              "    </tr>\n",
              "    <tr>\n",
              "      <th>50%</th>\n",
              "      <td>NaN</td>\n",
              "      <td>NaN</td>\n",
              "      <td>NaN</td>\n",
              "      <td>NaN</td>\n",
              "      <td>NaN</td>\n",
              "      <td>5200.00</td>\n",
              "      <td>NaN</td>\n",
              "      <td>620.00</td>\n",
              "      <td>NaN</td>\n",
              "      <td>12.00</td>\n",
              "      <td>NaN</td>\n",
              "      <td>394.72</td>\n",
              "      <td>624.33</td>\n",
              "      <td>5500.00</td>\n",
              "    </tr>\n",
              "    <tr>\n",
              "      <th>75%</th>\n",
              "      <td>NaN</td>\n",
              "      <td>NaN</td>\n",
              "      <td>NaN</td>\n",
              "      <td>NaN</td>\n",
              "      <td>NaN</td>\n",
              "      <td>16000.00</td>\n",
              "      <td>NaN</td>\n",
              "      <td>4076.00</td>\n",
              "      <td>NaN</td>\n",
              "      <td>56.00</td>\n",
              "      <td>NaN</td>\n",
              "      <td>3034.09</td>\n",
              "      <td>4050.00</td>\n",
              "      <td>15500.00</td>\n",
              "    </tr>\n",
              "    <tr>\n",
              "      <th>max</th>\n",
              "      <td>NaN</td>\n",
              "      <td>NaN</td>\n",
              "      <td>NaN</td>\n",
              "      <td>NaN</td>\n",
              "      <td>NaN</td>\n",
              "      <td>100000000.00</td>\n",
              "      <td>NaN</td>\n",
              "      <td>20338986.27</td>\n",
              "      <td>NaN</td>\n",
              "      <td>219382.00</td>\n",
              "      <td>NaN</td>\n",
              "      <td>20338986.27</td>\n",
              "      <td>20338986.27</td>\n",
              "      <td>166361390.71</td>\n",
              "    </tr>\n",
              "  </tbody>\n",
              "</table>\n",
              "</div>"
            ],
            "text/plain": [
              "                            name  ... usd_goal_real\n",
              "count                     378657  ...     378661.00\n",
              "unique                    375764  ...           nan\n",
              "top     New EP/Music Development  ...           nan\n",
              "freq                          41  ...           nan\n",
              "first                        NaN  ...           nan\n",
              "last                         NaN  ...           nan\n",
              "mean                         NaN  ...      45454.40\n",
              "std                          NaN  ...    1152950.06\n",
              "min                          NaN  ...          0.01\n",
              "25%                          NaN  ...       2000.00\n",
              "50%                          NaN  ...       5500.00\n",
              "75%                          NaN  ...      15500.00\n",
              "max                          NaN  ...  166361390.71\n",
              "\n",
              "[13 rows x 14 columns]"
            ]
          },
          "metadata": {
            "tags": []
          },
          "execution_count": 34
        }
      ]
    },
    {
      "cell_type": "markdown",
      "metadata": {
        "colab_type": "text",
        "id": "OUA2hGvQIXTX"
      },
      "source": [
        "## 2.1. Etiquetas de variables/columnas: **no usar caracteres especiales**\n",
        "\n"
      ]
    },
    {
      "cell_type": "code",
      "metadata": {
        "colab_type": "code",
        "id": "BkdI2pVDIXTX",
        "colab": {}
      },
      "source": [
        "# helpful character encoding module\n",
        "import chardet"
      ],
      "execution_count": 35,
      "outputs": []
    },
    {
      "cell_type": "markdown",
      "metadata": {
        "colab_type": "text",
        "id": "lfyjvGsmIXTZ"
      },
      "source": [
        "¿Por qué? Por que aun hay limitaciones para trabajar con estos caracteres.\n",
        "\n",
        "¿Cúales son los caracteres \"normales\"? "
      ]
    },
    {
      "cell_type": "code",
      "metadata": {
        "colab_type": "code",
        "id": "fTc3NFPpIXTZ",
        "colab": {
          "base_uri": "https://localhost:8080/",
          "height": 35
        },
        "outputId": "fa1e7d33-61ff-415e-8936-885abb79a17a"
      },
      "source": [
        "import string\n",
        "\n",
        "string.ascii_letters + string.digits"
      ],
      "execution_count": 36,
      "outputs": [
        {
          "output_type": "execute_result",
          "data": {
            "application/vnd.google.colaboratory.intrinsic+json": {
              "type": "string"
            },
            "text/plain": [
              "'abcdefghijklmnopqrstuvwxyzABCDEFGHIJKLMNOPQRSTUVWXYZ0123456789'"
            ]
          },
          "metadata": {
            "tags": []
          },
          "execution_count": 36
        }
      ]
    },
    {
      "cell_type": "markdown",
      "metadata": {
        "colab_type": "text",
        "id": "tWbcEuejIXTb"
      },
      "source": [
        "¿Qué es ASCII? Es una de las primeras codificaciones (o encoding) disponibles. Ver https://en.wikipedia.org/wiki/ASCII\n",
        "\n",
        "Un encoding es un mapa de caracteres a una representación en bits (por ejemplo 1000001). ASCII es uno de los primeros estandares para interoperatividad entre computadoras (antes cada fabricante de computadora usa su propia codificación), contempla sólo los caracteres ingleses y usa 7 bits, por ejemplo *1000001* codifica el caracter *A*\n",
        "\n",
        "Cómo sólo representaban los caracteres ingleses, empiezan a aparecer variantes para distintos idiomas, Microsoft hizo los propios para internacionalizar Windows, hubo otro estandar ISO 8859, hasta que llegó el éstandar Unicode que hizo múltiples encodings pero cada uno contempla múltiples idiomas e incluso es extensible a futuro. UTF-8 es de esos encodings el más utilizado. Ver https://en.wikipedia.org/wiki/Unicode\n",
        "\n",
        "**En particular, Python 3 utiliza UTF-8 por defecto (lo que no sucedía en Python 2).**\n",
        "\n",
        "Veamos un ejemplo práctico"
      ]
    },
    {
      "cell_type": "code",
      "metadata": {
        "colab_type": "code",
        "id": "uiUtEXG1IXTb",
        "colab": {
          "base_uri": "https://localhost:8080/",
          "height": 33
        },
        "outputId": "e414610e-a70f-4eb6-e2cd-c7c9ba2d9774"
      },
      "source": [
        "# start with a string\n",
        "before = \"This is the euro symbol: €\"\n",
        "\n",
        "# check to see what datatype it is\n",
        "type(before)"
      ],
      "execution_count": 37,
      "outputs": [
        {
          "output_type": "execute_result",
          "data": {
            "text/plain": [
              "str"
            ]
          },
          "metadata": {
            "tags": []
          },
          "execution_count": 37
        }
      ]
    },
    {
      "cell_type": "code",
      "metadata": {
        "colab_type": "code",
        "id": "ISgFFMiiIXTc",
        "colab": {
          "base_uri": "https://localhost:8080/",
          "height": 33
        },
        "outputId": "6458cd14-fab5-40cb-d18a-356f5d311a78"
      },
      "source": [
        "# encode it to a different encoding, replacing characters that raise errors\n",
        "after = before.encode(\"utf-8\", errors = \"replace\")\n",
        "\n",
        "# check the type\n",
        "type(after)"
      ],
      "execution_count": 38,
      "outputs": [
        {
          "output_type": "execute_result",
          "data": {
            "text/plain": [
              "bytes"
            ]
          },
          "metadata": {
            "tags": []
          },
          "execution_count": 38
        }
      ]
    },
    {
      "cell_type": "code",
      "metadata": {
        "colab_type": "code",
        "id": "psYCTaZCIXTe",
        "colab": {
          "base_uri": "https://localhost:8080/",
          "height": 33
        },
        "outputId": "adcd91b4-1f01-4e3c-8d59-40de628a37b8"
      },
      "source": [
        "# take a look at what the bytes look like\n",
        "after"
      ],
      "execution_count": 39,
      "outputs": [
        {
          "output_type": "execute_result",
          "data": {
            "text/plain": [
              "b'This is the euro symbol: \\xe2\\x82\\xac'"
            ]
          },
          "metadata": {
            "tags": []
          },
          "execution_count": 39
        }
      ]
    },
    {
      "cell_type": "code",
      "metadata": {
        "colab_type": "code",
        "id": "fkbXONwzIXTf",
        "colab": {
          "base_uri": "https://localhost:8080/",
          "height": 33
        },
        "outputId": "1f18e183-9733-4eef-91f5-f975c35f4ccf"
      },
      "source": [
        "# convert it back to utf-8\n",
        "print(after.decode(\"utf-8\"))"
      ],
      "execution_count": 40,
      "outputs": [
        {
          "output_type": "stream",
          "text": [
            "This is the euro symbol: €\n"
          ],
          "name": "stdout"
        }
      ]
    },
    {
      "cell_type": "code",
      "metadata": {
        "colab_type": "code",
        "id": "3RRKGvArIXTk",
        "colab": {}
      },
      "source": [
        "# start with a string\n",
        "before = \"This is the euro symbol: €\"\n",
        "\n",
        "# encode it to a different encoding, replacing characters that raise errors\n",
        "after = before.encode(\"ascii\", errors = \"replace\")\n",
        "\n",
        "# convert it back to utf-8\n",
        "print(after.decode(\"ascii\"))\n",
        "\n",
        "# We've lost the original underlying byte string! It's been \n",
        "# replaced with the underlying byte string for the unknown character :("
      ],
      "execution_count": null,
      "outputs": []
    },
    {
      "cell_type": "code",
      "metadata": {
        "colab_type": "code",
        "id": "vmfM_HNWIXTn",
        "colab": {}
      },
      "source": [
        "kickstarter_2016 = pd.read_csv(BASE_DIR + \"/input/kickstarter-projects/ks-projects-201612.csv\")"
      ],
      "execution_count": null,
      "outputs": []
    },
    {
      "cell_type": "markdown",
      "metadata": {
        "colab_type": "text",
        "id": "PP9Xzf3qIXTt"
      },
      "source": [
        "El error `UnicodeDecodeError` nos indica que el archivo no estaría en Unicode. Si no está en algún metadato o no fue indicado es dificil detectar el encoding, por suerte hay un paquete para esto en Python, que aplica unas heurísticas para detectar encoding."
      ]
    },
    {
      "cell_type": "code",
      "metadata": {
        "colab_type": "code",
        "id": "KVSigmfDIXTv",
        "colab": {}
      },
      "source": [
        "# In Colab we need to download data locally\n",
        "if in_colab:\n",
        "  !wget -c $BASE_DIR/input/kickstarter-projects/ks-projects-201612.csv\n",
        "  DOWN_DIR = \"./\"\n",
        "else:\n",
        "  DOWN_DIR = BASE_DIR + \"/input/kickstarter-projects/\"\n",
        "  \n",
        "# look at the first ten thousand bytes to guess the character encoding\n",
        "with open(DOWN_DIR + \"/ks-projects-201612.csv\", 'rb') as rawdata:\n",
        "    result = chardet.detect(rawdata.read(10000))\n",
        "\n",
        "# check what the character encoding might be\n",
        "result"
      ],
      "execution_count": null,
      "outputs": []
    },
    {
      "cell_type": "markdown",
      "metadata": {
        "colab_type": "text",
        "id": "BRvRjn15IXTy"
      },
      "source": [
        "Entonces le podemos indicar el encoding al leer el archivos"
      ]
    },
    {
      "cell_type": "code",
      "metadata": {
        "colab_type": "code",
        "id": "HpHQldSDIXTz",
        "colab": {}
      },
      "source": [
        "# read in the file with the encoding detected by chardet\n",
        "kickstarter_2016 = pd.read_csv(BASE_DIR + \"/input/kickstarter-projects/ks-projects-201612.csv\", encoding='Windows-1252')\n",
        "\n",
        "# look at the first few lines\n",
        "kickstarter_2016.head()"
      ],
      "execution_count": null,
      "outputs": []
    },
    {
      "cell_type": "markdown",
      "metadata": {
        "colab_type": "text",
        "id": "EaBiRboHIXT6"
      },
      "source": [
        "Hay otro problema con los caracteres que es más sutíl: **[Mojibake](https://en.wikipedia.org/wiki/Mojibake)**\n",
        "\n",
        "Sucede al leer UTF-8 como ASCII extendido (ie. `Windows-*`, `iso-8859-*` entre otros)\n",
        "\n",
        "Ejemplo de mojibake:"
      ]
    },
    {
      "cell_type": "code",
      "metadata": {
        "colab_type": "code",
        "id": "5dFhIonJIXT6",
        "colab": {}
      },
      "source": [
        "\"cigüeña\".encode('utf-8').decode('iso-8859-1')"
      ],
      "execution_count": null,
      "outputs": []
    },
    {
      "cell_type": "markdown",
      "metadata": {
        "colab_type": "text",
        "id": "GYrNcEWGIXT8"
      },
      "source": [
        "Para esto vamos a usar un módulo específico [ftfy](https://ftfy.readthedocs.io/en/latest/). \n",
        "\n",
        "Que nos permite ordenar cadenas por rareza"
      ]
    },
    {
      "cell_type": "code",
      "metadata": {
        "colab_type": "code",
        "id": "iKpvvruQIXT8",
        "colab": {}
      },
      "source": [
        "import ftfy.badness as bad"
      ],
      "execution_count": null,
      "outputs": []
    },
    {
      "cell_type": "code",
      "metadata": {
        "colab_type": "code",
        "id": "qRTGjyZ-IXT-",
        "colab": {}
      },
      "source": [
        "def weird(val):\n",
        "    if isinstance(val, float): \n",
        "        return 0\n",
        "    return bad.sequence_weirdness(val)\n",
        "\n",
        "\n",
        "kickstarter_2018['name_weirdness'] = kickstarter_2018['name'].apply(weird)\n",
        "kickstarter_2018[kickstarter_2018['name_weirdness'] > 1]"
      ],
      "execution_count": null,
      "outputs": []
    },
    {
      "cell_type": "markdown",
      "metadata": {
        "colab_type": "text",
        "id": "IWvV8C1LIXUA"
      },
      "source": [
        "Volviendo a la consigna original, chequeamos que no haya caracteres fuera de a-Z, 0-9 y _ en los nombres de columnas"
      ]
    },
    {
      "cell_type": "code",
      "metadata": {
        "colab_type": "code",
        "id": "dll59dNxIXUA",
        "colab": {}
      },
      "source": [
        "kickstarter_2018.columns[~kickstarter_2018.columns.str.match(r'^(\\w+)$')]"
      ],
      "execution_count": null,
      "outputs": []
    },
    {
      "cell_type": "code",
      "metadata": {
        "colab_type": "code",
        "id": "QvhxXo1xIXUE",
        "colab": {}
      },
      "source": [
        "kickstarter_2018.usd_pledged.head()  # da error porque hay un espacio en el nombre de la columna"
      ],
      "execution_count": null,
      "outputs": []
    },
    {
      "cell_type": "code",
      "metadata": {
        "colab_type": "code",
        "id": "qq6sydy8IXUG",
        "scrolled": true,
        "colab": {}
      },
      "source": [
        "kickstarter_2018.columns = kickstarter_2018.columns.str.replace(' ', '_')  # reemplazo el espacio con un guión en la columna usd_pleged\n",
        "kickstarter_2018.head()"
      ],
      "execution_count": null,
      "outputs": []
    },
    {
      "cell_type": "code",
      "metadata": {
        "colab_type": "code",
        "id": "O92pigy9IXUH",
        "colab": {}
      },
      "source": [
        "kickstarter_2018.usd_pledged.head()"
      ],
      "execution_count": null,
      "outputs": []
    },
    {
      "cell_type": "markdown",
      "metadata": {
        "id": "yLaSE9SXbCOS",
        "colab_type": "text"
      },
      "source": [
        "# **Ejercicio 3 para entrega final**\n",
        "\n",
        "Comparar la cantidad de nombres raros en kickstarter_2018 con la que obtenemos al cargar 'ks-projects-201801.csv' con encoding iso-8859-1.\n",
        "\n",
        "* Leer archivo 'ks-projects-201801.csv' con encoding iso-8859-1\n",
        "* verificar los nombres raros en la columna nombre"
      ]
    },
    {
      "cell_type": "code",
      "metadata": {
        "id": "BsWDpPEAxJBl",
        "colab_type": "code",
        "colab": {}
      },
      "source": [
        "# resolución del ejercicio 1 de la clase 3 del clase 03/07/2020\n",
        "# read in the file with the encoding detected by chardet\n",
        "kickstarter_ejercicio3 = pd.read_csv(BASE_DIR + \"/input/kickstarter-projects/ks-projects-201801.csv\", encoding='iso-8859-1')\n",
        "\n",
        "# look at the first few lines\n",
        "kickstarter_ejercicio3.head()\n"
      ],
      "execution_count": null,
      "outputs": []
    },
    {
      "cell_type": "code",
      "metadata": {
        "id": "ozDlYKYM0biw",
        "colab_type": "code",
        "colab": {}
      },
      "source": [
        "import ftfy.badness as bad"
      ],
      "execution_count": null,
      "outputs": []
    },
    {
      "cell_type": "code",
      "metadata": {
        "id": "7PhujSjkxiVW",
        "colab_type": "code",
        "colab": {}
      },
      "source": [
        "\n",
        "# resolución del ejercicio 1 de la clase 3\n",
        "def weird(val):\n",
        "    if isinstance(val, float): \n",
        "        return 0\n",
        "    return bad.sequence_weirdness(val)\n",
        "\n",
        "# verifico los caracteres extraños o raros\n",
        "kickstarter_ejercicio3['name_weirdness'] = kickstarter_ejercicio3['name'].apply(weird)\n",
        "kickstarter_ejercicio3[kickstarter_ejercicio3['name_weirdness'] > 1]"
      ],
      "execution_count": null,
      "outputs": []
    },
    {
      "cell_type": "markdown",
      "metadata": {
        "id": "nEG40MGk159m",
        "colab_type": "text"
      },
      "source": [
        "En la columna 'name' del dataframe kickstarter_ejercicio3 se observan varios caracteres extraños. Ejemplo: 'OperaciÃ³n Douve'"
      ]
    },
    {
      "cell_type": "markdown",
      "metadata": {
        "colab_type": "text",
        "id": "ahRhnkZ7IXUI"
      },
      "source": [
        "## 2.2. Tratar valores faltantes\n",
        "\n",
        "Veamos cuantos **valores nulos** tenemos"
      ]
    },
    {
      "cell_type": "code",
      "metadata": {
        "colab_type": "code",
        "id": "UkbDCMZtIXUJ",
        "scrolled": true,
        "colab": {}
      },
      "source": [
        "# get the number of missing data points per column\n",
        "missing_values_count = kickstarter_2018.isnull().sum()\n",
        "\n",
        "# look at the # of missing points in the first ten columns\n",
        "missing_values_count[missing_values_count > 0]"
      ],
      "execution_count": null,
      "outputs": []
    },
    {
      "cell_type": "markdown",
      "metadata": {
        "id": "dhK0Xomm2wML",
        "colab_type": "text"
      },
      "source": [
        "en la columna 'name' hay 4 nulos y en la columna usd_pledged hay 3.797  datos nulos.\n",
        "\n",
        "Se debería analizar cuál es el porcentaje que representan los valores nulos del total del dataset"
      ]
    },
    {
      "cell_type": "markdown",
      "metadata": {
        "id": "wzP4Ckc_bCOU",
        "colab_type": "text"
      },
      "source": [
        "Esta medida en sí, no dice nada más que con cuantos valores debemos lidiar. \n",
        "\n",
        "Primero tenemos que ver si **en términos relativos su impacto.**"
      ]
    },
    {
      "cell_type": "code",
      "metadata": {
        "colab_type": "code",
        "id": "1WC9vl6mIXUK",
        "colab": {}
      },
      "source": [
        "len(kickstarter_2018.dropna())/len(kickstarter_2018)  # para todo el dataset"
      ],
      "execution_count": null,
      "outputs": []
    },
    {
      "cell_type": "code",
      "metadata": {
        "colab_type": "code",
        "id": "eqv839nVIXUN",
        "colab": {}
      },
      "source": [
        "len(kickstarter_2018.dropna(subset=['name']))/len(kickstarter_2018)  #verificamos sólo en la columna 'name'"
      ],
      "execution_count": null,
      "outputs": []
    },
    {
      "cell_type": "markdown",
      "metadata": {
        "id": "bLXYgaLgbCOY",
        "colab_type": "text"
      },
      "source": [
        "También debemos ver que significan en **términos de representatividad e importancia de nuestro análisis.**"
      ]
    },
    {
      "cell_type": "code",
      "metadata": {
        "colab_type": "code",
        "id": "2Aa4DZm1IXUO",
        "colab": {}
      },
      "source": [
        "kickstarter_2018[kickstarter_2018.name.isnull()]"
      ],
      "execution_count": null,
      "outputs": []
    },
    {
      "cell_type": "markdown",
      "metadata": {
        "id": "0igrnKcybCOZ",
        "colab_type": "text"
      },
      "source": [
        "Ejemplo, cuántos de los proyectos suspendidos no tienen nombre"
      ]
    },
    {
      "cell_type": "code",
      "metadata": {
        "id": "eZXppbDobCOZ",
        "colab_type": "code",
        "colab": {}
      },
      "source": [
        "len(kickstarter_2018[kickstarter_2018.state == 'suspended'].dropna(subset=['name'])) / \\\n",
        "    len(kickstarter_2018[kickstarter_2018.state == 'suspended'])"
      ],
      "execution_count": null,
      "outputs": []
    },
    {
      "cell_type": "markdown",
      "metadata": {
        "id": "BXEbZ1WkbCOb",
        "colab_type": "text"
      },
      "source": [
        "En este caso, creemos que es seguro descartar los proyectos sin nombre"
      ]
    },
    {
      "cell_type": "code",
      "metadata": {
        "colab_type": "code",
        "id": "7ig47EETIXUP",
        "colab": {}
      },
      "source": [
        "kickstarter_2018 = kickstarter_2018.dropna(subset=['name'])  # eliminamos los archivos con nombre nulo"
      ],
      "execution_count": null,
      "outputs": []
    },
    {
      "cell_type": "code",
      "metadata": {
        "colab_type": "code",
        "id": "_mguXGJ7IXUQ",
        "colab": {}
      },
      "source": [
        "# volvemos a calcular los valores perdidos\n",
        "missing_values_count = kickstarter_2018.isnull().sum()\n",
        "missing_values_count[missing_values_count > 0]"
      ],
      "execution_count": null,
      "outputs": []
    },
    {
      "cell_type": "markdown",
      "metadata": {
        "id": "GqHnWQNR4raR",
        "colab_type": "text"
      },
      "source": [
        "Al haber eliminado las filas con nombre nulo, ahora aparecen solo los datos nulos de usd_pledged"
      ]
    },
    {
      "cell_type": "code",
      "metadata": {
        "colab_type": "code",
        "id": "Xi85q0ytIXUR",
        "scrolled": true,
        "colab": {}
      },
      "source": [
        "kickstarter_2018[kickstarter_2018.usd_pledged.isnull()]"
      ],
      "execution_count": null,
      "outputs": []
    },
    {
      "cell_type": "code",
      "metadata": {
        "colab_type": "code",
        "id": "hIHOdVWuIXUU",
        "colab": {}
      },
      "source": [
        "kickstarter_2018[kickstarter_2018.usd_pledged.isnull()].describe(include='all')"
      ],
      "execution_count": null,
      "outputs": []
    },
    {
      "cell_type": "markdown",
      "metadata": {
        "id": "6lPag8fPbCOj",
        "colab_type": "text"
      },
      "source": [
        "Interesante, todos los datos pertenecen a un país indeterminado.\n",
        "\n",
        "**Todos los datos de ese \"país\" no tienen dinero prometido?**"
      ]
    },
    {
      "cell_type": "code",
      "metadata": {
        "colab_type": "code",
        "id": "V1fJwrLFIXUW",
        "colab": {}
      },
      "source": [
        "kickstarter_2018[(kickstarter_2018.country == 'N,0\"') & ~(kickstarter_2018.usd_pledged.isnull())].head()"
      ],
      "execution_count": null,
      "outputs": []
    },
    {
      "cell_type": "markdown",
      "metadata": {
        "id": "oTeyQxBubCOm",
        "colab_type": "text"
      },
      "source": [
        "A priori como los proyectos no tienen patrocinantes, **completamos en 0 los valores**"
      ]
    },
    {
      "cell_type": "code",
      "metadata": {
        "colab_type": "code",
        "id": "GRx81S7wIXUX",
        "colab": {}
      },
      "source": [
        "kickstarter_2018 = kickstarter_2018.fillna(0)\n",
        "missing_values_count = kickstarter_2018.isnull().sum()\n",
        "missing_values_count[missing_values_count > 0]"
      ],
      "execution_count": null,
      "outputs": []
    },
    {
      "cell_type": "code",
      "metadata": {
        "id": "s83yUPF6bCOn",
        "colab_type": "code",
        "colab": {}
      },
      "source": [
        "kickstarter_2018.shape"
      ],
      "execution_count": null,
      "outputs": []
    },
    {
      "cell_type": "markdown",
      "metadata": {
        "colab_type": "text",
        "id": "kMX1NiqXIXUY"
      },
      "source": [
        "**Más métodos disponibles** en https://pandas.pydata.org/pandas-docs/stable/api.html#api-dataframe-missing y http://scikit-learn.org/stable/modules/classes.html#module-sklearn.preprocessing"
      ]
    },
    {
      "cell_type": "markdown",
      "metadata": {
        "colab_type": "text",
        "id": "wg5g7VivIXUY"
      },
      "source": [
        "## 2.3. Codificar variables\n",
        "\n",
        "Para trabajar con los algoritmos de aprendizaje automático, las variables categóricas estas deben ser codificadas como variables numéricas, no como cadenas.\n",
        "\n",
        "**Para esta tarea también hay diferentes estrategias, dos comunes son: asociar cadena a número y asociar cadena a columna.**"
      ]
    },
    {
      "cell_type": "code",
      "metadata": {
        "colab_type": "code",
        "id": "vSA_t4gkIXUY",
        "colab": {}
      },
      "source": [
        "from sklearn import preprocessing  # sklearn es un paquete para trabajar con inteligencia artificial: preprocesamiento y modelamiento."
      ],
      "execution_count": null,
      "outputs": []
    },
    {
      "cell_type": "code",
      "metadata": {
        "colab_type": "code",
        "id": "64TDAVR9IXUZ",
        "colab": {}
      },
      "source": [
        "kickstarter_2018.describe(include=['O'])"
      ],
      "execution_count": null,
      "outputs": []
    },
    {
      "cell_type": "code",
      "metadata": {
        "colab_type": "code",
        "id": "Furd8rzbIXUa",
        "colab": {}
      },
      "source": [
        "# opción 1: asociamos una cadena  a un número\n",
        "column='main_category'\n",
        "# Create a label (category) encoder object\n",
        "le = preprocessing.LabelEncoder()\n",
        "# Fit the encoder to the pandas column\n",
        "le.fit(kickstarter_2018[column])  # método fit"
      ],
      "execution_count": null,
      "outputs": []
    },
    {
      "cell_type": "code",
      "metadata": {
        "colab_type": "code",
        "id": "cit8woaJIXUb",
        "colab": {}
      },
      "source": [
        "# Conversión de clases a números\n",
        "# View encoder mapping\n",
        "dict(zip(le.classes_,le.transform(le.classes_)))   # genera un listado de clases asociados a un número   método transform"
      ],
      "execution_count": null,
      "outputs": []
    },
    {
      "cell_type": "markdown",
      "metadata": {
        "id": "qzxBbS2T9yZ7",
        "colab_type": "text"
      },
      "source": [
        "Vemos como se asocia, por ejemplo, la categoría 'Art' a '0', 'Comics' a '1' y así sucesivamente."
      ]
    },
    {
      "cell_type": "code",
      "metadata": {
        "colab_type": "code",
        "id": "ugnDG6WNIXUc",
        "colab": {}
      },
      "source": [
        "# Aplica la transformación a toda la columna main_category\n",
        "# Apply the fitted encoder to the pandas column\n",
        "kickstarter_2018[column] = le.transform(kickstarter_2018[column])  # le aplica la transformación a toda la columna\n",
        "kickstarter_2018.head()"
      ],
      "execution_count": null,
      "outputs": []
    },
    {
      "cell_type": "code",
      "metadata": {
        "colab_type": "code",
        "id": "04eBH7hoIXUd",
        "colab": {}
      },
      "source": [
        "# Inversa de la transformación\n",
        "# Reversing encoding\n",
        "kickstarter_2018[column] = le.inverse_transform(kickstarter_2018[column]) # transformación inversa de número a clases por si necesito volver a los datos originales\n",
        "kickstarter_2018.head()"
      ],
      "execution_count": null,
      "outputs": []
    },
    {
      "cell_type": "code",
      "metadata": {
        "colab_type": "code",
        "id": "CwNKqbgbIXUd",
        "colab": {}
      },
      "source": [
        "# opción 2:\n",
        "from sklearn.preprocessing import LabelBinarizer\n",
        "other_column = 'state'\n",
        "\n",
        "lb = LabelBinarizer()\n",
        "\n",
        "lb_results = lb.fit_transform(kickstarter_2018[other_column])\n",
        "#pd.DataFrame(lb_results, columns=((other_column)  + pd.Series(lb.classes_))).head(10)\n",
        "pd.DataFrame(lb_results, columns=((other_column + '_') + pd.Series(lb.classes_))).head(10)"
      ],
      "execution_count": null,
      "outputs": []
    },
    {
      "cell_type": "markdown",
      "metadata": {
        "colab_type": "text",
        "id": "8N1YbkwSIXUe"
      },
      "source": [
        "More about preprocessing in http://scikit-learn.org/stable/modules/classes.html#module-sklearn.preprocessing"
      ]
    },
    {
      "cell_type": "markdown",
      "metadata": {
        "id": "ZVyKUU8LbCPC",
        "colab_type": "text"
      },
      "source": [
        "# **Ejercicio 4 para entrega final**\n",
        "\n",
        "**Codificar `currency` con ambas estrategias**"
      ]
    },
    {
      "cell_type": "code",
      "metadata": {
        "id": "luW7uH8-6b5x",
        "colab_type": "code",
        "colab": {}
      },
      "source": [
        "from sklearn import preprocessing "
      ],
      "execution_count": null,
      "outputs": []
    },
    {
      "cell_type": "code",
      "metadata": {
        "id": "eA2Vpkfz6cgC",
        "colab_type": "code",
        "colab": {}
      },
      "source": [
        "kickstarter_2018.describe(include=['object']) # campos que sean string, es lo mismo que  kickstarter_2018.describe(include=['O'])"
      ],
      "execution_count": null,
      "outputs": []
    },
    {
      "cell_type": "markdown",
      "metadata": {
        "id": "V1-0C-SmWaJA",
        "colab_type": "text"
      },
      "source": [
        "### Opción 1: asociamos una cadena  a un número"
      ]
    },
    {
      "cell_type": "code",
      "metadata": {
        "id": "-C8u7zh86c4V",
        "colab_type": "code",
        "colab": {}
      },
      "source": [
        "# opción 1: asociamos una cadena  a un número\n",
        "column2='currency'\n",
        "print(column2)\n",
        "# Create a label (category) encoder object\n",
        "le_currency = preprocessing.LabelEncoder()\n",
        "# Fit the encoder to the pandas column\n",
        "le_currency.fit(kickstarter_2018[column2])\n"
      ],
      "execution_count": null,
      "outputs": []
    },
    {
      "cell_type": "code",
      "metadata": {
        "id": "6T5acJZO8btY",
        "colab_type": "code",
        "colab": {}
      },
      "source": [
        "# View encoder mapping\n",
        "dict(zip(le_currency.classes_,le_currency.transform(le_currency.classes_)))   # genera un listado de clases asociados a un número"
      ],
      "execution_count": null,
      "outputs": []
    },
    {
      "cell_type": "code",
      "metadata": {
        "id": "PgCWHDcl8w7U",
        "colab_type": "code",
        "colab": {}
      },
      "source": [
        "# Apply the fitted encoder to the pandas column\n",
        "kickstarter_2018[column2] = le_currency.transform(kickstarter_2018[column2])  # le aplica la transformación a toda la columna\n",
        "kickstarter_2018.head()"
      ],
      "execution_count": null,
      "outputs": []
    },
    {
      "cell_type": "code",
      "metadata": {
        "id": "tp0IweJZ9g52",
        "colab_type": "code",
        "colab": {}
      },
      "source": [
        "# Reversing encoding\n",
        "kickstarter_2018[column2] = le_currency.inverse_transform(kickstarter_2018[column2]) # transformación inversa de número a clases\n",
        "kickstarter_2018.head()"
      ],
      "execution_count": null,
      "outputs": []
    },
    {
      "cell_type": "markdown",
      "metadata": {
        "id": "lA_CdvTW_YaV",
        "colab_type": "text"
      },
      "source": [
        "### Opción 2: "
      ]
    },
    {
      "cell_type": "code",
      "metadata": {
        "id": "mbY3CNhdJzVo",
        "colab_type": "code",
        "colab": {}
      },
      "source": [
        "# opción 2:\n",
        "from sklearn.preprocessing import LabelBinarizer\n",
        "other_column2 = 'currency'\n",
        "lb2 = LabelBinarizer()\n",
        "#lb2"
      ],
      "execution_count": null,
      "outputs": []
    },
    {
      "cell_type": "code",
      "metadata": {
        "id": "AorYmqlE_YFQ",
        "colab_type": "code",
        "colab": {}
      },
      "source": [
        "lb_result_currency = lb2.fit_transform(kickstarter_2018[other_column2])\n",
        "pd.DataFrame(lb_result_currency, columns=((other_column2 + '_') + pd.Series(lb2.classes_))).head(10)"
      ],
      "execution_count": null,
      "outputs": []
    },
    {
      "cell_type": "markdown",
      "metadata": {
        "colab_type": "text",
        "id": "c2qVOSsQIXUf"
      },
      "source": [
        "## 2.4. **Importante:** No cambiar los nombres de las variables de la fuente de origen\n"
      ]
    },
    {
      "cell_type": "markdown",
      "metadata": {
        "id": "E2Ptf3OZApdr",
        "colab_type": "text"
      },
      "source": [
        "# Opción para cambiar los nombres de columnas:\n"
      ]
    },
    {
      "cell_type": "code",
      "metadata": {
        "id": "1-qN4wbWAxlr",
        "colab_type": "code",
        "colab": {}
      },
      "source": [
        "# Cambio nombre Columna por indexn  (probar, código de un compañero)\n",
        "df.rename(columns={ df.columns[0]: \"Disculpame1\" }, inplace = True)"
      ],
      "execution_count": null,
      "outputs": []
    },
    {
      "cell_type": "markdown",
      "metadata": {
        "colab_type": "text",
        "id": "k9XvL-yMIXUf"
      },
      "source": [
        "## 2.5. Verificar la consistencia de las variables\n",
        "**Aplicar reglas de integridad**\n"
      ]
    },
    {
      "cell_type": "code",
      "metadata": {
        "colab_type": "code",
        "id": "y5W24vJwIXUf",
        "colab": {}
      },
      "source": [
        "kickstarter_2018.head()"
      ],
      "execution_count": null,
      "outputs": []
    },
    {
      "cell_type": "markdown",
      "metadata": {
        "colab_type": "text",
        "id": "4EAwb-5BIXUh"
      },
      "source": [
        "¿Hay **proyectos sin patrocinadores** pero con plata prometida? Esto puede ser un error ya que ¿cómo juntaron plata sin donaciones???"
      ]
    },
    {
      "cell_type": "code",
      "metadata": {
        "colab_type": "code",
        "id": "x0YWqWntIXUh",
        "colab": {}
      },
      "source": [
        "kickstarter_2018[(kickstarter_2018.backers == 0) & (kickstarter_2018.usd_pledged > 0)]  # backers, es el núm. de patrocinadores"
      ],
      "execution_count": null,
      "outputs": []
    },
    {
      "cell_type": "markdown",
      "metadata": {
        "colab_type": "text",
        "id": "8oFs6r9CIXUj"
      },
      "source": [
        "¿Hay proyecto no exitosos que pasaron el objetivo?"
      ]
    },
    {
      "cell_type": "code",
      "metadata": {
        "colab_type": "code",
        "id": "_5lPvwqYIXUj",
        "colab": {}
      },
      "source": [
        "kickstarter_2018[(kickstarter_2018.state != 'successful') & (kickstarter_2018.pledged > kickstarter_2018.goal)]"
      ],
      "execution_count": null,
      "outputs": []
    },
    {
      "cell_type": "markdown",
      "metadata": {
        "colab_type": "text",
        "id": "JcmsJSYXIXUl"
      },
      "source": [
        "¿Cómo es, en promedio, la correlación entre el objetivo y la plata obtenida?"
      ]
    },
    {
      "cell_type": "code",
      "metadata": {
        "colab_type": "code",
        "id": "vAI0_9m-IXUl",
        "colab": {}
      },
      "source": [
        "df = kickstarter_2018.groupby('state')[['goal','pledged']].aggregate('mean')\n",
        "df  # observamos el promedio de recaudación y de recaudado"
      ],
      "execution_count": null,
      "outputs": []
    },
    {
      "cell_type": "code",
      "metadata": {
        "id": "niv76i5dBqhq",
        "colab_type": "code",
        "colab": {}
      },
      "source": [
        "df['pledged'] / df['goal']  # relación entre ambas variables\n"
      ],
      "execution_count": null,
      "outputs": []
    },
    {
      "cell_type": "markdown",
      "metadata": {
        "colab_type": "text",
        "id": "0alq6UDrIXUn"
      },
      "source": [
        "**¿Cuánta plata se obtiene en promedio por estado y categoría?**"
      ]
    },
    {
      "cell_type": "code",
      "metadata": {
        "colab_type": "code",
        "id": "ZDDTnENBIXUn",
        "colab": {}
      },
      "source": [
        "kickstarter_2018.pivot_table(values='usd_pledged',index='state',columns='main_category')  # para hacer esto se debe pivotear la tabla"
      ],
      "execution_count": null,
      "outputs": []
    },
    {
      "cell_type": "markdown",
      "metadata": {
        "id": "VIAKnhAubCPX",
        "colab_type": "text"
      },
      "source": [
        "# **Ejercicio 5**\n",
        "\n",
        "1. ¿Hay **proyecto éxitosos que no consiguieron el objetivo**? Si hay, ¿Qué porcentaje sí y cuál no?\n",
        "2. Calcular una tabla con la **cantidad de proyectos por categoría principal y estado**. (Debo pivotear la tabla ver ejemplo anterior)"
      ]
    },
    {
      "cell_type": "markdown",
      "metadata": {
        "id": "sOP1qBWrPkw1",
        "colab_type": "text"
      },
      "source": [
        "Si existen algunos proyectos que fueron exitosos y no alcanzaron a recaudar el objetivo."
      ]
    },
    {
      "cell_type": "code",
      "metadata": {
        "id": "jMoS4pbQO3gm",
        "colab_type": "code",
        "colab": {}
      },
      "source": [
        "\n",
        "df_exitosos= kickstarter_2018[(kickstarter_2018.state == 'successful') & (kickstarter_2018.pledged < kickstarter_2018.goal)].reset_index()\n",
        "df_exitosos"
      ],
      "execution_count": null,
      "outputs": []
    },
    {
      "cell_type": "markdown",
      "metadata": {
        "id": "pPRV6TjBPu8x",
        "colab_type": "text"
      },
      "source": [
        "¿ Cuál es el porcentaje de exitosos que alcanzaron el objetivo y el porcentaje de cuáles no?"
      ]
    },
    {
      "cell_type": "code",
      "metadata": {
        "id": "xp9lYkk-QBBj",
        "colab_type": "code",
        "colab": {}
      },
      "source": [
        "df_exitosos_no = df_exitosos.ID.count()\n",
        "print(\"Cantidad de proyectos exitosos que no recaudaron el goal:\", df_exitosos_no)\n",
        "kickstarter_2018= kickstarter_2018.reset_index()\n",
        "df_exitosos_si = kickstarter_2018[(kickstarter_2018.state == 'successful') & (kickstarter_2018.pledged >= kickstarter_2018.goal)].ID.count()\n",
        "print(\"Cantidad de proyectos exitosos que no recaudaron el goal:\", df_exitosos_si)\n",
        "df_exitosos_total= kickstarter_2018[(kickstarter_2018.state == 'successful')].ID.count()\n",
        "print(\"Cantidad de proyectos exitosos en total:\", df_exitosos_total)\n",
        "porcen_exitosos_no= round((df_exitosos_no/(df_exitosos_total) * 100), 3)\n",
        "porcen_exitosos_si = round((df_exitosos_si/(df_exitosos_total)* 100), 3)\n",
        "print(' El porcentaje de exitosos que alcanzaron el objetivo es de:',porcen_exitosos_si, ' % y de los que fueron exitosos y no alcanzaron:',porcen_exitosos_no,'%.')\n"
      ],
      "execution_count": null,
      "outputs": []
    },
    {
      "cell_type": "markdown",
      "metadata": {
        "id": "IFNWR8N6Y3ZQ",
        "colab_type": "text"
      },
      "source": [
        "Tabla con la cantidad de proyectos por categoría principal y estado"
      ]
    },
    {
      "cell_type": "code",
      "metadata": {
        "id": "cv4NfeMfY4So",
        "colab_type": "code",
        "colab": {}
      },
      "source": [
        "# terminar ejercicio se debe calcular la cantidad y luego pivotear\n",
        "df = kickstarter_2018.groupby(['main_category','state']).ID.count()\n",
        "df = df.reset_index()\n",
        "df.columns = ['main_category', 'state', 'cantidad' ]\n",
        "df"
      ],
      "execution_count": null,
      "outputs": []
    },
    {
      "cell_type": "code",
      "metadata": {
        "id": "ieUcYLJmhjcH",
        "colab_type": "code",
        "colab": {}
      },
      "source": [
        "df2= df.pivot_table(values='cantidad',index='state',columns='main_category')\n",
        "df2"
      ],
      "execution_count": null,
      "outputs": []
    },
    {
      "cell_type": "markdown",
      "metadata": {
        "colab_type": "text",
        "id": "3ci4iq7MIXUq"
      },
      "source": [
        "## 2.6. Identificar y documentar valores atípicos/outliers\n"
      ]
    },
    {
      "cell_type": "markdown",
      "metadata": {
        "colab_type": "text",
        "id": "CFiuuPAlIXUq"
      },
      "source": [
        "Queremos analizar las características de los proyectos que obtienen dinero pero sin considerar los casos atípicos."
      ]
    },
    {
      "cell_type": "code",
      "metadata": {
        "id": "tKUeQO_fq1bq",
        "colab_type": "code",
        "colab": {
          "base_uri": "https://localhost:8080/",
          "height": 939
        },
        "outputId": "0e4a8144-2a46-40dd-a535-5c20432709e0"
      },
      "source": [
        "kickstarter_2018"
      ],
      "execution_count": 48,
      "outputs": [
        {
          "output_type": "execute_result",
          "data": {
            "text/html": [
              "<div>\n",
              "<style scoped>\n",
              "    .dataframe tbody tr th:only-of-type {\n",
              "        vertical-align: middle;\n",
              "    }\n",
              "\n",
              "    .dataframe tbody tr th {\n",
              "        vertical-align: top;\n",
              "    }\n",
              "\n",
              "    .dataframe thead th {\n",
              "        text-align: right;\n",
              "    }\n",
              "</style>\n",
              "<table border=\"1\" class=\"dataframe\">\n",
              "  <thead>\n",
              "    <tr style=\"text-align: right;\">\n",
              "      <th></th>\n",
              "      <th>name</th>\n",
              "      <th>category</th>\n",
              "      <th>main_category</th>\n",
              "      <th>currency</th>\n",
              "      <th>deadline</th>\n",
              "      <th>goal</th>\n",
              "      <th>launched</th>\n",
              "      <th>pledged</th>\n",
              "      <th>state</th>\n",
              "      <th>backers</th>\n",
              "      <th>country</th>\n",
              "      <th>usd pledged</th>\n",
              "      <th>usd_pledged_real</th>\n",
              "      <th>usd_goal_real</th>\n",
              "    </tr>\n",
              "    <tr>\n",
              "      <th>ID</th>\n",
              "      <th></th>\n",
              "      <th></th>\n",
              "      <th></th>\n",
              "      <th></th>\n",
              "      <th></th>\n",
              "      <th></th>\n",
              "      <th></th>\n",
              "      <th></th>\n",
              "      <th></th>\n",
              "      <th></th>\n",
              "      <th></th>\n",
              "      <th></th>\n",
              "      <th></th>\n",
              "      <th></th>\n",
              "    </tr>\n",
              "  </thead>\n",
              "  <tbody>\n",
              "    <tr>\n",
              "      <th>1000002330</th>\n",
              "      <td>The Songs of Adelaide &amp; Abullah</td>\n",
              "      <td>Poetry</td>\n",
              "      <td>Publishing</td>\n",
              "      <td>GBP</td>\n",
              "      <td>2015-10-09</td>\n",
              "      <td>1000.00</td>\n",
              "      <td>2015-08-11 12:12:28</td>\n",
              "      <td>0.00</td>\n",
              "      <td>failed</td>\n",
              "      <td>0</td>\n",
              "      <td>GB</td>\n",
              "      <td>0.00</td>\n",
              "      <td>0.00</td>\n",
              "      <td>1533.95</td>\n",
              "    </tr>\n",
              "    <tr>\n",
              "      <th>1000003930</th>\n",
              "      <td>Greeting From Earth: ZGAC Arts Capsule For ET</td>\n",
              "      <td>Narrative Film</td>\n",
              "      <td>Film &amp; Video</td>\n",
              "      <td>USD</td>\n",
              "      <td>2017-11-01</td>\n",
              "      <td>30000.00</td>\n",
              "      <td>2017-09-02 04:43:57</td>\n",
              "      <td>2421.00</td>\n",
              "      <td>failed</td>\n",
              "      <td>15</td>\n",
              "      <td>US</td>\n",
              "      <td>100.00</td>\n",
              "      <td>2421.00</td>\n",
              "      <td>30000.00</td>\n",
              "    </tr>\n",
              "    <tr>\n",
              "      <th>1000004038</th>\n",
              "      <td>Where is Hank?</td>\n",
              "      <td>Narrative Film</td>\n",
              "      <td>Film &amp; Video</td>\n",
              "      <td>USD</td>\n",
              "      <td>2013-02-26</td>\n",
              "      <td>45000.00</td>\n",
              "      <td>2013-01-12 00:20:50</td>\n",
              "      <td>220.00</td>\n",
              "      <td>failed</td>\n",
              "      <td>3</td>\n",
              "      <td>US</td>\n",
              "      <td>220.00</td>\n",
              "      <td>220.00</td>\n",
              "      <td>45000.00</td>\n",
              "    </tr>\n",
              "    <tr>\n",
              "      <th>1000007540</th>\n",
              "      <td>ToshiCapital Rekordz Needs Help to Complete Album</td>\n",
              "      <td>Music</td>\n",
              "      <td>Music</td>\n",
              "      <td>USD</td>\n",
              "      <td>2012-04-16</td>\n",
              "      <td>5000.00</td>\n",
              "      <td>2012-03-17 03:24:11</td>\n",
              "      <td>1.00</td>\n",
              "      <td>failed</td>\n",
              "      <td>1</td>\n",
              "      <td>US</td>\n",
              "      <td>1.00</td>\n",
              "      <td>1.00</td>\n",
              "      <td>5000.00</td>\n",
              "    </tr>\n",
              "    <tr>\n",
              "      <th>1000011046</th>\n",
              "      <td>Community Film Project: The Art of Neighborhoo...</td>\n",
              "      <td>Film &amp; Video</td>\n",
              "      <td>Film &amp; Video</td>\n",
              "      <td>USD</td>\n",
              "      <td>2015-08-29</td>\n",
              "      <td>19500.00</td>\n",
              "      <td>2015-07-04 08:35:03</td>\n",
              "      <td>1283.00</td>\n",
              "      <td>canceled</td>\n",
              "      <td>14</td>\n",
              "      <td>US</td>\n",
              "      <td>1283.00</td>\n",
              "      <td>1283.00</td>\n",
              "      <td>19500.00</td>\n",
              "    </tr>\n",
              "    <tr>\n",
              "      <th>...</th>\n",
              "      <td>...</td>\n",
              "      <td>...</td>\n",
              "      <td>...</td>\n",
              "      <td>...</td>\n",
              "      <td>...</td>\n",
              "      <td>...</td>\n",
              "      <td>...</td>\n",
              "      <td>...</td>\n",
              "      <td>...</td>\n",
              "      <td>...</td>\n",
              "      <td>...</td>\n",
              "      <td>...</td>\n",
              "      <td>...</td>\n",
              "      <td>...</td>\n",
              "    </tr>\n",
              "    <tr>\n",
              "      <th>999976400</th>\n",
              "      <td>ChknTruk Nationwide Charity Drive 2014 (Canceled)</td>\n",
              "      <td>Documentary</td>\n",
              "      <td>Film &amp; Video</td>\n",
              "      <td>USD</td>\n",
              "      <td>2014-10-17</td>\n",
              "      <td>50000.00</td>\n",
              "      <td>2014-09-17 02:35:30</td>\n",
              "      <td>25.00</td>\n",
              "      <td>canceled</td>\n",
              "      <td>1</td>\n",
              "      <td>US</td>\n",
              "      <td>25.00</td>\n",
              "      <td>25.00</td>\n",
              "      <td>50000.00</td>\n",
              "    </tr>\n",
              "    <tr>\n",
              "      <th>999977640</th>\n",
              "      <td>The Tribe</td>\n",
              "      <td>Narrative Film</td>\n",
              "      <td>Film &amp; Video</td>\n",
              "      <td>USD</td>\n",
              "      <td>2011-07-19</td>\n",
              "      <td>1500.00</td>\n",
              "      <td>2011-06-22 03:35:14</td>\n",
              "      <td>155.00</td>\n",
              "      <td>failed</td>\n",
              "      <td>5</td>\n",
              "      <td>US</td>\n",
              "      <td>155.00</td>\n",
              "      <td>155.00</td>\n",
              "      <td>1500.00</td>\n",
              "    </tr>\n",
              "    <tr>\n",
              "      <th>999986353</th>\n",
              "      <td>Walls of Remedy- New lesbian Romantic Comedy f...</td>\n",
              "      <td>Narrative Film</td>\n",
              "      <td>Film &amp; Video</td>\n",
              "      <td>USD</td>\n",
              "      <td>2010-08-16</td>\n",
              "      <td>15000.00</td>\n",
              "      <td>2010-07-01 19:40:30</td>\n",
              "      <td>20.00</td>\n",
              "      <td>failed</td>\n",
              "      <td>1</td>\n",
              "      <td>US</td>\n",
              "      <td>20.00</td>\n",
              "      <td>20.00</td>\n",
              "      <td>15000.00</td>\n",
              "    </tr>\n",
              "    <tr>\n",
              "      <th>999987933</th>\n",
              "      <td>BioDefense Education Kit</td>\n",
              "      <td>Technology</td>\n",
              "      <td>Technology</td>\n",
              "      <td>USD</td>\n",
              "      <td>2016-02-13</td>\n",
              "      <td>15000.00</td>\n",
              "      <td>2016-01-13 18:13:53</td>\n",
              "      <td>200.00</td>\n",
              "      <td>failed</td>\n",
              "      <td>6</td>\n",
              "      <td>US</td>\n",
              "      <td>200.00</td>\n",
              "      <td>200.00</td>\n",
              "      <td>15000.00</td>\n",
              "    </tr>\n",
              "    <tr>\n",
              "      <th>999988282</th>\n",
              "      <td>Nou Renmen Ayiti!  We Love Haiti!</td>\n",
              "      <td>Performance Art</td>\n",
              "      <td>Art</td>\n",
              "      <td>USD</td>\n",
              "      <td>2011-08-16</td>\n",
              "      <td>2000.00</td>\n",
              "      <td>2011-07-19 09:07:47</td>\n",
              "      <td>524.00</td>\n",
              "      <td>failed</td>\n",
              "      <td>17</td>\n",
              "      <td>US</td>\n",
              "      <td>524.00</td>\n",
              "      <td>524.00</td>\n",
              "      <td>2000.00</td>\n",
              "    </tr>\n",
              "  </tbody>\n",
              "</table>\n",
              "<p>378661 rows × 14 columns</p>\n",
              "</div>"
            ],
            "text/plain": [
              "                                                         name  ... usd_goal_real\n",
              "ID                                                             ...              \n",
              "1000002330                    The Songs of Adelaide & Abullah  ...       1533.95\n",
              "1000003930      Greeting From Earth: ZGAC Arts Capsule For ET  ...      30000.00\n",
              "1000004038                                     Where is Hank?  ...      45000.00\n",
              "1000007540  ToshiCapital Rekordz Needs Help to Complete Album  ...       5000.00\n",
              "1000011046  Community Film Project: The Art of Neighborhoo...  ...      19500.00\n",
              "...                                                       ...  ...           ...\n",
              "999976400   ChknTruk Nationwide Charity Drive 2014 (Canceled)  ...      50000.00\n",
              "999977640                                           The Tribe  ...       1500.00\n",
              "999986353   Walls of Remedy- New lesbian Romantic Comedy f...  ...      15000.00\n",
              "999987933                            BioDefense Education Kit  ...      15000.00\n",
              "999988282                   Nou Renmen Ayiti!  We Love Haiti!  ...       2000.00\n",
              "\n",
              "[378661 rows x 14 columns]"
            ]
          },
          "metadata": {
            "tags": []
          },
          "execution_count": 48
        }
      ]
    },
    {
      "cell_type": "code",
      "metadata": {
        "colab_type": "code",
        "id": "krohU7VxIXUq",
        "colab": {
          "base_uri": "https://localhost:8080/",
          "height": 278
        },
        "outputId": "2a535fed-d59a-46a2-d908-8771c3f77c1e"
      },
      "source": [
        "\n",
        "%matplotlib inline\n",
        "kickstarter_2018['usd pledged'].hist();  # histograma de lo recaudado"
      ],
      "execution_count": 49,
      "outputs": [
        {
          "output_type": "display_data",
          "data": {
            "image/png": "[encoded data removed]",
            "text/plain": [
              "<Figure size 432x288 with 1 Axes>"
            ]
          },
          "metadata": {
            "tags": [],
            "needs_background": "light"
          }
        }
      ]
    },
    {
      "cell_type": "code",
      "metadata": {
        "colab_type": "code",
        "id": "4KNUgM_xIXUr",
        "colab": {
          "base_uri": "https://localhost:8080/",
          "height": 276
        },
        "outputId": "2e399e23-1554-4502-d771-a68076c40111"
      },
      "source": [
        "kickstarter_2018.boxplot(column='usd pledged');  # gráfico de boxplot de lo recaudado para observar outliers"
      ],
      "execution_count": 50,
      "outputs": [
        {
          "output_type": "display_data",
          "data": {
            "image/png": "[encoded data removed]",
            "text/plain": [
              "<Figure size 432x288 with 1 Axes>"
            ]
          },
          "metadata": {
            "tags": [],
            "needs_background": "light"
          }
        }
      ]
    },
    {
      "cell_type": "markdown",
      "metadata": {
        "colab_type": "text",
        "id": "2JzBu_TmIXUw"
      },
      "source": [
        "\"There are many rules of thumb for how to define an outlier but there is no silver bullet. One rule of thumb is that any data point that is three standard deviations away from the mean of the same data point for all observations.\""
      ]
    },
    {
      "cell_type": "code",
      "metadata": {
        "colab_type": "code",
        "id": "crqXG6cQIXUx",
        "colab": {
          "base_uri": "https://localhost:8080/",
          "height": 805
        },
        "outputId": "4ae9ae54-1b24-4dbb-fa28-1e34f5e2974a"
      },
      "source": [
        "outliers = kickstarter_2018[kickstarter_2018['usd pledged'] > (kickstarter_2018['usd pledged'].mean() + \n",
        "                                                            3 * kickstarter_2018['usd pledged'].std())]\n",
        "# cálculo los ourliers, es decir outliers serán aquellos mayores a la media más la() desviación estándar *3) de lo recaudado\n",
        "outliers"
      ],
      "execution_count": 51,
      "outputs": [
        {
          "output_type": "execute_result",
          "data": {
            "text/html": [
              "<div>\n",
              "<style scoped>\n",
              "    .dataframe tbody tr th:only-of-type {\n",
              "        vertical-align: middle;\n",
              "    }\n",
              "\n",
              "    .dataframe tbody tr th {\n",
              "        vertical-align: top;\n",
              "    }\n",
              "\n",
              "    .dataframe thead th {\n",
              "        text-align: right;\n",
              "    }\n",
              "</style>\n",
              "<table border=\"1\" class=\"dataframe\">\n",
              "  <thead>\n",
              "    <tr style=\"text-align: right;\">\n",
              "      <th></th>\n",
              "      <th>name</th>\n",
              "      <th>category</th>\n",
              "      <th>main_category</th>\n",
              "      <th>currency</th>\n",
              "      <th>deadline</th>\n",
              "      <th>goal</th>\n",
              "      <th>launched</th>\n",
              "      <th>pledged</th>\n",
              "      <th>state</th>\n",
              "      <th>backers</th>\n",
              "      <th>country</th>\n",
              "      <th>usd pledged</th>\n",
              "      <th>usd_pledged_real</th>\n",
              "      <th>usd_goal_real</th>\n",
              "    </tr>\n",
              "    <tr>\n",
              "      <th>ID</th>\n",
              "      <th></th>\n",
              "      <th></th>\n",
              "      <th></th>\n",
              "      <th></th>\n",
              "      <th></th>\n",
              "      <th></th>\n",
              "      <th></th>\n",
              "      <th></th>\n",
              "      <th></th>\n",
              "      <th></th>\n",
              "      <th></th>\n",
              "      <th></th>\n",
              "      <th></th>\n",
              "      <th></th>\n",
              "    </tr>\n",
              "  </thead>\n",
              "  <tbody>\n",
              "    <tr>\n",
              "      <th>1000629643</th>\n",
              "      <td>ODIN: Android 'Smart' Projector to Carry in Yo...</td>\n",
              "      <td>Hardware</td>\n",
              "      <td>Technology</td>\n",
              "      <td>USD</td>\n",
              "      <td>2014-07-08</td>\n",
              "      <td>250000.00</td>\n",
              "      <td>2014-05-28 13:54:18</td>\n",
              "      <td>268192.00</td>\n",
              "      <td>successful</td>\n",
              "      <td>561</td>\n",
              "      <td>US</td>\n",
              "      <td>268192.00</td>\n",
              "      <td>268192.00</td>\n",
              "      <td>250000.00</td>\n",
              "    </tr>\n",
              "    <tr>\n",
              "      <th>1000725978</th>\n",
              "      <td>Air Bonsai | Create your \"little star\"</td>\n",
              "      <td>Product Design</td>\n",
              "      <td>Design</td>\n",
              "      <td>USD</td>\n",
              "      <td>2016-03-01</td>\n",
              "      <td>80000.00</td>\n",
              "      <td>2016-01-21 12:18:00</td>\n",
              "      <td>843743.00</td>\n",
              "      <td>successful</td>\n",
              "      <td>3784</td>\n",
              "      <td>US</td>\n",
              "      <td>843743.00</td>\n",
              "      <td>843743.00</td>\n",
              "      <td>80000.00</td>\n",
              "    </tr>\n",
              "    <tr>\n",
              "      <th>1001502333</th>\n",
              "      <td>Pimax: The World's First 8K VR Headset</td>\n",
              "      <td>Hardware</td>\n",
              "      <td>Technology</td>\n",
              "      <td>USD</td>\n",
              "      <td>2017-11-03</td>\n",
              "      <td>200000.00</td>\n",
              "      <td>2017-09-19 19:02:23</td>\n",
              "      <td>4236618.49</td>\n",
              "      <td>successful</td>\n",
              "      <td>5946</td>\n",
              "      <td>US</td>\n",
              "      <td>608194.00</td>\n",
              "      <td>4236618.49</td>\n",
              "      <td>200000.00</td>\n",
              "    </tr>\n",
              "    <tr>\n",
              "      <th>1003182869</th>\n",
              "      <td>RinseKit: The Revolutionary Portable Shower</td>\n",
              "      <td>Gadgets</td>\n",
              "      <td>Technology</td>\n",
              "      <td>USD</td>\n",
              "      <td>2016-06-03</td>\n",
              "      <td>30000.00</td>\n",
              "      <td>2016-05-04 19:27:57</td>\n",
              "      <td>396299.00</td>\n",
              "      <td>successful</td>\n",
              "      <td>2412</td>\n",
              "      <td>US</td>\n",
              "      <td>396299.00</td>\n",
              "      <td>396299.00</td>\n",
              "      <td>30000.00</td>\n",
              "    </tr>\n",
              "    <tr>\n",
              "      <th>1006008989</th>\n",
              "      <td>War for the Overworld</td>\n",
              "      <td>Video Games</td>\n",
              "      <td>Games</td>\n",
              "      <td>GBP</td>\n",
              "      <td>2013-01-03</td>\n",
              "      <td>150000.00</td>\n",
              "      <td>2012-11-29 19:11:23</td>\n",
              "      <td>211371.50</td>\n",
              "      <td>successful</td>\n",
              "      <td>8351</td>\n",
              "      <td>GB</td>\n",
              "      <td>338527.51</td>\n",
              "      <td>338589.87</td>\n",
              "      <td>240280.65</td>\n",
              "    </tr>\n",
              "    <tr>\n",
              "      <th>...</th>\n",
              "      <td>...</td>\n",
              "      <td>...</td>\n",
              "      <td>...</td>\n",
              "      <td>...</td>\n",
              "      <td>...</td>\n",
              "      <td>...</td>\n",
              "      <td>...</td>\n",
              "      <td>...</td>\n",
              "      <td>...</td>\n",
              "      <td>...</td>\n",
              "      <td>...</td>\n",
              "      <td>...</td>\n",
              "      <td>...</td>\n",
              "      <td>...</td>\n",
              "    </tr>\n",
              "    <tr>\n",
              "      <th>994834878</th>\n",
              "      <td>KP Duffle - The Ultimate Travel Bag</td>\n",
              "      <td>Product Design</td>\n",
              "      <td>Design</td>\n",
              "      <td>USD</td>\n",
              "      <td>2016-03-04</td>\n",
              "      <td>15000.00</td>\n",
              "      <td>2016-01-19 17:00:36</td>\n",
              "      <td>624474.00</td>\n",
              "      <td>successful</td>\n",
              "      <td>3478</td>\n",
              "      <td>US</td>\n",
              "      <td>624474.00</td>\n",
              "      <td>624474.00</td>\n",
              "      <td>15000.00</td>\n",
              "    </tr>\n",
              "    <tr>\n",
              "      <th>995248054</th>\n",
              "      <td>LYFE - Set your plants free</td>\n",
              "      <td>Product Design</td>\n",
              "      <td>Design</td>\n",
              "      <td>USD</td>\n",
              "      <td>2016-07-01</td>\n",
              "      <td>80000.00</td>\n",
              "      <td>2016-06-01 18:53:37</td>\n",
              "      <td>328579.00</td>\n",
              "      <td>successful</td>\n",
              "      <td>1203</td>\n",
              "      <td>US</td>\n",
              "      <td>328579.00</td>\n",
              "      <td>328579.00</td>\n",
              "      <td>80000.00</td>\n",
              "    </tr>\n",
              "    <tr>\n",
              "      <th>995551135</th>\n",
              "      <td>Infinity: Battlescape</td>\n",
              "      <td>Video Games</td>\n",
              "      <td>Games</td>\n",
              "      <td>USD</td>\n",
              "      <td>2015-11-20</td>\n",
              "      <td>300000.00</td>\n",
              "      <td>2015-10-21 13:34:08</td>\n",
              "      <td>332620.81</td>\n",
              "      <td>successful</td>\n",
              "      <td>5828</td>\n",
              "      <td>US</td>\n",
              "      <td>332620.81</td>\n",
              "      <td>332620.81</td>\n",
              "      <td>300000.00</td>\n",
              "    </tr>\n",
              "    <tr>\n",
              "      <th>997256071</th>\n",
              "      <td>SoftPanels LED Lights with Intelligent/Precise...</td>\n",
              "      <td>Camera Equipment</td>\n",
              "      <td>Technology</td>\n",
              "      <td>USD</td>\n",
              "      <td>2016-05-08</td>\n",
              "      <td>30000.00</td>\n",
              "      <td>2016-04-08 22:18:23</td>\n",
              "      <td>394930.00</td>\n",
              "      <td>successful</td>\n",
              "      <td>213</td>\n",
              "      <td>US</td>\n",
              "      <td>394930.00</td>\n",
              "      <td>394930.00</td>\n",
              "      <td>30000.00</td>\n",
              "    </tr>\n",
              "    <tr>\n",
              "      <th>99825633</th>\n",
              "      <td>Battle Systems™ Fantasy Dungeon Terrain</td>\n",
              "      <td>Tabletop Games</td>\n",
              "      <td>Games</td>\n",
              "      <td>GBP</td>\n",
              "      <td>2014-09-21</td>\n",
              "      <td>21000.00</td>\n",
              "      <td>2014-08-22 21:00:15</td>\n",
              "      <td>198415.01</td>\n",
              "      <td>successful</td>\n",
              "      <td>1204</td>\n",
              "      <td>GB</td>\n",
              "      <td>328968.44</td>\n",
              "      <td>323583.63</td>\n",
              "      <td>34247.69</td>\n",
              "    </tr>\n",
              "  </tbody>\n",
              "</table>\n",
              "<p>1191 rows × 14 columns</p>\n",
              "</div>"
            ],
            "text/plain": [
              "                                                         name  ... usd_goal_real\n",
              "ID                                                             ...              \n",
              "1000629643  ODIN: Android 'Smart' Projector to Carry in Yo...  ...     250000.00\n",
              "1000725978             Air Bonsai | Create your \"little star\"  ...      80000.00\n",
              "1001502333             Pimax: The World's First 8K VR Headset  ...     200000.00\n",
              "1003182869        RinseKit: The Revolutionary Portable Shower  ...      30000.00\n",
              "1006008989                              War for the Overworld  ...     240280.65\n",
              "...                                                       ...  ...           ...\n",
              "994834878                 KP Duffle - The Ultimate Travel Bag  ...      15000.00\n",
              "995248054                         LYFE - Set your plants free  ...      80000.00\n",
              "995551135                               Infinity: Battlescape  ...     300000.00\n",
              "997256071   SoftPanels LED Lights with Intelligent/Precise...  ...      30000.00\n",
              "99825633              Battle Systems™ Fantasy Dungeon Terrain  ...      34247.69\n",
              "\n",
              "[1191 rows x 14 columns]"
            ]
          },
          "metadata": {
            "tags": []
          },
          "execution_count": 51
        }
      ]
    },
    {
      "cell_type": "code",
      "metadata": {
        "id": "A-pL647dbCPv",
        "colab_type": "code",
        "colab": {
          "base_uri": "https://localhost:8080/",
          "height": 265
        },
        "outputId": "b4c52649-1891-4eb9-bfd1-d527078b6add"
      },
      "source": [
        "kickstarter_2018.drop(outliers.index).boxplot(column='usd pledged');  # gráfico de boxplot sin valores nulos para el valor recaudado"
      ],
      "execution_count": 52,
      "outputs": [
        {
          "output_type": "display_data",
          "data": {
            "image/png": "[encoded data removed]",
            "text/plain": [
              "<Figure size 432x288 with 1 Axes>"
            ]
          },
          "metadata": {
            "tags": [],
            "needs_background": "light"
          }
        }
      ]
    },
    {
      "cell_type": "code",
      "metadata": {
        "colab_type": "code",
        "id": "GUIlg7xXIXUz",
        "colab": {
          "base_uri": "https://localhost:8080/",
          "height": 301
        },
        "outputId": "8d565757-6501-4655-ee60-ee7022901e9f"
      },
      "source": [
        "kickstarter_2018.drop(outliers.index).boxplot(column='usd pledged',by='state'); # gráfico de"
      ],
      "execution_count": 53,
      "outputs": [
        {
          "output_type": "display_data",
          "data": {
            "image/png": "[encoded data removed]",
            "text/plain": [
              "<Figure size 432x288 with 1 Axes>"
            ]
          },
          "metadata": {
            "tags": [],
            "needs_background": "light"
          }
        }
      ]
    },
    {
      "cell_type": "markdown",
      "metadata": {
        "id": "hWspNfLRbCP4",
        "colab_type": "text"
      },
      "source": [
        "Analizar outliers por categorías"
      ]
    },
    {
      "cell_type": "code",
      "metadata": {
        "colab_type": "code",
        "id": "Q3sawM-JIXUx",
        "colab": {
          "base_uri": "https://localhost:8080/",
          "height": 585
        },
        "outputId": "cfea9cd5-c56d-44f9-8978-907835b65097"
      },
      "source": [
        "kickstarter_2018.boxplot(column='usd pledged',by='state');\n",
        "kickstarter_2018.boxplot(column='usd_goal_real',by='state');"
      ],
      "execution_count": 54,
      "outputs": [
        {
          "output_type": "display_data",
          "data": {
            "image/png": "[encoded data removed]",
            "text/plain": [
              "<Figure size 432x288 with 1 Axes>"
            ]
          },
          "metadata": {
            "tags": [],
            "needs_background": "light"
          }
        },
        {
          "output_type": "display_data",
          "data": {
            "image/png": "[encoded data removed]",
            "text/plain": [
              "<Figure size 432x288 with 1 Axes>"
            ]
          },
          "metadata": {
            "tags": [],
            "needs_background": "light"
          }
        }
      ]
    },
    {
      "cell_type": "markdown",
      "metadata": {
        "id": "CFK4zcNzbCP8",
        "colab_type": "text"
      },
      "source": [
        "# **Ejercicio 6 para entrega final**\n",
        "\n",
        "Calcular los valores atípicos de 'usd_goal_real' y graficar los boxplots, con y sin estos valores por categoría"
      ]
    },
    {
      "cell_type": "code",
      "metadata": {
        "id": "FHEs3m9fu0FG",
        "colab_type": "code",
        "colab": {
          "base_uri": "https://localhost:8080/",
          "height": 70
        },
        "outputId": "2aac4b9c-ccb6-4b31-f3b0-18407b6140f2"
      },
      "source": [
        "import matplotlib.pyplot as plt\n",
        "import seaborn as sbn"
      ],
      "execution_count": 43,
      "outputs": [
        {
          "output_type": "stream",
          "text": [
            "/usr/local/lib/python3.6/dist-packages/statsmodels/tools/_testing.py:19: FutureWarning: pandas.util.testing is deprecated. Use the functions in the public API at pandas.testing instead.\n",
            "  import pandas.util.testing as tm\n"
          ],
          "name": "stderr"
        }
      ]
    },
    {
      "cell_type": "code",
      "metadata": {
        "id": "njDvirr7oZJh",
        "colab_type": "code",
        "colab": {
          "base_uri": "https://localhost:8080/",
          "height": 628
        },
        "outputId": "3ce3f081-9a35-4657-cb1c-1d5ff1895f60"
      },
      "source": [
        "kickstarter_2018.boxplot(column='usd_goal_real', by='main_category',figsize=(12,8))\n",
        "plt.xticks(rotation=75)\n"
      ],
      "execution_count": 44,
      "outputs": [
        {
          "output_type": "execute_result",
          "data": {
            "text/plain": [
              "(array([ 1,  2,  3,  4,  5,  6,  7,  8,  9, 10, 11, 12, 13, 14, 15]),\n",
              " <a list of 15 Text major ticklabel objects>)"
            ]
          },
          "metadata": {
            "tags": []
          },
          "execution_count": 44
        },
        {
          "output_type": "display_data",
          "data": {
            "image/png": "[encoded data removed]",
            "text/plain": [
              "<Figure size 864x576 with 1 Axes>"
            ]
          },
          "metadata": {
            "tags": [],
            "needs_background": "light"
          }
        }
      ]
    },
    {
      "cell_type": "code",
      "metadata": {
        "id": "WpKjAOxvoukm",
        "colab_type": "code",
        "colab": {
          "base_uri": "https://localhost:8080/",
          "height": 889
        },
        "outputId": "703f5f35-dcf8-4979-f452-ed54db761634"
      },
      "source": [
        "outliers_usd_goal_real = kickstarter_2018[kickstarter_2018.usd_goal_real > (kickstarter_2018.usd_goal_real.mean() + \n",
        "                                                            2 * kickstarter_2018.usd_goal_real.std())]\n",
        "outliers_usd_goal_real                                                 "
      ],
      "execution_count": 45,
      "outputs": [
        {
          "output_type": "execute_result",
          "data": {
            "text/html": [
              "<div>\n",
              "<style scoped>\n",
              "    .dataframe tbody tr th:only-of-type {\n",
              "        vertical-align: middle;\n",
              "    }\n",
              "\n",
              "    .dataframe tbody tr th {\n",
              "        vertical-align: top;\n",
              "    }\n",
              "\n",
              "    .dataframe thead th {\n",
              "        text-align: right;\n",
              "    }\n",
              "</style>\n",
              "<table border=\"1\" class=\"dataframe\">\n",
              "  <thead>\n",
              "    <tr style=\"text-align: right;\">\n",
              "      <th></th>\n",
              "      <th>name</th>\n",
              "      <th>category</th>\n",
              "      <th>main_category</th>\n",
              "      <th>currency</th>\n",
              "      <th>deadline</th>\n",
              "      <th>goal</th>\n",
              "      <th>launched</th>\n",
              "      <th>pledged</th>\n",
              "      <th>state</th>\n",
              "      <th>backers</th>\n",
              "      <th>country</th>\n",
              "      <th>usd pledged</th>\n",
              "      <th>usd_pledged_real</th>\n",
              "      <th>usd_goal_real</th>\n",
              "    </tr>\n",
              "    <tr>\n",
              "      <th>ID</th>\n",
              "      <th></th>\n",
              "      <th></th>\n",
              "      <th></th>\n",
              "      <th></th>\n",
              "      <th></th>\n",
              "      <th></th>\n",
              "      <th></th>\n",
              "      <th></th>\n",
              "      <th></th>\n",
              "      <th></th>\n",
              "      <th></th>\n",
              "      <th></th>\n",
              "      <th></th>\n",
              "      <th></th>\n",
              "    </tr>\n",
              "  </thead>\n",
              "  <tbody>\n",
              "    <tr>\n",
              "      <th>1001904214</th>\n",
              "      <td>MKP - The Smart &amp; Versatile Touch Screen Keybo...</td>\n",
              "      <td>Gadgets</td>\n",
              "      <td>Technology</td>\n",
              "      <td>GBP</td>\n",
              "      <td>2015-06-21</td>\n",
              "      <td>1700000.00</td>\n",
              "      <td>2015-04-22 22:40:38</td>\n",
              "      <td>970.00</td>\n",
              "      <td>canceled</td>\n",
              "      <td>4</td>\n",
              "      <td>GB</td>\n",
              "      <td>1444.02</td>\n",
              "      <td>1525.47</td>\n",
              "      <td>2673502.45</td>\n",
              "    </tr>\n",
              "    <tr>\n",
              "      <th>1005237669</th>\n",
              "      <td>The Old Soul of a Lion</td>\n",
              "      <td>Film &amp; Video</td>\n",
              "      <td>Film &amp; Video</td>\n",
              "      <td>USD</td>\n",
              "      <td>2014-10-14</td>\n",
              "      <td>3000000.00</td>\n",
              "      <td>2014-08-15 20:16:22</td>\n",
              "      <td>4.00</td>\n",
              "      <td>failed</td>\n",
              "      <td>2</td>\n",
              "      <td>US</td>\n",
              "      <td>4.00</td>\n",
              "      <td>4.00</td>\n",
              "      <td>3000000.00</td>\n",
              "    </tr>\n",
              "    <tr>\n",
              "      <th>1005364432</th>\n",
              "      <td>Code name: Interstellar (Canceled)</td>\n",
              "      <td>Festivals</td>\n",
              "      <td>Theater</td>\n",
              "      <td>USD</td>\n",
              "      <td>2016-05-03</td>\n",
              "      <td>3000000.00</td>\n",
              "      <td>2016-03-04 04:30:08</td>\n",
              "      <td>0.00</td>\n",
              "      <td>canceled</td>\n",
              "      <td>0</td>\n",
              "      <td>US</td>\n",
              "      <td>0.00</td>\n",
              "      <td>0.00</td>\n",
              "      <td>3000000.00</td>\n",
              "    </tr>\n",
              "    <tr>\n",
              "      <th>1009207145</th>\n",
              "      <td>** GOLIATH **</td>\n",
              "      <td>Product Design</td>\n",
              "      <td>Design</td>\n",
              "      <td>CAD</td>\n",
              "      <td>2014-07-21</td>\n",
              "      <td>3850000.00</td>\n",
              "      <td>2014-06-21 22:34:21</td>\n",
              "      <td>285.00</td>\n",
              "      <td>failed</td>\n",
              "      <td>5</td>\n",
              "      <td>CA</td>\n",
              "      <td>263.41</td>\n",
              "      <td>264.67</td>\n",
              "      <td>3575408.62</td>\n",
              "    </tr>\n",
              "    <tr>\n",
              "      <th>1015466274</th>\n",
              "      <td>Genesis</td>\n",
              "      <td>Film &amp; Video</td>\n",
              "      <td>Film &amp; Video</td>\n",
              "      <td>EUR</td>\n",
              "      <td>2015-09-01</td>\n",
              "      <td>5000000.00</td>\n",
              "      <td>2015-07-07 21:14:52</td>\n",
              "      <td>0.00</td>\n",
              "      <td>failed</td>\n",
              "      <td>0</td>\n",
              "      <td>IT</td>\n",
              "      <td>0.00</td>\n",
              "      <td>0.00</td>\n",
              "      <td>5568982.99</td>\n",
              "    </tr>\n",
              "    <tr>\n",
              "      <th>...</th>\n",
              "      <td>...</td>\n",
              "      <td>...</td>\n",
              "      <td>...</td>\n",
              "      <td>...</td>\n",
              "      <td>...</td>\n",
              "      <td>...</td>\n",
              "      <td>...</td>\n",
              "      <td>...</td>\n",
              "      <td>...</td>\n",
              "      <td>...</td>\n",
              "      <td>...</td>\n",
              "      <td>...</td>\n",
              "      <td>...</td>\n",
              "      <td>...</td>\n",
              "    </tr>\n",
              "    <tr>\n",
              "      <th>992624421</th>\n",
              "      <td>I don't know a comic book?</td>\n",
              "      <td>Comics</td>\n",
              "      <td>Comics</td>\n",
              "      <td>USD</td>\n",
              "      <td>2014-08-09</td>\n",
              "      <td>10000000.00</td>\n",
              "      <td>2014-07-10 06:11:48</td>\n",
              "      <td>10.00</td>\n",
              "      <td>failed</td>\n",
              "      <td>1</td>\n",
              "      <td>US</td>\n",
              "      <td>10.00</td>\n",
              "      <td>10.00</td>\n",
              "      <td>10000000.00</td>\n",
              "    </tr>\n",
              "    <tr>\n",
              "      <th>993969686</th>\n",
              "      <td>Albert Einstein Museum</td>\n",
              "      <td>Technology</td>\n",
              "      <td>Technology</td>\n",
              "      <td>USD</td>\n",
              "      <td>2014-12-20</td>\n",
              "      <td>50000000.00</td>\n",
              "      <td>2014-10-23 01:46:17</td>\n",
              "      <td>240.00</td>\n",
              "      <td>failed</td>\n",
              "      <td>8</td>\n",
              "      <td>US</td>\n",
              "      <td>240.00</td>\n",
              "      <td>240.00</td>\n",
              "      <td>50000000.00</td>\n",
              "    </tr>\n",
              "    <tr>\n",
              "      <th>994971752</th>\n",
              "      <td>Love Revolution 24</td>\n",
              "      <td>Country &amp; Folk</td>\n",
              "      <td>Music</td>\n",
              "      <td>USD</td>\n",
              "      <td>2015-02-24</td>\n",
              "      <td>39023437.00</td>\n",
              "      <td>2015-01-31 09:05:34</td>\n",
              "      <td>5.00</td>\n",
              "      <td>failed</td>\n",
              "      <td>5</td>\n",
              "      <td>US</td>\n",
              "      <td>5.00</td>\n",
              "      <td>5.00</td>\n",
              "      <td>39023437.00</td>\n",
              "    </tr>\n",
              "    <tr>\n",
              "      <th>997671931</th>\n",
              "      <td>Food for FREE</td>\n",
              "      <td>Farms</td>\n",
              "      <td>Food</td>\n",
              "      <td>AUD</td>\n",
              "      <td>2014-12-08</td>\n",
              "      <td>4500000.00</td>\n",
              "      <td>2014-11-24 02:13:49</td>\n",
              "      <td>0.00</td>\n",
              "      <td>failed</td>\n",
              "      <td>0</td>\n",
              "      <td>AU</td>\n",
              "      <td>0.00</td>\n",
              "      <td>0.00</td>\n",
              "      <td>3721161.00</td>\n",
              "    </tr>\n",
              "    <tr>\n",
              "      <th>998655810</th>\n",
              "      <td>Marooned Heavens</td>\n",
              "      <td>Video Games</td>\n",
              "      <td>Games</td>\n",
              "      <td>GBP</td>\n",
              "      <td>2017-06-08</td>\n",
              "      <td>2089000.00</td>\n",
              "      <td>2017-05-09 17:11:29</td>\n",
              "      <td>71.00</td>\n",
              "      <td>failed</td>\n",
              "      <td>3</td>\n",
              "      <td>GB</td>\n",
              "      <td>0.00</td>\n",
              "      <td>90.54</td>\n",
              "      <td>2663997.14</td>\n",
              "    </tr>\n",
              "  </tbody>\n",
              "</table>\n",
              "<p>525 rows × 14 columns</p>\n",
              "</div>"
            ],
            "text/plain": [
              "                                                         name  ... usd_goal_real\n",
              "ID                                                             ...              \n",
              "1001904214  MKP - The Smart & Versatile Touch Screen Keybo...  ...    2673502.45\n",
              "1005237669                             The Old Soul of a Lion  ...    3000000.00\n",
              "1005364432                 Code name: Interstellar (Canceled)  ...    3000000.00\n",
              "1009207145                                      ** GOLIATH **  ...    3575408.62\n",
              "1015466274                                            Genesis  ...    5568982.99\n",
              "...                                                       ...  ...           ...\n",
              "992624421                          I don't know a comic book?  ...   10000000.00\n",
              "993969686                              Albert Einstein Museum  ...   50000000.00\n",
              "994971752                                  Love Revolution 24  ...   39023437.00\n",
              "997671931                                       Food for FREE  ...    3721161.00\n",
              "998655810                                    Marooned Heavens  ...    2663997.14\n",
              "\n",
              "[525 rows x 14 columns]"
            ]
          },
          "metadata": {
            "tags": []
          },
          "execution_count": 45
        }
      ]
    },
    {
      "cell_type": "code",
      "metadata": {
        "id": "Hg0BY6FkvZh3",
        "colab_type": "code",
        "colab": {
          "base_uri": "https://localhost:8080/",
          "height": 541
        },
        "outputId": "6a34b288-de70-40c6-c7fc-04a93351042c"
      },
      "source": [
        "# elimino outliers\n",
        "#kickstarter_2018.drop(outliers_usd_goal_real.index).boxplot(column='usd_goal_real')\n",
        "kickstarter_2018.drop(outliers_usd_goal_real.index).boxplot(column='usd_goal_real', by='main_category',figsize=(12,8));  "
      ],
      "execution_count": 46,
      "outputs": [
        {
          "output_type": "display_data",
          "data": {
            "image/png": "[encoded data removed]",
            "text/plain": [
              "<Figure size 864x576 with 1 Axes>"
            ]
          },
          "metadata": {
            "tags": [],
            "needs_background": "light"
          }
        }
      ]
    },
    {
      "cell_type": "markdown",
      "metadata": {
        "colab_type": "text",
        "id": "oGI_4tR0IXUz"
      },
      "source": [
        "## 2.7. Evaluar cómo comprimir los datos \n",
        "para su almacenamiento más eficiente.\n",
        "\n",
        "En la actualidad, en las nubes el almacenamiento no suele ser problema sino la velocidad para leerlo que suele ser determinante a la hora de determinar el formato de almacenamiento.\n"
      ]
    },
    {
      "cell_type": "markdown",
      "metadata": {
        "colab_type": "text",
        "id": "9y8QxZwdIXU0"
      },
      "source": [
        "## 2.8. Guardar el set de datos con un nombre informativo.\n"
      ]
    }
  ]
}