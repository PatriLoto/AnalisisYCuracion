{
  "nbformat": 4,
  "nbformat_minor": 0,
  "metadata": {
    "colab": {
      "name": "practico_nro_1_tablas_pasos_fronterizos.ipynb",
      "provenance": [],
      "collapsed_sections": []
    },
    "kernelspec": {
      "name": "python3",
      "display_name": "Python 3"
    }
  },
  "cells": [
    {
      "cell_type": "markdown",
      "metadata": {
        "id": "rFuRUeUPBfKx",
        "colab_type": "text"
      },
      "source": [
        "# **Práctico Nro. 1**\n",
        "\n"
      ]
    },
    {
      "cell_type": "markdown",
      "metadata": {
        "id": "WvDH-lQEHy1o",
        "colab_type": "text"
      },
      "source": [
        "## **Ejercicio Nro. 1**"
      ]
    },
    {
      "cell_type": "markdown",
      "metadata": {
        "id": "M871NE22BwZv",
        "colab_type": "text"
      },
      "source": [
        "## Carga de librerías"
      ]
    },
    {
      "cell_type": "code",
      "metadata": {
        "id": "Ucan6lGfv8yh",
        "colab_type": "code",
        "colab": {
          "base_uri": "https://localhost:8080/",
          "height": 70
        },
        "outputId": "2305fdf6-c553-4d2f-88c0-d5fa896287d1"
      },
      "source": [
        "%matplotlib inline\n",
        "from matplotlib import pyplot as plt\n",
        "import pandas as pd\n",
        "import numpy as np\n",
        "import seaborn"
      ],
      "execution_count": null,
      "outputs": [
        {
          "output_type": "stream",
          "text": [
            "/usr/local/lib/python3.6/dist-packages/statsmodels/tools/_testing.py:19: FutureWarning: pandas.util.testing is deprecated. Use the functions in the public API at pandas.testing instead.\n",
            "  import pandas.util.testing as tm\n"
          ],
          "name": "stderr"
        }
      ]
    },
    {
      "cell_type": "markdown",
      "metadata": {
        "id": "ACocAK6K98Jg",
        "colab_type": "text"
      },
      "source": [
        "## Lectura del csv"
      ]
    },
    {
      "cell_type": "code",
      "metadata": {
        "id": "P1OoKQrwwQl2",
        "colab_type": "code",
        "colab": {}
      },
      "source": [
        "import sys\n",
        "in_colab = 'google.colab' in sys.modules\n",
        "\n",
        "if in_colab:\n",
        "  BASE_DIR = \"https://github.com/DiploDatos/AnalisisYCuracion/raw/master/\"\n",
        "else:\n",
        "  BASE_DIR = \"..\"\n"
      ],
      "execution_count": null,
      "outputs": []
    },
    {
      "cell_type": "markdown",
      "metadata": {
        "id": "z_y4Ozpm-Blb",
        "colab_type": "text"
      },
      "source": [
        "## Exploro el dataset\n"
      ]
    },
    {
      "cell_type": "code",
      "metadata": {
        "id": "0kqHZwZn22Ss",
        "colab_type": "code",
        "colab": {
          "base_uri": "https://localhost:8080/",
          "height": 379
        },
        "outputId": "5160cd4b-a45b-49dc-b903-1af0dd91962d"
      },
      "source": [
        "# guardo el dataset en una tabla\n",
        "tabla_1 = pd.read_csv(BASE_DIR + \"/input/wtageinf.csv\")\n",
        "# leo los primeros 10 datos\n",
        "print('Tabla de crecimiento \\n')\n",
        "tabla_1.head(10)"
      ],
      "execution_count": null,
      "outputs": [
        {
          "output_type": "stream",
          "text": [
            "Tabla de crecimiento \n",
            "\n"
          ],
          "name": "stdout"
        },
        {
          "output_type": "execute_result",
          "data": {
            "text/html": [
              "<div>\n",
              "<style scoped>\n",
              "    .dataframe tbody tr th:only-of-type {\n",
              "        vertical-align: middle;\n",
              "    }\n",
              "\n",
              "    .dataframe tbody tr th {\n",
              "        vertical-align: top;\n",
              "    }\n",
              "\n",
              "    .dataframe thead th {\n",
              "        text-align: right;\n",
              "    }\n",
              "</style>\n",
              "<table border=\"1\" class=\"dataframe\">\n",
              "  <thead>\n",
              "    <tr style=\"text-align: right;\">\n",
              "      <th></th>\n",
              "      <th>Sex</th>\n",
              "      <th>Agemos</th>\n",
              "      <th>L</th>\n",
              "      <th>M</th>\n",
              "      <th>S</th>\n",
              "      <th>P3</th>\n",
              "      <th>P5</th>\n",
              "      <th>P10</th>\n",
              "      <th>P25</th>\n",
              "      <th>P50</th>\n",
              "      <th>P75</th>\n",
              "      <th>P90</th>\n",
              "      <th>P95</th>\n",
              "      <th>P97</th>\n",
              "    </tr>\n",
              "  </thead>\n",
              "  <tbody>\n",
              "    <tr>\n",
              "      <th>0</th>\n",
              "      <td>1</td>\n",
              "      <td>0.0</td>\n",
              "      <td>1.815151</td>\n",
              "      <td>3.530203</td>\n",
              "      <td>0.152385</td>\n",
              "      <td>2.355451</td>\n",
              "      <td>2.526904</td>\n",
              "      <td>2.773802</td>\n",
              "      <td>3.150611</td>\n",
              "      <td>3.530203</td>\n",
              "      <td>3.879077</td>\n",
              "      <td>4.172493</td>\n",
              "      <td>4.340293</td>\n",
              "      <td>4.446488</td>\n",
              "    </tr>\n",
              "    <tr>\n",
              "      <th>1</th>\n",
              "      <td>1</td>\n",
              "      <td>0.5</td>\n",
              "      <td>1.547523</td>\n",
              "      <td>4.003106</td>\n",
              "      <td>0.146025</td>\n",
              "      <td>2.799549</td>\n",
              "      <td>2.964656</td>\n",
              "      <td>3.209510</td>\n",
              "      <td>3.597396</td>\n",
              "      <td>4.003106</td>\n",
              "      <td>4.387423</td>\n",
              "      <td>4.718161</td>\n",
              "      <td>4.910130</td>\n",
              "      <td>5.032625</td>\n",
              "    </tr>\n",
              "    <tr>\n",
              "      <th>2</th>\n",
              "      <td>1</td>\n",
              "      <td>1.5</td>\n",
              "      <td>1.068796</td>\n",
              "      <td>4.879525</td>\n",
              "      <td>0.136479</td>\n",
              "      <td>3.614688</td>\n",
              "      <td>3.774849</td>\n",
              "      <td>4.020561</td>\n",
              "      <td>4.428873</td>\n",
              "      <td>4.879525</td>\n",
              "      <td>5.327328</td>\n",
              "      <td>5.728153</td>\n",
              "      <td>5.967102</td>\n",
              "      <td>6.121929</td>\n",
              "    </tr>\n",
              "    <tr>\n",
              "      <th>3</th>\n",
              "      <td>1</td>\n",
              "      <td>2.5</td>\n",
              "      <td>0.695974</td>\n",
              "      <td>5.672889</td>\n",
              "      <td>0.129678</td>\n",
              "      <td>4.342341</td>\n",
              "      <td>4.503255</td>\n",
              "      <td>4.754479</td>\n",
              "      <td>5.183378</td>\n",
              "      <td>5.672889</td>\n",
              "      <td>6.175598</td>\n",
              "      <td>6.638979</td>\n",
              "      <td>6.921119</td>\n",
              "      <td>7.106250</td>\n",
              "    </tr>\n",
              "    <tr>\n",
              "      <th>4</th>\n",
              "      <td>1</td>\n",
              "      <td>3.5</td>\n",
              "      <td>0.419815</td>\n",
              "      <td>6.391392</td>\n",
              "      <td>0.124717</td>\n",
              "      <td>4.992898</td>\n",
              "      <td>5.157412</td>\n",
              "      <td>5.416803</td>\n",
              "      <td>5.866806</td>\n",
              "      <td>6.391392</td>\n",
              "      <td>6.942217</td>\n",
              "      <td>7.460702</td>\n",
              "      <td>7.781401</td>\n",
              "      <td>7.993878</td>\n",
              "    </tr>\n",
              "    <tr>\n",
              "      <th>5</th>\n",
              "      <td>1</td>\n",
              "      <td>4.5</td>\n",
              "      <td>0.219867</td>\n",
              "      <td>7.041836</td>\n",
              "      <td>0.121040</td>\n",
              "      <td>5.575169</td>\n",
              "      <td>5.744752</td>\n",
              "      <td>6.013716</td>\n",
              "      <td>6.484969</td>\n",
              "      <td>7.041836</td>\n",
              "      <td>7.635323</td>\n",
              "      <td>8.202193</td>\n",
              "      <td>8.556813</td>\n",
              "      <td>8.793444</td>\n",
              "    </tr>\n",
              "    <tr>\n",
              "      <th>6</th>\n",
              "      <td>1</td>\n",
              "      <td>5.5</td>\n",
              "      <td>0.077506</td>\n",
              "      <td>7.630425</td>\n",
              "      <td>0.118271</td>\n",
              "      <td>6.096775</td>\n",
              "      <td>6.272175</td>\n",
              "      <td>6.551379</td>\n",
              "      <td>7.043627</td>\n",
              "      <td>7.630425</td>\n",
              "      <td>8.262033</td>\n",
              "      <td>8.871384</td>\n",
              "      <td>9.255615</td>\n",
              "      <td>9.513307</td>\n",
              "    </tr>\n",
              "    <tr>\n",
              "      <th>7</th>\n",
              "      <td>1</td>\n",
              "      <td>6.5</td>\n",
              "      <td>-0.021908</td>\n",
              "      <td>8.162951</td>\n",
              "      <td>0.116154</td>\n",
              "      <td>6.564430</td>\n",
              "      <td>6.745993</td>\n",
              "      <td>7.035656</td>\n",
              "      <td>7.548346</td>\n",
              "      <td>8.162951</td>\n",
              "      <td>8.828786</td>\n",
              "      <td>9.475466</td>\n",
              "      <td>9.885436</td>\n",
              "      <td>10.161350</td>\n",
              "    </tr>\n",
              "    <tr>\n",
              "      <th>8</th>\n",
              "      <td>1</td>\n",
              "      <td>7.5</td>\n",
              "      <td>-0.089441</td>\n",
              "      <td>8.644832</td>\n",
              "      <td>0.114510</td>\n",
              "      <td>6.984123</td>\n",
              "      <td>7.171952</td>\n",
              "      <td>7.472021</td>\n",
              "      <td>8.004399</td>\n",
              "      <td>8.644832</td>\n",
              "      <td>9.341490</td>\n",
              "      <td>10.021014</td>\n",
              "      <td>10.453314</td>\n",
              "      <td>10.744924</td>\n",
              "    </tr>\n",
              "    <tr>\n",
              "      <th>9</th>\n",
              "      <td>1</td>\n",
              "      <td>8.5</td>\n",
              "      <td>-0.133409</td>\n",
              "      <td>9.081120</td>\n",
              "      <td>0.113217</td>\n",
              "      <td>7.361236</td>\n",
              "      <td>7.555287</td>\n",
              "      <td>7.865533</td>\n",
              "      <td>8.416719</td>\n",
              "      <td>9.081120</td>\n",
              "      <td>9.805593</td>\n",
              "      <td>10.514064</td>\n",
              "      <td>10.965736</td>\n",
              "      <td>11.270838</td>\n",
              "    </tr>\n",
              "  </tbody>\n",
              "</table>\n",
              "</div>"
            ],
            "text/plain": [
              "   Sex  Agemos         L         M  ...       P75        P90        P95        P97\n",
              "0    1     0.0  1.815151  3.530203  ...  3.879077   4.172493   4.340293   4.446488\n",
              "1    1     0.5  1.547523  4.003106  ...  4.387423   4.718161   4.910130   5.032625\n",
              "2    1     1.5  1.068796  4.879525  ...  5.327328   5.728153   5.967102   6.121929\n",
              "3    1     2.5  0.695974  5.672889  ...  6.175598   6.638979   6.921119   7.106250\n",
              "4    1     3.5  0.419815  6.391392  ...  6.942217   7.460702   7.781401   7.993878\n",
              "5    1     4.5  0.219867  7.041836  ...  7.635323   8.202193   8.556813   8.793444\n",
              "6    1     5.5  0.077506  7.630425  ...  8.262033   8.871384   9.255615   9.513307\n",
              "7    1     6.5 -0.021908  8.162951  ...  8.828786   9.475466   9.885436  10.161350\n",
              "8    1     7.5 -0.089441  8.644832  ...  9.341490  10.021014  10.453314  10.744924\n",
              "9    1     8.5 -0.133409  9.081120  ...  9.805593  10.514064  10.965736  11.270838\n",
              "\n",
              "[10 rows x 14 columns]"
            ]
          },
          "metadata": {
            "tags": []
          },
          "execution_count": 7
        }
      ]
    },
    {
      "cell_type": "code",
      "metadata": {
        "colab_type": "code",
        "id": "-QOtVVUOFZCU",
        "colab": {
          "base_uri": "https://localhost:8080/",
          "height": 33
        },
        "outputId": "ab335cb3-cfe5-4ffc-c962-1a0621825eba"
      },
      "source": [
        "# verifico cantidad de filas y columnas del dataset\n",
        "tabla_1.shape\n",
        "print (\"Luego de la limpieza, obtengo un dataframe de\", tabla_1.shape[0],\"filas y\", tabla_1.shape[1], \"col.\")\n"
      ],
      "execution_count": null,
      "outputs": [
        {
          "output_type": "stream",
          "text": [
            "Luego de la limpieza, obtengo un dataframe de 76 filas y 14 col.\n"
          ],
          "name": "stdout"
        }
      ]
    },
    {
      "cell_type": "code",
      "metadata": {
        "id": "xdgNX3GW2p57",
        "colab_type": "code",
        "colab": {
          "base_uri": "https://localhost:8080/",
          "height": 67
        },
        "outputId": "6145b439-55ae-4e69-f6b8-d6c985eb9503"
      },
      "source": [
        "# reviso las columnas del dataset\n",
        "tabla_1.columns"
      ],
      "execution_count": null,
      "outputs": [
        {
          "output_type": "execute_result",
          "data": {
            "text/plain": [
              "Index(['Sex', 'Agemos', 'L', 'M', 'S', 'P3', 'P5', 'P10', 'P25', 'P50', 'P75',\n",
              "       'P90', 'P95', 'P97'],\n",
              "      dtype='object')"
            ]
          },
          "metadata": {
            "tags": []
          },
          "execution_count": 5
        }
      ]
    },
    {
      "cell_type": "markdown",
      "metadata": {
        "id": "Sj77CbxSCfTo",
        "colab_type": "text"
      },
      "source": [
        "## Visualización de datos"
      ]
    },
    {
      "cell_type": "markdown",
      "metadata": {
        "id": "SqXCipUo9lx-",
        "colab_type": "text"
      },
      "source": [
        "### Gráfico de las curvas de percentiles correspondientes a niños"
      ]
    },
    {
      "cell_type": "code",
      "metadata": {
        "id": "YLQHu0ko3FOU",
        "colab_type": "code",
        "colab": {
          "base_uri": "https://localhost:8080/",
          "height": 421
        },
        "outputId": "af3ba235-0feb-47e1-8fd8-1c48a126aac1"
      },
      "source": [
        "# gráfico de percentiles con peso de niños (sexo=1) \n",
        "filtrado= tabla_1[tabla_1.Sex==1]\n",
        "\n",
        "plt.figure(figsize=(12,6))\n",
        "seaborn.lineplot(data= filtrado, x=\"Agemos\", y='P3', color='BLUE')\n",
        "seaborn.lineplot(data= filtrado, x=\"Agemos\", y='P5', color='BLUE')\n",
        "seaborn.lineplot(data= filtrado, x=\"Agemos\", y='P10', color='BLUE')\n",
        "seaborn.lineplot(data= filtrado, x=\"Agemos\", y='P25', color='BLUE')\n",
        "seaborn.lineplot(data= filtrado, x=\"Agemos\", y='P50', color='BLUE')\n",
        "seaborn.lineplot(data= filtrado, x=\"Agemos\", y='P75', color='BLUE')\n",
        "seaborn.lineplot(data= filtrado, x=\"Agemos\", y='P90', color='BLUE')\n",
        "seaborn.lineplot(data= filtrado, x=\"Agemos\", y='P95', color='BLUE')\n",
        "seaborn.lineplot(data= filtrado, x=\"Agemos\", y='P97', color='BLUE')\n",
        "plt.title('Percentiles de peso  de niños según la edad',\n",
        "             fontsize=12, weight=\"bold\")\n",
        "plt.xlabel('Edad')\n",
        "plt.ylabel('Peso')"
      ],
      "execution_count": null,
      "outputs": [
        {
          "output_type": "execute_result",
          "data": {
            "text/plain": [
              "Text(0, 0.5, 'Peso')"
            ]
          },
          "metadata": {
            "tags": []
          },
          "execution_count": 8
        },
        {
          "output_type": "display_data",
          "data": {
            "image/png": "[encoded data removed]",
            "text/plain": [
              "<Figure size 864x432 with 1 Axes>"
            ]
          },
          "metadata": {
            "tags": [],
            "needs_background": "light"
          }
        }
      ]
    },
    {
      "cell_type": "markdown",
      "metadata": {
        "id": "rFWWNkru9q7d",
        "colab_type": "text"
      },
      "source": [
        "### Gráfico de las curvas de percentiles correspondientes a niñas"
      ]
    },
    {
      "cell_type": "code",
      "metadata": {
        "id": "1z6zKEwy4K-4",
        "colab_type": "code",
        "colab": {
          "base_uri": "https://localhost:8080/",
          "height": 421
        },
        "outputId": "7908df0b-4efb-4e2a-86f9-c594e4094405"
      },
      "source": [
        "# gráfico de percentiles con peso de Niñas (sexo=2)\n",
        "filtrado= tabla_1[tabla_1.Sex==2]\n",
        "plt.figure(figsize=(12,6))\n",
        "\n",
        "seaborn.lineplot(data= filtrado, x=\"Agemos\", y='P3', color='BLUE')\n",
        "seaborn.lineplot(data= filtrado, x=\"Agemos\", y='P5', color='BLUE')\n",
        "seaborn.lineplot(data= filtrado, x=\"Agemos\", y='P10', color='BLUE')\n",
        "seaborn.lineplot(data= filtrado, x=\"Agemos\", y='P25', color='BLUE')\n",
        "seaborn.lineplot(data= filtrado, x=\"Agemos\", y='P50', color='BLUE')\n",
        "seaborn.lineplot(data= filtrado, x=\"Agemos\", y='P75', color='BLUE')\n",
        "seaborn.lineplot(data= filtrado, x=\"Agemos\", y='P90', color='BLUE')\n",
        "seaborn.lineplot(data= filtrado, x=\"Agemos\", y='P95', color='BLUE')\n",
        "seaborn.lineplot(data= filtrado, x=\"Agemos\", y='P97', color='BLUE')\n",
        "plt.title('Percentiles de peso  de niñas según la edad',\n",
        "             fontsize=12, weight=\"bold\")\n",
        "plt.xlabel('Edad')\n",
        "plt.ylabel('Peso')"
      ],
      "execution_count": null,
      "outputs": [
        {
          "output_type": "execute_result",
          "data": {
            "text/plain": [
              "Text(0, 0.5, 'Peso')"
            ]
          },
          "metadata": {
            "tags": []
          },
          "execution_count": 16
        },
        {
          "output_type": "display_data",
          "data": {
            "image/png": "[encoded data removed]",
            "text/plain": [
              "<Figure size 864x432 with 1 Axes>"
            ]
          },
          "metadata": {
            "tags": [],
            "needs_background": "light"
          }
        }
      ]
    },
    {
      "cell_type": "markdown",
      "metadata": {
        "id": "DhPl2Sc06Oxe",
        "colab_type": "text"
      },
      "source": [
        "## **Ejercicio Nro. 2: Pasos Fronterizos**\n",
        "\n",
        " Cantidad de pasos fronterizos por provincia"
      ]
    },
    {
      "cell_type": "markdown",
      "metadata": {
        "id": "wtj1sbLl-UJw",
        "colab_type": "text"
      },
      "source": [
        "### Lectura del archivo json"
      ]
    },
    {
      "cell_type": "code",
      "metadata": {
        "id": "zANfHC8w6Ofh",
        "colab_type": "code",
        "colab": {
          "base_uri": "https://localhost:8080/",
          "height": 404
        },
        "outputId": "a41d41e0-7340-402b-d559-69e4a7a05bd5"
      },
      "source": [
        "pasos = pd.read_json(BASE_DIR + \"/input/pasos.json\")\n",
        "pasos"
      ],
      "execution_count": null,
      "outputs": [
        {
          "output_type": "execute_result",
          "data": {
            "text/html": [
              "<div>\n",
              "<style scoped>\n",
              "    .dataframe tbody tr th:only-of-type {\n",
              "        vertical-align: middle;\n",
              "    }\n",
              "\n",
              "    .dataframe tbody tr th {\n",
              "        vertical-align: top;\n",
              "    }\n",
              "\n",
              "    .dataframe thead th {\n",
              "        text-align: right;\n",
              "    }\n",
              "</style>\n",
              "<table border=\"1\" class=\"dataframe\">\n",
              "  <thead>\n",
              "    <tr style=\"text-align: right;\">\n",
              "      <th></th>\n",
              "      <th>province</th>\n",
              "      <th>location</th>\n",
              "      <th>name</th>\n",
              "    </tr>\n",
              "  </thead>\n",
              "  <tbody>\n",
              "    <tr>\n",
              "      <th>0</th>\n",
              "      <td>Tierra del Fuego</td>\n",
              "      <td>[-54.832543, -68.3712885]</td>\n",
              "      <td>SAN SEBASTIAN  ( USHUAIA )</td>\n",
              "    </tr>\n",
              "    <tr>\n",
              "      <th>1</th>\n",
              "      <td>Tierra del Fuego</td>\n",
              "      <td>[-54.8249379, -68.3258626]</td>\n",
              "      <td>AERO PUBLICO DE USHUAIA</td>\n",
              "    </tr>\n",
              "    <tr>\n",
              "      <th>2</th>\n",
              "      <td>Tierra del Fuego</td>\n",
              "      <td>[-54.8096728, -68.3114748]</td>\n",
              "      <td>PUERTO USHUAIA (PREFECTURA)</td>\n",
              "    </tr>\n",
              "    <tr>\n",
              "      <th>3</th>\n",
              "      <td>Tierra del Fuego</td>\n",
              "      <td>[-54.8019121, -68.3029511]</td>\n",
              "      <td>PUERTO USHUAIA</td>\n",
              "    </tr>\n",
              "    <tr>\n",
              "      <th>4</th>\n",
              "      <td>Santa Cruz</td>\n",
              "      <td>[-51.6896359, -72.2993574]</td>\n",
              "      <td>PASO LAURITA CASAS VIEJAS</td>\n",
              "    </tr>\n",
              "    <tr>\n",
              "      <th>...</th>\n",
              "      <td>...</td>\n",
              "      <td>...</td>\n",
              "      <td>...</td>\n",
              "    </tr>\n",
              "    <tr>\n",
              "      <th>247</th>\n",
              "      <td>Chubut</td>\n",
              "      <td>[-45.2213569, -71.3610803]</td>\n",
              "      <td>PASO PAMPA ALTA</td>\n",
              "    </tr>\n",
              "    <tr>\n",
              "      <th>248</th>\n",
              "      <td>Santa Cruz</td>\n",
              "      <td>[-48.8772007, -72.7288579]</td>\n",
              "      <td>PASO PORTEZUELO DE LA DIVISORIA</td>\n",
              "    </tr>\n",
              "    <tr>\n",
              "      <th>249</th>\n",
              "      <td>Buenos Aires</td>\n",
              "      <td>[-34.1176359, -57.9897668]</td>\n",
              "      <td>ROU COLONIA</td>\n",
              "    </tr>\n",
              "    <tr>\n",
              "      <th>250</th>\n",
              "      <td>Buenos Aires</td>\n",
              "      <td>[-34.1176359, -57.9897668]</td>\n",
              "      <td>ROU COLONIA</td>\n",
              "    </tr>\n",
              "    <tr>\n",
              "      <th>251</th>\n",
              "      <td>Misiones</td>\n",
              "      <td>[-25.6221088, -54.6080637]</td>\n",
              "      <td>ZONA FRANCA IGUAZU (TRANSITO)</td>\n",
              "    </tr>\n",
              "  </tbody>\n",
              "</table>\n",
              "<p>252 rows × 3 columns</p>\n",
              "</div>"
            ],
            "text/plain": [
              "             province  ...                             name\n",
              "0    Tierra del Fuego  ...       SAN SEBASTIAN  ( USHUAIA )\n",
              "1    Tierra del Fuego  ...          AERO PUBLICO DE USHUAIA\n",
              "2    Tierra del Fuego  ...      PUERTO USHUAIA (PREFECTURA)\n",
              "3    Tierra del Fuego  ...                   PUERTO USHUAIA\n",
              "4          Santa Cruz  ...        PASO LAURITA CASAS VIEJAS\n",
              "..                ...  ...                              ...\n",
              "247            Chubut  ...                  PASO PAMPA ALTA\n",
              "248        Santa Cruz  ...  PASO PORTEZUELO DE LA DIVISORIA\n",
              "249      Buenos Aires  ...                      ROU COLONIA\n",
              "250      Buenos Aires  ...                      ROU COLONIA\n",
              "251          Misiones  ...    ZONA FRANCA IGUAZU (TRANSITO)\n",
              "\n",
              "[252 rows x 3 columns]"
            ]
          },
          "metadata": {
            "tags": []
          },
          "execution_count": 11
        }
      ]
    },
    {
      "cell_type": "markdown",
      "metadata": {
        "id": "K4Qbfh4sIqhU",
        "colab_type": "text"
      },
      "source": [
        "### Curación de datos"
      ]
    },
    {
      "cell_type": "code",
      "metadata": {
        "id": "XbrJ3cSz5lBq",
        "colab_type": "code",
        "colab": {}
      },
      "source": [
        "# se convierten todos los caracteres a mayúsculas para unificar los valores \n",
        "pasos[\"province\"] = pasos.province.str.upper()  #lower\n"
      ],
      "execution_count": null,
      "outputs": []
    },
    {
      "cell_type": "markdown",
      "metadata": {
        "id": "h11q_8Kt7WuZ",
        "colab_type": "text"
      },
      "source": [
        "El aeropuerto Norberto Fernandez está en Santa Cruz, así que realizamos la corrección."
      ]
    },
    {
      "cell_type": "code",
      "metadata": {
        "id": "T14P-0bs6sNM",
        "colab_type": "code",
        "colab": {}
      },
      "source": [
        "pasos[\"province\"] = pasos.province.str.replace(\"AEROPUERTO INTERNACIONAL PILOTO CIVIL NORBERTO FERNANDEZ\", \"SANTA CRUZ\")\n",
        "pasos[\"province\"] = pasos.province.str.replace(\"CORDOBA\", \"CÓRDOBA\")\n",
        "pasos[\"province\"] = pasos.province.str.replace(\"NEUQUEN\", \"NEUQUÉN\")\n",
        "pasos[\"province\"] = pasos.province.str.replace(\"TUCUMAN\", \"TUCUMÁN\")"
      ],
      "execution_count": null,
      "outputs": []
    },
    {
      "cell_type": "markdown",
      "metadata": {
        "id": "5zHQ13m9-Ykm",
        "colab_type": "text"
      },
      "source": [
        "### Gráfico de barras con la cantidad de pasos fronterizos por provincia"
      ]
    },
    {
      "cell_type": "code",
      "metadata": {
        "id": "LGafN4oa6qmt",
        "colab_type": "code",
        "colab": {
          "base_uri": "https://localhost:8080/",
          "height": 528
        },
        "outputId": "1c162c4a-496f-46e3-911a-845173026f7b"
      },
      "source": [
        "plt.figure(figsize=(12,6))\n",
        "seaborn.countplot(x=pasos.province)\n",
        "plt.xticks(rotation=90)\n",
        "plt.title('Pasos fronterizos por provincia',\n",
        "             fontsize=12, weight=\"bold\")\n",
        "plt.xlabel('Provincias Argentinas')\n",
        "plt.ylabel('Cantidad de pasos fronterizos')"
      ],
      "execution_count": null,
      "outputs": [
        {
          "output_type": "execute_result",
          "data": {
            "text/plain": [
              "Text(0, 0.5, 'Cantidad de pasos fronterizos')"
            ]
          },
          "metadata": {
            "tags": []
          },
          "execution_count": 14
        },
        {
          "output_type": "display_data",
          "data": {
            "image/png": "[encoded data removed]",
            "text/plain": [
              "<Figure size 864x432 with 1 Axes>"
            ]
          },
          "metadata": {
            "tags": [],
            "needs_background": "light"
          }
        }
      ]
    },
    {
      "cell_type": "markdown",
      "metadata": {
        "id": "kDsILCsI-kgi",
        "colab_type": "text"
      },
      "source": [
        "## **Ejercicio Nro. 3: Representación de Grafos**\n"
      ]
    },
    {
      "cell_type": "markdown",
      "metadata": {
        "id": "pjnpoXNFdvoI",
        "colab_type": "text"
      },
      "source": [
        "Grafo como lista de aristas"
      ]
    },
    {
      "cell_type": "code",
      "metadata": {
        "id": "bjm0I32eZOp2",
        "colab_type": "code",
        "colab": {}
      },
      "source": [
        "edgeList = [ [0, 2], [1, 3], [2, 3], [2, 4], [3, 5], [4, 5] ];"
      ],
      "execution_count": null,
      "outputs": []
    },
    {
      "cell_type": "markdown",
      "metadata": {
        "id": "kaQIhYUUZOPB",
        "colab_type": "text"
      },
      "source": [
        "¿Cómo sería la representación del grafo anterior como matriz de adyacencia (adjMatrix = [...]) y como lista de adyacencia (adjList = [...])?"
      ]
    },
    {
      "cell_type": "code",
      "metadata": {
        "id": "xk-sAAzgZM51",
        "colab_type": "code",
        "colab": {}
      },
      "source": [
        "# Tres formas distintas de representar un grafo:\n",
        "\n",
        "# 1. Como lista de aristas\n",
        "edgeList = [ [0, 2], [1, 3], [2, 3], [2, 4], [3, 5], [4, 5] ]\n",
        "\n",
        "# 2. Como matriz de adyacencia\n",
        "adjMatrix = [[0,0,1,0,0,0],\n",
        "             [0,0,0,1,0,0],\n",
        "             [0,0,0,1,1,0],\n",
        "             [0,0,0,0,0,1],\n",
        "             [0,0,0,0,0,1],\n",
        "             [0,0,0,0,0,0]]\n",
        "\n",
        "# 3. Como lista de adyacencia             \n",
        "adjList = [[2],\n",
        "           [3],\n",
        "           [3,4],\n",
        "           [5],\n",
        "           [5],\n",
        "           []]"
      ],
      "execution_count": null,
      "outputs": []
    }
  ]
}