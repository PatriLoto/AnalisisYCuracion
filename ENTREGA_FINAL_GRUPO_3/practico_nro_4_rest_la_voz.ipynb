{
  "nbformat": 4,
  "nbformat_minor": 0,
  "metadata": {
    "colab": {
      "name": "practico_nro_4_rest_la_voz.ipynb",
      "provenance": [],
      "collapsed_sections": []
    },
    "kernelspec": {
      "name": "python3",
      "display_name": "Python 3"
    }
  },
  "cells": [
    {
      "cell_type": "markdown",
      "metadata": {
        "id": "iRV5gl2-16Lu",
        "colab_type": "text"
      },
      "source": [
        "# Práctico Nro. 4: Recolección de datos.\n",
        "Descargar títulos de artículos de Tecnología de La Voz del Interior  \n",
        "Ayuda 1 : https://www.lavoz.com.ar/rss/tecnologia.xml  \n"
      ]
    },
    {
      "cell_type": "markdown",
      "metadata": {
        "id": "29P0EEJcYbqJ",
        "colab_type": "text"
      },
      "source": [
        "# Recolección de datos.\n",
        "Link de profes: https://github.com/playgrdstar/rss_ingestion/blob/master/RSS%20Ingestion.ipynb"
      ]
    },
    {
      "cell_type": "markdown",
      "metadata": {
        "id": "4P8gp3ntRj1y",
        "colab_type": "text"
      },
      "source": [
        "Intalación de librería"
      ]
    },
    {
      "cell_type": "code",
      "metadata": {
        "id": "5sly7AAFRcy2",
        "colab_type": "code",
        "colab": {
          "base_uri": "https://localhost:8080/",
          "height": 184
        },
        "outputId": "9c8d2c76-273e-4044-87cf-4b7614c5e307"
      },
      "source": [
        "pip install feedparser"
      ],
      "execution_count": null,
      "outputs": [
        {
          "output_type": "stream",
          "text": [
            "Collecting feedparser\n",
            "\u001b[?25l  Downloading https://files.pythonhosted.org/packages/91/d8/7d37fec71ff7c9dbcdd80d2b48bcdd86d6af502156fc93846fb0102cb2c4/feedparser-5.2.1.tar.bz2 (192kB)\n",
            "\r\u001b[K     |█▊                              | 10kB 18.6MB/s eta 0:00:01\r\u001b[K     |███▍                            | 20kB 1.7MB/s eta 0:00:01\r\u001b[K     |█████▏                          | 30kB 2.2MB/s eta 0:00:01\r\u001b[K     |██████▉                         | 40kB 2.5MB/s eta 0:00:01\r\u001b[K     |████████▌                       | 51kB 2.0MB/s eta 0:00:01\r\u001b[K     |██████████▎                     | 61kB 2.2MB/s eta 0:00:01\r\u001b[K     |████████████                    | 71kB 2.4MB/s eta 0:00:01\r\u001b[K     |█████████████▋                  | 81kB 2.7MB/s eta 0:00:01\r\u001b[K     |███████████████▍                | 92kB 2.9MB/s eta 0:00:01\r\u001b[K     |█████████████████               | 102kB 2.8MB/s eta 0:00:01\r\u001b[K     |██████████████████▊             | 112kB 2.8MB/s eta 0:00:01\r\u001b[K     |████████████████████▌           | 122kB 2.8MB/s eta 0:00:01\r\u001b[K     |██████████████████████▏         | 133kB 2.8MB/s eta 0:00:01\r\u001b[K     |███████████████████████▉        | 143kB 2.8MB/s eta 0:00:01\r\u001b[K     |█████████████████████████▋      | 153kB 2.8MB/s eta 0:00:01\r\u001b[K     |███████████████████████████▎    | 163kB 2.8MB/s eta 0:00:01\r\u001b[K     |█████████████████████████████   | 174kB 2.8MB/s eta 0:00:01\r\u001b[K     |██████████████████████████████▊ | 184kB 2.8MB/s eta 0:00:01\r\u001b[K     |████████████████████████████████| 194kB 2.8MB/s \n",
            "\u001b[?25hBuilding wheels for collected packages: feedparser\n",
            "  Building wheel for feedparser (setup.py) ... \u001b[?25l\u001b[?25hdone\n",
            "  Created wheel for feedparser: filename=feedparser-5.2.1-cp36-none-any.whl size=44940 sha256=c922ab45e44c08b8a14399d93d7c6f5e55cc9dff2bea08ccc6e9e6740daabb3e\n",
            "  Stored in directory: /root/.cache/pip/wheels/8c/69/b7/f52763c41c5471df57703a0ef718a32a5e81ee35dcf6d4f97f\n",
            "Successfully built feedparser\n",
            "Installing collected packages: feedparser\n",
            "Successfully installed feedparser-5.2.1\n"
          ],
          "name": "stdout"
        }
      ]
    },
    {
      "cell_type": "code",
      "metadata": {
        "id": "fEBTwSjySkuV",
        "colab_type": "code",
        "colab": {
          "base_uri": "https://localhost:8080/",
          "height": 50
        },
        "outputId": "79ea6e92-fc19-495f-a138-2a7402274a57"
      },
      "source": [
        "pip install python-slugify"
      ],
      "execution_count": null,
      "outputs": [
        {
          "output_type": "stream",
          "text": [
            "Requirement already satisfied: python-slugify in /usr/local/lib/python3.6/dist-packages (4.0.1)\n",
            "Requirement already satisfied: text-unidecode>=1.3 in /usr/local/lib/python3.6/dist-packages (from python-slugify) (1.3)\n"
          ],
          "name": "stdout"
        }
      ]
    },
    {
      "cell_type": "code",
      "metadata": {
        "id": "m_b5W-7PSxGw",
        "colab_type": "code",
        "colab": {}
      },
      "source": [
        "import bs4\n",
        "import feedparser\n",
        "from slugify import slugify\n",
        "import os"
      ],
      "execution_count": null,
      "outputs": []
    },
    {
      "cell_type": "code",
      "metadata": {
        "id": "2wrfbVHVRq81",
        "colab_type": "code",
        "colab": {
          "base_uri": "https://localhost:8080/",
          "height": 35
        },
        "outputId": "4ee34873-339a-45d8-f50f-e55130fec817"
      },
      "source": [
        "datos_la_voz= feedparser.parse('https://www.lavoz.com.ar/rss/tecnologia.xml')  # funciona\n",
        "# feeds = ['https://www.lavoz.com.ar/rss/tecnologia.xml']  # tbm funciona\n",
        "datos_la_voz['feed'] ['title']\n"
      ],
      "execution_count": null,
      "outputs": [
        {
          "output_type": "execute_result",
          "data": {
            "application/vnd.google.colaboratory.intrinsic+json": {
              "type": "string"
            },
            "text/plain": [
              "'LaVoz.com.ar | Tecnología'"
            ]
          },
          "metadata": {
            "tags": []
          },
          "execution_count": 6
        }
      ]
    },
    {
      "cell_type": "code",
      "metadata": {
        "id": "qO-HgcbGUeQv",
        "colab_type": "code",
        "colab": {
          "base_uri": "https://localhost:8080/",
          "height": 518
        },
        "outputId": "3a951075-fee0-470b-fd7d-9113b6a9095f"
      },
      "source": [
        "for item in datos_la_voz['entries']:\n",
        "    print(\"-\", item['title'])"
      ],
      "execution_count": null,
      "outputs": [
        {
          "output_type": "stream",
          "text": [
            "- Nuevas medidas de seguridad para Facebook Messenger: mensajes privados con autenticación biométrica\n",
            "- Lenovo presenta su primer smartphone gaming: Legion Phone Duel, optimizado para jugar en horizontal\n",
            "- Gmail verificará la identidad de las empresas con un logo para evitar correos maliciosos\n",
            "- Sólo Facebook sabe qué es lo más popular en su red social\n",
            "- Día del Amigo: las videollamadas por Whatsapp crecieron 500% este lunes\n",
            "- Netflix llega a la pantalla inteligente de Google, Nest Hub\n",
            "- Más de la mitad de la población mundial ya usa redes sociales\n",
            "- Hackeo a Wattpad expuso los datos de más de 271 millones de usuarios\n",
            "- Ransomware: un ataque de hackers afectó el sistema interno de Telecom\n",
            "- El nuevo altavoz inalámbrico de Sony integra un mando para escuchar la televisión en cualquier parte de la casa\n",
            "- Los hackers descargaron el historial de datos de 8 de las cuentas afectadas por el ataque a Twitter\n",
            "- Tamales, montoncito de dedos y trans: estos son los nuevos emojis que llegan a iPhone en septiembre\n",
            "- Día Mundial del Emoji: cuáles son sus significados según el contexto cultural\n",
            "- Twitter confirmó que fueron 130 las cuentas hackeadas\n",
            "- Zoom soluciona un fallo de seguridad en la personalización de url que permitía lanzar campañas de phishing\n",
            "- Ultra rápida: lanzan un sistema que carga el 33% de la batería del celu en tres minutos\n",
            "- La explicación de Twitter al hackeo masivo de cuentas\n",
            "- Hackearon las cuentas de Twitter de Obama, Biden y Gates\n",
            "- Facebook transmitirá videos musicales con licencia oficial a partir de agosto\n",
            "- Google Maps permite calibrar la ubicación del usuario con Live View\n",
            "- El nuevo diseño de Gmail integrará Chat, Rooms y Meet\n",
            "- Con el 5G aún en pañales, Samsung tiene fecha estimada para la llegada del 6G\n",
            "- Descubren una app de chat para Android que espía a los usuarios y roba sus datos\n",
            "- Venden un Súper Mario Bros de 1985 precintado por U$S 114.000 y se convierte en el juego más caro del mundo\n",
            "- Apple aconseja no usar protectores para tapar la webcam de los MacBook: qué alternativas propone\n",
            "- Un ratito más: la pulsera de Fitbit despertará a los usuarios \"en el mejor momento\"\n",
            "- ¿TikTok es divertido? El mundo lo ve como un asunto muy serio y con razón\n",
            "- Instagram prohibirá publicidades de \"terapias de conversión\" para personas LGTB\n",
            "- Microsoft toma el control de los dominios que usaban la Covid como anzuelo para estafas\n",
            "- Microsoft Teams: ahora los que estén en una videollamada podrán verse \"uno al lado del otro\"\n"
          ],
          "name": "stdout"
        }
      ]
    },
    {
      "cell_type": "markdown",
      "metadata": {
        "id": "J7MbdQ38RuxX",
        "colab_type": "text"
      },
      "source": [
        "Guía: https://github.com/playgrdstar/rss_ingestion/blob/master/RSS%20Ingestion.ipynb"
      ]
    },
    {
      "cell_type": "markdown",
      "metadata": {
        "id": "puAxqIMX8Y_w",
        "colab_type": "text"
      },
      "source": [
        "Material complementario: https://www.lavoz.com.ar/rss/tecnologia.xml"
      ]
    }
  ]
}