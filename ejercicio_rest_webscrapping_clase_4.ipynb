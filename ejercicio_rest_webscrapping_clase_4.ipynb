{
  "nbformat": 4,
  "nbformat_minor": 0,
  "metadata": {
    "colab": {
      "name": "ejercicio_rest_clase_04.ipynb",
      "provenance": [],
      "collapsed_sections": []
    },
    "kernelspec": {
      "name": "python3",
      "display_name": "Python 3"
    }
  },
  "cells": [
    {
      "cell_type": "markdown",
      "metadata": {
        "id": "29P0EEJcYbqJ",
        "colab_type": "text"
      },
      "source": [
        "# Ejemplo de recolección de datos.\n",
        "Link de profes: https://github.com/playgrdstar/rss_ingestion/blob/master/RSS%20Ingestion.ipynb"
      ]
    },
    {
      "cell_type": "markdown",
      "metadata": {
        "id": "4P8gp3ntRj1y",
        "colab_type": "text"
      },
      "source": [
        "Intalación de librería"
      ]
    },
    {
      "cell_type": "code",
      "metadata": {
        "id": "5sly7AAFRcy2",
        "colab_type": "code",
        "colab": {
          "base_uri": "https://localhost:8080/",
          "height": 213
        },
        "outputId": "e490822b-a3b2-4468-a1cb-7769081382c2"
      },
      "source": [
        "pip install feedparser"
      ],
      "execution_count": 1,
      "outputs": [
        {
          "output_type": "stream",
          "text": [
            "Collecting feedparser\n",
            "\u001b[?25l  Downloading https://files.pythonhosted.org/packages/91/d8/7d37fec71ff7c9dbcdd80d2b48bcdd86d6af502156fc93846fb0102cb2c4/feedparser-5.2.1.tar.bz2 (192kB)\n",
            "\r\u001b[K     |█▊                              | 10kB 21.7MB/s eta 0:00:01\r\u001b[K     |███▍                            | 20kB 1.7MB/s eta 0:00:01\r\u001b[K     |█████▏                          | 30kB 2.3MB/s eta 0:00:01\r\u001b[K     |██████▉                         | 40kB 2.5MB/s eta 0:00:01\r\u001b[K     |████████▌                       | 51kB 2.0MB/s eta 0:00:01\r\u001b[K     |██████████▎                     | 61kB 2.2MB/s eta 0:00:01\r\u001b[K     |████████████                    | 71kB 2.5MB/s eta 0:00:01\r\u001b[K     |█████████████▋                  | 81kB 2.7MB/s eta 0:00:01\r\u001b[K     |███████████████▍                | 92kB 2.9MB/s eta 0:00:01\r\u001b[K     |█████████████████               | 102kB 2.8MB/s eta 0:00:01\r\u001b[K     |██████████████████▊             | 112kB 2.8MB/s eta 0:00:01\r\u001b[K     |████████████████████▌           | 122kB 2.8MB/s eta 0:00:01\r\u001b[K     |██████████████████████▏         | 133kB 2.8MB/s eta 0:00:01\r\u001b[K     |███████████████████████▉        | 143kB 2.8MB/s eta 0:00:01\r\u001b[K     |█████████████████████████▋      | 153kB 2.8MB/s eta 0:00:01\r\u001b[K     |███████████████████████████▎    | 163kB 2.8MB/s eta 0:00:01\r\u001b[K     |█████████████████████████████   | 174kB 2.8MB/s eta 0:00:01\r\u001b[K     |██████████████████████████████▊ | 184kB 2.8MB/s eta 0:00:01\r\u001b[K     |████████████████████████████████| 194kB 2.8MB/s \n",
            "\u001b[?25hBuilding wheels for collected packages: feedparser\n",
            "  Building wheel for feedparser (setup.py) ... \u001b[?25l\u001b[?25hdone\n",
            "  Created wheel for feedparser: filename=feedparser-5.2.1-cp36-none-any.whl size=44940 sha256=05b2d4f15a46ac1da34f2460ac629ad8fe7e2d76567b4444990ea77805c92dc7\n",
            "  Stored in directory: /root/.cache/pip/wheels/8c/69/b7/f52763c41c5471df57703a0ef718a32a5e81ee35dcf6d4f97f\n",
            "Successfully built feedparser\n",
            "Installing collected packages: feedparser\n",
            "Successfully installed feedparser-5.2.1\n"
          ],
          "name": "stdout"
        }
      ]
    },
    {
      "cell_type": "code",
      "metadata": {
        "id": "fEBTwSjySkuV",
        "colab_type": "code",
        "colab": {
          "base_uri": "https://localhost:8080/",
          "height": 72
        },
        "outputId": "e9508cec-6b19-4458-e8d7-7db4312c6688"
      },
      "source": [
        "pip install python-slugify"
      ],
      "execution_count": 4,
      "outputs": [
        {
          "output_type": "stream",
          "text": [
            "Requirement already satisfied: python-slugify in /usr/local/lib/python3.6/dist-packages (4.0.0)\n",
            "Requirement already satisfied: text-unidecode>=1.3 in /usr/local/lib/python3.6/dist-packages (from python-slugify) (1.3)\n"
          ],
          "name": "stdout"
        }
      ]
    },
    {
      "cell_type": "code",
      "metadata": {
        "id": "m_b5W-7PSxGw",
        "colab_type": "code",
        "colab": {}
      },
      "source": [
        "import bs4\n",
        "import feedparser\n",
        "from slugify import slugify\n",
        "import os"
      ],
      "execution_count": 6,
      "outputs": []
    },
    {
      "cell_type": "code",
      "metadata": {
        "id": "2wrfbVHVRq81",
        "colab_type": "code",
        "colab": {
          "base_uri": "https://localhost:8080/",
          "height": 35
        },
        "outputId": "fa0ad079-b00f-4153-84f9-1f67c8a62deb"
      },
      "source": [
        "# feedparser.parse(rss_url)\n",
        "datos_la_voz= feedparser.parse('https://www.lavoz.com.ar/rss/tecnologia.xml')  # funciona\n",
        "# feeds = ['https://www.lavoz.com.ar/rss/tecnologia.xml']  # tbm funciona\n",
        "datos_la_voz['feed'] ['title']\n",
        "#feeds.entries"
      ],
      "execution_count": 33,
      "outputs": [
        {
          "output_type": "execute_result",
          "data": {
            "application/vnd.google.colaboratory.intrinsic": {
              "type": "string"
            },
            "text/plain": [
              "'LaVoz.com.ar | Tecnología'"
            ]
          },
          "metadata": {
            "tags": []
          },
          "execution_count": 33
        }
      ]
    },
    {
      "cell_type": "code",
      "metadata": {
        "id": "qO-HgcbGUeQv",
        "colab_type": "code",
        "colab": {
          "base_uri": "https://localhost:8080/",
          "height": 565
        },
        "outputId": "4189f354-8f94-417a-9cac-6c4fab44e11e"
      },
      "source": [
        "#datos_feed.entries\n",
        "for item in datos_la_voz['entries']:\n",
        "    print(\"-\", item['title'])"
      ],
      "execution_count": 34,
      "outputs": [
        {
          "output_type": "stream",
          "text": [
            "- Ubisoft lanza el juego marcado para ser un nuevo \"battle royal\", sólo que urbano y futurista\n",
            "- El primer smartphone enrollable ya se está fabricando: LG se anota primero\n",
            "- Este guante con sensores traduce la lengua de signos a voz en tiempo real\n",
            "- Microsoft muestra el nuevo diseño del menú de Windows: fondo unificado y disponible en temas de color claro y oscuro\n",
            "- Una campaña de 'malware' envía SMS falsos a usuarios de Android para robar datos\n",
            "- Lo que se viene en WhatsApp: stickers animados, códigos QR y más\n",
            "- Huawei y Samsung acaparan el mercado mundial de smartphones\n",
            "- Duró poco: Facebook cierra Hobbi, su 'app' experimental similar a Pinterest\n",
            "- Los altavoces portátiles Xboom Gode LG son resistentes al agua y traen una batería de hasta 24 horas\n",
            "- Google Fotos desactiva la copia de seguridad y la sincronización con las carpetas de apps de mensajería como WhatsApp\n",
            "- Facebook lanza una campaña de alfabetización mediática para ayudar a detectar noticias falsas\n",
            "- Facebook crea unas gafas de realidad virtual finas y compactas que parecen lentes de sol\n",
            "- Disney ya es capaz de crear 'deepfakes' con resolución de un megapíxel para su uso en efectos visuales de cine\n",
            "- Detectan problemas con Gmail en la app de Correo de Windows 10\n",
            "- El iPhone 12 no tendrá en la caja el cargador ni los auriculares, según el mayor gurú de Apple\n",
            "- Policía y reconocimiento facial: todo lo que está mal, en cinco puntos\n",
            "- ¿\"YouTok\"? YouTube prueba la grabación de videos de 15 segundos desde su app al estilo de TikTok\n",
            "- Facebook te avisará si el artículo que estás por compartir tiene más de 90 días\n",
            "- LG anuncia nuevos auriculares inalámbricos con un estuche que los limpia automáticamente y tecnología Meridian Audio\n",
            "- Inteligencia Artificial de IBM ya crea resúmenes de partidos de fútbol de forma autónoma\n",
            "- Telegram ya permite realizar videollamadas de forma experimental\n",
            "- Novedades de Google: cambian la voz de Maps y borran el historial de ubicaciones\n",
            "- Google pagará a los medios bajo un programa de licencias para un nuevo servicio de noticias\n",
            "- Revés para Facebook: el Banco Central de Brasil suspende los pagos por WhatsApp\n",
            "- Google introduce el 'fact check' en las búsquedas de imágenes\n",
            "- Google Maps prepara la integración con Uber para calcular las tarifas de las rutas\n",
            "- Microsoft anuncia el cierre de Mixer y su alianza con Facebook Gaming\n",
            "- Crean un delfín robótico de gran realismo para sustituir a los de verdad en los acuarios marinos\n",
            "- Crean Fugaku, el superordenador más potente del mundo\n",
            "- Chrome consumirá menos memoria en la nueva actualización de Windows 10\n"
          ],
          "name": "stdout"
        }
      ]
    },
    {
      "cell_type": "code",
      "metadata": {
        "id": "fFsA6BAtS8Sz",
        "colab_type": "code",
        "colab": {}
      },
      "source": [
        "parsed = feedparser.parse(feeds[0])"
      ],
      "execution_count": 35,
      "outputs": []
    },
    {
      "cell_type": "code",
      "metadata": {
        "id": "-_pUQuTpVARr",
        "colab_type": "code",
        "colab": {}
      },
      "source": [
        "posts = parsed.entries"
      ],
      "execution_count": 36,
      "outputs": []
    },
    {
      "cell_type": "code",
      "metadata": {
        "id": "QUkfun_8UFVo",
        "colab_type": "code",
        "colab": {
          "base_uri": "https://localhost:8080/",
          "height": 565
        },
        "outputId": "0b83a7fc-c871-4ae9-d75f-2266e0d0680a"
      },
      "source": [
        "\n",
        "posts[0]  # puedo ver cada título\n",
        "for item in datos_la_voz['entries']:\n",
        "    print(\"-\", item['title'])   # esta mejor es mejor"
      ],
      "execution_count": 39,
      "outputs": [
        {
          "output_type": "stream",
          "text": [
            "- Ubisoft lanza el juego marcado para ser un nuevo \"battle royal\", sólo que urbano y futurista\n",
            "- El primer smartphone enrollable ya se está fabricando: LG se anota primero\n",
            "- Este guante con sensores traduce la lengua de signos a voz en tiempo real\n",
            "- Microsoft muestra el nuevo diseño del menú de Windows: fondo unificado y disponible en temas de color claro y oscuro\n",
            "- Una campaña de 'malware' envía SMS falsos a usuarios de Android para robar datos\n",
            "- Lo que se viene en WhatsApp: stickers animados, códigos QR y más\n",
            "- Huawei y Samsung acaparan el mercado mundial de smartphones\n",
            "- Duró poco: Facebook cierra Hobbi, su 'app' experimental similar a Pinterest\n",
            "- Los altavoces portátiles Xboom Gode LG son resistentes al agua y traen una batería de hasta 24 horas\n",
            "- Google Fotos desactiva la copia de seguridad y la sincronización con las carpetas de apps de mensajería como WhatsApp\n",
            "- Facebook lanza una campaña de alfabetización mediática para ayudar a detectar noticias falsas\n",
            "- Facebook crea unas gafas de realidad virtual finas y compactas que parecen lentes de sol\n",
            "- Disney ya es capaz de crear 'deepfakes' con resolución de un megapíxel para su uso en efectos visuales de cine\n",
            "- Detectan problemas con Gmail en la app de Correo de Windows 10\n",
            "- El iPhone 12 no tendrá en la caja el cargador ni los auriculares, según el mayor gurú de Apple\n",
            "- Policía y reconocimiento facial: todo lo que está mal, en cinco puntos\n",
            "- ¿\"YouTok\"? YouTube prueba la grabación de videos de 15 segundos desde su app al estilo de TikTok\n",
            "- Facebook te avisará si el artículo que estás por compartir tiene más de 90 días\n",
            "- LG anuncia nuevos auriculares inalámbricos con un estuche que los limpia automáticamente y tecnología Meridian Audio\n",
            "- Inteligencia Artificial de IBM ya crea resúmenes de partidos de fútbol de forma autónoma\n",
            "- Telegram ya permite realizar videollamadas de forma experimental\n",
            "- Novedades de Google: cambian la voz de Maps y borran el historial de ubicaciones\n",
            "- Google pagará a los medios bajo un programa de licencias para un nuevo servicio de noticias\n",
            "- Revés para Facebook: el Banco Central de Brasil suspende los pagos por WhatsApp\n",
            "- Google introduce el 'fact check' en las búsquedas de imágenes\n",
            "- Google Maps prepara la integración con Uber para calcular las tarifas de las rutas\n",
            "- Microsoft anuncia el cierre de Mixer y su alianza con Facebook Gaming\n",
            "- Crean un delfín robótico de gran realismo para sustituir a los de verdad en los acuarios marinos\n",
            "- Crean Fugaku, el superordenador más potente del mundo\n",
            "- Chrome consumirá menos memoria en la nueva actualización de Windows 10\n"
          ],
          "name": "stdout"
        }
      ]
    },
    {
      "cell_type": "code",
      "metadata": {
        "id": "ka59BrUDUu4A",
        "colab_type": "code",
        "colab": {
          "base_uri": "https://localhost:8080/",
          "height": 35
        },
        "outputId": "831907d6-90ea-4494-bd38-9d6882b86262"
      },
      "source": [
        "\n",
        "posts[0].title"
      ],
      "execution_count": 38,
      "outputs": [
        {
          "output_type": "execute_result",
          "data": {
            "application/vnd.google.colaboratory.intrinsic": {
              "type": "string"
            },
            "text/plain": [
              "'Ubisoft lanza el juego marcado para ser un nuevo \"battle royal\", sólo que urbano y futurista'"
            ]
          },
          "metadata": {
            "tags": []
          },
          "execution_count": 38
        }
      ]
    },
    {
      "cell_type": "code",
      "metadata": {
        "id": "IRje7iWAVISE",
        "colab_type": "code",
        "colab": {}
      },
      "source": [
        "html = posts[0].content[0].get('value')\n",
        "soup = bs4.BeautifulSoup(html, 'html5lib')"
      ],
      "execution_count": 30,
      "outputs": []
    },
    {
      "cell_type": "code",
      "metadata": {
        "id": "8Wg0EQ7YVMFF",
        "colab_type": "code",
        "colab": {
          "base_uri": "https://localhost:8080/",
          "height": 34
        },
        "outputId": "f56bd095-115b-4edb-c0db-09ed40ba0740"
      },
      "source": [
        "soup.find_all('h1')"
      ],
      "execution_count": 31,
      "outputs": [
        {
          "output_type": "execute_result",
          "data": {
            "text/plain": [
              "[]"
            ]
          },
          "metadata": {
            "tags": []
          },
          "execution_count": 31
        }
      ]
    },
    {
      "cell_type": "code",
      "metadata": {
        "id": "jVpIouR_VTvw",
        "colab_type": "code",
        "colab": {
          "base_uri": "https://localhost:8080/",
          "height": 167
        },
        "outputId": "998d534b-7510-462a-abcb-543c5d67fb36"
      },
      "source": [
        " # print(post.title + \": \" + post.link + \"\")"
      ],
      "execution_count": 40,
      "outputs": [
        {
          "output_type": "error",
          "ename": "NameError",
          "evalue": "ignored",
          "traceback": [
            "\u001b[0;31m---------------------------------------------------------------------------\u001b[0m",
            "\u001b[0;31mNameError\u001b[0m                                 Traceback (most recent call last)",
            "\u001b[0;32m<ipython-input-40-b9148a4f401a>\u001b[0m in \u001b[0;36m<module>\u001b[0;34m()\u001b[0m\n\u001b[0;32m----> 1\u001b[0;31m \u001b[0mprint\u001b[0m\u001b[0;34m(\u001b[0m\u001b[0mpost\u001b[0m\u001b[0;34m.\u001b[0m\u001b[0mtitle\u001b[0m \u001b[0;34m+\u001b[0m \u001b[0;34m\": \"\u001b[0m \u001b[0;34m+\u001b[0m \u001b[0mpost\u001b[0m\u001b[0;34m.\u001b[0m\u001b[0mlink\u001b[0m \u001b[0;34m+\u001b[0m \u001b[0;34m\"\"\u001b[0m\u001b[0;34m)\u001b[0m\u001b[0;34m\u001b[0m\u001b[0;34m\u001b[0m\u001b[0m\n\u001b[0m",
            "\u001b[0;31mNameError\u001b[0m: name 'post' is not defined"
          ]
        }
      ]
    },
    {
      "cell_type": "markdown",
      "metadata": {
        "id": "J7MbdQ38RuxX",
        "colab_type": "text"
      },
      "source": [
        "Guía: https://github.com/playgrdstar/rss_ingestion/blob/master/RSS%20Ingestion.ipynb"
      ]
    },
    {
      "cell_type": "markdown",
      "metadata": {
        "id": "puAxqIMX8Y_w",
        "colab_type": "text"
      },
      "source": [
        "Material complementario: https://www.lavoz.com.ar/rss/tecnologia.xml"
      ]
    }
  ]
}