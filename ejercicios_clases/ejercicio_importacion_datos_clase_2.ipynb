{
  "nbformat": 4,
  "nbformat_minor": 0,
  "metadata": {
    "colab": {
      "name": "1_Importando_los_datos_clase_2_loto.ipynb",
      "provenance": [],
      "collapsed_sections": [
        "0LTRcod3bCM2",
        "NeVjrYP2YSu2",
        "3st8FJLCbCNN",
        "oGI_4tR0IXUz"
      ]
    },
    "kernelspec": {
      "display_name": "Python 3",
      "language": "python",
      "name": "python3"
    },
    "language_info": {
      "codemirror_mode": {
        "name": "ipython",
        "version": 3
      },
      "file_extension": ".py",
      "mimetype": "text/x-python",
      "name": "python",
      "nbconvert_exporter": "python",
      "pygments_lexer": "ipython3",
      "version": "3.7.3"
    }
  },
  "cells": [
    {
      "cell_type": "markdown",
      "metadata": {
        "id": "jFFtRM0NbCLF",
        "colab_type": "text"
      },
      "source": [
        "# Limpieza de datos"
      ]
    },
    {
      "cell_type": "markdown",
      "metadata": {
        "id": "T1XniUY8bCLG",
        "colab_type": "text"
      },
      "source": [
        "Vamos a aplicar el [checklist del Banco Mundial](https://dimewiki.worldbank.org/wiki/Checklist:_Data_Cleaning) en Python usando el [SciPy stack](https://www.scipy.org/stackspec.html), principalmente pandas"
      ]
    },
    {
      "cell_type": "markdown",
      "metadata": {
        "colab_type": "text",
        "id": "0Z9ck1e6FMXn"
      },
      "source": [
        "## 0. Prerequisitos"
      ]
    },
    {
      "cell_type": "markdown",
      "metadata": {
        "id": "h4ZegCnDbCLI",
        "colab_type": "text"
      },
      "source": [
        "Aclaración: La próxima celda es para compatilibidad con Colab, NO ES RECOMENDADO realizar pip install desde un notebook."
      ]
    },
    {
      "cell_type": "code",
      "metadata": {
        "colab_type": "code",
        "id": "53S0ap0UFLRz",
        "colab": {
          "base_uri": "https://localhost:8080/",
          "height": 142
        },
        "outputId": "871b4a09-cfbc-438f-b43d-6aaf2d710835"
      },
      "source": [
        "import sys\n",
        "in_colab = 'google.colab' in sys.modules\n",
        "\n",
        "if in_colab:\n",
        "  BASE_DIR = \"https://github.com/DiploDatos/AnalisisYCuracion/raw/master/\"\n",
        "else:\n",
        "  BASE_DIR = \"..\"\n",
        "if 'ftfy' not in sys.modules:\n",
        "    !pip install 'ftfy<5.6'"
      ],
      "execution_count": null,
      "outputs": [
        {
          "output_type": "stream",
          "text": [
            "Collecting ftfy<5.6\n",
            "\u001b[?25l  Downloading https://files.pythonhosted.org/packages/8f/86/df789c5834f15ae1ca53a8d4c1fc4788676c2e32112f6a786f2625d9c6e6/ftfy-5.5.1-py3-none-any.whl (43kB)\n",
            "\r\u001b[K     |███████▌                        | 10kB 15.9MB/s eta 0:00:01\r\u001b[K     |███████████████                 | 20kB 2.4MB/s eta 0:00:01\r\u001b[K     |██████████████████████▍         | 30kB 3.1MB/s eta 0:00:01\r\u001b[K     |█████████████████████████████▉  | 40kB 3.3MB/s eta 0:00:01\r\u001b[K     |████████████████████████████████| 51kB 2.2MB/s \n",
            "\u001b[?25hRequirement already satisfied: wcwidth in /usr/local/lib/python3.6/dist-packages (from ftfy<5.6) (0.2.5)\n",
            "Installing collected packages: ftfy\n",
            "Successfully installed ftfy-5.5.1\n"
          ],
          "name": "stdout"
        }
      ]
    },
    {
      "cell_type": "markdown",
      "metadata": {
        "id": "tCCWn3N0bCLO",
        "colab_type": "text"
      },
      "source": [
        "# 1. Importando los datos"
      ]
    },
    {
      "cell_type": "markdown",
      "metadata": {
        "colab_type": "text",
        "id": "uD9wmnXUYStG"
      },
      "source": [
        "# 1.1. Verificar que no hay problemas en la importación"
      ]
    },
    {
      "cell_type": "code",
      "metadata": {
        "colab_type": "code",
        "id": "VYFnOBCKYStI",
        "colab": {}
      },
      "source": [
        "import pandas as pd\n",
        "pd.options.display.float_format = '{:.2f}'.format  # para que aparezcan con 2 decimales"
      ],
      "execution_count": null,
      "outputs": []
    },
    {
      "cell_type": "markdown",
      "metadata": {
        "colab_type": "text",
        "id": "0MdlP2YUYStN"
      },
      "source": [
        "Veamos de importar datos de proyectos de Kickstarter la plataforma de Crowdsourcing"
      ]
    },
    {
      "cell_type": "code",
      "metadata": {
        "colab_type": "code",
        "id": "Ee_D4yTvYStN",
        "colab": {
          "base_uri": "https://localhost:8080/",
          "height": 845
        },
        "outputId": "c603e659-d648-44d8-b8b1-3cf740bf6744"
      },
      "source": [
        "kickstarter_2016 = pd.read_csv(BASE_DIR + \"/input/kickstarter-projects/ks-projects-201612.csv\")  # da error esta lectura, debo trabajar con el siguiente kickstarter2018"
      ],
      "execution_count": null,
      "outputs": [
        {
          "output_type": "error",
          "ename": "UnicodeDecodeError",
          "evalue": "ignored",
          "traceback": [
            "\u001b[0;31m---------------------------------------------------------------------------\u001b[0m",
            "\u001b[0;31mUnicodeDecodeError\u001b[0m                        Traceback (most recent call last)",
            "\u001b[0;32mpandas/_libs/parsers.pyx\u001b[0m in \u001b[0;36mpandas._libs.parsers.TextReader._convert_tokens\u001b[0;34m()\u001b[0m\n",
            "\u001b[0;32mpandas/_libs/parsers.pyx\u001b[0m in \u001b[0;36mpandas._libs.parsers.TextReader._convert_with_dtype\u001b[0;34m()\u001b[0m\n",
            "\u001b[0;32mpandas/_libs/parsers.pyx\u001b[0m in \u001b[0;36mpandas._libs.parsers.TextReader._string_convert\u001b[0;34m()\u001b[0m\n",
            "\u001b[0;32mpandas/_libs/parsers.pyx\u001b[0m in \u001b[0;36mpandas._libs.parsers._string_box_utf8\u001b[0;34m()\u001b[0m\n",
            "\u001b[0;31mUnicodeDecodeError\u001b[0m: 'utf-8' codec can't decode byte 0x99 in position 11: invalid start byte",
            "\nDuring handling of the above exception, another exception occurred:\n",
            "\u001b[0;31mUnicodeDecodeError\u001b[0m                        Traceback (most recent call last)",
            "\u001b[0;32m<ipython-input-3-71fe83d277df>\u001b[0m in \u001b[0;36m<module>\u001b[0;34m()\u001b[0m\n\u001b[0;32m----> 1\u001b[0;31m \u001b[0mkickstarter_2016\u001b[0m \u001b[0;34m=\u001b[0m \u001b[0mpd\u001b[0m\u001b[0;34m.\u001b[0m\u001b[0mread_csv\u001b[0m\u001b[0;34m(\u001b[0m\u001b[0mBASE_DIR\u001b[0m \u001b[0;34m+\u001b[0m \u001b[0;34m\"/input/kickstarter-projects/ks-projects-201612.csv\"\u001b[0m\u001b[0;34m)\u001b[0m  \u001b[0;31m# da error esta lectura, debo trabajar con el siguiente kickstarter2018\u001b[0m\u001b[0;34m\u001b[0m\u001b[0;34m\u001b[0m\u001b[0m\n\u001b[0m",
            "\u001b[0;32m/usr/local/lib/python3.6/dist-packages/pandas/io/parsers.py\u001b[0m in \u001b[0;36mparser_f\u001b[0;34m(filepath_or_buffer, sep, delimiter, header, names, index_col, usecols, squeeze, prefix, mangle_dupe_cols, dtype, engine, converters, true_values, false_values, skipinitialspace, skiprows, skipfooter, nrows, na_values, keep_default_na, na_filter, verbose, skip_blank_lines, parse_dates, infer_datetime_format, keep_date_col, date_parser, dayfirst, cache_dates, iterator, chunksize, compression, thousands, decimal, lineterminator, quotechar, quoting, doublequote, escapechar, comment, encoding, dialect, error_bad_lines, warn_bad_lines, delim_whitespace, low_memory, memory_map, float_precision)\u001b[0m\n\u001b[1;32m    674\u001b[0m         )\n\u001b[1;32m    675\u001b[0m \u001b[0;34m\u001b[0m\u001b[0m\n\u001b[0;32m--> 676\u001b[0;31m         \u001b[0;32mreturn\u001b[0m \u001b[0m_read\u001b[0m\u001b[0;34m(\u001b[0m\u001b[0mfilepath_or_buffer\u001b[0m\u001b[0;34m,\u001b[0m \u001b[0mkwds\u001b[0m\u001b[0;34m)\u001b[0m\u001b[0;34m\u001b[0m\u001b[0;34m\u001b[0m\u001b[0m\n\u001b[0m\u001b[1;32m    677\u001b[0m \u001b[0;34m\u001b[0m\u001b[0m\n\u001b[1;32m    678\u001b[0m     \u001b[0mparser_f\u001b[0m\u001b[0;34m.\u001b[0m\u001b[0m__name__\u001b[0m \u001b[0;34m=\u001b[0m \u001b[0mname\u001b[0m\u001b[0;34m\u001b[0m\u001b[0;34m\u001b[0m\u001b[0m\n",
            "\u001b[0;32m/usr/local/lib/python3.6/dist-packages/pandas/io/parsers.py\u001b[0m in \u001b[0;36m_read\u001b[0;34m(filepath_or_buffer, kwds)\u001b[0m\n\u001b[1;32m    452\u001b[0m \u001b[0;34m\u001b[0m\u001b[0m\n\u001b[1;32m    453\u001b[0m     \u001b[0;32mtry\u001b[0m\u001b[0;34m:\u001b[0m\u001b[0;34m\u001b[0m\u001b[0;34m\u001b[0m\u001b[0m\n\u001b[0;32m--> 454\u001b[0;31m         \u001b[0mdata\u001b[0m \u001b[0;34m=\u001b[0m \u001b[0mparser\u001b[0m\u001b[0;34m.\u001b[0m\u001b[0mread\u001b[0m\u001b[0;34m(\u001b[0m\u001b[0mnrows\u001b[0m\u001b[0;34m)\u001b[0m\u001b[0;34m\u001b[0m\u001b[0;34m\u001b[0m\u001b[0m\n\u001b[0m\u001b[1;32m    455\u001b[0m     \u001b[0;32mfinally\u001b[0m\u001b[0;34m:\u001b[0m\u001b[0;34m\u001b[0m\u001b[0;34m\u001b[0m\u001b[0m\n\u001b[1;32m    456\u001b[0m         \u001b[0mparser\u001b[0m\u001b[0;34m.\u001b[0m\u001b[0mclose\u001b[0m\u001b[0;34m(\u001b[0m\u001b[0;34m)\u001b[0m\u001b[0;34m\u001b[0m\u001b[0;34m\u001b[0m\u001b[0m\n",
            "\u001b[0;32m/usr/local/lib/python3.6/dist-packages/pandas/io/parsers.py\u001b[0m in \u001b[0;36mread\u001b[0;34m(self, nrows)\u001b[0m\n\u001b[1;32m   1131\u001b[0m     \u001b[0;32mdef\u001b[0m \u001b[0mread\u001b[0m\u001b[0;34m(\u001b[0m\u001b[0mself\u001b[0m\u001b[0;34m,\u001b[0m \u001b[0mnrows\u001b[0m\u001b[0;34m=\u001b[0m\u001b[0;32mNone\u001b[0m\u001b[0;34m)\u001b[0m\u001b[0;34m:\u001b[0m\u001b[0;34m\u001b[0m\u001b[0;34m\u001b[0m\u001b[0m\n\u001b[1;32m   1132\u001b[0m         \u001b[0mnrows\u001b[0m \u001b[0;34m=\u001b[0m \u001b[0m_validate_integer\u001b[0m\u001b[0;34m(\u001b[0m\u001b[0;34m\"nrows\"\u001b[0m\u001b[0;34m,\u001b[0m \u001b[0mnrows\u001b[0m\u001b[0;34m)\u001b[0m\u001b[0;34m\u001b[0m\u001b[0;34m\u001b[0m\u001b[0m\n\u001b[0;32m-> 1133\u001b[0;31m         \u001b[0mret\u001b[0m \u001b[0;34m=\u001b[0m \u001b[0mself\u001b[0m\u001b[0;34m.\u001b[0m\u001b[0m_engine\u001b[0m\u001b[0;34m.\u001b[0m\u001b[0mread\u001b[0m\u001b[0;34m(\u001b[0m\u001b[0mnrows\u001b[0m\u001b[0;34m)\u001b[0m\u001b[0;34m\u001b[0m\u001b[0;34m\u001b[0m\u001b[0m\n\u001b[0m\u001b[1;32m   1134\u001b[0m \u001b[0;34m\u001b[0m\u001b[0m\n\u001b[1;32m   1135\u001b[0m         \u001b[0;31m# May alter columns / col_dict\u001b[0m\u001b[0;34m\u001b[0m\u001b[0;34m\u001b[0m\u001b[0;34m\u001b[0m\u001b[0m\n",
            "\u001b[0;32m/usr/local/lib/python3.6/dist-packages/pandas/io/parsers.py\u001b[0m in \u001b[0;36mread\u001b[0;34m(self, nrows)\u001b[0m\n\u001b[1;32m   2035\u001b[0m     \u001b[0;32mdef\u001b[0m \u001b[0mread\u001b[0m\u001b[0;34m(\u001b[0m\u001b[0mself\u001b[0m\u001b[0;34m,\u001b[0m \u001b[0mnrows\u001b[0m\u001b[0;34m=\u001b[0m\u001b[0;32mNone\u001b[0m\u001b[0;34m)\u001b[0m\u001b[0;34m:\u001b[0m\u001b[0;34m\u001b[0m\u001b[0;34m\u001b[0m\u001b[0m\n\u001b[1;32m   2036\u001b[0m         \u001b[0;32mtry\u001b[0m\u001b[0;34m:\u001b[0m\u001b[0;34m\u001b[0m\u001b[0;34m\u001b[0m\u001b[0m\n\u001b[0;32m-> 2037\u001b[0;31m             \u001b[0mdata\u001b[0m \u001b[0;34m=\u001b[0m \u001b[0mself\u001b[0m\u001b[0;34m.\u001b[0m\u001b[0m_reader\u001b[0m\u001b[0;34m.\u001b[0m\u001b[0mread\u001b[0m\u001b[0;34m(\u001b[0m\u001b[0mnrows\u001b[0m\u001b[0;34m)\u001b[0m\u001b[0;34m\u001b[0m\u001b[0;34m\u001b[0m\u001b[0m\n\u001b[0m\u001b[1;32m   2038\u001b[0m         \u001b[0;32mexcept\u001b[0m \u001b[0mStopIteration\u001b[0m\u001b[0;34m:\u001b[0m\u001b[0;34m\u001b[0m\u001b[0;34m\u001b[0m\u001b[0m\n\u001b[1;32m   2039\u001b[0m             \u001b[0;32mif\u001b[0m \u001b[0mself\u001b[0m\u001b[0;34m.\u001b[0m\u001b[0m_first_chunk\u001b[0m\u001b[0;34m:\u001b[0m\u001b[0;34m\u001b[0m\u001b[0;34m\u001b[0m\u001b[0m\n",
            "\u001b[0;32mpandas/_libs/parsers.pyx\u001b[0m in \u001b[0;36mpandas._libs.parsers.TextReader.read\u001b[0;34m()\u001b[0m\n",
            "\u001b[0;32mpandas/_libs/parsers.pyx\u001b[0m in \u001b[0;36mpandas._libs.parsers.TextReader._read_low_memory\u001b[0;34m()\u001b[0m\n",
            "\u001b[0;32mpandas/_libs/parsers.pyx\u001b[0m in \u001b[0;36mpandas._libs.parsers.TextReader._read_rows\u001b[0;34m()\u001b[0m\n",
            "\u001b[0;32mpandas/_libs/parsers.pyx\u001b[0m in \u001b[0;36mpandas._libs.parsers.TextReader._convert_column_data\u001b[0;34m()\u001b[0m\n",
            "\u001b[0;32mpandas/_libs/parsers.pyx\u001b[0m in \u001b[0;36mpandas._libs.parsers.TextReader._convert_tokens\u001b[0;34m()\u001b[0m\n",
            "\u001b[0;32mpandas/_libs/parsers.pyx\u001b[0m in \u001b[0;36mpandas._libs.parsers.TextReader._convert_with_dtype\u001b[0;34m()\u001b[0m\n",
            "\u001b[0;32mpandas/_libs/parsers.pyx\u001b[0m in \u001b[0;36mpandas._libs.parsers.TextReader._string_convert\u001b[0;34m()\u001b[0m\n",
            "\u001b[0;32mpandas/_libs/parsers.pyx\u001b[0m in \u001b[0;36mpandas._libs.parsers._string_box_utf8\u001b[0;34m()\u001b[0m\n",
            "\u001b[0;31mUnicodeDecodeError\u001b[0m: 'utf-8' codec can't decode byte 0x99 in position 11: invalid start byte"
          ]
        }
      ]
    },
    {
      "cell_type": "markdown",
      "metadata": {
        "colab_type": "text",
        "id": "Wc9tdkDSYStT"
      },
      "source": [
        "Por defecto Pandas falla si hay errores para leer datos https://pandas.pydata.org/pandas-docs/stable/io.html#error-handling"
      ]
    },
    {
      "cell_type": "markdown",
      "metadata": {
        "id": "YfxM49UmbCLb",
        "colab_type": "text"
      },
      "source": [
        "Por ahora cambiamos a un archivo más actualizado, volveremos a este error más adelante"
      ]
    },
    {
      "cell_type": "code",
      "metadata": {
        "colab_type": "code",
        "id": "b-_bMXxOYStW",
        "colab": {}
      },
      "source": [
        "kickstarter_2018 = pd.read_csv(BASE_DIR + \"/input/kickstarter-projects/ks-projects-201801.csv\")"
      ],
      "execution_count": null,
      "outputs": []
    },
    {
      "cell_type": "markdown",
      "metadata": {
        "colab_type": "text",
        "id": "2p0dbU1yYStY"
      },
      "source": [
        "Veamos los datos cargados en el dataframe"
      ]
    },
    {
      "cell_type": "code",
      "metadata": {
        "colab_type": "code",
        "id": "etZ09t5MYStZ",
        "colab": {
          "base_uri": "https://localhost:8080/",
          "height": 932
        },
        "outputId": "5118bb8b-3951-42d3-d0a6-d2eebda34ae4"
      },
      "source": [
        "kickstarter_2018"
      ],
      "execution_count": null,
      "outputs": [
        {
          "output_type": "execute_result",
          "data": {
            "text/html": [
              "<div>\n",
              "<style scoped>\n",
              "    .dataframe tbody tr th:only-of-type {\n",
              "        vertical-align: middle;\n",
              "    }\n",
              "\n",
              "    .dataframe tbody tr th {\n",
              "        vertical-align: top;\n",
              "    }\n",
              "\n",
              "    .dataframe thead th {\n",
              "        text-align: right;\n",
              "    }\n",
              "</style>\n",
              "<table border=\"1\" class=\"dataframe\">\n",
              "  <thead>\n",
              "    <tr style=\"text-align: right;\">\n",
              "      <th></th>\n",
              "      <th>ID</th>\n",
              "      <th>name</th>\n",
              "      <th>category</th>\n",
              "      <th>main_category</th>\n",
              "      <th>currency</th>\n",
              "      <th>deadline</th>\n",
              "      <th>goal</th>\n",
              "      <th>launched</th>\n",
              "      <th>pledged</th>\n",
              "      <th>state</th>\n",
              "      <th>backers</th>\n",
              "      <th>country</th>\n",
              "      <th>usd pledged</th>\n",
              "      <th>usd_pledged_real</th>\n",
              "      <th>usd_goal_real</th>\n",
              "    </tr>\n",
              "  </thead>\n",
              "  <tbody>\n",
              "    <tr>\n",
              "      <th>0</th>\n",
              "      <td>1000002330</td>\n",
              "      <td>The Songs of Adelaide &amp; Abullah</td>\n",
              "      <td>Poetry</td>\n",
              "      <td>Publishing</td>\n",
              "      <td>GBP</td>\n",
              "      <td>2015-10-09</td>\n",
              "      <td>1000.00</td>\n",
              "      <td>2015-08-11 12:12:28</td>\n",
              "      <td>0.00</td>\n",
              "      <td>failed</td>\n",
              "      <td>0</td>\n",
              "      <td>GB</td>\n",
              "      <td>0.00</td>\n",
              "      <td>0.00</td>\n",
              "      <td>1533.95</td>\n",
              "    </tr>\n",
              "    <tr>\n",
              "      <th>1</th>\n",
              "      <td>1000003930</td>\n",
              "      <td>Greeting From Earth: ZGAC Arts Capsule For ET</td>\n",
              "      <td>Narrative Film</td>\n",
              "      <td>Film &amp; Video</td>\n",
              "      <td>USD</td>\n",
              "      <td>2017-11-01</td>\n",
              "      <td>30000.00</td>\n",
              "      <td>2017-09-02 04:43:57</td>\n",
              "      <td>2421.00</td>\n",
              "      <td>failed</td>\n",
              "      <td>15</td>\n",
              "      <td>US</td>\n",
              "      <td>100.00</td>\n",
              "      <td>2421.00</td>\n",
              "      <td>30000.00</td>\n",
              "    </tr>\n",
              "    <tr>\n",
              "      <th>2</th>\n",
              "      <td>1000004038</td>\n",
              "      <td>Where is Hank?</td>\n",
              "      <td>Narrative Film</td>\n",
              "      <td>Film &amp; Video</td>\n",
              "      <td>USD</td>\n",
              "      <td>2013-02-26</td>\n",
              "      <td>45000.00</td>\n",
              "      <td>2013-01-12 00:20:50</td>\n",
              "      <td>220.00</td>\n",
              "      <td>failed</td>\n",
              "      <td>3</td>\n",
              "      <td>US</td>\n",
              "      <td>220.00</td>\n",
              "      <td>220.00</td>\n",
              "      <td>45000.00</td>\n",
              "    </tr>\n",
              "    <tr>\n",
              "      <th>3</th>\n",
              "      <td>1000007540</td>\n",
              "      <td>ToshiCapital Rekordz Needs Help to Complete Album</td>\n",
              "      <td>Music</td>\n",
              "      <td>Music</td>\n",
              "      <td>USD</td>\n",
              "      <td>2012-04-16</td>\n",
              "      <td>5000.00</td>\n",
              "      <td>2012-03-17 03:24:11</td>\n",
              "      <td>1.00</td>\n",
              "      <td>failed</td>\n",
              "      <td>1</td>\n",
              "      <td>US</td>\n",
              "      <td>1.00</td>\n",
              "      <td>1.00</td>\n",
              "      <td>5000.00</td>\n",
              "    </tr>\n",
              "    <tr>\n",
              "      <th>4</th>\n",
              "      <td>1000011046</td>\n",
              "      <td>Community Film Project: The Art of Neighborhoo...</td>\n",
              "      <td>Film &amp; Video</td>\n",
              "      <td>Film &amp; Video</td>\n",
              "      <td>USD</td>\n",
              "      <td>2015-08-29</td>\n",
              "      <td>19500.00</td>\n",
              "      <td>2015-07-04 08:35:03</td>\n",
              "      <td>1283.00</td>\n",
              "      <td>canceled</td>\n",
              "      <td>14</td>\n",
              "      <td>US</td>\n",
              "      <td>1283.00</td>\n",
              "      <td>1283.00</td>\n",
              "      <td>19500.00</td>\n",
              "    </tr>\n",
              "    <tr>\n",
              "      <th>...</th>\n",
              "      <td>...</td>\n",
              "      <td>...</td>\n",
              "      <td>...</td>\n",
              "      <td>...</td>\n",
              "      <td>...</td>\n",
              "      <td>...</td>\n",
              "      <td>...</td>\n",
              "      <td>...</td>\n",
              "      <td>...</td>\n",
              "      <td>...</td>\n",
              "      <td>...</td>\n",
              "      <td>...</td>\n",
              "      <td>...</td>\n",
              "      <td>...</td>\n",
              "      <td>...</td>\n",
              "    </tr>\n",
              "    <tr>\n",
              "      <th>378656</th>\n",
              "      <td>999976400</td>\n",
              "      <td>ChknTruk Nationwide Charity Drive 2014 (Canceled)</td>\n",
              "      <td>Documentary</td>\n",
              "      <td>Film &amp; Video</td>\n",
              "      <td>USD</td>\n",
              "      <td>2014-10-17</td>\n",
              "      <td>50000.00</td>\n",
              "      <td>2014-09-17 02:35:30</td>\n",
              "      <td>25.00</td>\n",
              "      <td>canceled</td>\n",
              "      <td>1</td>\n",
              "      <td>US</td>\n",
              "      <td>25.00</td>\n",
              "      <td>25.00</td>\n",
              "      <td>50000.00</td>\n",
              "    </tr>\n",
              "    <tr>\n",
              "      <th>378657</th>\n",
              "      <td>999977640</td>\n",
              "      <td>The Tribe</td>\n",
              "      <td>Narrative Film</td>\n",
              "      <td>Film &amp; Video</td>\n",
              "      <td>USD</td>\n",
              "      <td>2011-07-19</td>\n",
              "      <td>1500.00</td>\n",
              "      <td>2011-06-22 03:35:14</td>\n",
              "      <td>155.00</td>\n",
              "      <td>failed</td>\n",
              "      <td>5</td>\n",
              "      <td>US</td>\n",
              "      <td>155.00</td>\n",
              "      <td>155.00</td>\n",
              "      <td>1500.00</td>\n",
              "    </tr>\n",
              "    <tr>\n",
              "      <th>378658</th>\n",
              "      <td>999986353</td>\n",
              "      <td>Walls of Remedy- New lesbian Romantic Comedy f...</td>\n",
              "      <td>Narrative Film</td>\n",
              "      <td>Film &amp; Video</td>\n",
              "      <td>USD</td>\n",
              "      <td>2010-08-16</td>\n",
              "      <td>15000.00</td>\n",
              "      <td>2010-07-01 19:40:30</td>\n",
              "      <td>20.00</td>\n",
              "      <td>failed</td>\n",
              "      <td>1</td>\n",
              "      <td>US</td>\n",
              "      <td>20.00</td>\n",
              "      <td>20.00</td>\n",
              "      <td>15000.00</td>\n",
              "    </tr>\n",
              "    <tr>\n",
              "      <th>378659</th>\n",
              "      <td>999987933</td>\n",
              "      <td>BioDefense Education Kit</td>\n",
              "      <td>Technology</td>\n",
              "      <td>Technology</td>\n",
              "      <td>USD</td>\n",
              "      <td>2016-02-13</td>\n",
              "      <td>15000.00</td>\n",
              "      <td>2016-01-13 18:13:53</td>\n",
              "      <td>200.00</td>\n",
              "      <td>failed</td>\n",
              "      <td>6</td>\n",
              "      <td>US</td>\n",
              "      <td>200.00</td>\n",
              "      <td>200.00</td>\n",
              "      <td>15000.00</td>\n",
              "    </tr>\n",
              "    <tr>\n",
              "      <th>378660</th>\n",
              "      <td>999988282</td>\n",
              "      <td>Nou Renmen Ayiti!  We Love Haiti!</td>\n",
              "      <td>Performance Art</td>\n",
              "      <td>Art</td>\n",
              "      <td>USD</td>\n",
              "      <td>2011-08-16</td>\n",
              "      <td>2000.00</td>\n",
              "      <td>2011-07-19 09:07:47</td>\n",
              "      <td>524.00</td>\n",
              "      <td>failed</td>\n",
              "      <td>17</td>\n",
              "      <td>US</td>\n",
              "      <td>524.00</td>\n",
              "      <td>524.00</td>\n",
              "      <td>2000.00</td>\n",
              "    </tr>\n",
              "  </tbody>\n",
              "</table>\n",
              "<p>378661 rows × 15 columns</p>\n",
              "</div>"
            ],
            "text/plain": [
              "                ID  ... usd_goal_real\n",
              "0       1000002330  ...       1533.95\n",
              "1       1000003930  ...      30000.00\n",
              "2       1000004038  ...      45000.00\n",
              "3       1000007540  ...       5000.00\n",
              "4       1000011046  ...      19500.00\n",
              "...            ...  ...           ...\n",
              "378656   999976400  ...      50000.00\n",
              "378657   999977640  ...       1500.00\n",
              "378658   999986353  ...      15000.00\n",
              "378659   999987933  ...      15000.00\n",
              "378660   999988282  ...       2000.00\n",
              "\n",
              "[378661 rows x 15 columns]"
            ]
          },
          "metadata": {
            "tags": []
          },
          "execution_count": 5
        }
      ]
    },
    {
      "cell_type": "markdown",
      "metadata": {
        "colab_type": "text",
        "id": "MFpogEXQYStc"
      },
      "source": [
        "Por defecto solo vemos los valores al comienzo o al final del archivo.\n",
        "\n",
        "Tomemos una muestra al azar para ver valores más dispersos"
      ]
    },
    {
      "cell_type": "code",
      "metadata": {
        "colab_type": "code",
        "id": "Upvlit8QYStd",
        "colab": {}
      },
      "source": [
        "# set seed for reproducibility\n",
        "import numpy as np\n",
        "np.random.seed(0)"
      ],
      "execution_count": null,
      "outputs": []
    },
    {
      "cell_type": "code",
      "metadata": {
        "colab_type": "code",
        "id": "vDQdf2xEYStf",
        "colab": {
          "base_uri": "https://localhost:8080/",
          "height": 479
        },
        "outputId": "42a6c320-260d-499b-ebf2-7c159f48c451"
      },
      "source": [
        "kickstarter_2018.sample(5)  # trae 5 filas al azar"
      ],
      "execution_count": null,
      "outputs": [
        {
          "output_type": "execute_result",
          "data": {
            "text/html": [
              "<div>\n",
              "<style scoped>\n",
              "    .dataframe tbody tr th:only-of-type {\n",
              "        vertical-align: middle;\n",
              "    }\n",
              "\n",
              "    .dataframe tbody tr th {\n",
              "        vertical-align: top;\n",
              "    }\n",
              "\n",
              "    .dataframe thead th {\n",
              "        text-align: right;\n",
              "    }\n",
              "</style>\n",
              "<table border=\"1\" class=\"dataframe\">\n",
              "  <thead>\n",
              "    <tr style=\"text-align: right;\">\n",
              "      <th></th>\n",
              "      <th>ID</th>\n",
              "      <th>name</th>\n",
              "      <th>category</th>\n",
              "      <th>main_category</th>\n",
              "      <th>currency</th>\n",
              "      <th>deadline</th>\n",
              "      <th>goal</th>\n",
              "      <th>launched</th>\n",
              "      <th>pledged</th>\n",
              "      <th>state</th>\n",
              "      <th>backers</th>\n",
              "      <th>country</th>\n",
              "      <th>usd pledged</th>\n",
              "      <th>usd_pledged_real</th>\n",
              "      <th>usd_goal_real</th>\n",
              "    </tr>\n",
              "  </thead>\n",
              "  <tbody>\n",
              "    <tr>\n",
              "      <th>338862</th>\n",
              "      <td>796196901</td>\n",
              "      <td>10G Christmas Tree</td>\n",
              "      <td>Art</td>\n",
              "      <td>Art</td>\n",
              "      <td>USD</td>\n",
              "      <td>2010-12-26</td>\n",
              "      <td>10526.00</td>\n",
              "      <td>2010-12-08 08:44:04</td>\n",
              "      <td>0.00</td>\n",
              "      <td>failed</td>\n",
              "      <td>0</td>\n",
              "      <td>US</td>\n",
              "      <td>0.00</td>\n",
              "      <td>0.00</td>\n",
              "      <td>10526.00</td>\n",
              "    </tr>\n",
              "    <tr>\n",
              "      <th>277871</th>\n",
              "      <td>483825010</td>\n",
              "      <td>Gliff</td>\n",
              "      <td>Gaming Hardware</td>\n",
              "      <td>Games</td>\n",
              "      <td>USD</td>\n",
              "      <td>2016-03-28</td>\n",
              "      <td>10000.00</td>\n",
              "      <td>2016-01-28 04:56:18</td>\n",
              "      <td>51.00</td>\n",
              "      <td>failed</td>\n",
              "      <td>5</td>\n",
              "      <td>US</td>\n",
              "      <td>51.00</td>\n",
              "      <td>51.00</td>\n",
              "      <td>10000.00</td>\n",
              "    </tr>\n",
              "    <tr>\n",
              "      <th>47000</th>\n",
              "      <td>123916947</td>\n",
              "      <td>STUFFED Food Truck</td>\n",
              "      <td>Food Trucks</td>\n",
              "      <td>Food</td>\n",
              "      <td>USD</td>\n",
              "      <td>2015-01-06</td>\n",
              "      <td>60000.00</td>\n",
              "      <td>2014-11-07 02:24:36</td>\n",
              "      <td>25.00</td>\n",
              "      <td>failed</td>\n",
              "      <td>1</td>\n",
              "      <td>US</td>\n",
              "      <td>25.00</td>\n",
              "      <td>25.00</td>\n",
              "      <td>60000.00</td>\n",
              "    </tr>\n",
              "    <tr>\n",
              "      <th>111338</th>\n",
              "      <td>1565733636</td>\n",
              "      <td>NeoExodus Adventure: Origin of Man for Pathfin...</td>\n",
              "      <td>Tabletop Games</td>\n",
              "      <td>Games</td>\n",
              "      <td>USD</td>\n",
              "      <td>2012-05-01</td>\n",
              "      <td>500.00</td>\n",
              "      <td>2012-03-15 01:16:10</td>\n",
              "      <td>585.00</td>\n",
              "      <td>successful</td>\n",
              "      <td>17</td>\n",
              "      <td>US</td>\n",
              "      <td>585.00</td>\n",
              "      <td>585.00</td>\n",
              "      <td>500.00</td>\n",
              "    </tr>\n",
              "    <tr>\n",
              "      <th>53743</th>\n",
              "      <td>1273544891</td>\n",
              "      <td>NAPOLEON IN NEW YORK! an original TV Series</td>\n",
              "      <td>Comedy</td>\n",
              "      <td>Film &amp; Video</td>\n",
              "      <td>USD</td>\n",
              "      <td>2016-07-26</td>\n",
              "      <td>25000.00</td>\n",
              "      <td>2016-05-27 00:07:25</td>\n",
              "      <td>25.00</td>\n",
              "      <td>failed</td>\n",
              "      <td>1</td>\n",
              "      <td>US</td>\n",
              "      <td>25.00</td>\n",
              "      <td>25.00</td>\n",
              "      <td>25000.00</td>\n",
              "    </tr>\n",
              "  </tbody>\n",
              "</table>\n",
              "</div>"
            ],
            "text/plain": [
              "                ID  ... usd_goal_real\n",
              "338862   796196901  ...      10526.00\n",
              "277871   483825010  ...      10000.00\n",
              "47000    123916947  ...      60000.00\n",
              "111338  1565733636  ...        500.00\n",
              "53743   1273544891  ...      25000.00\n",
              "\n",
              "[5 rows x 15 columns]"
            ]
          },
          "metadata": {
            "tags": []
          },
          "execution_count": 8
        }
      ]
    },
    {
      "cell_type": "markdown",
      "metadata": {
        "colab_type": "text",
        "id": "e-cEmDnQYSti"
      },
      "source": [
        "No se observa a simple vista ningún problema obvio.\n",
        "\n",
        "Notar que todos vimos los mismos resultados. Al fijar la semilla no hubo tal azar, esto es algo necesario cuando queremos \"reproducir valores aleatorios\""
      ]
    },
    {
      "cell_type": "markdown",
      "metadata": {
        "colab_type": "text",
        "id": "O7mBSqudYStj"
      },
      "source": [
        "Veamos la descripción del dataset si se corresponde con lo levantado https://www.kaggle.com/kemical/kickstarter-projects/data"
      ]
    },
    {
      "cell_type": "code",
      "metadata": {
        "colab_type": "code",
        "id": "GMoezCxSYStk",
        "colab": {
          "base_uri": "https://localhost:8080/",
          "height": 512
        },
        "outputId": "f143ee19-0ac4-43a5-e324-352e4174a3df"
      },
      "source": [
        "pd.DataFrame([[\"ID\", \"No description provided\", \"Numeric\"],\n",
        "[\"name\", \"No description provided\", \"String\"],\n",
        "[\"category\", \"No description provided\", \"String\"],\n",
        "[\"main_category\", \"No description provided\", \"String\"],\n",
        "[\"currency\", \"No description provided\", \"String\"],\n",
        "[\"deadline\", \"No description provided\", \"DateTime\"],\n",
        "[\"goal\", \"Goal amount in project currency\", \"Numeric\"],\n",
        "[\"launched\", \"No description provided\", \"DateTime\"],\n",
        "[\"pledged\", \"Pledged amount in the project currency\", \"Numeric\"],\n",
        "[\"state\", \"No description provided\", \"String\"],\n",
        "[\"backers\", \"No description provided\", \"Numeric\"],\n",
        "[\"country\", \"No description provided\", \"String\"],\n",
        "[\"usd pledged\", \"Pledged amount in USD (conversion made by KS)\", \"Numeric\"],\n",
        "[\"usd_pledged_real\", \"Pledged amount in USD (conversion made by fixer.io api)\", \"Numeric\"],\n",
        "[\"usd_goal_real\", \"Goal amount in USD\", \"Numeric\"]], columns=[\"Field name\",\"Field description\", \"Type\"])"
      ],
      "execution_count": null,
      "outputs": [
        {
          "output_type": "execute_result",
          "data": {
            "text/html": [
              "<div>\n",
              "<style scoped>\n",
              "    .dataframe tbody tr th:only-of-type {\n",
              "        vertical-align: middle;\n",
              "    }\n",
              "\n",
              "    .dataframe tbody tr th {\n",
              "        vertical-align: top;\n",
              "    }\n",
              "\n",
              "    .dataframe thead th {\n",
              "        text-align: right;\n",
              "    }\n",
              "</style>\n",
              "<table border=\"1\" class=\"dataframe\">\n",
              "  <thead>\n",
              "    <tr style=\"text-align: right;\">\n",
              "      <th></th>\n",
              "      <th>Field name</th>\n",
              "      <th>Field description</th>\n",
              "      <th>Type</th>\n",
              "    </tr>\n",
              "  </thead>\n",
              "  <tbody>\n",
              "    <tr>\n",
              "      <th>0</th>\n",
              "      <td>ID</td>\n",
              "      <td>No description provided</td>\n",
              "      <td>Numeric</td>\n",
              "    </tr>\n",
              "    <tr>\n",
              "      <th>1</th>\n",
              "      <td>name</td>\n",
              "      <td>No description provided</td>\n",
              "      <td>String</td>\n",
              "    </tr>\n",
              "    <tr>\n",
              "      <th>2</th>\n",
              "      <td>category</td>\n",
              "      <td>No description provided</td>\n",
              "      <td>String</td>\n",
              "    </tr>\n",
              "    <tr>\n",
              "      <th>3</th>\n",
              "      <td>main_category</td>\n",
              "      <td>No description provided</td>\n",
              "      <td>String</td>\n",
              "    </tr>\n",
              "    <tr>\n",
              "      <th>4</th>\n",
              "      <td>currency</td>\n",
              "      <td>No description provided</td>\n",
              "      <td>String</td>\n",
              "    </tr>\n",
              "    <tr>\n",
              "      <th>5</th>\n",
              "      <td>deadline</td>\n",
              "      <td>No description provided</td>\n",
              "      <td>DateTime</td>\n",
              "    </tr>\n",
              "    <tr>\n",
              "      <th>6</th>\n",
              "      <td>goal</td>\n",
              "      <td>Goal amount in project currency</td>\n",
              "      <td>Numeric</td>\n",
              "    </tr>\n",
              "    <tr>\n",
              "      <th>7</th>\n",
              "      <td>launched</td>\n",
              "      <td>No description provided</td>\n",
              "      <td>DateTime</td>\n",
              "    </tr>\n",
              "    <tr>\n",
              "      <th>8</th>\n",
              "      <td>pledged</td>\n",
              "      <td>Pledged amount in the project currency</td>\n",
              "      <td>Numeric</td>\n",
              "    </tr>\n",
              "    <tr>\n",
              "      <th>9</th>\n",
              "      <td>state</td>\n",
              "      <td>No description provided</td>\n",
              "      <td>String</td>\n",
              "    </tr>\n",
              "    <tr>\n",
              "      <th>10</th>\n",
              "      <td>backers</td>\n",
              "      <td>No description provided</td>\n",
              "      <td>Numeric</td>\n",
              "    </tr>\n",
              "    <tr>\n",
              "      <th>11</th>\n",
              "      <td>country</td>\n",
              "      <td>No description provided</td>\n",
              "      <td>String</td>\n",
              "    </tr>\n",
              "    <tr>\n",
              "      <th>12</th>\n",
              "      <td>usd pledged</td>\n",
              "      <td>Pledged amount in USD (conversion made by KS)</td>\n",
              "      <td>Numeric</td>\n",
              "    </tr>\n",
              "    <tr>\n",
              "      <th>13</th>\n",
              "      <td>usd_pledged_real</td>\n",
              "      <td>Pledged amount in USD (conversion made by fixe...</td>\n",
              "      <td>Numeric</td>\n",
              "    </tr>\n",
              "    <tr>\n",
              "      <th>14</th>\n",
              "      <td>usd_goal_real</td>\n",
              "      <td>Goal amount in USD</td>\n",
              "      <td>Numeric</td>\n",
              "    </tr>\n",
              "  </tbody>\n",
              "</table>\n",
              "</div>"
            ],
            "text/plain": [
              "          Field name  ...      Type\n",
              "0                 ID  ...   Numeric\n",
              "1               name  ...    String\n",
              "2           category  ...    String\n",
              "3      main_category  ...    String\n",
              "4           currency  ...    String\n",
              "5           deadline  ...  DateTime\n",
              "6               goal  ...   Numeric\n",
              "7           launched  ...  DateTime\n",
              "8            pledged  ...   Numeric\n",
              "9              state  ...    String\n",
              "10           backers  ...   Numeric\n",
              "11           country  ...    String\n",
              "12       usd pledged  ...   Numeric\n",
              "13  usd_pledged_real  ...   Numeric\n",
              "14     usd_goal_real  ...   Numeric\n",
              "\n",
              "[15 rows x 3 columns]"
            ]
          },
          "metadata": {
            "tags": []
          },
          "execution_count": 9
        }
      ]
    },
    {
      "cell_type": "markdown",
      "metadata": {
        "id": "I-_TDDZ9bCLw",
        "colab_type": "text"
      },
      "source": [
        "Ahora veamos los **tipos de datos** que detectó pandas"
      ]
    },
    {
      "cell_type": "markdown",
      "metadata": {
        "id": "nkk1-GRXtOon",
        "colab_type": "text"
      },
      "source": [
        ""
      ]
    },
    {
      "cell_type": "code",
      "metadata": {
        "colab_type": "code",
        "id": "kYTfRt4GYStn",
        "colab": {
          "base_uri": "https://localhost:8080/",
          "height": 298
        },
        "outputId": "ab28d503-0a59-4c5e-98e4-9bf94bc19a8b"
      },
      "source": [
        "kickstarter_2018.dtypes"
      ],
      "execution_count": null,
      "outputs": [
        {
          "output_type": "execute_result",
          "data": {
            "text/plain": [
              "ID                    int64\n",
              "name                 object\n",
              "category             object\n",
              "main_category        object\n",
              "currency             object\n",
              "deadline             object\n",
              "goal                float64\n",
              "launched             object\n",
              "pledged             float64\n",
              "state                object\n",
              "backers               int64\n",
              "country              object\n",
              "usd pledged         float64\n",
              "usd_pledged_real    float64\n",
              "usd_goal_real       float64\n",
              "dtype: object"
            ]
          },
          "metadata": {
            "tags": []
          },
          "execution_count": 10
        }
      ]
    },
    {
      "cell_type": "markdown",
      "metadata": {
        "colab_type": "text",
        "id": "9mmqjlyoYStq"
      },
      "source": [
        "Los campos object generalmente son String, entonces parece que no reconoció como fechas en **deadline** y **launched** :("
      ]
    },
    {
      "cell_type": "markdown",
      "metadata": {
        "colab_type": "text",
        "id": "tovZm0SrYStq"
      },
      "source": [
        "Veamos los datos un resumen de los datos"
      ]
    },
    {
      "cell_type": "code",
      "metadata": {
        "colab_type": "code",
        "id": "rJYD_yW5YStr",
        "colab": {
          "base_uri": "https://localhost:8080/",
          "height": 296
        },
        "outputId": "a7e1f7a4-9be2-4e94-d492-3459d24a76c4"
      },
      "source": [
        "kickstarter_2018.describe()   # nos brinda un resúmen descriptivo de los datos, tipo summarise en R"
      ],
      "execution_count": null,
      "outputs": [
        {
          "output_type": "execute_result",
          "data": {
            "text/html": [
              "<div>\n",
              "<style scoped>\n",
              "    .dataframe tbody tr th:only-of-type {\n",
              "        vertical-align: middle;\n",
              "    }\n",
              "\n",
              "    .dataframe tbody tr th {\n",
              "        vertical-align: top;\n",
              "    }\n",
              "\n",
              "    .dataframe thead th {\n",
              "        text-align: right;\n",
              "    }\n",
              "</style>\n",
              "<table border=\"1\" class=\"dataframe\">\n",
              "  <thead>\n",
              "    <tr style=\"text-align: right;\">\n",
              "      <th></th>\n",
              "      <th>ID</th>\n",
              "      <th>goal</th>\n",
              "      <th>pledged</th>\n",
              "      <th>backers</th>\n",
              "      <th>usd pledged</th>\n",
              "      <th>usd_pledged_real</th>\n",
              "      <th>usd_goal_real</th>\n",
              "    </tr>\n",
              "  </thead>\n",
              "  <tbody>\n",
              "    <tr>\n",
              "      <th>count</th>\n",
              "      <td>378661.00</td>\n",
              "      <td>378661.00</td>\n",
              "      <td>378661.00</td>\n",
              "      <td>378661.00</td>\n",
              "      <td>374864.00</td>\n",
              "      <td>378661.00</td>\n",
              "      <td>378661.00</td>\n",
              "    </tr>\n",
              "    <tr>\n",
              "      <th>mean</th>\n",
              "      <td>1074731191.99</td>\n",
              "      <td>49080.79</td>\n",
              "      <td>9682.98</td>\n",
              "      <td>105.62</td>\n",
              "      <td>7036.73</td>\n",
              "      <td>9058.92</td>\n",
              "      <td>45454.40</td>\n",
              "    </tr>\n",
              "    <tr>\n",
              "      <th>std</th>\n",
              "      <td>619086204.32</td>\n",
              "      <td>1183391.26</td>\n",
              "      <td>95636.01</td>\n",
              "      <td>907.19</td>\n",
              "      <td>78639.75</td>\n",
              "      <td>90973.34</td>\n",
              "      <td>1152950.06</td>\n",
              "    </tr>\n",
              "    <tr>\n",
              "      <th>min</th>\n",
              "      <td>5971.00</td>\n",
              "      <td>0.01</td>\n",
              "      <td>0.00</td>\n",
              "      <td>0.00</td>\n",
              "      <td>0.00</td>\n",
              "      <td>0.00</td>\n",
              "      <td>0.01</td>\n",
              "    </tr>\n",
              "    <tr>\n",
              "      <th>25%</th>\n",
              "      <td>538263516.00</td>\n",
              "      <td>2000.00</td>\n",
              "      <td>30.00</td>\n",
              "      <td>2.00</td>\n",
              "      <td>16.98</td>\n",
              "      <td>31.00</td>\n",
              "      <td>2000.00</td>\n",
              "    </tr>\n",
              "    <tr>\n",
              "      <th>50%</th>\n",
              "      <td>1075275634.00</td>\n",
              "      <td>5200.00</td>\n",
              "      <td>620.00</td>\n",
              "      <td>12.00</td>\n",
              "      <td>394.72</td>\n",
              "      <td>624.33</td>\n",
              "      <td>5500.00</td>\n",
              "    </tr>\n",
              "    <tr>\n",
              "      <th>75%</th>\n",
              "      <td>1610148624.00</td>\n",
              "      <td>16000.00</td>\n",
              "      <td>4076.00</td>\n",
              "      <td>56.00</td>\n",
              "      <td>3034.09</td>\n",
              "      <td>4050.00</td>\n",
              "      <td>15500.00</td>\n",
              "    </tr>\n",
              "    <tr>\n",
              "      <th>max</th>\n",
              "      <td>2147476221.00</td>\n",
              "      <td>100000000.00</td>\n",
              "      <td>20338986.27</td>\n",
              "      <td>219382.00</td>\n",
              "      <td>20338986.27</td>\n",
              "      <td>20338986.27</td>\n",
              "      <td>166361390.71</td>\n",
              "    </tr>\n",
              "  </tbody>\n",
              "</table>\n",
              "</div>"
            ],
            "text/plain": [
              "                 ID         goal  ...  usd_pledged_real  usd_goal_real\n",
              "count     378661.00    378661.00  ...         378661.00      378661.00\n",
              "mean  1074731191.99     49080.79  ...           9058.92       45454.40\n",
              "std    619086204.32   1183391.26  ...          90973.34     1152950.06\n",
              "min         5971.00         0.01  ...              0.00           0.01\n",
              "25%    538263516.00      2000.00  ...             31.00        2000.00\n",
              "50%   1075275634.00      5200.00  ...            624.33        5500.00\n",
              "75%   1610148624.00     16000.00  ...           4050.00       15500.00\n",
              "max   2147476221.00 100000000.00  ...       20338986.27   166361390.71\n",
              "\n",
              "[8 rows x 7 columns]"
            ]
          },
          "metadata": {
            "tags": []
          },
          "execution_count": 11
        }
      ]
    },
    {
      "cell_type": "markdown",
      "metadata": {
        "colab_type": "text",
        "id": "JE0dlfRdYStv"
      },
      "source": [
        "Por defecto **se ven los datos numéricos, veamos el resto.**"
      ]
    },
    {
      "cell_type": "code",
      "metadata": {
        "colab_type": "code",
        "id": "F3vOZk3zYStw",
        "colab": {
          "base_uri": "https://localhost:8080/",
          "height": 189
        },
        "outputId": "d52330e7-ddaf-4c41-b1d1-42f14d6011ad"
      },
      "source": [
        "kickstarter_2018.describe(include=['object'])"
      ],
      "execution_count": null,
      "outputs": [
        {
          "output_type": "execute_result",
          "data": {
            "text/html": [
              "<div>\n",
              "<style scoped>\n",
              "    .dataframe tbody tr th:only-of-type {\n",
              "        vertical-align: middle;\n",
              "    }\n",
              "\n",
              "    .dataframe tbody tr th {\n",
              "        vertical-align: top;\n",
              "    }\n",
              "\n",
              "    .dataframe thead th {\n",
              "        text-align: right;\n",
              "    }\n",
              "</style>\n",
              "<table border=\"1\" class=\"dataframe\">\n",
              "  <thead>\n",
              "    <tr style=\"text-align: right;\">\n",
              "      <th></th>\n",
              "      <th>name</th>\n",
              "      <th>category</th>\n",
              "      <th>main_category</th>\n",
              "      <th>currency</th>\n",
              "      <th>deadline</th>\n",
              "      <th>launched</th>\n",
              "      <th>state</th>\n",
              "      <th>country</th>\n",
              "    </tr>\n",
              "  </thead>\n",
              "  <tbody>\n",
              "    <tr>\n",
              "      <th>count</th>\n",
              "      <td>378657</td>\n",
              "      <td>378661</td>\n",
              "      <td>378661</td>\n",
              "      <td>378661</td>\n",
              "      <td>378661</td>\n",
              "      <td>378661</td>\n",
              "      <td>378661</td>\n",
              "      <td>378661</td>\n",
              "    </tr>\n",
              "    <tr>\n",
              "      <th>unique</th>\n",
              "      <td>375764</td>\n",
              "      <td>159</td>\n",
              "      <td>15</td>\n",
              "      <td>14</td>\n",
              "      <td>3164</td>\n",
              "      <td>378089</td>\n",
              "      <td>6</td>\n",
              "      <td>23</td>\n",
              "    </tr>\n",
              "    <tr>\n",
              "      <th>top</th>\n",
              "      <td>New EP/Music Development</td>\n",
              "      <td>Product Design</td>\n",
              "      <td>Film &amp; Video</td>\n",
              "      <td>USD</td>\n",
              "      <td>2014-08-08</td>\n",
              "      <td>1970-01-01 01:00:00</td>\n",
              "      <td>failed</td>\n",
              "      <td>US</td>\n",
              "    </tr>\n",
              "    <tr>\n",
              "      <th>freq</th>\n",
              "      <td>41</td>\n",
              "      <td>22314</td>\n",
              "      <td>63585</td>\n",
              "      <td>295365</td>\n",
              "      <td>705</td>\n",
              "      <td>7</td>\n",
              "      <td>197719</td>\n",
              "      <td>292627</td>\n",
              "    </tr>\n",
              "  </tbody>\n",
              "</table>\n",
              "</div>"
            ],
            "text/plain": [
              "                            name        category  ...   state country\n",
              "count                     378657          378661  ...  378661  378661\n",
              "unique                    375764             159  ...       6      23\n",
              "top     New EP/Music Development  Product Design  ...  failed      US\n",
              "freq                          41           22314  ...  197719  292627\n",
              "\n",
              "[4 rows x 8 columns]"
            ]
          },
          "metadata": {
            "tags": []
          },
          "execution_count": 12
        }
      ]
    },
    {
      "cell_type": "markdown",
      "metadata": {
        "colab_type": "text",
        "id": "ql55gxdOYStz"
      },
      "source": [
        "Operemos un cacho sobre los datos de lanzamiento"
      ]
    },
    {
      "cell_type": "code",
      "metadata": {
        "colab_type": "code",
        "id": "lWP5PHJdYSt0",
        "colab": {
          "base_uri": "https://localhost:8080/",
          "height": 34
        },
        "outputId": "22d0dedb-574c-469c-901f-ea66c4be83ec"
      },
      "source": [
        "kickstarter_2018['launched'].min()   # nos devuelve el mínimo valor, es decir, el proyecto con la fecha más antigua de lanzamiento. "
      ],
      "execution_count": null,
      "outputs": [
        {
          "output_type": "execute_result",
          "data": {
            "application/vnd.google.colaboratory.intrinsic": {
              "type": "string"
            },
            "text/plain": [
              "'1970-01-01 01:00:00'"
            ]
          },
          "metadata": {
            "tags": []
          },
          "execution_count": 13
        }
      ]
    },
    {
      "cell_type": "markdown",
      "metadata": {
        "colab_type": "text",
        "id": "lBuefqnNYSt3"
      },
      "source": [
        "Parece funcionar, pero ahora calculemos el rango de fechas de los proyectos"
      ]
    },
    {
      "cell_type": "code",
      "metadata": {
        "colab_type": "code",
        "id": "Eohs3eNwYSt4",
        "colab": {
          "base_uri": "https://localhost:8080/",
          "height": 166
        },
        "outputId": "61f07b64-827a-44f5-93e5-4ca54c4d6bce"
      },
      "source": [
        "kickstarter_2018['launched'].max() - kickstarter_2018['launched'].min() # genera error, ya que debo definir los campos como del tipo fecha"
      ],
      "execution_count": null,
      "outputs": [
        {
          "output_type": "error",
          "ename": "TypeError",
          "evalue": "ignored",
          "traceback": [
            "\u001b[0;31m---------------------------------------------------------------------------\u001b[0m",
            "\u001b[0;31mTypeError\u001b[0m                                 Traceback (most recent call last)",
            "\u001b[0;32m<ipython-input-16-cd12ef36a5f7>\u001b[0m in \u001b[0;36m<module>\u001b[0;34m()\u001b[0m\n\u001b[0;32m----> 1\u001b[0;31m \u001b[0mkickstarter_2018\u001b[0m\u001b[0;34m[\u001b[0m\u001b[0;34m'launched'\u001b[0m\u001b[0;34m]\u001b[0m\u001b[0;34m.\u001b[0m\u001b[0mmax\u001b[0m\u001b[0;34m(\u001b[0m\u001b[0;34m)\u001b[0m \u001b[0;34m-\u001b[0m \u001b[0mkickstarter_2018\u001b[0m\u001b[0;34m[\u001b[0m\u001b[0;34m'launched'\u001b[0m\u001b[0;34m]\u001b[0m\u001b[0;34m.\u001b[0m\u001b[0mmin\u001b[0m\u001b[0;34m(\u001b[0m\u001b[0;34m)\u001b[0m\u001b[0;34m\u001b[0m\u001b[0;34m\u001b[0m\u001b[0m\n\u001b[0m",
            "\u001b[0;31mTypeError\u001b[0m: unsupported operand type(s) for -: 'str' and 'str'"
          ]
        }
      ]
    },
    {
      "cell_type": "markdown",
      "metadata": {
        "colab_type": "text",
        "id": "29NhQ8eEYSt9"
      },
      "source": [
        "Indiquemos que columnas son fechas como indica la [documentación](https://pandas.pydata.org/pandas-docs/stable/io.html#datetime-handling)"
      ]
    },
    {
      "cell_type": "code",
      "metadata": {
        "colab_type": "code",
        "id": "8Y21tDSYYSt_",
        "colab": {
          "base_uri": "https://localhost:8080/",
          "height": 298
        },
        "outputId": "2a1dab20-ec4d-41a3-dff5-7ed2ac2e3047"
      },
      "source": [
        "kickstarter_2018 = pd.read_csv(BASE_DIR + \"/input/kickstarter-projects/ks-projects-201801.csv\", \n",
        "                               parse_dates=[\"deadline\",\"launched\"])    # indicamos que ambas columnas son fechas\n",
        "kickstarter_2018.dtypes"
      ],
      "execution_count": null,
      "outputs": [
        {
          "output_type": "execute_result",
          "data": {
            "text/plain": [
              "ID                           int64\n",
              "name                        object\n",
              "category                    object\n",
              "main_category               object\n",
              "currency                    object\n",
              "deadline            datetime64[ns]\n",
              "goal                       float64\n",
              "launched            datetime64[ns]\n",
              "pledged                    float64\n",
              "state                       object\n",
              "backers                      int64\n",
              "country                     object\n",
              "usd pledged                float64\n",
              "usd_pledged_real           float64\n",
              "usd_goal_real              float64\n",
              "dtype: object"
            ]
          },
          "metadata": {
            "tags": []
          },
          "execution_count": 18
        }
      ]
    },
    {
      "cell_type": "markdown",
      "metadata": {
        "colab_type": "text",
        "id": "qKtgnTnYYSuD"
      },
      "source": [
        "Ahora vemos que esas columnas fueron reconocidas como fechas\n",
        "\n",
        "Veamos la misma muestra de nuevo"
      ]
    },
    {
      "cell_type": "code",
      "metadata": {
        "colab_type": "code",
        "id": "PW04V4DiYSuF",
        "colab": {
          "base_uri": "https://localhost:8080/",
          "height": 530
        },
        "outputId": "e9992924-b657-4c19-e72e-a48587a3b8a6"
      },
      "source": [
        "kickstarter_2018.sample(5)"
      ],
      "execution_count": null,
      "outputs": [
        {
          "output_type": "execute_result",
          "data": {
            "text/html": [
              "<div>\n",
              "<style scoped>\n",
              "    .dataframe tbody tr th:only-of-type {\n",
              "        vertical-align: middle;\n",
              "    }\n",
              "\n",
              "    .dataframe tbody tr th {\n",
              "        vertical-align: top;\n",
              "    }\n",
              "\n",
              "    .dataframe thead th {\n",
              "        text-align: right;\n",
              "    }\n",
              "</style>\n",
              "<table border=\"1\" class=\"dataframe\">\n",
              "  <thead>\n",
              "    <tr style=\"text-align: right;\">\n",
              "      <th></th>\n",
              "      <th>ID</th>\n",
              "      <th>name</th>\n",
              "      <th>category</th>\n",
              "      <th>main_category</th>\n",
              "      <th>currency</th>\n",
              "      <th>deadline</th>\n",
              "      <th>goal</th>\n",
              "      <th>launched</th>\n",
              "      <th>pledged</th>\n",
              "      <th>state</th>\n",
              "      <th>backers</th>\n",
              "      <th>country</th>\n",
              "      <th>usd pledged</th>\n",
              "      <th>usd_pledged_real</th>\n",
              "      <th>usd_goal_real</th>\n",
              "    </tr>\n",
              "  </thead>\n",
              "  <tbody>\n",
              "    <tr>\n",
              "      <th>299667</th>\n",
              "      <td>595962034</td>\n",
              "      <td>Button Poetry Live!</td>\n",
              "      <td>Mixed Media</td>\n",
              "      <td>Art</td>\n",
              "      <td>USD</td>\n",
              "      <td>2015-09-18</td>\n",
              "      <td>10000.00</td>\n",
              "      <td>2015-08-19 19:34:20</td>\n",
              "      <td>18216.27</td>\n",
              "      <td>successful</td>\n",
              "      <td>455</td>\n",
              "      <td>US</td>\n",
              "      <td>18216.27</td>\n",
              "      <td>18216.27</td>\n",
              "      <td>10000.00</td>\n",
              "    </tr>\n",
              "    <tr>\n",
              "      <th>181674</th>\n",
              "      <td>1924707671</td>\n",
              "      <td>C STREET 2012 : Tbilisi, Georgia</td>\n",
              "      <td>World Music</td>\n",
              "      <td>Music</td>\n",
              "      <td>USD</td>\n",
              "      <td>2012-06-07</td>\n",
              "      <td>5000.00</td>\n",
              "      <td>2012-05-08 18:22:59</td>\n",
              "      <td>7210.69</td>\n",
              "      <td>successful</td>\n",
              "      <td>82</td>\n",
              "      <td>US</td>\n",
              "      <td>7210.69</td>\n",
              "      <td>7210.69</td>\n",
              "      <td>5000.00</td>\n",
              "    </tr>\n",
              "    <tr>\n",
              "      <th>137583</th>\n",
              "      <td>1698707842</td>\n",
              "      <td>Dérive's Next Project</td>\n",
              "      <td>Punk</td>\n",
              "      <td>Music</td>\n",
              "      <td>USD</td>\n",
              "      <td>2014-07-06</td>\n",
              "      <td>1200.00</td>\n",
              "      <td>2014-06-08 17:58:37</td>\n",
              "      <td>1255.66</td>\n",
              "      <td>successful</td>\n",
              "      <td>33</td>\n",
              "      <td>US</td>\n",
              "      <td>1255.66</td>\n",
              "      <td>1255.66</td>\n",
              "      <td>1200.00</td>\n",
              "    </tr>\n",
              "    <tr>\n",
              "      <th>296861</th>\n",
              "      <td>581269566</td>\n",
              "      <td>Photo Book - World Santa Claus Congress</td>\n",
              "      <td>Photobooks</td>\n",
              "      <td>Photography</td>\n",
              "      <td>DKK</td>\n",
              "      <td>2017-04-14</td>\n",
              "      <td>110000.00</td>\n",
              "      <td>2017-03-14 23:45:35</td>\n",
              "      <td>462.00</td>\n",
              "      <td>failed</td>\n",
              "      <td>5</td>\n",
              "      <td>DK</td>\n",
              "      <td>0.00</td>\n",
              "      <td>66.46</td>\n",
              "      <td>15823.47</td>\n",
              "    </tr>\n",
              "    <tr>\n",
              "      <th>66362</th>\n",
              "      <td>1337585114</td>\n",
              "      <td>Kickstart CLE Brewing to greatness!</td>\n",
              "      <td>Drinks</td>\n",
              "      <td>Food</td>\n",
              "      <td>USD</td>\n",
              "      <td>2017-08-19</td>\n",
              "      <td>6500.00</td>\n",
              "      <td>2017-07-20 21:22:43</td>\n",
              "      <td>250.00</td>\n",
              "      <td>failed</td>\n",
              "      <td>5</td>\n",
              "      <td>US</td>\n",
              "      <td>75.00</td>\n",
              "      <td>250.00</td>\n",
              "      <td>6500.00</td>\n",
              "    </tr>\n",
              "  </tbody>\n",
              "</table>\n",
              "</div>"
            ],
            "text/plain": [
              "                ID  ... usd_goal_real\n",
              "299667   595962034  ...      10000.00\n",
              "181674  1924707671  ...       5000.00\n",
              "137583  1698707842  ...       1200.00\n",
              "296861   581269566  ...      15823.47\n",
              "66362   1337585114  ...       6500.00\n",
              "\n",
              "[5 rows x 15 columns]"
            ]
          },
          "metadata": {
            "tags": []
          },
          "execution_count": 19
        }
      ]
    },
    {
      "cell_type": "markdown",
      "metadata": {
        "colab_type": "text",
        "id": "yizWLJJ6YSuI"
      },
      "source": [
        "Y veamos el resumen de los datos"
      ]
    },
    {
      "cell_type": "code",
      "metadata": {
        "colab_type": "code",
        "id": "2PAmAj3XYSuJ",
        "colab": {
          "base_uri": "https://localhost:8080/",
          "height": 590
        },
        "outputId": "5f0f5184-f103-46c4-bcf1-74ca22d8b0b3"
      },
      "source": [
        "kickstarter_2018.describe(include='all')  # ahora en el resúmen se incluyen las fechas "
      ],
      "execution_count": null,
      "outputs": [
        {
          "output_type": "execute_result",
          "data": {
            "text/html": [
              "<div>\n",
              "<style scoped>\n",
              "    .dataframe tbody tr th:only-of-type {\n",
              "        vertical-align: middle;\n",
              "    }\n",
              "\n",
              "    .dataframe tbody tr th {\n",
              "        vertical-align: top;\n",
              "    }\n",
              "\n",
              "    .dataframe thead th {\n",
              "        text-align: right;\n",
              "    }\n",
              "</style>\n",
              "<table border=\"1\" class=\"dataframe\">\n",
              "  <thead>\n",
              "    <tr style=\"text-align: right;\">\n",
              "      <th></th>\n",
              "      <th>ID</th>\n",
              "      <th>name</th>\n",
              "      <th>category</th>\n",
              "      <th>main_category</th>\n",
              "      <th>currency</th>\n",
              "      <th>deadline</th>\n",
              "      <th>goal</th>\n",
              "      <th>launched</th>\n",
              "      <th>pledged</th>\n",
              "      <th>state</th>\n",
              "      <th>backers</th>\n",
              "      <th>country</th>\n",
              "      <th>usd pledged</th>\n",
              "      <th>usd_pledged_real</th>\n",
              "      <th>usd_goal_real</th>\n",
              "    </tr>\n",
              "  </thead>\n",
              "  <tbody>\n",
              "    <tr>\n",
              "      <th>count</th>\n",
              "      <td>378661.00</td>\n",
              "      <td>378657</td>\n",
              "      <td>378661</td>\n",
              "      <td>378661</td>\n",
              "      <td>378661</td>\n",
              "      <td>378661</td>\n",
              "      <td>378661.00</td>\n",
              "      <td>378661</td>\n",
              "      <td>378661.00</td>\n",
              "      <td>378661</td>\n",
              "      <td>378661.00</td>\n",
              "      <td>378661</td>\n",
              "      <td>374864.00</td>\n",
              "      <td>378661.00</td>\n",
              "      <td>378661.00</td>\n",
              "    </tr>\n",
              "    <tr>\n",
              "      <th>unique</th>\n",
              "      <td>nan</td>\n",
              "      <td>375764</td>\n",
              "      <td>159</td>\n",
              "      <td>15</td>\n",
              "      <td>14</td>\n",
              "      <td>3164</td>\n",
              "      <td>nan</td>\n",
              "      <td>378089</td>\n",
              "      <td>nan</td>\n",
              "      <td>6</td>\n",
              "      <td>nan</td>\n",
              "      <td>23</td>\n",
              "      <td>nan</td>\n",
              "      <td>nan</td>\n",
              "      <td>nan</td>\n",
              "    </tr>\n",
              "    <tr>\n",
              "      <th>top</th>\n",
              "      <td>nan</td>\n",
              "      <td>New EP/Music Development</td>\n",
              "      <td>Product Design</td>\n",
              "      <td>Film &amp; Video</td>\n",
              "      <td>USD</td>\n",
              "      <td>2014-08-08 00:00:00</td>\n",
              "      <td>nan</td>\n",
              "      <td>1970-01-01 01:00:00</td>\n",
              "      <td>nan</td>\n",
              "      <td>failed</td>\n",
              "      <td>nan</td>\n",
              "      <td>US</td>\n",
              "      <td>nan</td>\n",
              "      <td>nan</td>\n",
              "      <td>nan</td>\n",
              "    </tr>\n",
              "    <tr>\n",
              "      <th>freq</th>\n",
              "      <td>nan</td>\n",
              "      <td>41</td>\n",
              "      <td>22314</td>\n",
              "      <td>63585</td>\n",
              "      <td>295365</td>\n",
              "      <td>705</td>\n",
              "      <td>nan</td>\n",
              "      <td>7</td>\n",
              "      <td>nan</td>\n",
              "      <td>197719</td>\n",
              "      <td>nan</td>\n",
              "      <td>292627</td>\n",
              "      <td>nan</td>\n",
              "      <td>nan</td>\n",
              "      <td>nan</td>\n",
              "    </tr>\n",
              "    <tr>\n",
              "      <th>first</th>\n",
              "      <td>nan</td>\n",
              "      <td>NaN</td>\n",
              "      <td>NaN</td>\n",
              "      <td>NaN</td>\n",
              "      <td>NaN</td>\n",
              "      <td>2009-05-03 00:00:00</td>\n",
              "      <td>nan</td>\n",
              "      <td>1970-01-01 01:00:00</td>\n",
              "      <td>nan</td>\n",
              "      <td>NaN</td>\n",
              "      <td>nan</td>\n",
              "      <td>NaN</td>\n",
              "      <td>nan</td>\n",
              "      <td>nan</td>\n",
              "      <td>nan</td>\n",
              "    </tr>\n",
              "    <tr>\n",
              "      <th>last</th>\n",
              "      <td>nan</td>\n",
              "      <td>NaN</td>\n",
              "      <td>NaN</td>\n",
              "      <td>NaN</td>\n",
              "      <td>NaN</td>\n",
              "      <td>2018-03-03 00:00:00</td>\n",
              "      <td>nan</td>\n",
              "      <td>2018-01-02 15:02:31</td>\n",
              "      <td>nan</td>\n",
              "      <td>NaN</td>\n",
              "      <td>nan</td>\n",
              "      <td>NaN</td>\n",
              "      <td>nan</td>\n",
              "      <td>nan</td>\n",
              "      <td>nan</td>\n",
              "    </tr>\n",
              "    <tr>\n",
              "      <th>mean</th>\n",
              "      <td>1074731191.99</td>\n",
              "      <td>NaN</td>\n",
              "      <td>NaN</td>\n",
              "      <td>NaN</td>\n",
              "      <td>NaN</td>\n",
              "      <td>NaN</td>\n",
              "      <td>49080.79</td>\n",
              "      <td>NaN</td>\n",
              "      <td>9682.98</td>\n",
              "      <td>NaN</td>\n",
              "      <td>105.62</td>\n",
              "      <td>NaN</td>\n",
              "      <td>7036.73</td>\n",
              "      <td>9058.92</td>\n",
              "      <td>45454.40</td>\n",
              "    </tr>\n",
              "    <tr>\n",
              "      <th>std</th>\n",
              "      <td>619086204.32</td>\n",
              "      <td>NaN</td>\n",
              "      <td>NaN</td>\n",
              "      <td>NaN</td>\n",
              "      <td>NaN</td>\n",
              "      <td>NaN</td>\n",
              "      <td>1183391.26</td>\n",
              "      <td>NaN</td>\n",
              "      <td>95636.01</td>\n",
              "      <td>NaN</td>\n",
              "      <td>907.19</td>\n",
              "      <td>NaN</td>\n",
              "      <td>78639.75</td>\n",
              "      <td>90973.34</td>\n",
              "      <td>1152950.06</td>\n",
              "    </tr>\n",
              "    <tr>\n",
              "      <th>min</th>\n",
              "      <td>5971.00</td>\n",
              "      <td>NaN</td>\n",
              "      <td>NaN</td>\n",
              "      <td>NaN</td>\n",
              "      <td>NaN</td>\n",
              "      <td>NaN</td>\n",
              "      <td>0.01</td>\n",
              "      <td>NaN</td>\n",
              "      <td>0.00</td>\n",
              "      <td>NaN</td>\n",
              "      <td>0.00</td>\n",
              "      <td>NaN</td>\n",
              "      <td>0.00</td>\n",
              "      <td>0.00</td>\n",
              "      <td>0.01</td>\n",
              "    </tr>\n",
              "    <tr>\n",
              "      <th>25%</th>\n",
              "      <td>538263516.00</td>\n",
              "      <td>NaN</td>\n",
              "      <td>NaN</td>\n",
              "      <td>NaN</td>\n",
              "      <td>NaN</td>\n",
              "      <td>NaN</td>\n",
              "      <td>2000.00</td>\n",
              "      <td>NaN</td>\n",
              "      <td>30.00</td>\n",
              "      <td>NaN</td>\n",
              "      <td>2.00</td>\n",
              "      <td>NaN</td>\n",
              "      <td>16.98</td>\n",
              "      <td>31.00</td>\n",
              "      <td>2000.00</td>\n",
              "    </tr>\n",
              "    <tr>\n",
              "      <th>50%</th>\n",
              "      <td>1075275634.00</td>\n",
              "      <td>NaN</td>\n",
              "      <td>NaN</td>\n",
              "      <td>NaN</td>\n",
              "      <td>NaN</td>\n",
              "      <td>NaN</td>\n",
              "      <td>5200.00</td>\n",
              "      <td>NaN</td>\n",
              "      <td>620.00</td>\n",
              "      <td>NaN</td>\n",
              "      <td>12.00</td>\n",
              "      <td>NaN</td>\n",
              "      <td>394.72</td>\n",
              "      <td>624.33</td>\n",
              "      <td>5500.00</td>\n",
              "    </tr>\n",
              "    <tr>\n",
              "      <th>75%</th>\n",
              "      <td>1610148624.00</td>\n",
              "      <td>NaN</td>\n",
              "      <td>NaN</td>\n",
              "      <td>NaN</td>\n",
              "      <td>NaN</td>\n",
              "      <td>NaN</td>\n",
              "      <td>16000.00</td>\n",
              "      <td>NaN</td>\n",
              "      <td>4076.00</td>\n",
              "      <td>NaN</td>\n",
              "      <td>56.00</td>\n",
              "      <td>NaN</td>\n",
              "      <td>3034.09</td>\n",
              "      <td>4050.00</td>\n",
              "      <td>15500.00</td>\n",
              "    </tr>\n",
              "    <tr>\n",
              "      <th>max</th>\n",
              "      <td>2147476221.00</td>\n",
              "      <td>NaN</td>\n",
              "      <td>NaN</td>\n",
              "      <td>NaN</td>\n",
              "      <td>NaN</td>\n",
              "      <td>NaN</td>\n",
              "      <td>100000000.00</td>\n",
              "      <td>NaN</td>\n",
              "      <td>20338986.27</td>\n",
              "      <td>NaN</td>\n",
              "      <td>219382.00</td>\n",
              "      <td>NaN</td>\n",
              "      <td>20338986.27</td>\n",
              "      <td>20338986.27</td>\n",
              "      <td>166361390.71</td>\n",
              "    </tr>\n",
              "  </tbody>\n",
              "</table>\n",
              "</div>"
            ],
            "text/plain": [
              "                  ID                      name  ... usd_pledged_real usd_goal_real\n",
              "count      378661.00                    378657  ...        378661.00     378661.00\n",
              "unique           nan                    375764  ...              nan           nan\n",
              "top              nan  New EP/Music Development  ...              nan           nan\n",
              "freq             nan                        41  ...              nan           nan\n",
              "first            nan                       NaN  ...              nan           nan\n",
              "last             nan                       NaN  ...              nan           nan\n",
              "mean   1074731191.99                       NaN  ...          9058.92      45454.40\n",
              "std     619086204.32                       NaN  ...         90973.34    1152950.06\n",
              "min          5971.00                       NaN  ...             0.00          0.01\n",
              "25%     538263516.00                       NaN  ...            31.00       2000.00\n",
              "50%    1075275634.00                       NaN  ...           624.33       5500.00\n",
              "75%    1610148624.00                       NaN  ...          4050.00      15500.00\n",
              "max    2147476221.00                       NaN  ...      20338986.27  166361390.71\n",
              "\n",
              "[13 rows x 15 columns]"
            ]
          },
          "metadata": {
            "tags": []
          },
          "execution_count": 20
        }
      ]
    },
    {
      "cell_type": "markdown",
      "metadata": {
        "colab_type": "text",
        "id": "WSd5WYsMYSuQ"
      },
      "source": [
        "Podemos ver que tenemos primero y último en el resumen de las columnas de fechas.\n",
        "\n",
        "Ahora deberíamos poder calcular el rango de fechas de lanzamietos"
      ]
    },
    {
      "cell_type": "code",
      "metadata": {
        "colab_type": "code",
        "id": "8qhSEoVJYSuR",
        "colab": {
          "base_uri": "https://localhost:8080/",
          "height": 34
        },
        "outputId": "3d05df2f-02ad-4d48-898b-d3af2e0d13f3"
      },
      "source": [
        "kickstarter_2018['launched'].max() - kickstarter_2018['launched'].min()    #como ambos campos son del tipo fecha ahora si funciona el ejercicio"
      ],
      "execution_count": null,
      "outputs": [
        {
          "output_type": "execute_result",
          "data": {
            "text/plain": [
              "Timedelta('17533 days 14:02:31')"
            ]
          },
          "metadata": {
            "tags": []
          },
          "execution_count": 21
        }
      ]
    },
    {
      "cell_type": "markdown",
      "metadata": {
        "colab_type": "text",
        "id": "kUuWg5XxYSuU"
      },
      "source": [
        "# 1.2. Asegurar de tener ids/claves únicas"
      ]
    },
    {
      "cell_type": "markdown",
      "metadata": {
        "colab_type": "text",
        "id": "a8kLSONTYSuV"
      },
      "source": [
        "Chequear que no hay datos duplicados"
      ]
    },
    {
      "cell_type": "code",
      "metadata": {
        "colab_type": "code",
        "id": "wIbpcwGKYSuW",
        "colab": {
          "base_uri": "https://localhost:8080/",
          "height": 34
        },
        "outputId": "7f39dfd7-a899-4b9d-a0de-5b950258aa97"
      },
      "source": [
        "kickstarter_2018.shape   # verifico que no haya duplicados"
      ],
      "execution_count": null,
      "outputs": [
        {
          "output_type": "execute_result",
          "data": {
            "text/plain": [
              "(378661, 15)"
            ]
          },
          "metadata": {
            "tags": []
          },
          "execution_count": 22
        }
      ]
    },
    {
      "cell_type": "markdown",
      "metadata": {
        "id": "dHGfXytobCMa",
        "colab_type": "text"
      },
      "source": [
        "Pandas soporta índices en los DataFrames vamos a recargar el conjunto de datos"
      ]
    },
    {
      "cell_type": "code",
      "metadata": {
        "colab_type": "code",
        "id": "85qApsv2YSuZ",
        "colab": {}
      },
      "source": [
        "kickstarter_2018 = pd.read_csv(BASE_DIR + \"/input/kickstarter-projects/ks-projects-201801.csv\", \n",
        "                               parse_dates=[\"deadline\",\"launched\"],\n",
        "                               index_col=['ID'])"
      ],
      "execution_count": null,
      "outputs": []
    },
    {
      "cell_type": "code",
      "metadata": {
        "colab_type": "code",
        "id": "zUl3zjhQYSuc",
        "colab": {
          "base_uri": "https://localhost:8080/",
          "height": 932
        },
        "outputId": "f47bca51-9451-4b2f-d6ed-0728addcda07"
      },
      "source": [
        "kickstarter_2018"
      ],
      "execution_count": null,
      "outputs": [
        {
          "output_type": "execute_result",
          "data": {
            "text/html": [
              "<div>\n",
              "<style scoped>\n",
              "    .dataframe tbody tr th:only-of-type {\n",
              "        vertical-align: middle;\n",
              "    }\n",
              "\n",
              "    .dataframe tbody tr th {\n",
              "        vertical-align: top;\n",
              "    }\n",
              "\n",
              "    .dataframe thead th {\n",
              "        text-align: right;\n",
              "    }\n",
              "</style>\n",
              "<table border=\"1\" class=\"dataframe\">\n",
              "  <thead>\n",
              "    <tr style=\"text-align: right;\">\n",
              "      <th></th>\n",
              "      <th>ID</th>\n",
              "      <th>name</th>\n",
              "      <th>category</th>\n",
              "      <th>main_category</th>\n",
              "      <th>currency</th>\n",
              "      <th>deadline</th>\n",
              "      <th>goal</th>\n",
              "      <th>launched</th>\n",
              "      <th>pledged</th>\n",
              "      <th>state</th>\n",
              "      <th>backers</th>\n",
              "      <th>country</th>\n",
              "      <th>usd pledged</th>\n",
              "      <th>usd_pledged_real</th>\n",
              "      <th>usd_goal_real</th>\n",
              "    </tr>\n",
              "  </thead>\n",
              "  <tbody>\n",
              "    <tr>\n",
              "      <th>0</th>\n",
              "      <td>1000002330</td>\n",
              "      <td>The Songs of Adelaide &amp; Abullah</td>\n",
              "      <td>Poetry</td>\n",
              "      <td>Publishing</td>\n",
              "      <td>GBP</td>\n",
              "      <td>2015-10-09</td>\n",
              "      <td>1000.00</td>\n",
              "      <td>2015-08-11 12:12:28</td>\n",
              "      <td>0.00</td>\n",
              "      <td>failed</td>\n",
              "      <td>0</td>\n",
              "      <td>GB</td>\n",
              "      <td>0.00</td>\n",
              "      <td>0.00</td>\n",
              "      <td>1533.95</td>\n",
              "    </tr>\n",
              "    <tr>\n",
              "      <th>1</th>\n",
              "      <td>1000003930</td>\n",
              "      <td>Greeting From Earth: ZGAC Arts Capsule For ET</td>\n",
              "      <td>Narrative Film</td>\n",
              "      <td>Film &amp; Video</td>\n",
              "      <td>USD</td>\n",
              "      <td>2017-11-01</td>\n",
              "      <td>30000.00</td>\n",
              "      <td>2017-09-02 04:43:57</td>\n",
              "      <td>2421.00</td>\n",
              "      <td>failed</td>\n",
              "      <td>15</td>\n",
              "      <td>US</td>\n",
              "      <td>100.00</td>\n",
              "      <td>2421.00</td>\n",
              "      <td>30000.00</td>\n",
              "    </tr>\n",
              "    <tr>\n",
              "      <th>2</th>\n",
              "      <td>1000004038</td>\n",
              "      <td>Where is Hank?</td>\n",
              "      <td>Narrative Film</td>\n",
              "      <td>Film &amp; Video</td>\n",
              "      <td>USD</td>\n",
              "      <td>2013-02-26</td>\n",
              "      <td>45000.00</td>\n",
              "      <td>2013-01-12 00:20:50</td>\n",
              "      <td>220.00</td>\n",
              "      <td>failed</td>\n",
              "      <td>3</td>\n",
              "      <td>US</td>\n",
              "      <td>220.00</td>\n",
              "      <td>220.00</td>\n",
              "      <td>45000.00</td>\n",
              "    </tr>\n",
              "    <tr>\n",
              "      <th>3</th>\n",
              "      <td>1000007540</td>\n",
              "      <td>ToshiCapital Rekordz Needs Help to Complete Album</td>\n",
              "      <td>Music</td>\n",
              "      <td>Music</td>\n",
              "      <td>USD</td>\n",
              "      <td>2012-04-16</td>\n",
              "      <td>5000.00</td>\n",
              "      <td>2012-03-17 03:24:11</td>\n",
              "      <td>1.00</td>\n",
              "      <td>failed</td>\n",
              "      <td>1</td>\n",
              "      <td>US</td>\n",
              "      <td>1.00</td>\n",
              "      <td>1.00</td>\n",
              "      <td>5000.00</td>\n",
              "    </tr>\n",
              "    <tr>\n",
              "      <th>4</th>\n",
              "      <td>1000011046</td>\n",
              "      <td>Community Film Project: The Art of Neighborhoo...</td>\n",
              "      <td>Film &amp; Video</td>\n",
              "      <td>Film &amp; Video</td>\n",
              "      <td>USD</td>\n",
              "      <td>2015-08-29</td>\n",
              "      <td>19500.00</td>\n",
              "      <td>2015-07-04 08:35:03</td>\n",
              "      <td>1283.00</td>\n",
              "      <td>canceled</td>\n",
              "      <td>14</td>\n",
              "      <td>US</td>\n",
              "      <td>1283.00</td>\n",
              "      <td>1283.00</td>\n",
              "      <td>19500.00</td>\n",
              "    </tr>\n",
              "    <tr>\n",
              "      <th>...</th>\n",
              "      <td>...</td>\n",
              "      <td>...</td>\n",
              "      <td>...</td>\n",
              "      <td>...</td>\n",
              "      <td>...</td>\n",
              "      <td>...</td>\n",
              "      <td>...</td>\n",
              "      <td>...</td>\n",
              "      <td>...</td>\n",
              "      <td>...</td>\n",
              "      <td>...</td>\n",
              "      <td>...</td>\n",
              "      <td>...</td>\n",
              "      <td>...</td>\n",
              "      <td>...</td>\n",
              "    </tr>\n",
              "    <tr>\n",
              "      <th>378656</th>\n",
              "      <td>999976400</td>\n",
              "      <td>ChknTruk Nationwide Charity Drive 2014 (Canceled)</td>\n",
              "      <td>Documentary</td>\n",
              "      <td>Film &amp; Video</td>\n",
              "      <td>USD</td>\n",
              "      <td>2014-10-17</td>\n",
              "      <td>50000.00</td>\n",
              "      <td>2014-09-17 02:35:30</td>\n",
              "      <td>25.00</td>\n",
              "      <td>canceled</td>\n",
              "      <td>1</td>\n",
              "      <td>US</td>\n",
              "      <td>25.00</td>\n",
              "      <td>25.00</td>\n",
              "      <td>50000.00</td>\n",
              "    </tr>\n",
              "    <tr>\n",
              "      <th>378657</th>\n",
              "      <td>999977640</td>\n",
              "      <td>The Tribe</td>\n",
              "      <td>Narrative Film</td>\n",
              "      <td>Film &amp; Video</td>\n",
              "      <td>USD</td>\n",
              "      <td>2011-07-19</td>\n",
              "      <td>1500.00</td>\n",
              "      <td>2011-06-22 03:35:14</td>\n",
              "      <td>155.00</td>\n",
              "      <td>failed</td>\n",
              "      <td>5</td>\n",
              "      <td>US</td>\n",
              "      <td>155.00</td>\n",
              "      <td>155.00</td>\n",
              "      <td>1500.00</td>\n",
              "    </tr>\n",
              "    <tr>\n",
              "      <th>378658</th>\n",
              "      <td>999986353</td>\n",
              "      <td>Walls of Remedy- New lesbian Romantic Comedy f...</td>\n",
              "      <td>Narrative Film</td>\n",
              "      <td>Film &amp; Video</td>\n",
              "      <td>USD</td>\n",
              "      <td>2010-08-16</td>\n",
              "      <td>15000.00</td>\n",
              "      <td>2010-07-01 19:40:30</td>\n",
              "      <td>20.00</td>\n",
              "      <td>failed</td>\n",
              "      <td>1</td>\n",
              "      <td>US</td>\n",
              "      <td>20.00</td>\n",
              "      <td>20.00</td>\n",
              "      <td>15000.00</td>\n",
              "    </tr>\n",
              "    <tr>\n",
              "      <th>378659</th>\n",
              "      <td>999987933</td>\n",
              "      <td>BioDefense Education Kit</td>\n",
              "      <td>Technology</td>\n",
              "      <td>Technology</td>\n",
              "      <td>USD</td>\n",
              "      <td>2016-02-13</td>\n",
              "      <td>15000.00</td>\n",
              "      <td>2016-01-13 18:13:53</td>\n",
              "      <td>200.00</td>\n",
              "      <td>failed</td>\n",
              "      <td>6</td>\n",
              "      <td>US</td>\n",
              "      <td>200.00</td>\n",
              "      <td>200.00</td>\n",
              "      <td>15000.00</td>\n",
              "    </tr>\n",
              "    <tr>\n",
              "      <th>378660</th>\n",
              "      <td>999988282</td>\n",
              "      <td>Nou Renmen Ayiti!  We Love Haiti!</td>\n",
              "      <td>Performance Art</td>\n",
              "      <td>Art</td>\n",
              "      <td>USD</td>\n",
              "      <td>2011-08-16</td>\n",
              "      <td>2000.00</td>\n",
              "      <td>2011-07-19 09:07:47</td>\n",
              "      <td>524.00</td>\n",
              "      <td>failed</td>\n",
              "      <td>17</td>\n",
              "      <td>US</td>\n",
              "      <td>524.00</td>\n",
              "      <td>524.00</td>\n",
              "      <td>2000.00</td>\n",
              "    </tr>\n",
              "  </tbody>\n",
              "</table>\n",
              "<p>378661 rows × 15 columns</p>\n",
              "</div>"
            ],
            "text/plain": [
              "                ID  ... usd_goal_real\n",
              "0       1000002330  ...       1533.95\n",
              "1       1000003930  ...      30000.00\n",
              "2       1000004038  ...      45000.00\n",
              "3       1000007540  ...       5000.00\n",
              "4       1000011046  ...      19500.00\n",
              "...            ...  ...           ...\n",
              "378656   999976400  ...      50000.00\n",
              "378657   999977640  ...       1500.00\n",
              "378658   999986353  ...      15000.00\n",
              "378659   999987933  ...      15000.00\n",
              "378660   999988282  ...       2000.00\n",
              "\n",
              "[378661 rows x 15 columns]"
            ]
          },
          "metadata": {
            "tags": []
          },
          "execution_count": 23
        }
      ]
    },
    {
      "cell_type": "code",
      "metadata": {
        "colab_type": "code",
        "id": "RirO_GHkYSuf",
        "colab": {}
      },
      "source": [
        "kickstarter_2018.shape"
      ],
      "execution_count": null,
      "outputs": []
    },
    {
      "cell_type": "markdown",
      "metadata": {
        "id": "g8Z4QZgabCMi",
        "colab_type": "text"
      },
      "source": [
        "De esta forma podemos buscar por el índice"
      ]
    },
    {
      "cell_type": "code",
      "metadata": {
        "id": "aa5IVN6CbCMj",
        "colab_type": "code",
        "colab": {
          "base_uri": "https://localhost:8080/",
          "height": 438
        },
        "outputId": "0e24be7f-7b5e-432b-b232-21a10b87e997"
      },
      "source": [
        "kickstarter_2018.loc[999988282]   # me da error, loc para buscar por índice"
      ],
      "execution_count": null,
      "outputs": [
        {
          "output_type": "error",
          "ename": "KeyError",
          "evalue": "ignored",
          "traceback": [
            "\u001b[0;31m---------------------------------------------------------------------------\u001b[0m",
            "\u001b[0;31mValueError\u001b[0m                                Traceback (most recent call last)",
            "\u001b[0;32m/usr/local/lib/python3.6/dist-packages/pandas/core/indexes/range.py\u001b[0m in \u001b[0;36mget_loc\u001b[0;34m(self, key, method, tolerance)\u001b[0m\n\u001b[1;32m    349\u001b[0m             \u001b[0;32mtry\u001b[0m\u001b[0;34m:\u001b[0m\u001b[0;34m\u001b[0m\u001b[0;34m\u001b[0m\u001b[0m\n\u001b[0;32m--> 350\u001b[0;31m                 \u001b[0;32mreturn\u001b[0m \u001b[0mself\u001b[0m\u001b[0;34m.\u001b[0m\u001b[0m_range\u001b[0m\u001b[0;34m.\u001b[0m\u001b[0mindex\u001b[0m\u001b[0;34m(\u001b[0m\u001b[0mnew_key\u001b[0m\u001b[0;34m)\u001b[0m\u001b[0;34m\u001b[0m\u001b[0;34m\u001b[0m\u001b[0m\n\u001b[0m\u001b[1;32m    351\u001b[0m             \u001b[0;32mexcept\u001b[0m \u001b[0mValueError\u001b[0m\u001b[0;34m:\u001b[0m\u001b[0;34m\u001b[0m\u001b[0;34m\u001b[0m\u001b[0m\n",
            "\u001b[0;31mValueError\u001b[0m: 999988282 is not in range",
            "\nDuring handling of the above exception, another exception occurred:\n",
            "\u001b[0;31mKeyError\u001b[0m                                  Traceback (most recent call last)",
            "\u001b[0;32m<ipython-input-24-879fc2ff0365>\u001b[0m in \u001b[0;36m<module>\u001b[0;34m()\u001b[0m\n\u001b[0;32m----> 1\u001b[0;31m \u001b[0mkickstarter_2018\u001b[0m\u001b[0;34m.\u001b[0m\u001b[0mloc\u001b[0m\u001b[0;34m[\u001b[0m\u001b[0;36m999988282\u001b[0m\u001b[0;34m]\u001b[0m\u001b[0;34m\u001b[0m\u001b[0;34m\u001b[0m\u001b[0m\n\u001b[0m",
            "\u001b[0;32m/usr/local/lib/python3.6/dist-packages/pandas/core/indexing.py\u001b[0m in \u001b[0;36m__getitem__\u001b[0;34m(self, key)\u001b[0m\n\u001b[1;32m   1766\u001b[0m \u001b[0;34m\u001b[0m\u001b[0m\n\u001b[1;32m   1767\u001b[0m             \u001b[0mmaybe_callable\u001b[0m \u001b[0;34m=\u001b[0m \u001b[0mcom\u001b[0m\u001b[0;34m.\u001b[0m\u001b[0mapply_if_callable\u001b[0m\u001b[0;34m(\u001b[0m\u001b[0mkey\u001b[0m\u001b[0;34m,\u001b[0m \u001b[0mself\u001b[0m\u001b[0;34m.\u001b[0m\u001b[0mobj\u001b[0m\u001b[0;34m)\u001b[0m\u001b[0;34m\u001b[0m\u001b[0;34m\u001b[0m\u001b[0m\n\u001b[0;32m-> 1768\u001b[0;31m             \u001b[0;32mreturn\u001b[0m \u001b[0mself\u001b[0m\u001b[0;34m.\u001b[0m\u001b[0m_getitem_axis\u001b[0m\u001b[0;34m(\u001b[0m\u001b[0mmaybe_callable\u001b[0m\u001b[0;34m,\u001b[0m \u001b[0maxis\u001b[0m\u001b[0;34m=\u001b[0m\u001b[0maxis\u001b[0m\u001b[0;34m)\u001b[0m\u001b[0;34m\u001b[0m\u001b[0;34m\u001b[0m\u001b[0m\n\u001b[0m\u001b[1;32m   1769\u001b[0m \u001b[0;34m\u001b[0m\u001b[0m\n\u001b[1;32m   1770\u001b[0m     \u001b[0;32mdef\u001b[0m \u001b[0m_is_scalar_access\u001b[0m\u001b[0;34m(\u001b[0m\u001b[0mself\u001b[0m\u001b[0;34m,\u001b[0m \u001b[0mkey\u001b[0m\u001b[0;34m:\u001b[0m \u001b[0mTuple\u001b[0m\u001b[0;34m)\u001b[0m\u001b[0;34m:\u001b[0m\u001b[0;34m\u001b[0m\u001b[0;34m\u001b[0m\u001b[0m\n",
            "\u001b[0;32m/usr/local/lib/python3.6/dist-packages/pandas/core/indexing.py\u001b[0m in \u001b[0;36m_getitem_axis\u001b[0;34m(self, key, axis)\u001b[0m\n\u001b[1;32m   1963\u001b[0m         \u001b[0;31m# fall thru to straight lookup\u001b[0m\u001b[0;34m\u001b[0m\u001b[0;34m\u001b[0m\u001b[0;34m\u001b[0m\u001b[0m\n\u001b[1;32m   1964\u001b[0m         \u001b[0mself\u001b[0m\u001b[0;34m.\u001b[0m\u001b[0m_validate_key\u001b[0m\u001b[0;34m(\u001b[0m\u001b[0mkey\u001b[0m\u001b[0;34m,\u001b[0m \u001b[0maxis\u001b[0m\u001b[0;34m)\u001b[0m\u001b[0;34m\u001b[0m\u001b[0;34m\u001b[0m\u001b[0m\n\u001b[0;32m-> 1965\u001b[0;31m         \u001b[0;32mreturn\u001b[0m \u001b[0mself\u001b[0m\u001b[0;34m.\u001b[0m\u001b[0m_get_label\u001b[0m\u001b[0;34m(\u001b[0m\u001b[0mkey\u001b[0m\u001b[0;34m,\u001b[0m \u001b[0maxis\u001b[0m\u001b[0;34m=\u001b[0m\u001b[0maxis\u001b[0m\u001b[0;34m)\u001b[0m\u001b[0;34m\u001b[0m\u001b[0;34m\u001b[0m\u001b[0m\n\u001b[0m\u001b[1;32m   1966\u001b[0m \u001b[0;34m\u001b[0m\u001b[0m\n\u001b[1;32m   1967\u001b[0m \u001b[0;34m\u001b[0m\u001b[0m\n",
            "\u001b[0;32m/usr/local/lib/python3.6/dist-packages/pandas/core/indexing.py\u001b[0m in \u001b[0;36m_get_label\u001b[0;34m(self, label, axis)\u001b[0m\n\u001b[1;32m    623\u001b[0m             \u001b[0;32mraise\u001b[0m \u001b[0mIndexingError\u001b[0m\u001b[0;34m(\u001b[0m\u001b[0;34m\"no slices here, handle elsewhere\"\u001b[0m\u001b[0;34m)\u001b[0m\u001b[0;34m\u001b[0m\u001b[0;34m\u001b[0m\u001b[0m\n\u001b[1;32m    624\u001b[0m \u001b[0;34m\u001b[0m\u001b[0m\n\u001b[0;32m--> 625\u001b[0;31m         \u001b[0;32mreturn\u001b[0m \u001b[0mself\u001b[0m\u001b[0;34m.\u001b[0m\u001b[0mobj\u001b[0m\u001b[0;34m.\u001b[0m\u001b[0m_xs\u001b[0m\u001b[0;34m(\u001b[0m\u001b[0mlabel\u001b[0m\u001b[0;34m,\u001b[0m \u001b[0maxis\u001b[0m\u001b[0;34m=\u001b[0m\u001b[0maxis\u001b[0m\u001b[0;34m)\u001b[0m\u001b[0;34m\u001b[0m\u001b[0;34m\u001b[0m\u001b[0m\n\u001b[0m\u001b[1;32m    626\u001b[0m \u001b[0;34m\u001b[0m\u001b[0m\n\u001b[1;32m    627\u001b[0m     \u001b[0;32mdef\u001b[0m \u001b[0m_get_loc\u001b[0m\u001b[0;34m(\u001b[0m\u001b[0mself\u001b[0m\u001b[0;34m,\u001b[0m \u001b[0mkey\u001b[0m\u001b[0;34m:\u001b[0m \u001b[0mint\u001b[0m\u001b[0;34m,\u001b[0m \u001b[0maxis\u001b[0m\u001b[0;34m:\u001b[0m \u001b[0mint\u001b[0m\u001b[0;34m)\u001b[0m\u001b[0;34m:\u001b[0m\u001b[0;34m\u001b[0m\u001b[0;34m\u001b[0m\u001b[0m\n",
            "\u001b[0;32m/usr/local/lib/python3.6/dist-packages/pandas/core/generic.py\u001b[0m in \u001b[0;36mxs\u001b[0;34m(self, key, axis, level, drop_level)\u001b[0m\n\u001b[1;32m   3535\u001b[0m             \u001b[0mloc\u001b[0m\u001b[0;34m,\u001b[0m \u001b[0mnew_index\u001b[0m \u001b[0;34m=\u001b[0m \u001b[0mself\u001b[0m\u001b[0;34m.\u001b[0m\u001b[0mindex\u001b[0m\u001b[0;34m.\u001b[0m\u001b[0mget_loc_level\u001b[0m\u001b[0;34m(\u001b[0m\u001b[0mkey\u001b[0m\u001b[0;34m,\u001b[0m \u001b[0mdrop_level\u001b[0m\u001b[0;34m=\u001b[0m\u001b[0mdrop_level\u001b[0m\u001b[0;34m)\u001b[0m\u001b[0;34m\u001b[0m\u001b[0;34m\u001b[0m\u001b[0m\n\u001b[1;32m   3536\u001b[0m         \u001b[0;32melse\u001b[0m\u001b[0;34m:\u001b[0m\u001b[0;34m\u001b[0m\u001b[0;34m\u001b[0m\u001b[0m\n\u001b[0;32m-> 3537\u001b[0;31m             \u001b[0mloc\u001b[0m \u001b[0;34m=\u001b[0m \u001b[0mself\u001b[0m\u001b[0;34m.\u001b[0m\u001b[0mindex\u001b[0m\u001b[0;34m.\u001b[0m\u001b[0mget_loc\u001b[0m\u001b[0;34m(\u001b[0m\u001b[0mkey\u001b[0m\u001b[0;34m)\u001b[0m\u001b[0;34m\u001b[0m\u001b[0;34m\u001b[0m\u001b[0m\n\u001b[0m\u001b[1;32m   3538\u001b[0m \u001b[0;34m\u001b[0m\u001b[0m\n\u001b[1;32m   3539\u001b[0m             \u001b[0;32mif\u001b[0m \u001b[0misinstance\u001b[0m\u001b[0;34m(\u001b[0m\u001b[0mloc\u001b[0m\u001b[0;34m,\u001b[0m \u001b[0mnp\u001b[0m\u001b[0;34m.\u001b[0m\u001b[0mndarray\u001b[0m\u001b[0;34m)\u001b[0m\u001b[0;34m:\u001b[0m\u001b[0;34m\u001b[0m\u001b[0;34m\u001b[0m\u001b[0m\n",
            "\u001b[0;32m/usr/local/lib/python3.6/dist-packages/pandas/core/indexes/range.py\u001b[0m in \u001b[0;36mget_loc\u001b[0;34m(self, key, method, tolerance)\u001b[0m\n\u001b[1;32m    350\u001b[0m                 \u001b[0;32mreturn\u001b[0m \u001b[0mself\u001b[0m\u001b[0;34m.\u001b[0m\u001b[0m_range\u001b[0m\u001b[0;34m.\u001b[0m\u001b[0mindex\u001b[0m\u001b[0;34m(\u001b[0m\u001b[0mnew_key\u001b[0m\u001b[0;34m)\u001b[0m\u001b[0;34m\u001b[0m\u001b[0;34m\u001b[0m\u001b[0m\n\u001b[1;32m    351\u001b[0m             \u001b[0;32mexcept\u001b[0m \u001b[0mValueError\u001b[0m\u001b[0;34m:\u001b[0m\u001b[0;34m\u001b[0m\u001b[0;34m\u001b[0m\u001b[0m\n\u001b[0;32m--> 352\u001b[0;31m                 \u001b[0;32mraise\u001b[0m \u001b[0mKeyError\u001b[0m\u001b[0;34m(\u001b[0m\u001b[0mkey\u001b[0m\u001b[0;34m)\u001b[0m\u001b[0;34m\u001b[0m\u001b[0;34m\u001b[0m\u001b[0m\n\u001b[0m\u001b[1;32m    353\u001b[0m         \u001b[0;32mreturn\u001b[0m \u001b[0msuper\u001b[0m\u001b[0;34m(\u001b[0m\u001b[0;34m)\u001b[0m\u001b[0;34m.\u001b[0m\u001b[0mget_loc\u001b[0m\u001b[0;34m(\u001b[0m\u001b[0mkey\u001b[0m\u001b[0;34m,\u001b[0m \u001b[0mmethod\u001b[0m\u001b[0;34m=\u001b[0m\u001b[0mmethod\u001b[0m\u001b[0;34m,\u001b[0m \u001b[0mtolerance\u001b[0m\u001b[0;34m=\u001b[0m\u001b[0mtolerance\u001b[0m\u001b[0;34m)\u001b[0m\u001b[0;34m\u001b[0m\u001b[0;34m\u001b[0m\u001b[0m\n\u001b[1;32m    354\u001b[0m \u001b[0;34m\u001b[0m\u001b[0m\n",
            "\u001b[0;31mKeyError\u001b[0m: 999988282"
          ]
        }
      ]
    },
    {
      "cell_type": "markdown",
      "metadata": {
        "id": "gkD7uBUsbCMl",
        "colab_type": "text"
      },
      "source": [
        "También podemos verificar si hay **filas de contenidos duplicado**"
      ]
    },
    {
      "cell_type": "code",
      "metadata": {
        "colab_type": "code",
        "id": "ezFOfJESYSui",
        "colab": {
          "base_uri": "https://localhost:8080/",
          "height": 85
        },
        "outputId": "c305bbd9-d4dc-4be8-dcd9-30fe932e4116"
      },
      "source": [
        "kickstarter_2018[kickstarter_2018.duplicated()]"
      ],
      "execution_count": null,
      "outputs": [
        {
          "output_type": "execute_result",
          "data": {
            "text/html": [
              "<div>\n",
              "<style scoped>\n",
              "    .dataframe tbody tr th:only-of-type {\n",
              "        vertical-align: middle;\n",
              "    }\n",
              "\n",
              "    .dataframe tbody tr th {\n",
              "        vertical-align: top;\n",
              "    }\n",
              "\n",
              "    .dataframe thead th {\n",
              "        text-align: right;\n",
              "    }\n",
              "</style>\n",
              "<table border=\"1\" class=\"dataframe\">\n",
              "  <thead>\n",
              "    <tr style=\"text-align: right;\">\n",
              "      <th></th>\n",
              "      <th>ID</th>\n",
              "      <th>name</th>\n",
              "      <th>category</th>\n",
              "      <th>main_category</th>\n",
              "      <th>currency</th>\n",
              "      <th>deadline</th>\n",
              "      <th>goal</th>\n",
              "      <th>launched</th>\n",
              "      <th>pledged</th>\n",
              "      <th>state</th>\n",
              "      <th>backers</th>\n",
              "      <th>country</th>\n",
              "      <th>usd pledged</th>\n",
              "      <th>usd_pledged_real</th>\n",
              "      <th>usd_goal_real</th>\n",
              "    </tr>\n",
              "  </thead>\n",
              "  <tbody>\n",
              "  </tbody>\n",
              "</table>\n",
              "</div>"
            ],
            "text/plain": [
              "Empty DataFrame\n",
              "Columns: [ID, name, category, main_category, currency, deadline, goal, launched, pledged, state, backers, country, usd pledged, usd_pledged_real, usd_goal_real]\n",
              "Index: []"
            ]
          },
          "metadata": {
            "tags": []
          },
          "execution_count": 25
        }
      ]
    },
    {
      "cell_type": "markdown",
      "metadata": {
        "id": "zFwAHxiZbCMo",
        "colab_type": "text"
      },
      "source": [
        "Como Pandas **acepta valores duplicados en los índices también debemos verificar ahí**"
      ]
    },
    {
      "cell_type": "code",
      "metadata": {
        "id": "QUUdg4IsbCMo",
        "colab_type": "code",
        "colab": {}
      },
      "source": [
        "pd.Series(kickstarter_2018.index,dtype=str).describe()   # verificamos si en los índices no hay duplicados"
      ],
      "execution_count": null,
      "outputs": []
    },
    {
      "cell_type": "code",
      "metadata": {
        "id": "arDUcbedbCMq",
        "colab_type": "code",
        "colab": {
          "base_uri": "https://localhost:8080/",
          "height": 85
        },
        "outputId": "b5bd74c5-4205-4328-8a11-60e09a58ae5f"
      },
      "source": [
        "kickstarter_2018[kickstarter_2018.index.duplicated()]"
      ],
      "execution_count": null,
      "outputs": [
        {
          "output_type": "execute_result",
          "data": {
            "text/html": [
              "<div>\n",
              "<style scoped>\n",
              "    .dataframe tbody tr th:only-of-type {\n",
              "        vertical-align: middle;\n",
              "    }\n",
              "\n",
              "    .dataframe tbody tr th {\n",
              "        vertical-align: top;\n",
              "    }\n",
              "\n",
              "    .dataframe thead th {\n",
              "        text-align: right;\n",
              "    }\n",
              "</style>\n",
              "<table border=\"1\" class=\"dataframe\">\n",
              "  <thead>\n",
              "    <tr style=\"text-align: right;\">\n",
              "      <th></th>\n",
              "      <th>ID</th>\n",
              "      <th>name</th>\n",
              "      <th>category</th>\n",
              "      <th>main_category</th>\n",
              "      <th>currency</th>\n",
              "      <th>deadline</th>\n",
              "      <th>goal</th>\n",
              "      <th>launched</th>\n",
              "      <th>pledged</th>\n",
              "      <th>state</th>\n",
              "      <th>backers</th>\n",
              "      <th>country</th>\n",
              "      <th>usd pledged</th>\n",
              "      <th>usd_pledged_real</th>\n",
              "      <th>usd_goal_real</th>\n",
              "    </tr>\n",
              "  </thead>\n",
              "  <tbody>\n",
              "  </tbody>\n",
              "</table>\n",
              "</div>"
            ],
            "text/plain": [
              "Empty DataFrame\n",
              "Columns: [ID, name, category, main_category, currency, deadline, goal, launched, pledged, state, backers, country, usd pledged, usd_pledged_real, usd_goal_real]\n",
              "Index: []"
            ]
          },
          "metadata": {
            "tags": []
          },
          "execution_count": 26
        }
      ]
    },
    {
      "cell_type": "markdown",
      "metadata": {
        "id": "8ToDzl1HbCMt",
        "colab_type": "text"
      },
      "source": [
        "Repasamos con un ejemplo de juguete"
      ]
    },
    {
      "cell_type": "code",
      "metadata": {
        "colab_type": "code",
        "id": "YJFhG_xcYSul",
        "colab": {
          "base_uri": "https://localhost:8080/",
          "height": 70
        },
        "outputId": "b55992a9-06fd-4718-c864-d4c39e84c970"
      },
      "source": [
        "csv='1,2\\n3,3\\n1,3'\n",
        "print(csv)"
      ],
      "execution_count": null,
      "outputs": [
        {
          "output_type": "stream",
          "text": [
            "1,2\n",
            "3,3\n",
            "1,3\n"
          ],
          "name": "stdout"
        }
      ]
    },
    {
      "cell_type": "code",
      "metadata": {
        "colab_type": "code",
        "id": "rNyteTc8YSuo",
        "colab": {
          "base_uri": "https://localhost:8080/",
          "height": 172
        },
        "outputId": "5f9792dd-0bb4-4a79-c14b-062143e2cf1c"
      },
      "source": [
        "from io import StringIO\n",
        "df = pd.read_csv(StringIO(csv), names=['id','value'], index_col='id')\n",
        "df"
      ],
      "execution_count": null,
      "outputs": [
        {
          "output_type": "execute_result",
          "data": {
            "text/html": [
              "<div>\n",
              "<style scoped>\n",
              "    .dataframe tbody tr th:only-of-type {\n",
              "        vertical-align: middle;\n",
              "    }\n",
              "\n",
              "    .dataframe tbody tr th {\n",
              "        vertical-align: top;\n",
              "    }\n",
              "\n",
              "    .dataframe thead th {\n",
              "        text-align: right;\n",
              "    }\n",
              "</style>\n",
              "<table border=\"1\" class=\"dataframe\">\n",
              "  <thead>\n",
              "    <tr style=\"text-align: right;\">\n",
              "      <th></th>\n",
              "      <th>value</th>\n",
              "    </tr>\n",
              "    <tr>\n",
              "      <th>id</th>\n",
              "      <th></th>\n",
              "    </tr>\n",
              "  </thead>\n",
              "  <tbody>\n",
              "    <tr>\n",
              "      <th>1</th>\n",
              "      <td>2</td>\n",
              "    </tr>\n",
              "    <tr>\n",
              "      <th>3</th>\n",
              "      <td>3</td>\n",
              "    </tr>\n",
              "    <tr>\n",
              "      <th>1</th>\n",
              "      <td>3</td>\n",
              "    </tr>\n",
              "  </tbody>\n",
              "</table>\n",
              "</div>"
            ],
            "text/plain": [
              "    value\n",
              "id       \n",
              "1       2\n",
              "3       3\n",
              "1       3"
            ]
          },
          "metadata": {
            "tags": []
          },
          "execution_count": 28
        }
      ]
    },
    {
      "cell_type": "code",
      "metadata": {
        "colab_type": "code",
        "id": "9WWSayCYYSus",
        "colab": {}
      },
      "source": [
        "df[df.duplicated()]"
      ],
      "execution_count": null,
      "outputs": []
    },
    {
      "cell_type": "code",
      "metadata": {
        "colab_type": "code",
        "id": "r7e3fEnWYSuu",
        "colab": {}
      },
      "source": [
        "df[df.index.duplicated(keep=False)]"
      ],
      "execution_count": null,
      "outputs": []
    },
    {
      "cell_type": "markdown",
      "metadata": {
        "id": "0LTRcod3bCM2",
        "colab_type": "text"
      },
      "source": [
        "#### Ejercicio 1:\n",
        "\n",
        "Armar una tabla con todos los proyectos con nombres duplicados, ordenados para revisar agrupados. "
      ]
    },
    {
      "cell_type": "markdown",
      "metadata": {
        "colab_type": "text",
        "id": "NeVjrYP2YSu2"
      },
      "source": [
        "# 1.3. Despersonalizar datos y guardarlos en un nuevo archivo"
      ]
    },
    {
      "cell_type": "markdown",
      "metadata": {
        "colab_type": "text",
        "id": "oKIo48BBYSu3"
      },
      "source": [
        "Hay muuuchas técnicas para despersonalizar datos.\n",
        "\n",
        "Para ilustrar mostramos las ofrecidas por Google https://cloud.google.com/dlp/docs/transformations-reference:\n",
        "\n",
        "* **Reemplazo**: Reemplaza cada valor de entrada con un valor determinado.\n",
        "* **Ocultamiento**: Quita un valor y lo oculta.\n",
        "* **Enmascaramiento con caracteres**: Enmascara una string por completo o parcialmente mediante el reemplazo de un número determinado de caracteres con un carácter fijo especificado..\n",
        "* **Seudonimización mediante el reemplazo de un valor de entrada con un hash criptográfico**: Reemplaza valores de entrada con una string hexadecimal de 32 bytes mediante una clave de encriptación de datos.\n",
        "* **Cambio de fechas**: Cambia las fechas por un número de días al azar, con la opción de ser coherente en el mismo contexto..\n",
        "* **Seudonimización mediante el reemplazo con token de preservación de formato criptográfico**: Reemplaza un valor de entrada con un token, o valor sustituto, de la misma longitud mediante la encriptación de preservación de formato (FPE) con el modo de operación FFX. Esto permite que se use el resultado en sistemas con validación de formato o que necesitan aparecer como reales a pesar de que la información no se revela.\n",
        "* **Valores de depósito con base en rangos de tamaño fijos**: Enmascara los valores de entrada y los reemplaza por depósitos, o rangos dentro de los cuales se encuentra el valor de entrada.\n",
        "* **Valores de depósito con base en rangos de tamaño personalizados**: Valores de entrada de depósito con base en rangos configurables por el usuario y valores de reemplazo.\n",
        "* **Extracción de datos de tiempo**: EExtrae o preserva una porción de los valores Date, Timestamp y TimeOfDay."
      ]
    },
    {
      "cell_type": "code",
      "metadata": {
        "colab_type": "code",
        "id": "VQ5HQI73YSu3",
        "colab": {}
      },
      "source": [
        "from hashlib import md5"
      ],
      "execution_count": null,
      "outputs": []
    },
    {
      "cell_type": "code",
      "metadata": {
        "colab_type": "code",
        "id": "6ZR9TgenYSu5",
        "colab": {}
      },
      "source": [
        "kickstarter_2018['name'].apply(md5)"
      ],
      "execution_count": null,
      "outputs": []
    },
    {
      "cell_type": "code",
      "metadata": {
        "colab_type": "code",
        "id": "LL_nCq68YSu8",
        "colab": {}
      },
      "source": [
        "def hashit(val):\n",
        "    return md5(val.encode('utf-8'))\n",
        "\n",
        "kickstarter_2018['name'].apply(hashit)"
      ],
      "execution_count": null,
      "outputs": []
    },
    {
      "cell_type": "code",
      "metadata": {
        "colab_type": "code",
        "id": "Hsxx-0ovYSvA",
        "colab": {}
      },
      "source": [
        "def hashit(val):\n",
        "    try:\n",
        "        return md5(val.encode('utf-8'))\n",
        "    except Exception as e:\n",
        "        print(val, type(val))\n",
        "        raise(e)\n",
        "\n",
        "kickstarter_2018['name'].apply(hashit)"
      ],
      "execution_count": null,
      "outputs": []
    },
    {
      "cell_type": "code",
      "metadata": {
        "colab_type": "code",
        "id": "Dv1gB3GpYSvF",
        "colab": {}
      },
      "source": [
        "def hashit(val):\n",
        "    if isinstance(val, float): \n",
        "        return str(val)\n",
        "    return md5(val.encode('utf-8')).hexdigest()\n",
        "\n",
        "\n",
        "kickstarter_2018['name'].apply(hashit)"
      ],
      "execution_count": null,
      "outputs": []
    },
    {
      "cell_type": "markdown",
      "metadata": {
        "id": "3st8FJLCbCNN",
        "colab_type": "text"
      },
      "source": [
        "#### Ejercicio 2:\n",
        "\n",
        "Verificar que los proyectos que tienen nombres duplicados también tienen el hash de nombre duplicado"
      ]
    },
    {
      "cell_type": "markdown",
      "metadata": {
        "colab_type": "text",
        "id": "XGk94uFaYSvI"
      },
      "source": [
        "# 1.4. Nunca modificar los datos crudos u originales\n"
      ]
    },
    {
      "cell_type": "code",
      "metadata": {
        "colab_type": "code",
        "id": "ZicBTqBaYSvJ",
        "colab": {}
      },
      "source": [
        "if not in_colab:\n",
        "  kickstarter_2018.to_csv(BASE_DIR + \"/output/ks-projects-201801-for-pandas.csv\")"
      ],
      "execution_count": null,
      "outputs": []
    },
    {
      "cell_type": "markdown",
      "metadata": {
        "colab_type": "text",
        "id": "XzR8-UpTIS8S"
      },
      "source": [
        "\n",
        "# 2. Pasos necesarios\n"
      ]
    },
    {
      "cell_type": "code",
      "metadata": {
        "colab_type": "code",
        "id": "jY_rB6dIIXTS",
        "colab": {}
      },
      "source": [
        "#import pandas as pd\n",
        "if not in_colab:\n",
        "  kickstarter_2018 = pd.read_csv(BASE_DIR + \"/output/ks-projects-201801-for-pandas.csv\",\n",
        "                        index_col='ID',\n",
        "                        parse_dates=['deadline','launched'])"
      ],
      "execution_count": null,
      "outputs": []
    },
    {
      "cell_type": "code",
      "metadata": {
        "colab_type": "code",
        "id": "dXFOyYeiIXTV",
        "colab": {}
      },
      "source": [
        "kickstarter_2018.describe(include='all')"
      ],
      "execution_count": null,
      "outputs": []
    },
    {
      "cell_type": "markdown",
      "metadata": {
        "colab_type": "text",
        "id": "OUA2hGvQIXTX"
      },
      "source": [
        "## 2.1. Etiquetas de variables/columnas: **no usar caracteres especiales**\n",
        "\n"
      ]
    },
    {
      "cell_type": "code",
      "metadata": {
        "colab_type": "code",
        "id": "BkdI2pVDIXTX",
        "colab": {}
      },
      "source": [
        "# helpful character encoding module\n",
        "import chardet"
      ],
      "execution_count": null,
      "outputs": []
    },
    {
      "cell_type": "markdown",
      "metadata": {
        "colab_type": "text",
        "id": "lfyjvGsmIXTZ"
      },
      "source": [
        "¿Por qué? Por que aun hay limitaciones para trabajar con estos caracteres.\n",
        "\n",
        "¿Cúales son los caracteres \"normales\"? "
      ]
    },
    {
      "cell_type": "code",
      "metadata": {
        "colab_type": "code",
        "id": "fTc3NFPpIXTZ",
        "colab": {
          "base_uri": "https://localhost:8080/",
          "height": 35
        },
        "outputId": "32aefcc3-8d00-4f40-ae42-758485e4473a"
      },
      "source": [
        "import string\n",
        "\n",
        "string.ascii_letters + string.digits"
      ],
      "execution_count": null,
      "outputs": [
        {
          "output_type": "execute_result",
          "data": {
            "application/vnd.google.colaboratory.intrinsic": {
              "type": "string"
            },
            "text/plain": [
              "'abcdefghijklmnopqrstuvwxyzABCDEFGHIJKLMNOPQRSTUVWXYZ0123456789'"
            ]
          },
          "metadata": {
            "tags": []
          },
          "execution_count": 30
        }
      ]
    },
    {
      "cell_type": "markdown",
      "metadata": {
        "colab_type": "text",
        "id": "tWbcEuejIXTb"
      },
      "source": [
        "¿Qué es ASCII? Es una de las primeras codificaciones (o encoding) disponibles. Ver https://en.wikipedia.org/wiki/ASCII\n",
        "\n",
        "Un encoding es un mapa de caracteres a una representación en bits (por ejemplo 1000001). ASCII es uno de los primeros estandares para interoperatividad entre computadoras (antes cada fabricante de computadora usa su propia codificación), contempla sólo los caracteres ingleses y usa 7 bits, por ejemplo *1000001* codifica el caracter *A*\n",
        "\n",
        "Cómo sólo representaban los caracteres ingleses, empiezan a aparecer variantes para distintos idiomas, Microsoft hizo los propios para internacionalizar Windows, hubo otro estandar ISO 8859, hasta que llegó el éstandar Unicode que hizo múltiples encodings pero cada uno contempla múltiples idiomas e incluso es extensible a futuro. UTF-8 es de esos encodings el más utilizado. Ver https://en.wikipedia.org/wiki/Unicode\n",
        "\n",
        "**En particular, Python 3 utiliza UTF-8 por defecto (lo que no sucedía en Python 2).**\n",
        "\n",
        "Veamos un ejemplo práctico"
      ]
    },
    {
      "cell_type": "code",
      "metadata": {
        "colab_type": "code",
        "id": "uiUtEXG1IXTb",
        "colab": {
          "base_uri": "https://localhost:8080/",
          "height": 34
        },
        "outputId": "0643eedd-57c6-44b1-927f-3f19eebc31b4"
      },
      "source": [
        "# start with a string\n",
        "before = \"This is the euro symbol: €\"\n",
        "\n",
        "# check to see what datatype it is\n",
        "type(before)"
      ],
      "execution_count": null,
      "outputs": [
        {
          "output_type": "execute_result",
          "data": {
            "text/plain": [
              "str"
            ]
          },
          "metadata": {
            "tags": []
          },
          "execution_count": 31
        }
      ]
    },
    {
      "cell_type": "code",
      "metadata": {
        "colab_type": "code",
        "id": "ISgFFMiiIXTc",
        "colab": {
          "base_uri": "https://localhost:8080/",
          "height": 34
        },
        "outputId": "215d972f-04a7-46dd-ae11-9fb3932e66c0"
      },
      "source": [
        "# encode it to a different encoding, replacing characters that raise errors\n",
        "after = before.encode(\"utf-8\", errors = \"replace\")\n",
        "\n",
        "# check the type\n",
        "type(after)"
      ],
      "execution_count": null,
      "outputs": [
        {
          "output_type": "execute_result",
          "data": {
            "text/plain": [
              "bytes"
            ]
          },
          "metadata": {
            "tags": []
          },
          "execution_count": 32
        }
      ]
    },
    {
      "cell_type": "code",
      "metadata": {
        "colab_type": "code",
        "id": "psYCTaZCIXTe",
        "colab": {
          "base_uri": "https://localhost:8080/",
          "height": 34
        },
        "outputId": "5130fa6a-9931-4543-90ea-372bebf2e264"
      },
      "source": [
        "# take a look at what the bytes look like\n",
        "after"
      ],
      "execution_count": null,
      "outputs": [
        {
          "output_type": "execute_result",
          "data": {
            "text/plain": [
              "b'This is the euro symbol: \\xe2\\x82\\xac'"
            ]
          },
          "metadata": {
            "tags": []
          },
          "execution_count": 33
        }
      ]
    },
    {
      "cell_type": "code",
      "metadata": {
        "colab_type": "code",
        "id": "fkbXONwzIXTf",
        "colab": {
          "base_uri": "https://localhost:8080/",
          "height": 34
        },
        "outputId": "d426c959-e0b5-4bad-87ac-784bd27bb1a6"
      },
      "source": [
        "# convert it back to utf-8\n",
        "print(after.decode(\"utf-8\"))"
      ],
      "execution_count": null,
      "outputs": [
        {
          "output_type": "stream",
          "text": [
            "This is the euro symbol: €\n"
          ],
          "name": "stdout"
        }
      ]
    },
    {
      "cell_type": "code",
      "metadata": {
        "colab_type": "code",
        "id": "YeEGsG5pIXTh",
        "colab": {}
      },
      "source": [
        "# try to decode our bytes with the ascii encoding\n",
        "print(after.decode(\"ascii\"))"
      ],
      "execution_count": null,
      "outputs": []
    },
    {
      "cell_type": "code",
      "metadata": {
        "colab_type": "code",
        "id": "3RRKGvArIXTk",
        "colab": {
          "base_uri": "https://localhost:8080/",
          "height": 34
        },
        "outputId": "57cf6e86-770c-4587-c602-0bbf2f4019d8"
      },
      "source": [
        "# start with a string\n",
        "before = \"This is the euro symbol: €\"\n",
        "\n",
        "# encode it to a different encoding, replacing characters that raise errors\n",
        "after = before.encode(\"ascii\", errors = \"replace\")\n",
        "\n",
        "# convert it back to utf-8\n",
        "print(after.decode(\"ascii\"))\n",
        "\n",
        "# We've lost the original underlying byte string! It's been \n",
        "# replaced with the underlying byte string for the unknown character :("
      ],
      "execution_count": null,
      "outputs": [
        {
          "output_type": "stream",
          "text": [
            "This is the euro symbol: ?\n"
          ],
          "name": "stdout"
        }
      ]
    },
    {
      "cell_type": "markdown",
      "metadata": {
        "colab_type": "text",
        "id": "IkaMZurZIXTm"
      },
      "source": [
        "Este error ya lo vimos..."
      ]
    },
    {
      "cell_type": "code",
      "metadata": {
        "colab_type": "code",
        "id": "vmfM_HNWIXTn",
        "colab": {
          "base_uri": "https://localhost:8080/",
          "height": 825
        },
        "outputId": "aa97e1b1-3c81-4ba7-bc36-349ed27283bd"
      },
      "source": [
        "kickstarter_2016 = pd.read_csv(BASE_DIR + \"/input/kickstarter-projects/ks-projects-201612.csv\")"
      ],
      "execution_count": null,
      "outputs": [
        {
          "output_type": "error",
          "ename": "UnicodeDecodeError",
          "evalue": "ignored",
          "traceback": [
            "\u001b[0;31m---------------------------------------------------------------------------\u001b[0m",
            "\u001b[0;31mUnicodeDecodeError\u001b[0m                        Traceback (most recent call last)",
            "\u001b[0;32mpandas/_libs/parsers.pyx\u001b[0m in \u001b[0;36mpandas._libs.parsers.TextReader._convert_tokens\u001b[0;34m()\u001b[0m\n",
            "\u001b[0;32mpandas/_libs/parsers.pyx\u001b[0m in \u001b[0;36mpandas._libs.parsers.TextReader._convert_with_dtype\u001b[0;34m()\u001b[0m\n",
            "\u001b[0;32mpandas/_libs/parsers.pyx\u001b[0m in \u001b[0;36mpandas._libs.parsers.TextReader._string_convert\u001b[0;34m()\u001b[0m\n",
            "\u001b[0;32mpandas/_libs/parsers.pyx\u001b[0m in \u001b[0;36mpandas._libs.parsers._string_box_utf8\u001b[0;34m()\u001b[0m\n",
            "\u001b[0;31mUnicodeDecodeError\u001b[0m: 'utf-8' codec can't decode byte 0x99 in position 11: invalid start byte",
            "\nDuring handling of the above exception, another exception occurred:\n",
            "\u001b[0;31mUnicodeDecodeError\u001b[0m                        Traceback (most recent call last)",
            "\u001b[0;32m<ipython-input-36-5e914e26b487>\u001b[0m in \u001b[0;36m<module>\u001b[0;34m()\u001b[0m\n\u001b[0;32m----> 1\u001b[0;31m \u001b[0mkickstarter_2016\u001b[0m \u001b[0;34m=\u001b[0m \u001b[0mpd\u001b[0m\u001b[0;34m.\u001b[0m\u001b[0mread_csv\u001b[0m\u001b[0;34m(\u001b[0m\u001b[0mBASE_DIR\u001b[0m \u001b[0;34m+\u001b[0m \u001b[0;34m\"/input/kickstarter-projects/ks-projects-201612.csv\"\u001b[0m\u001b[0;34m)\u001b[0m\u001b[0;34m\u001b[0m\u001b[0;34m\u001b[0m\u001b[0m\n\u001b[0m",
            "\u001b[0;32m/usr/local/lib/python3.6/dist-packages/pandas/io/parsers.py\u001b[0m in \u001b[0;36mparser_f\u001b[0;34m(filepath_or_buffer, sep, delimiter, header, names, index_col, usecols, squeeze, prefix, mangle_dupe_cols, dtype, engine, converters, true_values, false_values, skipinitialspace, skiprows, skipfooter, nrows, na_values, keep_default_na, na_filter, verbose, skip_blank_lines, parse_dates, infer_datetime_format, keep_date_col, date_parser, dayfirst, cache_dates, iterator, chunksize, compression, thousands, decimal, lineterminator, quotechar, quoting, doublequote, escapechar, comment, encoding, dialect, error_bad_lines, warn_bad_lines, delim_whitespace, low_memory, memory_map, float_precision)\u001b[0m\n\u001b[1;32m    674\u001b[0m         )\n\u001b[1;32m    675\u001b[0m \u001b[0;34m\u001b[0m\u001b[0m\n\u001b[0;32m--> 676\u001b[0;31m         \u001b[0;32mreturn\u001b[0m \u001b[0m_read\u001b[0m\u001b[0;34m(\u001b[0m\u001b[0mfilepath_or_buffer\u001b[0m\u001b[0;34m,\u001b[0m \u001b[0mkwds\u001b[0m\u001b[0;34m)\u001b[0m\u001b[0;34m\u001b[0m\u001b[0;34m\u001b[0m\u001b[0m\n\u001b[0m\u001b[1;32m    677\u001b[0m \u001b[0;34m\u001b[0m\u001b[0m\n\u001b[1;32m    678\u001b[0m     \u001b[0mparser_f\u001b[0m\u001b[0;34m.\u001b[0m\u001b[0m__name__\u001b[0m \u001b[0;34m=\u001b[0m \u001b[0mname\u001b[0m\u001b[0;34m\u001b[0m\u001b[0;34m\u001b[0m\u001b[0m\n",
            "\u001b[0;32m/usr/local/lib/python3.6/dist-packages/pandas/io/parsers.py\u001b[0m in \u001b[0;36m_read\u001b[0;34m(filepath_or_buffer, kwds)\u001b[0m\n\u001b[1;32m    452\u001b[0m \u001b[0;34m\u001b[0m\u001b[0m\n\u001b[1;32m    453\u001b[0m     \u001b[0;32mtry\u001b[0m\u001b[0;34m:\u001b[0m\u001b[0;34m\u001b[0m\u001b[0;34m\u001b[0m\u001b[0m\n\u001b[0;32m--> 454\u001b[0;31m         \u001b[0mdata\u001b[0m \u001b[0;34m=\u001b[0m \u001b[0mparser\u001b[0m\u001b[0;34m.\u001b[0m\u001b[0mread\u001b[0m\u001b[0;34m(\u001b[0m\u001b[0mnrows\u001b[0m\u001b[0;34m)\u001b[0m\u001b[0;34m\u001b[0m\u001b[0;34m\u001b[0m\u001b[0m\n\u001b[0m\u001b[1;32m    455\u001b[0m     \u001b[0;32mfinally\u001b[0m\u001b[0;34m:\u001b[0m\u001b[0;34m\u001b[0m\u001b[0;34m\u001b[0m\u001b[0m\n\u001b[1;32m    456\u001b[0m         \u001b[0mparser\u001b[0m\u001b[0;34m.\u001b[0m\u001b[0mclose\u001b[0m\u001b[0;34m(\u001b[0m\u001b[0;34m)\u001b[0m\u001b[0;34m\u001b[0m\u001b[0;34m\u001b[0m\u001b[0m\n",
            "\u001b[0;32m/usr/local/lib/python3.6/dist-packages/pandas/io/parsers.py\u001b[0m in \u001b[0;36mread\u001b[0;34m(self, nrows)\u001b[0m\n\u001b[1;32m   1131\u001b[0m     \u001b[0;32mdef\u001b[0m \u001b[0mread\u001b[0m\u001b[0;34m(\u001b[0m\u001b[0mself\u001b[0m\u001b[0;34m,\u001b[0m \u001b[0mnrows\u001b[0m\u001b[0;34m=\u001b[0m\u001b[0;32mNone\u001b[0m\u001b[0;34m)\u001b[0m\u001b[0;34m:\u001b[0m\u001b[0;34m\u001b[0m\u001b[0;34m\u001b[0m\u001b[0m\n\u001b[1;32m   1132\u001b[0m         \u001b[0mnrows\u001b[0m \u001b[0;34m=\u001b[0m \u001b[0m_validate_integer\u001b[0m\u001b[0;34m(\u001b[0m\u001b[0;34m\"nrows\"\u001b[0m\u001b[0;34m,\u001b[0m \u001b[0mnrows\u001b[0m\u001b[0;34m)\u001b[0m\u001b[0;34m\u001b[0m\u001b[0;34m\u001b[0m\u001b[0m\n\u001b[0;32m-> 1133\u001b[0;31m         \u001b[0mret\u001b[0m \u001b[0;34m=\u001b[0m \u001b[0mself\u001b[0m\u001b[0;34m.\u001b[0m\u001b[0m_engine\u001b[0m\u001b[0;34m.\u001b[0m\u001b[0mread\u001b[0m\u001b[0;34m(\u001b[0m\u001b[0mnrows\u001b[0m\u001b[0;34m)\u001b[0m\u001b[0;34m\u001b[0m\u001b[0;34m\u001b[0m\u001b[0m\n\u001b[0m\u001b[1;32m   1134\u001b[0m \u001b[0;34m\u001b[0m\u001b[0m\n\u001b[1;32m   1135\u001b[0m         \u001b[0;31m# May alter columns / col_dict\u001b[0m\u001b[0;34m\u001b[0m\u001b[0;34m\u001b[0m\u001b[0;34m\u001b[0m\u001b[0m\n",
            "\u001b[0;32m/usr/local/lib/python3.6/dist-packages/pandas/io/parsers.py\u001b[0m in \u001b[0;36mread\u001b[0;34m(self, nrows)\u001b[0m\n\u001b[1;32m   2035\u001b[0m     \u001b[0;32mdef\u001b[0m \u001b[0mread\u001b[0m\u001b[0;34m(\u001b[0m\u001b[0mself\u001b[0m\u001b[0;34m,\u001b[0m \u001b[0mnrows\u001b[0m\u001b[0;34m=\u001b[0m\u001b[0;32mNone\u001b[0m\u001b[0;34m)\u001b[0m\u001b[0;34m:\u001b[0m\u001b[0;34m\u001b[0m\u001b[0;34m\u001b[0m\u001b[0m\n\u001b[1;32m   2036\u001b[0m         \u001b[0;32mtry\u001b[0m\u001b[0;34m:\u001b[0m\u001b[0;34m\u001b[0m\u001b[0;34m\u001b[0m\u001b[0m\n\u001b[0;32m-> 2037\u001b[0;31m             \u001b[0mdata\u001b[0m \u001b[0;34m=\u001b[0m \u001b[0mself\u001b[0m\u001b[0;34m.\u001b[0m\u001b[0m_reader\u001b[0m\u001b[0;34m.\u001b[0m\u001b[0mread\u001b[0m\u001b[0;34m(\u001b[0m\u001b[0mnrows\u001b[0m\u001b[0;34m)\u001b[0m\u001b[0;34m\u001b[0m\u001b[0;34m\u001b[0m\u001b[0m\n\u001b[0m\u001b[1;32m   2038\u001b[0m         \u001b[0;32mexcept\u001b[0m \u001b[0mStopIteration\u001b[0m\u001b[0;34m:\u001b[0m\u001b[0;34m\u001b[0m\u001b[0;34m\u001b[0m\u001b[0m\n\u001b[1;32m   2039\u001b[0m             \u001b[0;32mif\u001b[0m \u001b[0mself\u001b[0m\u001b[0;34m.\u001b[0m\u001b[0m_first_chunk\u001b[0m\u001b[0;34m:\u001b[0m\u001b[0;34m\u001b[0m\u001b[0;34m\u001b[0m\u001b[0m\n",
            "\u001b[0;32mpandas/_libs/parsers.pyx\u001b[0m in \u001b[0;36mpandas._libs.parsers.TextReader.read\u001b[0;34m()\u001b[0m\n",
            "\u001b[0;32mpandas/_libs/parsers.pyx\u001b[0m in \u001b[0;36mpandas._libs.parsers.TextReader._read_low_memory\u001b[0;34m()\u001b[0m\n",
            "\u001b[0;32mpandas/_libs/parsers.pyx\u001b[0m in \u001b[0;36mpandas._libs.parsers.TextReader._read_rows\u001b[0;34m()\u001b[0m\n",
            "\u001b[0;32mpandas/_libs/parsers.pyx\u001b[0m in \u001b[0;36mpandas._libs.parsers.TextReader._convert_column_data\u001b[0;34m()\u001b[0m\n",
            "\u001b[0;32mpandas/_libs/parsers.pyx\u001b[0m in \u001b[0;36mpandas._libs.parsers.TextReader._convert_tokens\u001b[0;34m()\u001b[0m\n",
            "\u001b[0;32mpandas/_libs/parsers.pyx\u001b[0m in \u001b[0;36mpandas._libs.parsers.TextReader._convert_with_dtype\u001b[0;34m()\u001b[0m\n",
            "\u001b[0;32mpandas/_libs/parsers.pyx\u001b[0m in \u001b[0;36mpandas._libs.parsers.TextReader._string_convert\u001b[0;34m()\u001b[0m\n",
            "\u001b[0;32mpandas/_libs/parsers.pyx\u001b[0m in \u001b[0;36mpandas._libs.parsers._string_box_utf8\u001b[0;34m()\u001b[0m\n",
            "\u001b[0;31mUnicodeDecodeError\u001b[0m: 'utf-8' codec can't decode byte 0x99 in position 11: invalid start byte"
          ]
        }
      ]
    },
    {
      "cell_type": "markdown",
      "metadata": {
        "colab_type": "text",
        "id": "PP9Xzf3qIXTt"
      },
      "source": [
        "El error `UnicodeDecodeError` nos indica que el archivo no estaría en Unicode. Si no está en algún metadato o no fue indicado es dificil detectar el encoding, por suerte hay un paquete para esto en Python, que aplica unas heurísticas para detectar encoding."
      ]
    },
    {
      "cell_type": "code",
      "metadata": {
        "colab_type": "code",
        "id": "KVSigmfDIXTv",
        "colab": {
          "base_uri": "https://localhost:8080/",
          "height": 336
        },
        "outputId": "dbc3d1d7-8023-40a0-c3cc-8a167b5007de"
      },
      "source": [
        "# In Colab we need to download data locally\n",
        "if in_colab:\n",
        "  !wget -c $BASE_DIR/input/kickstarter-projects/ks-projects-201612.csv\n",
        "  DOWN_DIR = \"./\"\n",
        "else:\n",
        "  DOWN_DIR = BASE_DIR + \"/input/kickstarter-projects/\"\n",
        "  \n",
        "# look at the first ten thousand bytes to guess the character encoding\n",
        "with open(DOWN_DIR + \"/ks-projects-201612.csv\", 'rb') as rawdata:\n",
        "    result = chardet.detect(rawdata.read(10000))\n",
        "\n",
        "# check what the character encoding might be\n",
        "result"
      ],
      "execution_count": null,
      "outputs": [
        {
          "output_type": "stream",
          "text": [
            "--2020-07-03 22:16:42--  https://github.com/DiploDatos/AnalisisYCuracion/raw/master//input/kickstarter-projects/ks-projects-201612.csv\n",
            "Resolving github.com (github.com)... 140.82.112.4\n",
            "Connecting to github.com (github.com)|140.82.112.4|:443... connected.\n",
            "HTTP request sent, awaiting response... 302 Found\n",
            "Location: https://raw.githubusercontent.com/DiploDatos/AnalisisYCuracion/master/input/kickstarter-projects/ks-projects-201612.csv [following]\n",
            "--2020-07-03 22:16:42--  https://raw.githubusercontent.com/DiploDatos/AnalisisYCuracion/master/input/kickstarter-projects/ks-projects-201612.csv\n",
            "Resolving raw.githubusercontent.com (raw.githubusercontent.com)... 151.101.0.133, 151.101.64.133, 151.101.128.133, ...\n",
            "Connecting to raw.githubusercontent.com (raw.githubusercontent.com)|151.101.0.133|:443... connected.\n",
            "HTTP request sent, awaiting response... 200 OK\n",
            "Length: 46500324 (44M) [text/plain]\n",
            "Saving to: ‘ks-projects-201612.csv’\n",
            "\n",
            "ks-projects-201612. 100%[===================>]  44.35M  81.8MB/s    in 0.5s    \n",
            "\n",
            "2020-07-03 22:16:43 (81.8 MB/s) - ‘ks-projects-201612.csv’ saved [46500324/46500324]\n",
            "\n"
          ],
          "name": "stdout"
        },
        {
          "output_type": "execute_result",
          "data": {
            "text/plain": [
              "{'confidence': 0.73, 'encoding': 'Windows-1252', 'language': ''}"
            ]
          },
          "metadata": {
            "tags": []
          },
          "execution_count": 37
        }
      ]
    },
    {
      "cell_type": "markdown",
      "metadata": {
        "colab_type": "text",
        "id": "BRvRjn15IXTy"
      },
      "source": [
        "Entonces le podemos indicar el encoding al leer el archivos"
      ]
    },
    {
      "cell_type": "code",
      "metadata": {
        "colab_type": "code",
        "id": "HpHQldSDIXTz",
        "colab": {
          "base_uri": "https://localhost:8080/",
          "height": 497
        },
        "outputId": "c97cbf40-896e-472b-cfb3-170f7b8b8c9a"
      },
      "source": [
        "# read in the file with the encoding detected by chardet\n",
        "kickstarter_2016 = pd.read_csv(BASE_DIR + \"/input/kickstarter-projects/ks-projects-201612.csv\", encoding='Windows-1252')\n",
        "\n",
        "# look at the first few lines\n",
        "kickstarter_2016.head()"
      ],
      "execution_count": null,
      "outputs": [
        {
          "output_type": "stream",
          "text": [
            "/usr/local/lib/python3.6/dist-packages/IPython/core/interactiveshell.py:2718: DtypeWarning: Columns (13,14,15) have mixed types.Specify dtype option on import or set low_memory=False.\n",
            "  interactivity=interactivity, compiler=compiler, result=result)\n"
          ],
          "name": "stderr"
        },
        {
          "output_type": "execute_result",
          "data": {
            "text/html": [
              "<div>\n",
              "<style scoped>\n",
              "    .dataframe tbody tr th:only-of-type {\n",
              "        vertical-align: middle;\n",
              "    }\n",
              "\n",
              "    .dataframe tbody tr th {\n",
              "        vertical-align: top;\n",
              "    }\n",
              "\n",
              "    .dataframe thead th {\n",
              "        text-align: right;\n",
              "    }\n",
              "</style>\n",
              "<table border=\"1\" class=\"dataframe\">\n",
              "  <thead>\n",
              "    <tr style=\"text-align: right;\">\n",
              "      <th></th>\n",
              "      <th>ID</th>\n",
              "      <th>name</th>\n",
              "      <th>category</th>\n",
              "      <th>main_category</th>\n",
              "      <th>currency</th>\n",
              "      <th>deadline</th>\n",
              "      <th>goal</th>\n",
              "      <th>launched</th>\n",
              "      <th>pledged</th>\n",
              "      <th>state</th>\n",
              "      <th>backers</th>\n",
              "      <th>country</th>\n",
              "      <th>usd pledged</th>\n",
              "      <th>Unnamed: 13</th>\n",
              "      <th>Unnamed: 14</th>\n",
              "      <th>Unnamed: 15</th>\n",
              "      <th>Unnamed: 16</th>\n",
              "    </tr>\n",
              "  </thead>\n",
              "  <tbody>\n",
              "    <tr>\n",
              "      <th>0</th>\n",
              "      <td>1000002330</td>\n",
              "      <td>The Songs of Adelaide &amp; Abullah</td>\n",
              "      <td>Poetry</td>\n",
              "      <td>Publishing</td>\n",
              "      <td>GBP</td>\n",
              "      <td>2015-10-09 11:36:00</td>\n",
              "      <td>1000</td>\n",
              "      <td>2015-08-11 12:12:28</td>\n",
              "      <td>0</td>\n",
              "      <td>failed</td>\n",
              "      <td>0</td>\n",
              "      <td>GB</td>\n",
              "      <td>0</td>\n",
              "      <td>NaN</td>\n",
              "      <td>NaN</td>\n",
              "      <td>NaN</td>\n",
              "      <td>nan</td>\n",
              "    </tr>\n",
              "    <tr>\n",
              "      <th>1</th>\n",
              "      <td>1000004038</td>\n",
              "      <td>Where is Hank?</td>\n",
              "      <td>Narrative Film</td>\n",
              "      <td>Film &amp; Video</td>\n",
              "      <td>USD</td>\n",
              "      <td>2013-02-26 00:20:50</td>\n",
              "      <td>45000</td>\n",
              "      <td>2013-01-12 00:20:50</td>\n",
              "      <td>220</td>\n",
              "      <td>failed</td>\n",
              "      <td>3</td>\n",
              "      <td>US</td>\n",
              "      <td>220</td>\n",
              "      <td>NaN</td>\n",
              "      <td>NaN</td>\n",
              "      <td>NaN</td>\n",
              "      <td>nan</td>\n",
              "    </tr>\n",
              "    <tr>\n",
              "      <th>2</th>\n",
              "      <td>1000007540</td>\n",
              "      <td>ToshiCapital Rekordz Needs Help to Complete Album</td>\n",
              "      <td>Music</td>\n",
              "      <td>Music</td>\n",
              "      <td>USD</td>\n",
              "      <td>2012-04-16 04:24:11</td>\n",
              "      <td>5000</td>\n",
              "      <td>2012-03-17 03:24:11</td>\n",
              "      <td>1</td>\n",
              "      <td>failed</td>\n",
              "      <td>1</td>\n",
              "      <td>US</td>\n",
              "      <td>1</td>\n",
              "      <td>NaN</td>\n",
              "      <td>NaN</td>\n",
              "      <td>NaN</td>\n",
              "      <td>nan</td>\n",
              "    </tr>\n",
              "    <tr>\n",
              "      <th>3</th>\n",
              "      <td>1000011046</td>\n",
              "      <td>Community Film Project: The Art of Neighborhoo...</td>\n",
              "      <td>Film &amp; Video</td>\n",
              "      <td>Film &amp; Video</td>\n",
              "      <td>USD</td>\n",
              "      <td>2015-08-29 01:00:00</td>\n",
              "      <td>19500</td>\n",
              "      <td>2015-07-04 08:35:03</td>\n",
              "      <td>1283</td>\n",
              "      <td>canceled</td>\n",
              "      <td>14</td>\n",
              "      <td>US</td>\n",
              "      <td>1283</td>\n",
              "      <td>NaN</td>\n",
              "      <td>NaN</td>\n",
              "      <td>NaN</td>\n",
              "      <td>nan</td>\n",
              "    </tr>\n",
              "    <tr>\n",
              "      <th>4</th>\n",
              "      <td>1000014025</td>\n",
              "      <td>Monarch Espresso Bar</td>\n",
              "      <td>Restaurants</td>\n",
              "      <td>Food</td>\n",
              "      <td>USD</td>\n",
              "      <td>2016-04-01 13:38:27</td>\n",
              "      <td>50000</td>\n",
              "      <td>2016-02-26 13:38:27</td>\n",
              "      <td>52375</td>\n",
              "      <td>successful</td>\n",
              "      <td>224</td>\n",
              "      <td>US</td>\n",
              "      <td>52375</td>\n",
              "      <td>NaN</td>\n",
              "      <td>NaN</td>\n",
              "      <td>NaN</td>\n",
              "      <td>nan</td>\n",
              "    </tr>\n",
              "  </tbody>\n",
              "</table>\n",
              "</div>"
            ],
            "text/plain": [
              "          ID   ... Unnamed: 16\n",
              "0  1000002330  ...         nan\n",
              "1  1000004038  ...         nan\n",
              "2  1000007540  ...         nan\n",
              "3  1000011046  ...         nan\n",
              "4  1000014025  ...         nan\n",
              "\n",
              "[5 rows x 17 columns]"
            ]
          },
          "metadata": {
            "tags": []
          },
          "execution_count": 38
        }
      ]
    },
    {
      "cell_type": "markdown",
      "metadata": {
        "colab_type": "text",
        "id": "EaBiRboHIXT6"
      },
      "source": [
        "Hay otro problema con los caracteres que es más sutíl: **[Mojibake](https://en.wikipedia.org/wiki/Mojibake)**\n",
        "\n",
        "Sucede al leer UTF-8 como ASCII extendido (ie. `Windows-*`, `iso-8859-*` entre otros)\n",
        "\n",
        "Ejemplo de mojibake:"
      ]
    },
    {
      "cell_type": "code",
      "metadata": {
        "colab_type": "code",
        "id": "5dFhIonJIXT6",
        "colab": {}
      },
      "source": [
        "\"cigüeña\".encode('utf-8').decode('iso-8859-1')"
      ],
      "execution_count": null,
      "outputs": []
    },
    {
      "cell_type": "markdown",
      "metadata": {
        "colab_type": "text",
        "id": "GYrNcEWGIXT8"
      },
      "source": [
        "Para esto vamos a usar un módulo específico [ftfy](https://ftfy.readthedocs.io/en/latest/). \n",
        "\n",
        "Que nos permite ordenar cadenas por rareza"
      ]
    },
    {
      "cell_type": "code",
      "metadata": {
        "colab_type": "code",
        "id": "iKpvvruQIXT8",
        "colab": {}
      },
      "source": [
        "import ftfy.badness as bad"
      ],
      "execution_count": null,
      "outputs": []
    },
    {
      "cell_type": "code",
      "metadata": {
        "colab_type": "code",
        "id": "qRTGjyZ-IXT-",
        "colab": {
          "base_uri": "https://localhost:8080/",
          "height": 1000
        },
        "outputId": "2eb10a34-fbd2-45b5-b05f-dd8c85621782"
      },
      "source": [
        "def weird(val):\n",
        "    if isinstance(val, float): \n",
        "        return 0\n",
        "    return bad.sequence_weirdness(val)\n",
        "\n",
        "\n",
        "kickstarter_2018['name_weirdness'] = kickstarter_2018['name'].apply(weird)\n",
        "kickstarter_2018[kickstarter_2018['name_weirdness'] > 1]"
      ],
      "execution_count": null,
      "outputs": [
        {
          "output_type": "execute_result",
          "data": {
            "text/html": [
              "<div>\n",
              "<style scoped>\n",
              "    .dataframe tbody tr th:only-of-type {\n",
              "        vertical-align: middle;\n",
              "    }\n",
              "\n",
              "    .dataframe tbody tr th {\n",
              "        vertical-align: top;\n",
              "    }\n",
              "\n",
              "    .dataframe thead th {\n",
              "        text-align: right;\n",
              "    }\n",
              "</style>\n",
              "<table border=\"1\" class=\"dataframe\">\n",
              "  <thead>\n",
              "    <tr style=\"text-align: right;\">\n",
              "      <th></th>\n",
              "      <th>ID</th>\n",
              "      <th>name</th>\n",
              "      <th>category</th>\n",
              "      <th>main_category</th>\n",
              "      <th>currency</th>\n",
              "      <th>deadline</th>\n",
              "      <th>goal</th>\n",
              "      <th>launched</th>\n",
              "      <th>pledged</th>\n",
              "      <th>state</th>\n",
              "      <th>backers</th>\n",
              "      <th>country</th>\n",
              "      <th>usd pledged</th>\n",
              "      <th>usd_pledged_real</th>\n",
              "      <th>usd_goal_real</th>\n",
              "      <th>name_weirdness</th>\n",
              "    </tr>\n",
              "  </thead>\n",
              "  <tbody>\n",
              "    <tr>\n",
              "      <th>43626</th>\n",
              "      <td>1221990593</td>\n",
              "      <td>Support PMCD´s ¨From a Different Clay¨</td>\n",
              "      <td>Dance</td>\n",
              "      <td>Dance</td>\n",
              "      <td>USD</td>\n",
              "      <td>2011-06-08</td>\n",
              "      <td>1500.00</td>\n",
              "      <td>2011-04-28 05:15:32</td>\n",
              "      <td>1940.00</td>\n",
              "      <td>successful</td>\n",
              "      <td>27</td>\n",
              "      <td>US</td>\n",
              "      <td>1940.00</td>\n",
              "      <td>1940.00</td>\n",
              "      <td>1500.00</td>\n",
              "      <td>3</td>\n",
              "    </tr>\n",
              "    <tr>\n",
              "      <th>46055</th>\n",
              "      <td>1234089244</td>\n",
              "      <td>Cracking (Mastering) the Metaphor \u000b(Political)...</td>\n",
              "      <td>Nonfiction</td>\n",
              "      <td>Publishing</td>\n",
              "      <td>USD</td>\n",
              "      <td>2013-10-27</td>\n",
              "      <td>30000.00</td>\n",
              "      <td>2013-09-27 23:33:29</td>\n",
              "      <td>0.00</td>\n",
              "      <td>failed</td>\n",
              "      <td>0</td>\n",
              "      <td>US</td>\n",
              "      <td>0.00</td>\n",
              "      <td>0.00</td>\n",
              "      <td>30000.00</td>\n",
              "      <td>2</td>\n",
              "    </tr>\n",
              "    <tr>\n",
              "      <th>48637</th>\n",
              "      <td>124795481</td>\n",
              "      <td>µGALE (Canceled)</td>\n",
              "      <td>Wearables</td>\n",
              "      <td>Technology</td>\n",
              "      <td>EUR</td>\n",
              "      <td>2015-04-17</td>\n",
              "      <td>18000.00</td>\n",
              "      <td>2015-02-16 01:55:34</td>\n",
              "      <td>10.00</td>\n",
              "      <td>canceled</td>\n",
              "      <td>2</td>\n",
              "      <td>NL</td>\n",
              "      <td>11.39</td>\n",
              "      <td>10.81</td>\n",
              "      <td>19465.14</td>\n",
              "      <td>2</td>\n",
              "    </tr>\n",
              "    <tr>\n",
              "      <th>92215</th>\n",
              "      <td>1468489999</td>\n",
              "      <td>µCurrent GOLD - Precision Multimeter Current A...</td>\n",
              "      <td>Hardware</td>\n",
              "      <td>Technology</td>\n",
              "      <td>AUD</td>\n",
              "      <td>2013-12-31</td>\n",
              "      <td>9900.00</td>\n",
              "      <td>2013-12-17 10:28:09</td>\n",
              "      <td>116575.17</td>\n",
              "      <td>successful</td>\n",
              "      <td>1268</td>\n",
              "      <td>AU</td>\n",
              "      <td>104343.69</td>\n",
              "      <td>104871.51</td>\n",
              "      <td>8906.08</td>\n",
              "      <td>2</td>\n",
              "    </tr>\n",
              "    <tr>\n",
              "      <th>120203</th>\n",
              "      <td>1610503461</td>\n",
              "      <td>µPeek - The Professional Microscope that Fits ...</td>\n",
              "      <td>Technology</td>\n",
              "      <td>Technology</td>\n",
              "      <td>CHF</td>\n",
              "      <td>2016-01-09</td>\n",
              "      <td>125000.00</td>\n",
              "      <td>2015-12-10 10:08:18</td>\n",
              "      <td>247688.14</td>\n",
              "      <td>successful</td>\n",
              "      <td>1435</td>\n",
              "      <td>CH</td>\n",
              "      <td>249249.19</td>\n",
              "      <td>246848.85</td>\n",
              "      <td>124576.44</td>\n",
              "      <td>2</td>\n",
              "    </tr>\n",
              "    <tr>\n",
              "      <th>121569</th>\n",
              "      <td>16174550</td>\n",
              "      <td>PARALELO 19 Nº</td>\n",
              "      <td>Photography</td>\n",
              "      <td>Photography</td>\n",
              "      <td>MXN</td>\n",
              "      <td>2017-04-15</td>\n",
              "      <td>15000.00</td>\n",
              "      <td>2017-03-01 00:00:24</td>\n",
              "      <td>3340.00</td>\n",
              "      <td>failed</td>\n",
              "      <td>8</td>\n",
              "      <td>MX</td>\n",
              "      <td>0.00</td>\n",
              "      <td>177.36</td>\n",
              "      <td>796.52</td>\n",
              "      <td>2</td>\n",
              "    </tr>\n",
              "    <tr>\n",
              "      <th>141580</th>\n",
              "      <td>1719215256</td>\n",
              "      <td>Kickstarter Gold: Manual Coffeemaker Nº3</td>\n",
              "      <td>Product Design</td>\n",
              "      <td>Design</td>\n",
              "      <td>USD</td>\n",
              "      <td>2017-07-22</td>\n",
              "      <td>60000.00</td>\n",
              "      <td>2017-06-20 15:29:56</td>\n",
              "      <td>68587.33</td>\n",
              "      <td>successful</td>\n",
              "      <td>618</td>\n",
              "      <td>US</td>\n",
              "      <td>21002.00</td>\n",
              "      <td>68587.33</td>\n",
              "      <td>60000.00</td>\n",
              "      <td>2</td>\n",
              "    </tr>\n",
              "    <tr>\n",
              "      <th>164486</th>\n",
              "      <td>1837094178</td>\n",
              "      <td>¨Midgard's taigh-seinnse/ Eröffnung Mittelalte...</td>\n",
              "      <td>Restaurants</td>\n",
              "      <td>Food</td>\n",
              "      <td>CHF</td>\n",
              "      <td>2016-09-29</td>\n",
              "      <td>50000.00</td>\n",
              "      <td>2016-08-30 09:36:42</td>\n",
              "      <td>150.00</td>\n",
              "      <td>failed</td>\n",
              "      <td>1</td>\n",
              "      <td>CH</td>\n",
              "      <td>0.00</td>\n",
              "      <td>153.93</td>\n",
              "      <td>51310.47</td>\n",
              "      <td>2</td>\n",
              "    </tr>\n",
              "    <tr>\n",
              "      <th>207245</th>\n",
              "      <td>2056123754</td>\n",
              "      <td>ZEIº - the most simple time tracking solution</td>\n",
              "      <td>Technology</td>\n",
              "      <td>Technology</td>\n",
              "      <td>EUR</td>\n",
              "      <td>2016-10-26</td>\n",
              "      <td>75000.00</td>\n",
              "      <td>2016-09-20 15:54:49</td>\n",
              "      <td>313637.00</td>\n",
              "      <td>successful</td>\n",
              "      <td>3140</td>\n",
              "      <td>AT</td>\n",
              "      <td>9451.58</td>\n",
              "      <td>342555.54</td>\n",
              "      <td>81915.29</td>\n",
              "      <td>2</td>\n",
              "    </tr>\n",
              "    <tr>\n",
              "      <th>209588</th>\n",
              "      <td>2068157547</td>\n",
              "      <td>Ballet Folklorico Infantil de la Universidad ...</td>\n",
              "      <td>Art</td>\n",
              "      <td>Art</td>\n",
              "      <td>MXN</td>\n",
              "      <td>2017-04-03</td>\n",
              "      <td>40000.00</td>\n",
              "      <td>2017-03-22 16:33:33</td>\n",
              "      <td>42480.00</td>\n",
              "      <td>successful</td>\n",
              "      <td>38</td>\n",
              "      <td>MX</td>\n",
              "      <td>532.09</td>\n",
              "      <td>2263.79</td>\n",
              "      <td>2131.63</td>\n",
              "      <td>2</td>\n",
              "    </tr>\n",
              "    <tr>\n",
              "      <th>215232</th>\n",
              "      <td>2096648634</td>\n",
              "      <td>Funky City : a funky rpg</td>\n",
              "      <td>Video Games</td>\n",
              "      <td>Games</td>\n",
              "      <td>USD</td>\n",
              "      <td>2017-04-08</td>\n",
              "      <td>5000.00</td>\n",
              "      <td>2017-03-09 04:05:15</td>\n",
              "      <td>0.00</td>\n",
              "      <td>failed</td>\n",
              "      <td>0</td>\n",
              "      <td>US</td>\n",
              "      <td>0.00</td>\n",
              "      <td>0.00</td>\n",
              "      <td>5000.00</td>\n",
              "      <td>2</td>\n",
              "    </tr>\n",
              "    <tr>\n",
              "      <th>216355</th>\n",
              "      <td>2102265118</td>\n",
              "      <td>Music Album ¨Dreams¨ Uplifting Tunes with Rap</td>\n",
              "      <td>Hip-Hop</td>\n",
              "      <td>Music</td>\n",
              "      <td>EUR</td>\n",
              "      <td>2017-12-24</td>\n",
              "      <td>28000.00</td>\n",
              "      <td>2017-11-24 12:49:09</td>\n",
              "      <td>0.00</td>\n",
              "      <td>failed</td>\n",
              "      <td>0</td>\n",
              "      <td>NL</td>\n",
              "      <td>0.00</td>\n",
              "      <td>0.00</td>\n",
              "      <td>33580.39</td>\n",
              "      <td>4</td>\n",
              "    </tr>\n",
              "    <tr>\n",
              "      <th>229689</th>\n",
              "      <td>237780030</td>\n",
              "      <td>Solderdoodle Pro: Over 700ºF USB Rechargeable ...</td>\n",
              "      <td>DIY Electronics</td>\n",
              "      <td>Technology</td>\n",
              "      <td>USD</td>\n",
              "      <td>2014-08-19</td>\n",
              "      <td>37800.00</td>\n",
              "      <td>2014-07-29 16:52:31</td>\n",
              "      <td>15636.00</td>\n",
              "      <td>failed</td>\n",
              "      <td>318</td>\n",
              "      <td>US</td>\n",
              "      <td>15636.00</td>\n",
              "      <td>15636.00</td>\n",
              "      <td>37800.00</td>\n",
              "      <td>2</td>\n",
              "    </tr>\n",
              "    <tr>\n",
              "      <th>258285</th>\n",
              "      <td>383244441</td>\n",
              "      <td>Virtual Roller Coaster in 4th Dimension</td>\n",
              "      <td>Makerspaces</td>\n",
              "      <td>Technology</td>\n",
              "      <td>MXN</td>\n",
              "      <td>2017-02-25</td>\n",
              "      <td>459900.00</td>\n",
              "      <td>2017-02-01 00:07:38</td>\n",
              "      <td>0.00</td>\n",
              "      <td>failed</td>\n",
              "      <td>0</td>\n",
              "      <td>MX</td>\n",
              "      <td>0.00</td>\n",
              "      <td>0.00</td>\n",
              "      <td>23399.82</td>\n",
              "      <td>2</td>\n",
              "    </tr>\n",
              "    <tr>\n",
              "      <th>272937</th>\n",
              "      <td>458626388</td>\n",
              "      <td>Solderdoodle Pro: 700ºF USB Rechargeable Solde...</td>\n",
              "      <td>DIY Electronics</td>\n",
              "      <td>Technology</td>\n",
              "      <td>USD</td>\n",
              "      <td>2014-09-24</td>\n",
              "      <td>11400.00</td>\n",
              "      <td>2014-08-19 16:55:05</td>\n",
              "      <td>22565.00</td>\n",
              "      <td>successful</td>\n",
              "      <td>409</td>\n",
              "      <td>US</td>\n",
              "      <td>22565.00</td>\n",
              "      <td>22565.00</td>\n",
              "      <td>11400.00</td>\n",
              "      <td>2</td>\n",
              "    </tr>\n",
              "    <tr>\n",
              "      <th>274497</th>\n",
              "      <td>466898065</td>\n",
              "      <td>Manual Tea Maker Nº1</td>\n",
              "      <td>Product Design</td>\n",
              "      <td>Design</td>\n",
              "      <td>USD</td>\n",
              "      <td>2016-08-20</td>\n",
              "      <td>40000.00</td>\n",
              "      <td>2016-07-18 04:25:44</td>\n",
              "      <td>67767.00</td>\n",
              "      <td>successful</td>\n",
              "      <td>1111</td>\n",
              "      <td>US</td>\n",
              "      <td>5534.00</td>\n",
              "      <td>67767.00</td>\n",
              "      <td>40000.00</td>\n",
              "      <td>2</td>\n",
              "    </tr>\n",
              "    <tr>\n",
              "      <th>284408</th>\n",
              "      <td>516833776</td>\n",
              "      <td>µTracker - extremly Power Saving GPS + GSM Board</td>\n",
              "      <td>Hardware</td>\n",
              "      <td>Technology</td>\n",
              "      <td>EUR</td>\n",
              "      <td>2016-12-09</td>\n",
              "      <td>89000.00</td>\n",
              "      <td>2016-11-18 09:13:12</td>\n",
              "      <td>2032.00</td>\n",
              "      <td>failed</td>\n",
              "      <td>22</td>\n",
              "      <td>AT</td>\n",
              "      <td>546.70</td>\n",
              "      <td>2145.59</td>\n",
              "      <td>93975.04</td>\n",
              "      <td>2</td>\n",
              "    </tr>\n",
              "    <tr>\n",
              "      <th>290733</th>\n",
              "      <td>549309727</td>\n",
              "      <td>Higher Grounds Coffee Company Mobile Coffee Tr...</td>\n",
              "      <td>Food Trucks</td>\n",
              "      <td>Food</td>\n",
              "      <td>USD</td>\n",
              "      <td>2018-01-12</td>\n",
              "      <td>10000.00</td>\n",
              "      <td>2017-12-07 16:07:54</td>\n",
              "      <td>4882.00</td>\n",
              "      <td>live</td>\n",
              "      <td>36</td>\n",
              "      <td>US</td>\n",
              "      <td>542.00</td>\n",
              "      <td>4882.00</td>\n",
              "      <td>10000.00</td>\n",
              "      <td>2</td>\n",
              "    </tr>\n",
              "    <tr>\n",
              "      <th>291239</th>\n",
              "      <td>551994337</td>\n",
              "      <td>?? cybertwee ?? ¨*:·. bake sale on the deep we...</td>\n",
              "      <td>Digital Art</td>\n",
              "      <td>Art</td>\n",
              "      <td>USD</td>\n",
              "      <td>2015-09-18</td>\n",
              "      <td>100.00</td>\n",
              "      <td>2015-09-14 04:14:05</td>\n",
              "      <td>347.00</td>\n",
              "      <td>successful</td>\n",
              "      <td>66</td>\n",
              "      <td>US</td>\n",
              "      <td>347.00</td>\n",
              "      <td>347.00</td>\n",
              "      <td>100.00</td>\n",
              "      <td>2</td>\n",
              "    </tr>\n",
              "    <tr>\n",
              "      <th>292500</th>\n",
              "      <td>558638957</td>\n",
              "      <td>Mµ Magazine</td>\n",
              "      <td>Zines</td>\n",
              "      <td>Publishing</td>\n",
              "      <td>CAD</td>\n",
              "      <td>2016-12-02</td>\n",
              "      <td>5000.00</td>\n",
              "      <td>2016-11-01 23:37:22</td>\n",
              "      <td>0.00</td>\n",
              "      <td>failed</td>\n",
              "      <td>0</td>\n",
              "      <td>CA</td>\n",
              "      <td>0.00</td>\n",
              "      <td>0.00</td>\n",
              "      <td>3758.55</td>\n",
              "      <td>2</td>\n",
              "    </tr>\n",
              "    <tr>\n",
              "      <th>323702</th>\n",
              "      <td>718763713</td>\n",
              "      <td>Not Twins - New EP! \"The View from Down Here\"</td>\n",
              "      <td>Indie Rock</td>\n",
              "      <td>Music</td>\n",
              "      <td>USD</td>\n",
              "      <td>2017-03-27</td>\n",
              "      <td>3500.00</td>\n",
              "      <td>2017-02-26 18:34:59</td>\n",
              "      <td>4726.61</td>\n",
              "      <td>successful</td>\n",
              "      <td>171</td>\n",
              "      <td>US</td>\n",
              "      <td>1758.41</td>\n",
              "      <td>4726.61</td>\n",
              "      <td>3500.00</td>\n",
              "      <td>2</td>\n",
              "    </tr>\n",
              "    <tr>\n",
              "      <th>340787</th>\n",
              "      <td>805839986</td>\n",
              "      <td>µRuler - Measure size in the micro-world under...</td>\n",
              "      <td>Technology</td>\n",
              "      <td>Technology</td>\n",
              "      <td>CAD</td>\n",
              "      <td>2017-04-07</td>\n",
              "      <td>2000.00</td>\n",
              "      <td>2017-03-08 03:42:19</td>\n",
              "      <td>5523.00</td>\n",
              "      <td>successful</td>\n",
              "      <td>213</td>\n",
              "      <td>CA</td>\n",
              "      <td>623.34</td>\n",
              "      <td>4118.26</td>\n",
              "      <td>1491.31</td>\n",
              "      <td>2</td>\n",
              "    </tr>\n",
              "    <tr>\n",
              "      <th>359382</th>\n",
              "      <td>900880068</td>\n",
              "      <td>Newton ¨El Veterano¨</td>\n",
              "      <td>Music</td>\n",
              "      <td>Music</td>\n",
              "      <td>EUR</td>\n",
              "      <td>2016-12-10</td>\n",
              "      <td>2747.00</td>\n",
              "      <td>2016-10-31 21:24:36</td>\n",
              "      <td>838.00</td>\n",
              "      <td>failed</td>\n",
              "      <td>36</td>\n",
              "      <td>ES</td>\n",
              "      <td>0.00</td>\n",
              "      <td>874.78</td>\n",
              "      <td>2867.58</td>\n",
              "      <td>4</td>\n",
              "    </tr>\n",
              "    <tr>\n",
              "      <th>371026</th>\n",
              "      <td>960506632</td>\n",
              "      <td>Degreesº to Extinction</td>\n",
              "      <td>Documentary</td>\n",
              "      <td>Film &amp; Video</td>\n",
              "      <td>USD</td>\n",
              "      <td>2016-12-21</td>\n",
              "      <td>30000.00</td>\n",
              "      <td>2016-12-06 00:26:54</td>\n",
              "      <td>30.00</td>\n",
              "      <td>failed</td>\n",
              "      <td>2</td>\n",
              "      <td>US</td>\n",
              "      <td>5.00</td>\n",
              "      <td>30.00</td>\n",
              "      <td>30000.00</td>\n",
              "      <td>2</td>\n",
              "    </tr>\n",
              "    <tr>\n",
              "      <th>371580</th>\n",
              "      <td>963442008</td>\n",
              "      <td>theNewerYork Lit Mag: We M?§§ w/ Yoµr H£åd</td>\n",
              "      <td>Periodicals</td>\n",
              "      <td>Publishing</td>\n",
              "      <td>USD</td>\n",
              "      <td>2012-03-25</td>\n",
              "      <td>7000.00</td>\n",
              "      <td>2012-01-30 19:01:35</td>\n",
              "      <td>9892.49</td>\n",
              "      <td>successful</td>\n",
              "      <td>228</td>\n",
              "      <td>US</td>\n",
              "      <td>9892.49</td>\n",
              "      <td>9892.49</td>\n",
              "      <td>7000.00</td>\n",
              "      <td>2</td>\n",
              "    </tr>\n",
              "    <tr>\n",
              "      <th>375116</th>\n",
              "      <td>98169605</td>\n",
              "      <td>µTøøl - The Ultimate pocket tool! Credit card ...</td>\n",
              "      <td>Technology</td>\n",
              "      <td>Technology</td>\n",
              "      <td>NZD</td>\n",
              "      <td>2016-01-01</td>\n",
              "      <td>20000.00</td>\n",
              "      <td>2015-12-02 06:04:57</td>\n",
              "      <td>2230.00</td>\n",
              "      <td>failed</td>\n",
              "      <td>83</td>\n",
              "      <td>NZ</td>\n",
              "      <td>1477.51</td>\n",
              "      <td>1472.34</td>\n",
              "      <td>13204.81</td>\n",
              "      <td>2</td>\n",
              "    </tr>\n",
              "  </tbody>\n",
              "</table>\n",
              "</div>"
            ],
            "text/plain": [
              "                ID  ... name_weirdness\n",
              "43626   1221990593  ...              3\n",
              "46055   1234089244  ...              2\n",
              "48637    124795481  ...              2\n",
              "92215   1468489999  ...              2\n",
              "120203  1610503461  ...              2\n",
              "121569    16174550  ...              2\n",
              "141580  1719215256  ...              2\n",
              "164486  1837094178  ...              2\n",
              "207245  2056123754  ...              2\n",
              "209588  2068157547  ...              2\n",
              "215232  2096648634  ...              2\n",
              "216355  2102265118  ...              4\n",
              "229689   237780030  ...              2\n",
              "258285   383244441  ...              2\n",
              "272937   458626388  ...              2\n",
              "274497   466898065  ...              2\n",
              "284408   516833776  ...              2\n",
              "290733   549309727  ...              2\n",
              "291239   551994337  ...              2\n",
              "292500   558638957  ...              2\n",
              "323702   718763713  ...              2\n",
              "340787   805839986  ...              2\n",
              "359382   900880068  ...              4\n",
              "371026   960506632  ...              2\n",
              "371580   963442008  ...              2\n",
              "375116    98169605  ...              2\n",
              "\n",
              "[26 rows x 16 columns]"
            ]
          },
          "metadata": {
            "tags": []
          },
          "execution_count": 51
        }
      ]
    },
    {
      "cell_type": "markdown",
      "metadata": {
        "colab_type": "text",
        "id": "IWvV8C1LIXUA"
      },
      "source": [
        "Volviendo a la consigna original, chequeamos que no haya caracteres fuera de a-Z, 0-9 y _ en los nombres de columnas"
      ]
    },
    {
      "cell_type": "code",
      "metadata": {
        "colab_type": "code",
        "id": "dll59dNxIXUA",
        "colab": {
          "base_uri": "https://localhost:8080/",
          "height": 34
        },
        "outputId": "fbc1e3f3-07cf-4af9-b57d-2c369097036c"
      },
      "source": [
        "kickstarter_2018.columns[~kickstarter_2018.columns.str.match(r'^(\\w+)$')]"
      ],
      "execution_count": null,
      "outputs": [
        {
          "output_type": "execute_result",
          "data": {
            "text/plain": [
              "Index(['usd pledged'], dtype='object')"
            ]
          },
          "metadata": {
            "tags": []
          },
          "execution_count": 52
        }
      ]
    },
    {
      "cell_type": "code",
      "metadata": {
        "colab_type": "code",
        "id": "QvhxXo1xIXUE",
        "colab": {
          "base_uri": "https://localhost:8080/",
          "height": 290
        },
        "outputId": "8eb46d83-7106-4cb8-d255-4ce78886a98b"
      },
      "source": [
        "kickstarter_2018.usd_pledged.head()  # da error porque hay un espacio en el nombre de la columna"
      ],
      "execution_count": null,
      "outputs": [
        {
          "output_type": "error",
          "ename": "AttributeError",
          "evalue": "ignored",
          "traceback": [
            "\u001b[0;31m---------------------------------------------------------------------------\u001b[0m",
            "\u001b[0;31mAttributeError\u001b[0m                            Traceback (most recent call last)",
            "\u001b[0;32m<ipython-input-53-82c7184671dd>\u001b[0m in \u001b[0;36m<module>\u001b[0;34m()\u001b[0m\n\u001b[0;32m----> 1\u001b[0;31m \u001b[0mkickstarter_2018\u001b[0m\u001b[0;34m.\u001b[0m\u001b[0musd_pledged\u001b[0m\u001b[0;34m.\u001b[0m\u001b[0mhead\u001b[0m\u001b[0;34m(\u001b[0m\u001b[0;34m)\u001b[0m\u001b[0;34m\u001b[0m\u001b[0;34m\u001b[0m\u001b[0m\n\u001b[0m",
            "\u001b[0;32m/usr/local/lib/python3.6/dist-packages/pandas/core/generic.py\u001b[0m in \u001b[0;36m__getattr__\u001b[0;34m(self, name)\u001b[0m\n\u001b[1;32m   5272\u001b[0m             \u001b[0;32mif\u001b[0m \u001b[0mself\u001b[0m\u001b[0;34m.\u001b[0m\u001b[0m_info_axis\u001b[0m\u001b[0;34m.\u001b[0m\u001b[0m_can_hold_identifiers_and_holds_name\u001b[0m\u001b[0;34m(\u001b[0m\u001b[0mname\u001b[0m\u001b[0;34m)\u001b[0m\u001b[0;34m:\u001b[0m\u001b[0;34m\u001b[0m\u001b[0;34m\u001b[0m\u001b[0m\n\u001b[1;32m   5273\u001b[0m                 \u001b[0;32mreturn\u001b[0m \u001b[0mself\u001b[0m\u001b[0;34m[\u001b[0m\u001b[0mname\u001b[0m\u001b[0;34m]\u001b[0m\u001b[0;34m\u001b[0m\u001b[0;34m\u001b[0m\u001b[0m\n\u001b[0;32m-> 5274\u001b[0;31m             \u001b[0;32mreturn\u001b[0m \u001b[0mobject\u001b[0m\u001b[0;34m.\u001b[0m\u001b[0m__getattribute__\u001b[0m\u001b[0;34m(\u001b[0m\u001b[0mself\u001b[0m\u001b[0;34m,\u001b[0m \u001b[0mname\u001b[0m\u001b[0;34m)\u001b[0m\u001b[0;34m\u001b[0m\u001b[0;34m\u001b[0m\u001b[0m\n\u001b[0m\u001b[1;32m   5275\u001b[0m \u001b[0;34m\u001b[0m\u001b[0m\n\u001b[1;32m   5276\u001b[0m     \u001b[0;32mdef\u001b[0m \u001b[0m__setattr__\u001b[0m\u001b[0;34m(\u001b[0m\u001b[0mself\u001b[0m\u001b[0;34m,\u001b[0m \u001b[0mname\u001b[0m\u001b[0;34m:\u001b[0m \u001b[0mstr\u001b[0m\u001b[0;34m,\u001b[0m \u001b[0mvalue\u001b[0m\u001b[0;34m)\u001b[0m \u001b[0;34m->\u001b[0m \u001b[0;32mNone\u001b[0m\u001b[0;34m:\u001b[0m\u001b[0;34m\u001b[0m\u001b[0;34m\u001b[0m\u001b[0m\n",
            "\u001b[0;31mAttributeError\u001b[0m: 'DataFrame' object has no attribute 'usd_pledged'"
          ]
        }
      ]
    },
    {
      "cell_type": "code",
      "metadata": {
        "colab_type": "code",
        "id": "qq6sydy8IXUG",
        "scrolled": true,
        "colab": {
          "base_uri": "https://localhost:8080/",
          "height": 462
        },
        "outputId": "973a8027-9dd4-4c19-b8ce-e4dc8e6549d3"
      },
      "source": [
        "kickstarter_2018.columns = kickstarter_2018.columns.str.replace(' ', '_')  # reemplazo el espacio con un guión en la columna usd_pleged\n",
        "kickstarter_2018.head()"
      ],
      "execution_count": null,
      "outputs": [
        {
          "output_type": "execute_result",
          "data": {
            "text/html": [
              "<div>\n",
              "<style scoped>\n",
              "    .dataframe tbody tr th:only-of-type {\n",
              "        vertical-align: middle;\n",
              "    }\n",
              "\n",
              "    .dataframe tbody tr th {\n",
              "        vertical-align: top;\n",
              "    }\n",
              "\n",
              "    .dataframe thead th {\n",
              "        text-align: right;\n",
              "    }\n",
              "</style>\n",
              "<table border=\"1\" class=\"dataframe\">\n",
              "  <thead>\n",
              "    <tr style=\"text-align: right;\">\n",
              "      <th></th>\n",
              "      <th>ID</th>\n",
              "      <th>name</th>\n",
              "      <th>category</th>\n",
              "      <th>main_category</th>\n",
              "      <th>currency</th>\n",
              "      <th>deadline</th>\n",
              "      <th>goal</th>\n",
              "      <th>launched</th>\n",
              "      <th>pledged</th>\n",
              "      <th>state</th>\n",
              "      <th>backers</th>\n",
              "      <th>country</th>\n",
              "      <th>usd_pledged</th>\n",
              "      <th>usd_pledged_real</th>\n",
              "      <th>usd_goal_real</th>\n",
              "      <th>name_weirdness</th>\n",
              "    </tr>\n",
              "  </thead>\n",
              "  <tbody>\n",
              "    <tr>\n",
              "      <th>0</th>\n",
              "      <td>1000002330</td>\n",
              "      <td>The Songs of Adelaide &amp; Abullah</td>\n",
              "      <td>Poetry</td>\n",
              "      <td>Publishing</td>\n",
              "      <td>GBP</td>\n",
              "      <td>2015-10-09</td>\n",
              "      <td>1000.00</td>\n",
              "      <td>2015-08-11 12:12:28</td>\n",
              "      <td>0.00</td>\n",
              "      <td>failed</td>\n",
              "      <td>0</td>\n",
              "      <td>GB</td>\n",
              "      <td>0.00</td>\n",
              "      <td>0.00</td>\n",
              "      <td>1533.95</td>\n",
              "      <td>0</td>\n",
              "    </tr>\n",
              "    <tr>\n",
              "      <th>1</th>\n",
              "      <td>1000003930</td>\n",
              "      <td>Greeting From Earth: ZGAC Arts Capsule For ET</td>\n",
              "      <td>Narrative Film</td>\n",
              "      <td>Film &amp; Video</td>\n",
              "      <td>USD</td>\n",
              "      <td>2017-11-01</td>\n",
              "      <td>30000.00</td>\n",
              "      <td>2017-09-02 04:43:57</td>\n",
              "      <td>2421.00</td>\n",
              "      <td>failed</td>\n",
              "      <td>15</td>\n",
              "      <td>US</td>\n",
              "      <td>100.00</td>\n",
              "      <td>2421.00</td>\n",
              "      <td>30000.00</td>\n",
              "      <td>0</td>\n",
              "    </tr>\n",
              "    <tr>\n",
              "      <th>2</th>\n",
              "      <td>1000004038</td>\n",
              "      <td>Where is Hank?</td>\n",
              "      <td>Narrative Film</td>\n",
              "      <td>Film &amp; Video</td>\n",
              "      <td>USD</td>\n",
              "      <td>2013-02-26</td>\n",
              "      <td>45000.00</td>\n",
              "      <td>2013-01-12 00:20:50</td>\n",
              "      <td>220.00</td>\n",
              "      <td>failed</td>\n",
              "      <td>3</td>\n",
              "      <td>US</td>\n",
              "      <td>220.00</td>\n",
              "      <td>220.00</td>\n",
              "      <td>45000.00</td>\n",
              "      <td>0</td>\n",
              "    </tr>\n",
              "    <tr>\n",
              "      <th>3</th>\n",
              "      <td>1000007540</td>\n",
              "      <td>ToshiCapital Rekordz Needs Help to Complete Album</td>\n",
              "      <td>Music</td>\n",
              "      <td>Music</td>\n",
              "      <td>USD</td>\n",
              "      <td>2012-04-16</td>\n",
              "      <td>5000.00</td>\n",
              "      <td>2012-03-17 03:24:11</td>\n",
              "      <td>1.00</td>\n",
              "      <td>failed</td>\n",
              "      <td>1</td>\n",
              "      <td>US</td>\n",
              "      <td>1.00</td>\n",
              "      <td>1.00</td>\n",
              "      <td>5000.00</td>\n",
              "      <td>0</td>\n",
              "    </tr>\n",
              "    <tr>\n",
              "      <th>4</th>\n",
              "      <td>1000011046</td>\n",
              "      <td>Community Film Project: The Art of Neighborhoo...</td>\n",
              "      <td>Film &amp; Video</td>\n",
              "      <td>Film &amp; Video</td>\n",
              "      <td>USD</td>\n",
              "      <td>2015-08-29</td>\n",
              "      <td>19500.00</td>\n",
              "      <td>2015-07-04 08:35:03</td>\n",
              "      <td>1283.00</td>\n",
              "      <td>canceled</td>\n",
              "      <td>14</td>\n",
              "      <td>US</td>\n",
              "      <td>1283.00</td>\n",
              "      <td>1283.00</td>\n",
              "      <td>19500.00</td>\n",
              "      <td>0</td>\n",
              "    </tr>\n",
              "  </tbody>\n",
              "</table>\n",
              "</div>"
            ],
            "text/plain": [
              "           ID  ... name_weirdness\n",
              "0  1000002330  ...              0\n",
              "1  1000003930  ...              0\n",
              "2  1000004038  ...              0\n",
              "3  1000007540  ...              0\n",
              "4  1000011046  ...              0\n",
              "\n",
              "[5 rows x 16 columns]"
            ]
          },
          "metadata": {
            "tags": []
          },
          "execution_count": 56
        }
      ]
    },
    {
      "cell_type": "code",
      "metadata": {
        "colab_type": "code",
        "id": "O92pigy9IXUH",
        "colab": {
          "base_uri": "https://localhost:8080/",
          "height": 122
        },
        "outputId": "936c89c5-062d-4ec8-a295-131f943242fd"
      },
      "source": [
        "kickstarter_2018.usd_pledged.head()"
      ],
      "execution_count": null,
      "outputs": [
        {
          "output_type": "execute_result",
          "data": {
            "text/plain": [
              "0      0.00\n",
              "1    100.00\n",
              "2    220.00\n",
              "3      1.00\n",
              "4   1283.00\n",
              "Name: usd_pledged, dtype: float64"
            ]
          },
          "metadata": {
            "tags": []
          },
          "execution_count": 55
        }
      ]
    },
    {
      "cell_type": "markdown",
      "metadata": {
        "id": "RNA5z1HQ5qBP",
        "colab_type": "text"
      },
      "source": [
        ""
      ]
    },
    {
      "cell_type": "markdown",
      "metadata": {
        "id": "yLaSE9SXbCOS",
        "colab_type": "text"
      },
      "source": [
        "#### **Ejercicio 3 para entrega final**\n",
        "\n",
        "Comparar la cantidad de nombres raros en kickstarter_2018 con la que obtenemos al cargar 'ks-projects-201801.csv' con encoding iso-8859-1.\n",
        "\n",
        "* Leer archivo 'ks-projects-201801.csv' con encoding iso-8859-1\n",
        "* verificar los nombres raros en la columna nombre"
      ]
    },
    {
      "cell_type": "code",
      "metadata": {
        "id": "BsWDpPEAxJBl",
        "colab_type": "code",
        "colab": {
          "base_uri": "https://localhost:8080/",
          "height": 479
        },
        "outputId": "af853040-19a2-4d78-aa44-b0e2a3966b83"
      },
      "source": [
        "# resolución del ejercicio 1 de la clase 3 del clase 03/07/2020\n",
        "# read in the file with the encoding detected by chardet\n",
        "kickstarter_ejercicio3 = pd.read_csv(BASE_DIR + \"/input/kickstarter-projects/ks-projects-201801.csv\", encoding='iso-8859-1')\n",
        "\n",
        "# look at the first few lines\n",
        "kickstarter_ejercicio3.head()\n"
      ],
      "execution_count": null,
      "outputs": [
        {
          "output_type": "execute_result",
          "data": {
            "text/html": [
              "<div>\n",
              "<style scoped>\n",
              "    .dataframe tbody tr th:only-of-type {\n",
              "        vertical-align: middle;\n",
              "    }\n",
              "\n",
              "    .dataframe tbody tr th {\n",
              "        vertical-align: top;\n",
              "    }\n",
              "\n",
              "    .dataframe thead th {\n",
              "        text-align: right;\n",
              "    }\n",
              "</style>\n",
              "<table border=\"1\" class=\"dataframe\">\n",
              "  <thead>\n",
              "    <tr style=\"text-align: right;\">\n",
              "      <th></th>\n",
              "      <th>ID</th>\n",
              "      <th>name</th>\n",
              "      <th>category</th>\n",
              "      <th>main_category</th>\n",
              "      <th>currency</th>\n",
              "      <th>deadline</th>\n",
              "      <th>goal</th>\n",
              "      <th>launched</th>\n",
              "      <th>pledged</th>\n",
              "      <th>state</th>\n",
              "      <th>backers</th>\n",
              "      <th>country</th>\n",
              "      <th>usd pledged</th>\n",
              "      <th>usd_pledged_real</th>\n",
              "      <th>usd_goal_real</th>\n",
              "    </tr>\n",
              "  </thead>\n",
              "  <tbody>\n",
              "    <tr>\n",
              "      <th>0</th>\n",
              "      <td>1000002330</td>\n",
              "      <td>The Songs of Adelaide &amp; Abullah</td>\n",
              "      <td>Poetry</td>\n",
              "      <td>Publishing</td>\n",
              "      <td>GBP</td>\n",
              "      <td>2015-10-09</td>\n",
              "      <td>1000.00</td>\n",
              "      <td>2015-08-11 12:12:28</td>\n",
              "      <td>0.00</td>\n",
              "      <td>failed</td>\n",
              "      <td>0</td>\n",
              "      <td>GB</td>\n",
              "      <td>0.00</td>\n",
              "      <td>0.00</td>\n",
              "      <td>1533.95</td>\n",
              "    </tr>\n",
              "    <tr>\n",
              "      <th>1</th>\n",
              "      <td>1000003930</td>\n",
              "      <td>Greeting From Earth: ZGAC Arts Capsule For ET</td>\n",
              "      <td>Narrative Film</td>\n",
              "      <td>Film &amp; Video</td>\n",
              "      <td>USD</td>\n",
              "      <td>2017-11-01</td>\n",
              "      <td>30000.00</td>\n",
              "      <td>2017-09-02 04:43:57</td>\n",
              "      <td>2421.00</td>\n",
              "      <td>failed</td>\n",
              "      <td>15</td>\n",
              "      <td>US</td>\n",
              "      <td>100.00</td>\n",
              "      <td>2421.00</td>\n",
              "      <td>30000.00</td>\n",
              "    </tr>\n",
              "    <tr>\n",
              "      <th>2</th>\n",
              "      <td>1000004038</td>\n",
              "      <td>Where is Hank?</td>\n",
              "      <td>Narrative Film</td>\n",
              "      <td>Film &amp; Video</td>\n",
              "      <td>USD</td>\n",
              "      <td>2013-02-26</td>\n",
              "      <td>45000.00</td>\n",
              "      <td>2013-01-12 00:20:50</td>\n",
              "      <td>220.00</td>\n",
              "      <td>failed</td>\n",
              "      <td>3</td>\n",
              "      <td>US</td>\n",
              "      <td>220.00</td>\n",
              "      <td>220.00</td>\n",
              "      <td>45000.00</td>\n",
              "    </tr>\n",
              "    <tr>\n",
              "      <th>3</th>\n",
              "      <td>1000007540</td>\n",
              "      <td>ToshiCapital Rekordz Needs Help to Complete Album</td>\n",
              "      <td>Music</td>\n",
              "      <td>Music</td>\n",
              "      <td>USD</td>\n",
              "      <td>2012-04-16</td>\n",
              "      <td>5000.00</td>\n",
              "      <td>2012-03-17 03:24:11</td>\n",
              "      <td>1.00</td>\n",
              "      <td>failed</td>\n",
              "      <td>1</td>\n",
              "      <td>US</td>\n",
              "      <td>1.00</td>\n",
              "      <td>1.00</td>\n",
              "      <td>5000.00</td>\n",
              "    </tr>\n",
              "    <tr>\n",
              "      <th>4</th>\n",
              "      <td>1000011046</td>\n",
              "      <td>Community Film Project: The Art of Neighborhoo...</td>\n",
              "      <td>Film &amp; Video</td>\n",
              "      <td>Film &amp; Video</td>\n",
              "      <td>USD</td>\n",
              "      <td>2015-08-29</td>\n",
              "      <td>19500.00</td>\n",
              "      <td>2015-07-04 08:35:03</td>\n",
              "      <td>1283.00</td>\n",
              "      <td>canceled</td>\n",
              "      <td>14</td>\n",
              "      <td>US</td>\n",
              "      <td>1283.00</td>\n",
              "      <td>1283.00</td>\n",
              "      <td>19500.00</td>\n",
              "    </tr>\n",
              "  </tbody>\n",
              "</table>\n",
              "</div>"
            ],
            "text/plain": [
              "           ID  ... usd_goal_real\n",
              "0  1000002330  ...       1533.95\n",
              "1  1000003930  ...      30000.00\n",
              "2  1000004038  ...      45000.00\n",
              "3  1000007540  ...       5000.00\n",
              "4  1000011046  ...      19500.00\n",
              "\n",
              "[5 rows x 15 columns]"
            ]
          },
          "metadata": {
            "tags": []
          },
          "execution_count": 58
        }
      ]
    },
    {
      "cell_type": "code",
      "metadata": {
        "id": "ozDlYKYM0biw",
        "colab_type": "code",
        "colab": {}
      },
      "source": [
        "import ftfy.badness as bad"
      ],
      "execution_count": null,
      "outputs": []
    },
    {
      "cell_type": "code",
      "metadata": {
        "id": "7PhujSjkxiVW",
        "colab_type": "code",
        "colab": {
          "base_uri": "https://localhost:8080/",
          "height": 813
        },
        "outputId": "20abc7cd-274f-40f4-cbdf-24ffbc6f4048"
      },
      "source": [
        "\n",
        "# resolución del ejercicio 1 de la clase 3\n",
        "def weird(val):\n",
        "    if isinstance(val, float): \n",
        "        return 0\n",
        "    return bad.sequence_weirdness(val)\n",
        "\n",
        "# verifico los caracteres extraños o raros\n",
        "kickstarter_ejercicio3['name_weirdness'] = kickstarter_ejercicio3['name'].apply(weird)\n",
        "kickstarter_ejercicio3[kickstarter_ejercicio3['name_weirdness'] > 1]"
      ],
      "execution_count": null,
      "outputs": [
        {
          "output_type": "execute_result",
          "data": {
            "text/html": [
              "<div>\n",
              "<style scoped>\n",
              "    .dataframe tbody tr th:only-of-type {\n",
              "        vertical-align: middle;\n",
              "    }\n",
              "\n",
              "    .dataframe tbody tr th {\n",
              "        vertical-align: top;\n",
              "    }\n",
              "\n",
              "    .dataframe thead th {\n",
              "        text-align: right;\n",
              "    }\n",
              "</style>\n",
              "<table border=\"1\" class=\"dataframe\">\n",
              "  <thead>\n",
              "    <tr style=\"text-align: right;\">\n",
              "      <th></th>\n",
              "      <th>ID</th>\n",
              "      <th>name</th>\n",
              "      <th>category</th>\n",
              "      <th>main_category</th>\n",
              "      <th>currency</th>\n",
              "      <th>deadline</th>\n",
              "      <th>goal</th>\n",
              "      <th>launched</th>\n",
              "      <th>pledged</th>\n",
              "      <th>state</th>\n",
              "      <th>backers</th>\n",
              "      <th>country</th>\n",
              "      <th>usd pledged</th>\n",
              "      <th>usd_pledged_real</th>\n",
              "      <th>usd_goal_real</th>\n",
              "      <th>name_weirdness</th>\n",
              "    </tr>\n",
              "  </thead>\n",
              "  <tbody>\n",
              "    <tr>\n",
              "      <th>63</th>\n",
              "      <td>1000235643</td>\n",
              "      <td>HIIT Bottleâ¢</td>\n",
              "      <td>Drinks</td>\n",
              "      <td>Food</td>\n",
              "      <td>USD</td>\n",
              "      <td>2015-04-27</td>\n",
              "      <td>15000.00</td>\n",
              "      <td>2015-03-13 18:33:08</td>\n",
              "      <td>124998.00</td>\n",
              "      <td>successful</td>\n",
              "      <td>2784</td>\n",
              "      <td>US</td>\n",
              "      <td>124998.00</td>\n",
              "      <td>124998.00</td>\n",
              "      <td>15000.00</td>\n",
              "      <td>2</td>\n",
              "    </tr>\n",
              "    <tr>\n",
              "      <th>70</th>\n",
              "      <td>1000260691</td>\n",
              "      <td>Gizbeeâ¢ Unlimited Removable Storage for Your...</td>\n",
              "      <td>Gadgets</td>\n",
              "      <td>Technology</td>\n",
              "      <td>USD</td>\n",
              "      <td>2016-03-25</td>\n",
              "      <td>87000.00</td>\n",
              "      <td>2016-02-29 20:30:27</td>\n",
              "      <td>2030.00</td>\n",
              "      <td>canceled</td>\n",
              "      <td>15</td>\n",
              "      <td>US</td>\n",
              "      <td>2030.00</td>\n",
              "      <td>2030.00</td>\n",
              "      <td>87000.00</td>\n",
              "      <td>2</td>\n",
              "    </tr>\n",
              "    <tr>\n",
              "      <th>123</th>\n",
              "      <td>1000519001</td>\n",
              "      <td>Wordwright: reÂ·deÂ·finÂ·ing word play</td>\n",
              "      <td>Tabletop Games</td>\n",
              "      <td>Games</td>\n",
              "      <td>USD</td>\n",
              "      <td>2015-12-29</td>\n",
              "      <td>2000.00</td>\n",
              "      <td>2015-11-21 14:12:27</td>\n",
              "      <td>14794.00</td>\n",
              "      <td>successful</td>\n",
              "      <td>624</td>\n",
              "      <td>US</td>\n",
              "      <td>14794.00</td>\n",
              "      <td>14794.00</td>\n",
              "      <td>2000.00</td>\n",
              "      <td>6</td>\n",
              "    </tr>\n",
              "    <tr>\n",
              "      <th>157</th>\n",
              "      <td>1000644119</td>\n",
              "      <td>OperaciÃ³n Douve</td>\n",
              "      <td>Action</td>\n",
              "      <td>Film &amp; Video</td>\n",
              "      <td>EUR</td>\n",
              "      <td>2016-05-01</td>\n",
              "      <td>100.00</td>\n",
              "      <td>2016-03-02 19:09:05</td>\n",
              "      <td>20.00</td>\n",
              "      <td>failed</td>\n",
              "      <td>2</td>\n",
              "      <td>ES</td>\n",
              "      <td>21.77</td>\n",
              "      <td>22.85</td>\n",
              "      <td>114.27</td>\n",
              "      <td>2</td>\n",
              "    </tr>\n",
              "    <tr>\n",
              "      <th>184</th>\n",
              "      <td>1000767040</td>\n",
              "      <td>Strait Jacket â Tangle Prevention For Headph...</td>\n",
              "      <td>Product Design</td>\n",
              "      <td>Design</td>\n",
              "      <td>USD</td>\n",
              "      <td>2016-11-23</td>\n",
              "      <td>30000.00</td>\n",
              "      <td>2016-10-24 03:35:51</td>\n",
              "      <td>1041.00</td>\n",
              "      <td>canceled</td>\n",
              "      <td>46</td>\n",
              "      <td>US</td>\n",
              "      <td>549.00</td>\n",
              "      <td>1041.00</td>\n",
              "      <td>30000.00</td>\n",
              "      <td>4</td>\n",
              "    </tr>\n",
              "    <tr>\n",
              "      <th>...</th>\n",
              "      <td>...</td>\n",
              "      <td>...</td>\n",
              "      <td>...</td>\n",
              "      <td>...</td>\n",
              "      <td>...</td>\n",
              "      <td>...</td>\n",
              "      <td>...</td>\n",
              "      <td>...</td>\n",
              "      <td>...</td>\n",
              "      <td>...</td>\n",
              "      <td>...</td>\n",
              "      <td>...</td>\n",
              "      <td>...</td>\n",
              "      <td>...</td>\n",
              "      <td>...</td>\n",
              "      <td>...</td>\n",
              "    </tr>\n",
              "    <tr>\n",
              "      <th>378522</th>\n",
              "      <td>999270657</td>\n",
              "      <td>Cotopaxi ConnectâCustom Gear, Co-Designed</td>\n",
              "      <td>Product Design</td>\n",
              "      <td>Design</td>\n",
              "      <td>USD</td>\n",
              "      <td>2017-01-19</td>\n",
              "      <td>25000.00</td>\n",
              "      <td>2016-11-20 08:00:35</td>\n",
              "      <td>6477.00</td>\n",
              "      <td>canceled</td>\n",
              "      <td>124</td>\n",
              "      <td>US</td>\n",
              "      <td>1505.00</td>\n",
              "      <td>6477.00</td>\n",
              "      <td>25000.00</td>\n",
              "      <td>4</td>\n",
              "    </tr>\n",
              "    <tr>\n",
              "      <th>378568</th>\n",
              "      <td>999501752</td>\n",
              "      <td>SmartnannyÂ®. The worldâs first smart nanny.</td>\n",
              "      <td>Technology</td>\n",
              "      <td>Technology</td>\n",
              "      <td>EUR</td>\n",
              "      <td>2015-07-28</td>\n",
              "      <td>400000.00</td>\n",
              "      <td>2015-06-23 15:01:09</td>\n",
              "      <td>1444.00</td>\n",
              "      <td>failed</td>\n",
              "      <td>15</td>\n",
              "      <td>DE</td>\n",
              "      <td>1642.89</td>\n",
              "      <td>1583.63</td>\n",
              "      <td>438678.26</td>\n",
              "      <td>3</td>\n",
              "    </tr>\n",
              "    <tr>\n",
              "      <th>378579</th>\n",
              "      <td>999567575</td>\n",
              "      <td>l'arbalÃ¨te  (surface lift ski)</td>\n",
              "      <td>Fashion</td>\n",
              "      <td>Fashion</td>\n",
              "      <td>CHF</td>\n",
              "      <td>2015-12-04</td>\n",
              "      <td>10000.00</td>\n",
              "      <td>2015-11-04 08:50:21</td>\n",
              "      <td>0.00</td>\n",
              "      <td>failed</td>\n",
              "      <td>0</td>\n",
              "      <td>CH</td>\n",
              "      <td>0.00</td>\n",
              "      <td>0.00</td>\n",
              "      <td>10018.33</td>\n",
              "      <td>4</td>\n",
              "    </tr>\n",
              "    <tr>\n",
              "      <th>378612</th>\n",
              "      <td>999754150</td>\n",
              "      <td>31â¢13: Thesis Exhibition</td>\n",
              "      <td>Mixed Media</td>\n",
              "      <td>Art</td>\n",
              "      <td>USD</td>\n",
              "      <td>2013-03-20</td>\n",
              "      <td>8000.00</td>\n",
              "      <td>2013-02-18 18:46:29</td>\n",
              "      <td>8935.00</td>\n",
              "      <td>successful</td>\n",
              "      <td>121</td>\n",
              "      <td>US</td>\n",
              "      <td>8935.00</td>\n",
              "      <td>8935.00</td>\n",
              "      <td>8000.00</td>\n",
              "      <td>2</td>\n",
              "    </tr>\n",
              "    <tr>\n",
              "      <th>378642</th>\n",
              "      <td>999929142</td>\n",
              "      <td>ÃPOUVANTAILS : 28mm Figurines de jeux pour KI...</td>\n",
              "      <td>Tabletop Games</td>\n",
              "      <td>Games</td>\n",
              "      <td>EUR</td>\n",
              "      <td>2017-10-31</td>\n",
              "      <td>1000.00</td>\n",
              "      <td>2017-10-04 11:26:44</td>\n",
              "      <td>1246.00</td>\n",
              "      <td>successful</td>\n",
              "      <td>35</td>\n",
              "      <td>FR</td>\n",
              "      <td>66.72</td>\n",
              "      <td>1452.47</td>\n",
              "      <td>1165.70</td>\n",
              "      <td>4</td>\n",
              "    </tr>\n",
              "  </tbody>\n",
              "</table>\n",
              "<p>7682 rows × 16 columns</p>\n",
              "</div>"
            ],
            "text/plain": [
              "                ID  ... name_weirdness\n",
              "63      1000235643  ...              2\n",
              "70      1000260691  ...              2\n",
              "123     1000519001  ...              6\n",
              "157     1000644119  ...              2\n",
              "184     1000767040  ...              4\n",
              "...            ...  ...            ...\n",
              "378522   999270657  ...              4\n",
              "378568   999501752  ...              3\n",
              "378579   999567575  ...              4\n",
              "378612   999754150  ...              2\n",
              "378642   999929142  ...              4\n",
              "\n",
              "[7682 rows x 16 columns]"
            ]
          },
          "metadata": {
            "tags": []
          },
          "execution_count": 60
        }
      ]
    },
    {
      "cell_type": "markdown",
      "metadata": {
        "id": "nEG40MGk159m",
        "colab_type": "text"
      },
      "source": [
        "En la columna 'name' del dataframe kickstarter_ejercicio3 se observan varios caracteres extraños. Ejemplo: 'OperaciÃ³n Douve'"
      ]
    },
    {
      "cell_type": "markdown",
      "metadata": {
        "colab_type": "text",
        "id": "ahRhnkZ7IXUI"
      },
      "source": [
        "## 2.2. Tratar valores faltantes\n",
        "\n",
        "Veamos cuantos **valores nulos** tenemos"
      ]
    },
    {
      "cell_type": "code",
      "metadata": {
        "colab_type": "code",
        "id": "UkbDCMZtIXUJ",
        "scrolled": true,
        "colab": {
          "base_uri": "https://localhost:8080/",
          "height": 70
        },
        "outputId": "ab365feb-e3bd-4cfc-c681-30f1d5802c29"
      },
      "source": [
        "# get the number of missing data points per column\n",
        "missing_values_count = kickstarter_2018.isnull().sum()\n",
        "\n",
        "# look at the # of missing points in the first ten columns\n",
        "missing_values_count[missing_values_count > 0]"
      ],
      "execution_count": null,
      "outputs": [
        {
          "output_type": "execute_result",
          "data": {
            "text/plain": [
              "name              4\n",
              "usd_pledged    3797\n",
              "dtype: int64"
            ]
          },
          "metadata": {
            "tags": []
          },
          "execution_count": 61
        }
      ]
    },
    {
      "cell_type": "markdown",
      "metadata": {
        "id": "dhK0Xomm2wML",
        "colab_type": "text"
      },
      "source": [
        "en la columna 'name' hay 4 nulos y en la columna usd_pledged hay 3.797  datos nulos.\n",
        "\n",
        "Se debería analizar cuál es el porcentaje que representan los valores nulos del total del dataset"
      ]
    },
    {
      "cell_type": "markdown",
      "metadata": {
        "id": "wzP4Ckc_bCOU",
        "colab_type": "text"
      },
      "source": [
        "Esta medida en sí, no dice nada más que con cuantos valores debemos lidiar. \n",
        "\n",
        "Primero tenemos que ver si **en términos relativos su impacto.**"
      ]
    },
    {
      "cell_type": "code",
      "metadata": {
        "colab_type": "code",
        "id": "1WC9vl6mIXUK",
        "colab": {
          "base_uri": "https://localhost:8080/",
          "height": 34
        },
        "outputId": "0f1b26a9-dbcc-44ec-c741-a3bfb37ce5e9"
      },
      "source": [
        "len(kickstarter_2018.dropna())/len(kickstarter_2018)  # para todo el dataset"
      ],
      "execution_count": null,
      "outputs": [
        {
          "output_type": "execute_result",
          "data": {
            "text/plain": [
              "0.9899619976707398"
            ]
          },
          "metadata": {
            "tags": []
          },
          "execution_count": 62
        }
      ]
    },
    {
      "cell_type": "code",
      "metadata": {
        "colab_type": "code",
        "id": "eqv839nVIXUN",
        "colab": {
          "base_uri": "https://localhost:8080/",
          "height": 34
        },
        "outputId": "2c979d13-8271-429b-a19e-053c53d4ba9e"
      },
      "source": [
        "len(kickstarter_2018.dropna(subset=['name']))/len(kickstarter_2018)  #verificamos sólo en la columna 'name'"
      ],
      "execution_count": null,
      "outputs": [
        {
          "output_type": "execute_result",
          "data": {
            "text/plain": [
              "0.9999894364616372"
            ]
          },
          "metadata": {
            "tags": []
          },
          "execution_count": 64
        }
      ]
    },
    {
      "cell_type": "markdown",
      "metadata": {
        "id": "bLXYgaLgbCOY",
        "colab_type": "text"
      },
      "source": [
        "También debemos ver que significan en **términos de representatividad e importancia de nuestro análisis.**"
      ]
    },
    {
      "cell_type": "code",
      "metadata": {
        "colab_type": "code",
        "id": "2Aa4DZm1IXUO",
        "colab": {
          "base_uri": "https://localhost:8080/",
          "height": 68
        },
        "outputId": "16852650-ab24-4b68-ac30-ebe51a1911de"
      },
      "source": [
        "kickstarter_2018[kickstarter_2018.name.isnull()]"
      ],
      "execution_count": null,
      "outputs": [
        {
          "output_type": "execute_result",
          "data": {
            "text/html": [
              "<div>\n",
              "<style scoped>\n",
              "    .dataframe tbody tr th:only-of-type {\n",
              "        vertical-align: middle;\n",
              "    }\n",
              "\n",
              "    .dataframe tbody tr th {\n",
              "        vertical-align: top;\n",
              "    }\n",
              "\n",
              "    .dataframe thead th {\n",
              "        text-align: right;\n",
              "    }\n",
              "</style>\n",
              "<table border=\"1\" class=\"dataframe\">\n",
              "  <thead>\n",
              "    <tr style=\"text-align: right;\">\n",
              "      <th></th>\n",
              "      <th>ID</th>\n",
              "      <th>name</th>\n",
              "      <th>category</th>\n",
              "      <th>main_category</th>\n",
              "      <th>currency</th>\n",
              "      <th>deadline</th>\n",
              "      <th>goal</th>\n",
              "      <th>launched</th>\n",
              "      <th>pledged</th>\n",
              "      <th>state</th>\n",
              "      <th>backers</th>\n",
              "      <th>country</th>\n",
              "      <th>usd_pledged</th>\n",
              "      <th>usd_pledged_real</th>\n",
              "      <th>usd_goal_real</th>\n",
              "      <th>name_weirdness</th>\n",
              "    </tr>\n",
              "  </thead>\n",
              "  <tbody>\n",
              "  </tbody>\n",
              "</table>\n",
              "</div>"
            ],
            "text/plain": [
              "Empty DataFrame\n",
              "Columns: [ID, name, category, main_category, currency, deadline, goal, launched, pledged, state, backers, country, usd_pledged, usd_pledged_real, usd_goal_real, name_weirdness]\n",
              "Index: []"
            ]
          },
          "metadata": {
            "tags": []
          },
          "execution_count": 67
        }
      ]
    },
    {
      "cell_type": "markdown",
      "metadata": {
        "id": "0igrnKcybCOZ",
        "colab_type": "text"
      },
      "source": [
        "Ejemplo, cuántos de los proyectos suspendidos no tienen nombre"
      ]
    },
    {
      "cell_type": "code",
      "metadata": {
        "id": "eZXppbDobCOZ",
        "colab_type": "code",
        "colab": {
          "base_uri": "https://localhost:8080/",
          "height": 34
        },
        "outputId": "e921b1c6-781d-4d94-ebd9-b4e1621ecf18"
      },
      "source": [
        "len(kickstarter_2018[kickstarter_2018.state == 'suspended'].dropna(subset=['name'])) / \\\n",
        "    len(kickstarter_2018[kickstarter_2018.state == 'suspended'])"
      ],
      "execution_count": null,
      "outputs": [
        {
          "output_type": "execute_result",
          "data": {
            "text/plain": [
              "0.9994582881906826"
            ]
          },
          "metadata": {
            "tags": []
          },
          "execution_count": 65
        }
      ]
    },
    {
      "cell_type": "markdown",
      "metadata": {
        "id": "BXEbZ1WkbCOb",
        "colab_type": "text"
      },
      "source": [
        "En este caso, creemos que es seguro descartar los proyectos sin nombre"
      ]
    },
    {
      "cell_type": "code",
      "metadata": {
        "colab_type": "code",
        "id": "7ig47EETIXUP",
        "colab": {}
      },
      "source": [
        "kickstarter_2018 = kickstarter_2018.dropna(subset=['name'])  # eliminamos los archivos con nombre nulo"
      ],
      "execution_count": null,
      "outputs": []
    },
    {
      "cell_type": "code",
      "metadata": {
        "colab_type": "code",
        "id": "_mguXGJ7IXUQ",
        "colab": {
          "base_uri": "https://localhost:8080/",
          "height": 52
        },
        "outputId": "0b47de36-39b3-494f-98bf-7bfdef1bfcba"
      },
      "source": [
        "# volvemos a calcular los valores perdidos\n",
        "missing_values_count = kickstarter_2018.isnull().sum()\n",
        "missing_values_count[missing_values_count > 0]"
      ],
      "execution_count": null,
      "outputs": [
        {
          "output_type": "execute_result",
          "data": {
            "text/plain": [
              "usd_pledged    3797\n",
              "dtype: int64"
            ]
          },
          "metadata": {
            "tags": []
          },
          "execution_count": 68
        }
      ]
    },
    {
      "cell_type": "markdown",
      "metadata": {
        "id": "GqHnWQNR4raR",
        "colab_type": "text"
      },
      "source": [
        "Al haber eliminado las filas con nombre nulo, ahora aparecen solo los datos nulos de usd_pledged"
      ]
    },
    {
      "cell_type": "code",
      "metadata": {
        "colab_type": "code",
        "id": "Xi85q0ytIXUR",
        "scrolled": true,
        "colab": {
          "base_uri": "https://localhost:8080/",
          "height": 796
        },
        "outputId": "aef487dd-642c-4a92-e84b-15e59b823075"
      },
      "source": [
        "kickstarter_2018[kickstarter_2018.usd_pledged.isnull()]"
      ],
      "execution_count": null,
      "outputs": [
        {
          "output_type": "execute_result",
          "data": {
            "text/html": [
              "<div>\n",
              "<style scoped>\n",
              "    .dataframe tbody tr th:only-of-type {\n",
              "        vertical-align: middle;\n",
              "    }\n",
              "\n",
              "    .dataframe tbody tr th {\n",
              "        vertical-align: top;\n",
              "    }\n",
              "\n",
              "    .dataframe thead th {\n",
              "        text-align: right;\n",
              "    }\n",
              "</style>\n",
              "<table border=\"1\" class=\"dataframe\">\n",
              "  <thead>\n",
              "    <tr style=\"text-align: right;\">\n",
              "      <th></th>\n",
              "      <th>ID</th>\n",
              "      <th>name</th>\n",
              "      <th>category</th>\n",
              "      <th>main_category</th>\n",
              "      <th>currency</th>\n",
              "      <th>deadline</th>\n",
              "      <th>goal</th>\n",
              "      <th>launched</th>\n",
              "      <th>pledged</th>\n",
              "      <th>state</th>\n",
              "      <th>backers</th>\n",
              "      <th>country</th>\n",
              "      <th>usd_pledged</th>\n",
              "      <th>usd_pledged_real</th>\n",
              "      <th>usd_goal_real</th>\n",
              "      <th>name_weirdness</th>\n",
              "    </tr>\n",
              "  </thead>\n",
              "  <tbody>\n",
              "    <tr>\n",
              "      <th>169</th>\n",
              "      <td>1000694855</td>\n",
              "      <td>STREETFIGHTERZ WHEELIE MURICA</td>\n",
              "      <td>Film &amp; Video</td>\n",
              "      <td>Film &amp; Video</td>\n",
              "      <td>USD</td>\n",
              "      <td>2014-09-20</td>\n",
              "      <td>6500.00</td>\n",
              "      <td>2014-08-06 21:28:36</td>\n",
              "      <td>555.00</td>\n",
              "      <td>undefined</td>\n",
              "      <td>0</td>\n",
              "      <td>N,0\"</td>\n",
              "      <td>nan</td>\n",
              "      <td>555.00</td>\n",
              "      <td>6500.00</td>\n",
              "      <td>0</td>\n",
              "    </tr>\n",
              "    <tr>\n",
              "      <th>328</th>\n",
              "      <td>100149523</td>\n",
              "      <td>Duncan Woods - Chameleon EP</td>\n",
              "      <td>Music</td>\n",
              "      <td>Music</td>\n",
              "      <td>AUD</td>\n",
              "      <td>2015-08-25</td>\n",
              "      <td>4500.00</td>\n",
              "      <td>2015-08-04 12:05:17</td>\n",
              "      <td>4767.00</td>\n",
              "      <td>undefined</td>\n",
              "      <td>0</td>\n",
              "      <td>N,0\"</td>\n",
              "      <td>nan</td>\n",
              "      <td>3402.08</td>\n",
              "      <td>3211.53</td>\n",
              "      <td>0</td>\n",
              "    </tr>\n",
              "    <tr>\n",
              "      <th>632</th>\n",
              "      <td>1003023003</td>\n",
              "      <td>The Making of Ashley Kelley's Debut Album</td>\n",
              "      <td>Music</td>\n",
              "      <td>Music</td>\n",
              "      <td>USD</td>\n",
              "      <td>2015-04-09</td>\n",
              "      <td>3500.00</td>\n",
              "      <td>2015-03-10 20:06:13</td>\n",
              "      <td>3576.00</td>\n",
              "      <td>undefined</td>\n",
              "      <td>0</td>\n",
              "      <td>N,0\"</td>\n",
              "      <td>nan</td>\n",
              "      <td>3576.00</td>\n",
              "      <td>3500.00</td>\n",
              "      <td>0</td>\n",
              "    </tr>\n",
              "    <tr>\n",
              "      <th>647</th>\n",
              "      <td>1003130892</td>\n",
              "      <td>Butter Side Down Debut Album</td>\n",
              "      <td>Music</td>\n",
              "      <td>Music</td>\n",
              "      <td>USD</td>\n",
              "      <td>2015-11-26</td>\n",
              "      <td>6000.00</td>\n",
              "      <td>2015-11-02 22:09:19</td>\n",
              "      <td>7007.80</td>\n",
              "      <td>undefined</td>\n",
              "      <td>0</td>\n",
              "      <td>N,0\"</td>\n",
              "      <td>nan</td>\n",
              "      <td>7007.80</td>\n",
              "      <td>6000.00</td>\n",
              "      <td>0</td>\n",
              "    </tr>\n",
              "    <tr>\n",
              "      <th>749</th>\n",
              "      <td>1003629045</td>\n",
              "      <td>Chase Goehring debut EP</td>\n",
              "      <td>Music</td>\n",
              "      <td>Music</td>\n",
              "      <td>USD</td>\n",
              "      <td>2016-03-21</td>\n",
              "      <td>3000.00</td>\n",
              "      <td>2016-02-23 03:09:49</td>\n",
              "      <td>3660.38</td>\n",
              "      <td>undefined</td>\n",
              "      <td>0</td>\n",
              "      <td>N,0\"</td>\n",
              "      <td>nan</td>\n",
              "      <td>3660.38</td>\n",
              "      <td>3000.00</td>\n",
              "      <td>0</td>\n",
              "    </tr>\n",
              "    <tr>\n",
              "      <th>...</th>\n",
              "      <td>...</td>\n",
              "      <td>...</td>\n",
              "      <td>...</td>\n",
              "      <td>...</td>\n",
              "      <td>...</td>\n",
              "      <td>...</td>\n",
              "      <td>...</td>\n",
              "      <td>...</td>\n",
              "      <td>...</td>\n",
              "      <td>...</td>\n",
              "      <td>...</td>\n",
              "      <td>...</td>\n",
              "      <td>...</td>\n",
              "      <td>...</td>\n",
              "      <td>...</td>\n",
              "      <td>...</td>\n",
              "    </tr>\n",
              "    <tr>\n",
              "      <th>378233</th>\n",
              "      <td>997971307</td>\n",
              "      <td>EQUUS International Film Festival®, all-equine...</td>\n",
              "      <td>Film &amp; Video</td>\n",
              "      <td>Film &amp; Video</td>\n",
              "      <td>USD</td>\n",
              "      <td>2015-02-03</td>\n",
              "      <td>7500.00</td>\n",
              "      <td>2014-12-05 04:19:14</td>\n",
              "      <td>10.00</td>\n",
              "      <td>undefined</td>\n",
              "      <td>0</td>\n",
              "      <td>N,0\"</td>\n",
              "      <td>nan</td>\n",
              "      <td>10.00</td>\n",
              "      <td>7500.00</td>\n",
              "      <td>-1</td>\n",
              "    </tr>\n",
              "    <tr>\n",
              "      <th>378303</th>\n",
              "      <td>998319149</td>\n",
              "      <td>Emily 2050 - Short Film</td>\n",
              "      <td>Film &amp; Video</td>\n",
              "      <td>Film &amp; Video</td>\n",
              "      <td>CAD</td>\n",
              "      <td>2014-05-23</td>\n",
              "      <td>3000.00</td>\n",
              "      <td>2014-04-08 00:30:09</td>\n",
              "      <td>3102.00</td>\n",
              "      <td>undefined</td>\n",
              "      <td>0</td>\n",
              "      <td>N,0\"</td>\n",
              "      <td>nan</td>\n",
              "      <td>2845.61</td>\n",
              "      <td>2752.04</td>\n",
              "      <td>0</td>\n",
              "    </tr>\n",
              "    <tr>\n",
              "      <th>378434</th>\n",
              "      <td>9988744</td>\n",
              "      <td>Matthew Stephens Music</td>\n",
              "      <td>Music</td>\n",
              "      <td>Music</td>\n",
              "      <td>USD</td>\n",
              "      <td>2016-02-05</td>\n",
              "      <td>5000.00</td>\n",
              "      <td>2016-01-06 21:59:23</td>\n",
              "      <td>235.00</td>\n",
              "      <td>undefined</td>\n",
              "      <td>0</td>\n",
              "      <td>N,0\"</td>\n",
              "      <td>nan</td>\n",
              "      <td>235.00</td>\n",
              "      <td>5000.00</td>\n",
              "      <td>0</td>\n",
              "    </tr>\n",
              "    <tr>\n",
              "      <th>378585</th>\n",
              "      <td>999610349</td>\n",
              "      <td>Lady Vendredi: Afrofuturist concept 12 inch EP</td>\n",
              "      <td>Music</td>\n",
              "      <td>Music</td>\n",
              "      <td>GBP</td>\n",
              "      <td>2015-10-19</td>\n",
              "      <td>2000.00</td>\n",
              "      <td>2015-09-21 22:33:18</td>\n",
              "      <td>2125.00</td>\n",
              "      <td>undefined</td>\n",
              "      <td>0</td>\n",
              "      <td>N,0\"</td>\n",
              "      <td>nan</td>\n",
              "      <td>3273.36</td>\n",
              "      <td>3080.81</td>\n",
              "      <td>0</td>\n",
              "    </tr>\n",
              "    <tr>\n",
              "      <th>378588</th>\n",
              "      <td>999621278</td>\n",
              "      <td>Jeune auteur a besoin de vous!</td>\n",
              "      <td>Publishing</td>\n",
              "      <td>Publishing</td>\n",
              "      <td>EUR</td>\n",
              "      <td>2015-11-20</td>\n",
              "      <td>1600.00</td>\n",
              "      <td>2015-10-21 21:28:13</td>\n",
              "      <td>0.00</td>\n",
              "      <td>undefined</td>\n",
              "      <td>0</td>\n",
              "      <td>N,0\"</td>\n",
              "      <td>nan</td>\n",
              "      <td>0.00</td>\n",
              "      <td>1710.08</td>\n",
              "      <td>0</td>\n",
              "    </tr>\n",
              "  </tbody>\n",
              "</table>\n",
              "<p>3797 rows × 16 columns</p>\n",
              "</div>"
            ],
            "text/plain": [
              "                ID  ... name_weirdness\n",
              "169     1000694855  ...              0\n",
              "328      100149523  ...              0\n",
              "632     1003023003  ...              0\n",
              "647     1003130892  ...              0\n",
              "749     1003629045  ...              0\n",
              "...            ...  ...            ...\n",
              "378233   997971307  ...             -1\n",
              "378303   998319149  ...              0\n",
              "378434     9988744  ...              0\n",
              "378585   999610349  ...              0\n",
              "378588   999621278  ...              0\n",
              "\n",
              "[3797 rows x 16 columns]"
            ]
          },
          "metadata": {
            "tags": []
          },
          "execution_count": 71
        }
      ]
    },
    {
      "cell_type": "code",
      "metadata": {
        "colab_type": "code",
        "id": "hIHOdVWuIXUU",
        "colab": {
          "base_uri": "https://localhost:8080/",
          "height": 573
        },
        "outputId": "99e65c05-804a-4b1e-e9e3-c2ba791558b3"
      },
      "source": [
        "kickstarter_2018[kickstarter_2018.usd_pledged.isnull()].describe(include='all')"
      ],
      "execution_count": null,
      "outputs": [
        {
          "output_type": "execute_result",
          "data": {
            "text/html": [
              "<div>\n",
              "<style scoped>\n",
              "    .dataframe tbody tr th:only-of-type {\n",
              "        vertical-align: middle;\n",
              "    }\n",
              "\n",
              "    .dataframe tbody tr th {\n",
              "        vertical-align: top;\n",
              "    }\n",
              "\n",
              "    .dataframe thead th {\n",
              "        text-align: right;\n",
              "    }\n",
              "</style>\n",
              "<table border=\"1\" class=\"dataframe\">\n",
              "  <thead>\n",
              "    <tr style=\"text-align: right;\">\n",
              "      <th></th>\n",
              "      <th>ID</th>\n",
              "      <th>name</th>\n",
              "      <th>category</th>\n",
              "      <th>main_category</th>\n",
              "      <th>currency</th>\n",
              "      <th>deadline</th>\n",
              "      <th>goal</th>\n",
              "      <th>launched</th>\n",
              "      <th>pledged</th>\n",
              "      <th>state</th>\n",
              "      <th>backers</th>\n",
              "      <th>country</th>\n",
              "      <th>usd_pledged</th>\n",
              "      <th>usd_pledged_real</th>\n",
              "      <th>usd_goal_real</th>\n",
              "      <th>name_weirdness</th>\n",
              "    </tr>\n",
              "  </thead>\n",
              "  <tbody>\n",
              "    <tr>\n",
              "      <th>count</th>\n",
              "      <td>3797.00</td>\n",
              "      <td>3797</td>\n",
              "      <td>3797</td>\n",
              "      <td>3797</td>\n",
              "      <td>3797</td>\n",
              "      <td>3797</td>\n",
              "      <td>3797.00</td>\n",
              "      <td>3797</td>\n",
              "      <td>3797.00</td>\n",
              "      <td>3797</td>\n",
              "      <td>3797.00</td>\n",
              "      <td>3797</td>\n",
              "      <td>0.00</td>\n",
              "      <td>3797.00</td>\n",
              "      <td>3797.00</td>\n",
              "      <td>3797.00</td>\n",
              "    </tr>\n",
              "    <tr>\n",
              "      <th>unique</th>\n",
              "      <td>nan</td>\n",
              "      <td>3764</td>\n",
              "      <td>28</td>\n",
              "      <td>12</td>\n",
              "      <td>10</td>\n",
              "      <td>722</td>\n",
              "      <td>nan</td>\n",
              "      <td>3797</td>\n",
              "      <td>nan</td>\n",
              "      <td>6</td>\n",
              "      <td>nan</td>\n",
              "      <td>1</td>\n",
              "      <td>nan</td>\n",
              "      <td>nan</td>\n",
              "      <td>nan</td>\n",
              "      <td>nan</td>\n",
              "    </tr>\n",
              "    <tr>\n",
              "      <th>top</th>\n",
              "      <td>nan</td>\n",
              "      <td>New EP/Music Development</td>\n",
              "      <td>Music</td>\n",
              "      <td>Music</td>\n",
              "      <td>USD</td>\n",
              "      <td>2015-05-01 00:00:00</td>\n",
              "      <td>nan</td>\n",
              "      <td>2015-10-27 17:00:11</td>\n",
              "      <td>nan</td>\n",
              "      <td>undefined</td>\n",
              "      <td>nan</td>\n",
              "      <td>N,0\"</td>\n",
              "      <td>nan</td>\n",
              "      <td>nan</td>\n",
              "      <td>nan</td>\n",
              "      <td>nan</td>\n",
              "    </tr>\n",
              "    <tr>\n",
              "      <th>freq</th>\n",
              "      <td>nan</td>\n",
              "      <td>28</td>\n",
              "      <td>2387</td>\n",
              "      <td>2388</td>\n",
              "      <td>2738</td>\n",
              "      <td>26</td>\n",
              "      <td>nan</td>\n",
              "      <td>1</td>\n",
              "      <td>nan</td>\n",
              "      <td>3562</td>\n",
              "      <td>nan</td>\n",
              "      <td>3797</td>\n",
              "      <td>nan</td>\n",
              "      <td>nan</td>\n",
              "      <td>nan</td>\n",
              "      <td>nan</td>\n",
              "    </tr>\n",
              "    <tr>\n",
              "      <th>first</th>\n",
              "      <td>nan</td>\n",
              "      <td>NaN</td>\n",
              "      <td>NaN</td>\n",
              "      <td>NaN</td>\n",
              "      <td>NaN</td>\n",
              "      <td>2012-04-24 00:00:00</td>\n",
              "      <td>nan</td>\n",
              "      <td>2012-03-14 19:05:44</td>\n",
              "      <td>nan</td>\n",
              "      <td>NaN</td>\n",
              "      <td>nan</td>\n",
              "      <td>NaN</td>\n",
              "      <td>nan</td>\n",
              "      <td>nan</td>\n",
              "      <td>nan</td>\n",
              "      <td>nan</td>\n",
              "    </tr>\n",
              "    <tr>\n",
              "      <th>last</th>\n",
              "      <td>nan</td>\n",
              "      <td>NaN</td>\n",
              "      <td>NaN</td>\n",
              "      <td>NaN</td>\n",
              "      <td>NaN</td>\n",
              "      <td>2016-07-07 00:00:00</td>\n",
              "      <td>nan</td>\n",
              "      <td>2016-05-21 20:45:12</td>\n",
              "      <td>nan</td>\n",
              "      <td>NaN</td>\n",
              "      <td>nan</td>\n",
              "      <td>NaN</td>\n",
              "      <td>nan</td>\n",
              "      <td>nan</td>\n",
              "      <td>nan</td>\n",
              "      <td>nan</td>\n",
              "    </tr>\n",
              "    <tr>\n",
              "      <th>mean</th>\n",
              "      <td>1082611780.88</td>\n",
              "      <td>NaN</td>\n",
              "      <td>NaN</td>\n",
              "      <td>NaN</td>\n",
              "      <td>NaN</td>\n",
              "      <td>NaN</td>\n",
              "      <td>5413.35</td>\n",
              "      <td>NaN</td>\n",
              "      <td>3023.26</td>\n",
              "      <td>NaN</td>\n",
              "      <td>0.00</td>\n",
              "      <td>NaN</td>\n",
              "      <td>nan</td>\n",
              "      <td>2949.85</td>\n",
              "      <td>5097.31</td>\n",
              "      <td>-0.01</td>\n",
              "    </tr>\n",
              "    <tr>\n",
              "      <th>std</th>\n",
              "      <td>614206486.24</td>\n",
              "      <td>NaN</td>\n",
              "      <td>NaN</td>\n",
              "      <td>NaN</td>\n",
              "      <td>NaN</td>\n",
              "      <td>NaN</td>\n",
              "      <td>37466.24</td>\n",
              "      <td>NaN</td>\n",
              "      <td>44919.41</td>\n",
              "      <td>NaN</td>\n",
              "      <td>0.00</td>\n",
              "      <td>NaN</td>\n",
              "      <td>nan</td>\n",
              "      <td>44881.72</td>\n",
              "      <td>37258.79</td>\n",
              "      <td>0.12</td>\n",
              "    </tr>\n",
              "    <tr>\n",
              "      <th>min</th>\n",
              "      <td>629014.00</td>\n",
              "      <td>NaN</td>\n",
              "      <td>NaN</td>\n",
              "      <td>NaN</td>\n",
              "      <td>NaN</td>\n",
              "      <td>NaN</td>\n",
              "      <td>108.00</td>\n",
              "      <td>NaN</td>\n",
              "      <td>0.00</td>\n",
              "      <td>NaN</td>\n",
              "      <td>0.00</td>\n",
              "      <td>NaN</td>\n",
              "      <td>nan</td>\n",
              "      <td>0.00</td>\n",
              "      <td>85.28</td>\n",
              "      <td>-3.00</td>\n",
              "    </tr>\n",
              "    <tr>\n",
              "      <th>25%</th>\n",
              "      <td>555405348.00</td>\n",
              "      <td>NaN</td>\n",
              "      <td>NaN</td>\n",
              "      <td>NaN</td>\n",
              "      <td>NaN</td>\n",
              "      <td>NaN</td>\n",
              "      <td>2000.00</td>\n",
              "      <td>NaN</td>\n",
              "      <td>5.00</td>\n",
              "      <td>NaN</td>\n",
              "      <td>0.00</td>\n",
              "      <td>NaN</td>\n",
              "      <td>nan</td>\n",
              "      <td>5.00</td>\n",
              "      <td>2250.00</td>\n",
              "      <td>0.00</td>\n",
              "    </tr>\n",
              "    <tr>\n",
              "      <th>50%</th>\n",
              "      <td>1073104639.00</td>\n",
              "      <td>NaN</td>\n",
              "      <td>NaN</td>\n",
              "      <td>NaN</td>\n",
              "      <td>NaN</td>\n",
              "      <td>NaN</td>\n",
              "      <td>3500.00</td>\n",
              "      <td>NaN</td>\n",
              "      <td>640.00</td>\n",
              "      <td>NaN</td>\n",
              "      <td>0.00</td>\n",
              "      <td>NaN</td>\n",
              "      <td>nan</td>\n",
              "      <td>616.00</td>\n",
              "      <td>3583.05</td>\n",
              "      <td>0.00</td>\n",
              "    </tr>\n",
              "    <tr>\n",
              "      <th>75%</th>\n",
              "      <td>1610504577.00</td>\n",
              "      <td>NaN</td>\n",
              "      <td>NaN</td>\n",
              "      <td>NaN</td>\n",
              "      <td>NaN</td>\n",
              "      <td>NaN</td>\n",
              "      <td>5000.00</td>\n",
              "      <td>NaN</td>\n",
              "      <td>3845.00</td>\n",
              "      <td>NaN</td>\n",
              "      <td>0.00</td>\n",
              "      <td>NaN</td>\n",
              "      <td>nan</td>\n",
              "      <td>3932.23</td>\n",
              "      <td>5208.09</td>\n",
              "      <td>0.00</td>\n",
              "    </tr>\n",
              "    <tr>\n",
              "      <th>max</th>\n",
              "      <td>2147454104.00</td>\n",
              "      <td>NaN</td>\n",
              "      <td>NaN</td>\n",
              "      <td>NaN</td>\n",
              "      <td>NaN</td>\n",
              "      <td>NaN</td>\n",
              "      <td>1877000.00</td>\n",
              "      <td>NaN</td>\n",
              "      <td>2762571.78</td>\n",
              "      <td>NaN</td>\n",
              "      <td>0.00</td>\n",
              "      <td>NaN</td>\n",
              "      <td>nan</td>\n",
              "      <td>2762571.78</td>\n",
              "      <td>1877000.00</td>\n",
              "      <td>0.00</td>\n",
              "    </tr>\n",
              "  </tbody>\n",
              "</table>\n",
              "</div>"
            ],
            "text/plain": [
              "                  ID                      name  ... usd_goal_real name_weirdness\n",
              "count        3797.00                      3797  ...       3797.00        3797.00\n",
              "unique           nan                      3764  ...           nan            nan\n",
              "top              nan  New EP/Music Development  ...           nan            nan\n",
              "freq             nan                        28  ...           nan            nan\n",
              "first            nan                       NaN  ...           nan            nan\n",
              "last             nan                       NaN  ...           nan            nan\n",
              "mean   1082611780.88                       NaN  ...       5097.31          -0.01\n",
              "std     614206486.24                       NaN  ...      37258.79           0.12\n",
              "min        629014.00                       NaN  ...         85.28          -3.00\n",
              "25%     555405348.00                       NaN  ...       2250.00           0.00\n",
              "50%    1073104639.00                       NaN  ...       3583.05           0.00\n",
              "75%    1610504577.00                       NaN  ...       5208.09           0.00\n",
              "max    2147454104.00                       NaN  ...    1877000.00           0.00\n",
              "\n",
              "[13 rows x 16 columns]"
            ]
          },
          "metadata": {
            "tags": []
          },
          "execution_count": 72
        }
      ]
    },
    {
      "cell_type": "markdown",
      "metadata": {
        "id": "6lPag8fPbCOj",
        "colab_type": "text"
      },
      "source": [
        "Interesante, todos los datos pertenecen a un país indeterminado.\n",
        "\n",
        "**Todos los datos de ese \"país\" no tienen dinero prometido?**"
      ]
    },
    {
      "cell_type": "code",
      "metadata": {
        "colab_type": "code",
        "id": "V1fJwrLFIXUW",
        "colab": {
          "base_uri": "https://localhost:8080/",
          "height": 68
        },
        "outputId": "6186fcda-81d7-4950-ea77-bc3e5341251f"
      },
      "source": [
        "kickstarter_2018[(kickstarter_2018.country == 'N,0\"') & ~(kickstarter_2018.usd_pledged.isnull())].head()"
      ],
      "execution_count": null,
      "outputs": [
        {
          "output_type": "execute_result",
          "data": {
            "text/html": [
              "<div>\n",
              "<style scoped>\n",
              "    .dataframe tbody tr th:only-of-type {\n",
              "        vertical-align: middle;\n",
              "    }\n",
              "\n",
              "    .dataframe tbody tr th {\n",
              "        vertical-align: top;\n",
              "    }\n",
              "\n",
              "    .dataframe thead th {\n",
              "        text-align: right;\n",
              "    }\n",
              "</style>\n",
              "<table border=\"1\" class=\"dataframe\">\n",
              "  <thead>\n",
              "    <tr style=\"text-align: right;\">\n",
              "      <th></th>\n",
              "      <th>ID</th>\n",
              "      <th>name</th>\n",
              "      <th>category</th>\n",
              "      <th>main_category</th>\n",
              "      <th>currency</th>\n",
              "      <th>deadline</th>\n",
              "      <th>goal</th>\n",
              "      <th>launched</th>\n",
              "      <th>pledged</th>\n",
              "      <th>state</th>\n",
              "      <th>backers</th>\n",
              "      <th>country</th>\n",
              "      <th>usd_pledged</th>\n",
              "      <th>usd_pledged_real</th>\n",
              "      <th>usd_goal_real</th>\n",
              "      <th>name_weirdness</th>\n",
              "    </tr>\n",
              "  </thead>\n",
              "  <tbody>\n",
              "  </tbody>\n",
              "</table>\n",
              "</div>"
            ],
            "text/plain": [
              "Empty DataFrame\n",
              "Columns: [ID, name, category, main_category, currency, deadline, goal, launched, pledged, state, backers, country, usd_pledged, usd_pledged_real, usd_goal_real, name_weirdness]\n",
              "Index: []"
            ]
          },
          "metadata": {
            "tags": []
          },
          "execution_count": 73
        }
      ]
    },
    {
      "cell_type": "markdown",
      "metadata": {
        "id": "oTeyQxBubCOm",
        "colab_type": "text"
      },
      "source": [
        "A priori como los proyectos no tienen patrocinantes, **completamos en 0 los valores**"
      ]
    },
    {
      "cell_type": "code",
      "metadata": {
        "colab_type": "code",
        "id": "GRx81S7wIXUX",
        "colab": {}
      },
      "source": [
        "kickstarter_2018 = kickstarter_2018.fillna(0)\n",
        "missing_values_count = kickstarter_2018.isnull().sum()\n",
        "missing_values_count[missing_values_count > 0]"
      ],
      "execution_count": null,
      "outputs": []
    },
    {
      "cell_type": "code",
      "metadata": {
        "id": "s83yUPF6bCOn",
        "colab_type": "code",
        "colab": {
          "base_uri": "https://localhost:8080/",
          "height": 34
        },
        "outputId": "fc5a9e63-dfed-4338-de2e-add5caa5d12b"
      },
      "source": [
        "kickstarter_2018.shape"
      ],
      "execution_count": null,
      "outputs": [
        {
          "output_type": "execute_result",
          "data": {
            "text/plain": [
              "(378657, 16)"
            ]
          },
          "metadata": {
            "tags": []
          },
          "execution_count": 75
        }
      ]
    },
    {
      "cell_type": "markdown",
      "metadata": {
        "colab_type": "text",
        "id": "kMX1NiqXIXUY"
      },
      "source": [
        "**Más métodos disponibles** en https://pandas.pydata.org/pandas-docs/stable/api.html#api-dataframe-missing y http://scikit-learn.org/stable/modules/classes.html#module-sklearn.preprocessing"
      ]
    },
    {
      "cell_type": "markdown",
      "metadata": {
        "colab_type": "text",
        "id": "wg5g7VivIXUY"
      },
      "source": [
        "## 2.3. Codificar variables\n",
        "\n",
        "Para trabajar con los algoritmos de aprendizaje automático, las variables categóricas estas deben ser codificadas como variables numéricas, no como cadenas.\n",
        "\n",
        "**Para esta tarea también hay diferentes estrategias, dos comunes son: asociar cadena a número y asociar cadena a columna.**"
      ]
    },
    {
      "cell_type": "code",
      "metadata": {
        "colab_type": "code",
        "id": "vSA_t4gkIXUY",
        "colab": {}
      },
      "source": [
        "from sklearn import preprocessing  # sklearn es un paquete para trabajar con inteligencia artificial: preprocesamiento y modelamiento."
      ],
      "execution_count": 132,
      "outputs": []
    },
    {
      "cell_type": "code",
      "metadata": {
        "colab_type": "code",
        "id": "64TDAVR9IXUZ",
        "colab": {
          "base_uri": "https://localhost:8080/",
          "height": 172
        },
        "outputId": "09b94ff4-c9ec-467d-e3f8-331eb99fc406"
      },
      "source": [
        "kickstarter_2018.describe(include=['O'])"
      ],
      "execution_count": 133,
      "outputs": [
        {
          "output_type": "execute_result",
          "data": {
            "text/html": [
              "<div>\n",
              "<style scoped>\n",
              "    .dataframe tbody tr th:only-of-type {\n",
              "        vertical-align: middle;\n",
              "    }\n",
              "\n",
              "    .dataframe tbody tr th {\n",
              "        vertical-align: top;\n",
              "    }\n",
              "\n",
              "    .dataframe thead th {\n",
              "        text-align: right;\n",
              "    }\n",
              "</style>\n",
              "<table border=\"1\" class=\"dataframe\">\n",
              "  <thead>\n",
              "    <tr style=\"text-align: right;\">\n",
              "      <th></th>\n",
              "      <th>name</th>\n",
              "      <th>category</th>\n",
              "      <th>main_category</th>\n",
              "      <th>state</th>\n",
              "      <th>country</th>\n",
              "    </tr>\n",
              "  </thead>\n",
              "  <tbody>\n",
              "    <tr>\n",
              "      <th>count</th>\n",
              "      <td>378657</td>\n",
              "      <td>378657</td>\n",
              "      <td>378657</td>\n",
              "      <td>378657</td>\n",
              "      <td>378657</td>\n",
              "    </tr>\n",
              "    <tr>\n",
              "      <th>unique</th>\n",
              "      <td>375764</td>\n",
              "      <td>159</td>\n",
              "      <td>15</td>\n",
              "      <td>6</td>\n",
              "      <td>23</td>\n",
              "    </tr>\n",
              "    <tr>\n",
              "      <th>top</th>\n",
              "      <td>New EP/Music Development</td>\n",
              "      <td>Product Design</td>\n",
              "      <td>Film &amp; Video</td>\n",
              "      <td>failed</td>\n",
              "      <td>US</td>\n",
              "    </tr>\n",
              "    <tr>\n",
              "      <th>freq</th>\n",
              "      <td>41</td>\n",
              "      <td>22313</td>\n",
              "      <td>63584</td>\n",
              "      <td>197716</td>\n",
              "      <td>292624</td>\n",
              "    </tr>\n",
              "  </tbody>\n",
              "</table>\n",
              "</div>"
            ],
            "text/plain": [
              "                            name        category main_category   state country\n",
              "count                     378657          378657        378657  378657  378657\n",
              "unique                    375764             159            15       6      23\n",
              "top     New EP/Music Development  Product Design  Film & Video  failed      US\n",
              "freq                          41           22313         63584  197716  292624"
            ]
          },
          "metadata": {
            "tags": []
          },
          "execution_count": 133
        }
      ]
    },
    {
      "cell_type": "code",
      "metadata": {
        "colab_type": "code",
        "id": "Furd8rzbIXUa",
        "colab": {
          "base_uri": "https://localhost:8080/",
          "height": 34
        },
        "outputId": "3a6c543f-fbd2-4c86-e837-980960751a7f"
      },
      "source": [
        "# opción 1: asociamos una cadena  a un número\n",
        "column='main_category'\n",
        "# Create a label (category) encoder object\n",
        "le = preprocessing.LabelEncoder()\n",
        "# Fit the encoder to the pandas column\n",
        "le.fit(kickstarter_2018[column])  # método fit"
      ],
      "execution_count": 134,
      "outputs": [
        {
          "output_type": "execute_result",
          "data": {
            "text/plain": [
              "LabelEncoder()"
            ]
          },
          "metadata": {
            "tags": []
          },
          "execution_count": 134
        }
      ]
    },
    {
      "cell_type": "code",
      "metadata": {
        "colab_type": "code",
        "id": "cit8woaJIXUb",
        "colab": {
          "base_uri": "https://localhost:8080/",
          "height": 281
        },
        "outputId": "de4e1102-c59d-4ff2-8955-ede111b8b3c1"
      },
      "source": [
        "# Conversión de clases a números\n",
        "# View encoder mapping\n",
        "dict(zip(le.classes_,le.transform(le.classes_)))   # genera un listado de clases asociados a un número   método transform"
      ],
      "execution_count": 135,
      "outputs": [
        {
          "output_type": "execute_result",
          "data": {
            "text/plain": [
              "{'Art': 0,\n",
              " 'Comics': 1,\n",
              " 'Crafts': 2,\n",
              " 'Dance': 3,\n",
              " 'Design': 4,\n",
              " 'Fashion': 5,\n",
              " 'Film & Video': 6,\n",
              " 'Food': 7,\n",
              " 'Games': 8,\n",
              " 'Journalism': 9,\n",
              " 'Music': 10,\n",
              " 'Photography': 11,\n",
              " 'Publishing': 12,\n",
              " 'Technology': 13,\n",
              " 'Theater': 14}"
            ]
          },
          "metadata": {
            "tags": []
          },
          "execution_count": 135
        }
      ]
    },
    {
      "cell_type": "markdown",
      "metadata": {
        "id": "qzxBbS2T9yZ7",
        "colab_type": "text"
      },
      "source": [
        "Vemos como se asocia, por ejemplo, la categoría 'Art' a '0', 'Comics' a '1' y así sucesivamente."
      ]
    },
    {
      "cell_type": "code",
      "metadata": {
        "colab_type": "code",
        "id": "ugnDG6WNIXUc",
        "colab": {
          "base_uri": "https://localhost:8080/",
          "height": 462
        },
        "outputId": "3aa0bb0b-1be8-4027-ee53-cebf1df7ed3a"
      },
      "source": [
        "# Aplica la transformación a toda la columna main_category\n",
        "# Apply the fitted encoder to the pandas column\n",
        "kickstarter_2018[column] = le.transform(kickstarter_2018[column])  # le aplica la transformación a toda la columna\n",
        "kickstarter_2018.head()"
      ],
      "execution_count": 136,
      "outputs": [
        {
          "output_type": "execute_result",
          "data": {
            "text/html": [
              "<div>\n",
              "<style scoped>\n",
              "    .dataframe tbody tr th:only-of-type {\n",
              "        vertical-align: middle;\n",
              "    }\n",
              "\n",
              "    .dataframe tbody tr th {\n",
              "        vertical-align: top;\n",
              "    }\n",
              "\n",
              "    .dataframe thead th {\n",
              "        text-align: right;\n",
              "    }\n",
              "</style>\n",
              "<table border=\"1\" class=\"dataframe\">\n",
              "  <thead>\n",
              "    <tr style=\"text-align: right;\">\n",
              "      <th></th>\n",
              "      <th>ID</th>\n",
              "      <th>name</th>\n",
              "      <th>category</th>\n",
              "      <th>main_category</th>\n",
              "      <th>currency</th>\n",
              "      <th>deadline</th>\n",
              "      <th>goal</th>\n",
              "      <th>launched</th>\n",
              "      <th>pledged</th>\n",
              "      <th>state</th>\n",
              "      <th>backers</th>\n",
              "      <th>country</th>\n",
              "      <th>usd_pledged</th>\n",
              "      <th>usd_pledged_real</th>\n",
              "      <th>usd_goal_real</th>\n",
              "      <th>name_weirdness</th>\n",
              "    </tr>\n",
              "  </thead>\n",
              "  <tbody>\n",
              "    <tr>\n",
              "      <th>0</th>\n",
              "      <td>1000002330</td>\n",
              "      <td>The Songs of Adelaide &amp; Abullah</td>\n",
              "      <td>Poetry</td>\n",
              "      <td>12</td>\n",
              "      <td>5</td>\n",
              "      <td>2015-10-09</td>\n",
              "      <td>1000.00</td>\n",
              "      <td>2015-08-11 12:12:28</td>\n",
              "      <td>0.00</td>\n",
              "      <td>failed</td>\n",
              "      <td>0</td>\n",
              "      <td>GB</td>\n",
              "      <td>0.00</td>\n",
              "      <td>0.00</td>\n",
              "      <td>1533.95</td>\n",
              "      <td>0</td>\n",
              "    </tr>\n",
              "    <tr>\n",
              "      <th>1</th>\n",
              "      <td>1000003930</td>\n",
              "      <td>Greeting From Earth: ZGAC Arts Capsule For ET</td>\n",
              "      <td>Narrative Film</td>\n",
              "      <td>6</td>\n",
              "      <td>13</td>\n",
              "      <td>2017-11-01</td>\n",
              "      <td>30000.00</td>\n",
              "      <td>2017-09-02 04:43:57</td>\n",
              "      <td>2421.00</td>\n",
              "      <td>failed</td>\n",
              "      <td>15</td>\n",
              "      <td>US</td>\n",
              "      <td>100.00</td>\n",
              "      <td>2421.00</td>\n",
              "      <td>30000.00</td>\n",
              "      <td>0</td>\n",
              "    </tr>\n",
              "    <tr>\n",
              "      <th>2</th>\n",
              "      <td>1000004038</td>\n",
              "      <td>Where is Hank?</td>\n",
              "      <td>Narrative Film</td>\n",
              "      <td>6</td>\n",
              "      <td>13</td>\n",
              "      <td>2013-02-26</td>\n",
              "      <td>45000.00</td>\n",
              "      <td>2013-01-12 00:20:50</td>\n",
              "      <td>220.00</td>\n",
              "      <td>failed</td>\n",
              "      <td>3</td>\n",
              "      <td>US</td>\n",
              "      <td>220.00</td>\n",
              "      <td>220.00</td>\n",
              "      <td>45000.00</td>\n",
              "      <td>0</td>\n",
              "    </tr>\n",
              "    <tr>\n",
              "      <th>3</th>\n",
              "      <td>1000007540</td>\n",
              "      <td>ToshiCapital Rekordz Needs Help to Complete Album</td>\n",
              "      <td>Music</td>\n",
              "      <td>10</td>\n",
              "      <td>13</td>\n",
              "      <td>2012-04-16</td>\n",
              "      <td>5000.00</td>\n",
              "      <td>2012-03-17 03:24:11</td>\n",
              "      <td>1.00</td>\n",
              "      <td>failed</td>\n",
              "      <td>1</td>\n",
              "      <td>US</td>\n",
              "      <td>1.00</td>\n",
              "      <td>1.00</td>\n",
              "      <td>5000.00</td>\n",
              "      <td>0</td>\n",
              "    </tr>\n",
              "    <tr>\n",
              "      <th>4</th>\n",
              "      <td>1000011046</td>\n",
              "      <td>Community Film Project: The Art of Neighborhoo...</td>\n",
              "      <td>Film &amp; Video</td>\n",
              "      <td>6</td>\n",
              "      <td>13</td>\n",
              "      <td>2015-08-29</td>\n",
              "      <td>19500.00</td>\n",
              "      <td>2015-07-04 08:35:03</td>\n",
              "      <td>1283.00</td>\n",
              "      <td>canceled</td>\n",
              "      <td>14</td>\n",
              "      <td>US</td>\n",
              "      <td>1283.00</td>\n",
              "      <td>1283.00</td>\n",
              "      <td>19500.00</td>\n",
              "      <td>0</td>\n",
              "    </tr>\n",
              "  </tbody>\n",
              "</table>\n",
              "</div>"
            ],
            "text/plain": [
              "           ID  ... name_weirdness\n",
              "0  1000002330  ...              0\n",
              "1  1000003930  ...              0\n",
              "2  1000004038  ...              0\n",
              "3  1000007540  ...              0\n",
              "4  1000011046  ...              0\n",
              "\n",
              "[5 rows x 16 columns]"
            ]
          },
          "metadata": {
            "tags": []
          },
          "execution_count": 136
        }
      ]
    },
    {
      "cell_type": "code",
      "metadata": {
        "colab_type": "code",
        "id": "04eBH7hoIXUd",
        "colab": {
          "base_uri": "https://localhost:8080/",
          "height": 462
        },
        "outputId": "f582d8fd-5071-4a45-de10-5b28f1015edd"
      },
      "source": [
        "# Inversa de la transformación\n",
        "# Reversing encoding\n",
        "kickstarter_2018[column] = le.inverse_transform(kickstarter_2018[column]) # transformación inversa de número a clases por si necesito volver a los datos originales\n",
        "kickstarter_2018.head()"
      ],
      "execution_count": 137,
      "outputs": [
        {
          "output_type": "execute_result",
          "data": {
            "text/html": [
              "<div>\n",
              "<style scoped>\n",
              "    .dataframe tbody tr th:only-of-type {\n",
              "        vertical-align: middle;\n",
              "    }\n",
              "\n",
              "    .dataframe tbody tr th {\n",
              "        vertical-align: top;\n",
              "    }\n",
              "\n",
              "    .dataframe thead th {\n",
              "        text-align: right;\n",
              "    }\n",
              "</style>\n",
              "<table border=\"1\" class=\"dataframe\">\n",
              "  <thead>\n",
              "    <tr style=\"text-align: right;\">\n",
              "      <th></th>\n",
              "      <th>ID</th>\n",
              "      <th>name</th>\n",
              "      <th>category</th>\n",
              "      <th>main_category</th>\n",
              "      <th>currency</th>\n",
              "      <th>deadline</th>\n",
              "      <th>goal</th>\n",
              "      <th>launched</th>\n",
              "      <th>pledged</th>\n",
              "      <th>state</th>\n",
              "      <th>backers</th>\n",
              "      <th>country</th>\n",
              "      <th>usd_pledged</th>\n",
              "      <th>usd_pledged_real</th>\n",
              "      <th>usd_goal_real</th>\n",
              "      <th>name_weirdness</th>\n",
              "    </tr>\n",
              "  </thead>\n",
              "  <tbody>\n",
              "    <tr>\n",
              "      <th>0</th>\n",
              "      <td>1000002330</td>\n",
              "      <td>The Songs of Adelaide &amp; Abullah</td>\n",
              "      <td>Poetry</td>\n",
              "      <td>Publishing</td>\n",
              "      <td>5</td>\n",
              "      <td>2015-10-09</td>\n",
              "      <td>1000.00</td>\n",
              "      <td>2015-08-11 12:12:28</td>\n",
              "      <td>0.00</td>\n",
              "      <td>failed</td>\n",
              "      <td>0</td>\n",
              "      <td>GB</td>\n",
              "      <td>0.00</td>\n",
              "      <td>0.00</td>\n",
              "      <td>1533.95</td>\n",
              "      <td>0</td>\n",
              "    </tr>\n",
              "    <tr>\n",
              "      <th>1</th>\n",
              "      <td>1000003930</td>\n",
              "      <td>Greeting From Earth: ZGAC Arts Capsule For ET</td>\n",
              "      <td>Narrative Film</td>\n",
              "      <td>Film &amp; Video</td>\n",
              "      <td>13</td>\n",
              "      <td>2017-11-01</td>\n",
              "      <td>30000.00</td>\n",
              "      <td>2017-09-02 04:43:57</td>\n",
              "      <td>2421.00</td>\n",
              "      <td>failed</td>\n",
              "      <td>15</td>\n",
              "      <td>US</td>\n",
              "      <td>100.00</td>\n",
              "      <td>2421.00</td>\n",
              "      <td>30000.00</td>\n",
              "      <td>0</td>\n",
              "    </tr>\n",
              "    <tr>\n",
              "      <th>2</th>\n",
              "      <td>1000004038</td>\n",
              "      <td>Where is Hank?</td>\n",
              "      <td>Narrative Film</td>\n",
              "      <td>Film &amp; Video</td>\n",
              "      <td>13</td>\n",
              "      <td>2013-02-26</td>\n",
              "      <td>45000.00</td>\n",
              "      <td>2013-01-12 00:20:50</td>\n",
              "      <td>220.00</td>\n",
              "      <td>failed</td>\n",
              "      <td>3</td>\n",
              "      <td>US</td>\n",
              "      <td>220.00</td>\n",
              "      <td>220.00</td>\n",
              "      <td>45000.00</td>\n",
              "      <td>0</td>\n",
              "    </tr>\n",
              "    <tr>\n",
              "      <th>3</th>\n",
              "      <td>1000007540</td>\n",
              "      <td>ToshiCapital Rekordz Needs Help to Complete Album</td>\n",
              "      <td>Music</td>\n",
              "      <td>Music</td>\n",
              "      <td>13</td>\n",
              "      <td>2012-04-16</td>\n",
              "      <td>5000.00</td>\n",
              "      <td>2012-03-17 03:24:11</td>\n",
              "      <td>1.00</td>\n",
              "      <td>failed</td>\n",
              "      <td>1</td>\n",
              "      <td>US</td>\n",
              "      <td>1.00</td>\n",
              "      <td>1.00</td>\n",
              "      <td>5000.00</td>\n",
              "      <td>0</td>\n",
              "    </tr>\n",
              "    <tr>\n",
              "      <th>4</th>\n",
              "      <td>1000011046</td>\n",
              "      <td>Community Film Project: The Art of Neighborhoo...</td>\n",
              "      <td>Film &amp; Video</td>\n",
              "      <td>Film &amp; Video</td>\n",
              "      <td>13</td>\n",
              "      <td>2015-08-29</td>\n",
              "      <td>19500.00</td>\n",
              "      <td>2015-07-04 08:35:03</td>\n",
              "      <td>1283.00</td>\n",
              "      <td>canceled</td>\n",
              "      <td>14</td>\n",
              "      <td>US</td>\n",
              "      <td>1283.00</td>\n",
              "      <td>1283.00</td>\n",
              "      <td>19500.00</td>\n",
              "      <td>0</td>\n",
              "    </tr>\n",
              "  </tbody>\n",
              "</table>\n",
              "</div>"
            ],
            "text/plain": [
              "           ID  ... name_weirdness\n",
              "0  1000002330  ...              0\n",
              "1  1000003930  ...              0\n",
              "2  1000004038  ...              0\n",
              "3  1000007540  ...              0\n",
              "4  1000011046  ...              0\n",
              "\n",
              "[5 rows x 16 columns]"
            ]
          },
          "metadata": {
            "tags": []
          },
          "execution_count": 137
        }
      ]
    },
    {
      "cell_type": "code",
      "metadata": {
        "colab_type": "code",
        "id": "CwNKqbgbIXUd",
        "colab": {
          "base_uri": "https://localhost:8080/",
          "height": 358
        },
        "outputId": "01939bde-8f35-4268-c532-f63c7066f8b6"
      },
      "source": [
        "# opción 2:\n",
        "from sklearn.preprocessing import LabelBinarizer\n",
        "other_column = 'state'\n",
        "\n",
        "lb = LabelBinarizer()\n",
        "\n",
        "lb_results = lb.fit_transform(kickstarter_2018[other_column])\n",
        "#pd.DataFrame(lb_results, columns=((other_column)  + pd.Series(lb.classes_))).head(10)\n",
        "pd.DataFrame(lb_results, columns=((other_column + '_') + pd.Series(lb.classes_))).head(10)"
      ],
      "execution_count": 138,
      "outputs": [
        {
          "output_type": "execute_result",
          "data": {
            "text/html": [
              "<div>\n",
              "<style scoped>\n",
              "    .dataframe tbody tr th:only-of-type {\n",
              "        vertical-align: middle;\n",
              "    }\n",
              "\n",
              "    .dataframe tbody tr th {\n",
              "        vertical-align: top;\n",
              "    }\n",
              "\n",
              "    .dataframe thead th {\n",
              "        text-align: right;\n",
              "    }\n",
              "</style>\n",
              "<table border=\"1\" class=\"dataframe\">\n",
              "  <thead>\n",
              "    <tr style=\"text-align: right;\">\n",
              "      <th></th>\n",
              "      <th>state_canceled</th>\n",
              "      <th>state_failed</th>\n",
              "      <th>state_live</th>\n",
              "      <th>state_successful</th>\n",
              "      <th>state_suspended</th>\n",
              "      <th>state_undefined</th>\n",
              "    </tr>\n",
              "  </thead>\n",
              "  <tbody>\n",
              "    <tr>\n",
              "      <th>0</th>\n",
              "      <td>0</td>\n",
              "      <td>1</td>\n",
              "      <td>0</td>\n",
              "      <td>0</td>\n",
              "      <td>0</td>\n",
              "      <td>0</td>\n",
              "    </tr>\n",
              "    <tr>\n",
              "      <th>1</th>\n",
              "      <td>0</td>\n",
              "      <td>1</td>\n",
              "      <td>0</td>\n",
              "      <td>0</td>\n",
              "      <td>0</td>\n",
              "      <td>0</td>\n",
              "    </tr>\n",
              "    <tr>\n",
              "      <th>2</th>\n",
              "      <td>0</td>\n",
              "      <td>1</td>\n",
              "      <td>0</td>\n",
              "      <td>0</td>\n",
              "      <td>0</td>\n",
              "      <td>0</td>\n",
              "    </tr>\n",
              "    <tr>\n",
              "      <th>3</th>\n",
              "      <td>0</td>\n",
              "      <td>1</td>\n",
              "      <td>0</td>\n",
              "      <td>0</td>\n",
              "      <td>0</td>\n",
              "      <td>0</td>\n",
              "    </tr>\n",
              "    <tr>\n",
              "      <th>4</th>\n",
              "      <td>1</td>\n",
              "      <td>0</td>\n",
              "      <td>0</td>\n",
              "      <td>0</td>\n",
              "      <td>0</td>\n",
              "      <td>0</td>\n",
              "    </tr>\n",
              "    <tr>\n",
              "      <th>5</th>\n",
              "      <td>0</td>\n",
              "      <td>0</td>\n",
              "      <td>0</td>\n",
              "      <td>1</td>\n",
              "      <td>0</td>\n",
              "      <td>0</td>\n",
              "    </tr>\n",
              "    <tr>\n",
              "      <th>6</th>\n",
              "      <td>0</td>\n",
              "      <td>0</td>\n",
              "      <td>0</td>\n",
              "      <td>1</td>\n",
              "      <td>0</td>\n",
              "      <td>0</td>\n",
              "    </tr>\n",
              "    <tr>\n",
              "      <th>7</th>\n",
              "      <td>0</td>\n",
              "      <td>1</td>\n",
              "      <td>0</td>\n",
              "      <td>0</td>\n",
              "      <td>0</td>\n",
              "      <td>0</td>\n",
              "    </tr>\n",
              "    <tr>\n",
              "      <th>8</th>\n",
              "      <td>1</td>\n",
              "      <td>0</td>\n",
              "      <td>0</td>\n",
              "      <td>0</td>\n",
              "      <td>0</td>\n",
              "      <td>0</td>\n",
              "    </tr>\n",
              "    <tr>\n",
              "      <th>9</th>\n",
              "      <td>1</td>\n",
              "      <td>0</td>\n",
              "      <td>0</td>\n",
              "      <td>0</td>\n",
              "      <td>0</td>\n",
              "      <td>0</td>\n",
              "    </tr>\n",
              "  </tbody>\n",
              "</table>\n",
              "</div>"
            ],
            "text/plain": [
              "   state_canceled  state_failed  ...  state_suspended  state_undefined\n",
              "0               0             1  ...                0                0\n",
              "1               0             1  ...                0                0\n",
              "2               0             1  ...                0                0\n",
              "3               0             1  ...                0                0\n",
              "4               1             0  ...                0                0\n",
              "5               0             0  ...                0                0\n",
              "6               0             0  ...                0                0\n",
              "7               0             1  ...                0                0\n",
              "8               1             0  ...                0                0\n",
              "9               1             0  ...                0                0\n",
              "\n",
              "[10 rows x 6 columns]"
            ]
          },
          "metadata": {
            "tags": []
          },
          "execution_count": 138
        }
      ]
    },
    {
      "cell_type": "markdown",
      "metadata": {
        "colab_type": "text",
        "id": "8N1YbkwSIXUe"
      },
      "source": [
        "More about preprocessing in http://scikit-learn.org/stable/modules/classes.html#module-sklearn.preprocessing"
      ]
    },
    {
      "cell_type": "markdown",
      "metadata": {
        "id": "ZVyKUU8LbCPC",
        "colab_type": "text"
      },
      "source": [
        "#### **Ejercicio 4 para entrega final**\n",
        "\n",
        "**Codificar `currency` con ambas estrategias**"
      ]
    },
    {
      "cell_type": "code",
      "metadata": {
        "id": "luW7uH8-6b5x",
        "colab_type": "code",
        "colab": {}
      },
      "source": [
        "from sklearn import preprocessing "
      ],
      "execution_count": 139,
      "outputs": []
    },
    {
      "cell_type": "code",
      "metadata": {
        "id": "eA2Vpkfz6cgC",
        "colab_type": "code",
        "colab": {
          "base_uri": "https://localhost:8080/",
          "height": 172
        },
        "outputId": "673fe213-88ca-4b48-9166-ed78d40f64fa"
      },
      "source": [
        "kickstarter_2018.describe(include=['object']) # campos que sean string, es lo mismo que  kickstarter_2018.describe(include=['O'])"
      ],
      "execution_count": 140,
      "outputs": [
        {
          "output_type": "execute_result",
          "data": {
            "text/html": [
              "<div>\n",
              "<style scoped>\n",
              "    .dataframe tbody tr th:only-of-type {\n",
              "        vertical-align: middle;\n",
              "    }\n",
              "\n",
              "    .dataframe tbody tr th {\n",
              "        vertical-align: top;\n",
              "    }\n",
              "\n",
              "    .dataframe thead th {\n",
              "        text-align: right;\n",
              "    }\n",
              "</style>\n",
              "<table border=\"1\" class=\"dataframe\">\n",
              "  <thead>\n",
              "    <tr style=\"text-align: right;\">\n",
              "      <th></th>\n",
              "      <th>name</th>\n",
              "      <th>category</th>\n",
              "      <th>main_category</th>\n",
              "      <th>state</th>\n",
              "      <th>country</th>\n",
              "    </tr>\n",
              "  </thead>\n",
              "  <tbody>\n",
              "    <tr>\n",
              "      <th>count</th>\n",
              "      <td>378657</td>\n",
              "      <td>378657</td>\n",
              "      <td>378657</td>\n",
              "      <td>378657</td>\n",
              "      <td>378657</td>\n",
              "    </tr>\n",
              "    <tr>\n",
              "      <th>unique</th>\n",
              "      <td>375764</td>\n",
              "      <td>159</td>\n",
              "      <td>15</td>\n",
              "      <td>6</td>\n",
              "      <td>23</td>\n",
              "    </tr>\n",
              "    <tr>\n",
              "      <th>top</th>\n",
              "      <td>New EP/Music Development</td>\n",
              "      <td>Product Design</td>\n",
              "      <td>Film &amp; Video</td>\n",
              "      <td>failed</td>\n",
              "      <td>US</td>\n",
              "    </tr>\n",
              "    <tr>\n",
              "      <th>freq</th>\n",
              "      <td>41</td>\n",
              "      <td>22313</td>\n",
              "      <td>63584</td>\n",
              "      <td>197716</td>\n",
              "      <td>292624</td>\n",
              "    </tr>\n",
              "  </tbody>\n",
              "</table>\n",
              "</div>"
            ],
            "text/plain": [
              "                            name        category main_category   state country\n",
              "count                     378657          378657        378657  378657  378657\n",
              "unique                    375764             159            15       6      23\n",
              "top     New EP/Music Development  Product Design  Film & Video  failed      US\n",
              "freq                          41           22313         63584  197716  292624"
            ]
          },
          "metadata": {
            "tags": []
          },
          "execution_count": 140
        }
      ]
    },
    {
      "cell_type": "code",
      "metadata": {
        "id": "-C8u7zh86c4V",
        "colab_type": "code",
        "colab": {
          "base_uri": "https://localhost:8080/",
          "height": 52
        },
        "outputId": "2bd7d649-40e2-4bee-aa5c-13c4a4313986"
      },
      "source": [
        "# opción 1: asociamos una cadena  a un número\n",
        "column2='currency'\n",
        "print(column2)\n",
        "# Create a label (category) encoder object\n",
        "le_currency = preprocessing.LabelEncoder()\n",
        "# Fit the encoder to the pandas column\n",
        "le_currency.fit(kickstarter_2018[column2])\n"
      ],
      "execution_count": 148,
      "outputs": [
        {
          "output_type": "stream",
          "text": [
            "currency\n"
          ],
          "name": "stdout"
        },
        {
          "output_type": "execute_result",
          "data": {
            "text/plain": [
              "LabelEncoder()"
            ]
          },
          "metadata": {
            "tags": []
          },
          "execution_count": 148
        }
      ]
    },
    {
      "cell_type": "code",
      "metadata": {
        "id": "6T5acJZO8btY",
        "colab_type": "code",
        "colab": {
          "base_uri": "https://localhost:8080/",
          "height": 263
        },
        "outputId": "0324b07b-6a07-4290-900e-98651f83887c"
      },
      "source": [
        "# View encoder mapping\n",
        "dict(zip(le_currency.classes_,le_currency.transform(le_currency.classes_)))   # genera un listado de clases asociados a un número"
      ],
      "execution_count": 154,
      "outputs": [
        {
          "output_type": "execute_result",
          "data": {
            "text/plain": [
              "{0: 0,\n",
              " 1: 1,\n",
              " 2: 2,\n",
              " 3: 3,\n",
              " 4: 4,\n",
              " 5: 5,\n",
              " 6: 6,\n",
              " 7: 7,\n",
              " 8: 8,\n",
              " 9: 9,\n",
              " 10: 10,\n",
              " 11: 11,\n",
              " 12: 12,\n",
              " 13: 13}"
            ]
          },
          "metadata": {
            "tags": []
          },
          "execution_count": 154
        }
      ]
    },
    {
      "cell_type": "code",
      "metadata": {
        "id": "PgCWHDcl8w7U",
        "colab_type": "code",
        "colab": {
          "base_uri": "https://localhost:8080/",
          "height": 438
        },
        "outputId": "db8bc4fe-a22a-4ef3-c4fd-79c804dc992a"
      },
      "source": [
        "# Apply the fitted encoder to the pandas column\n",
        "kickstarter_2018[column2] = le_currency.transform(kickstarter_2018[column2])  # le aplica la transformación a toda la columna\n",
        "kickstarter_2018.head()"
      ],
      "execution_count": 153,
      "outputs": [
        {
          "output_type": "error",
          "ename": "ValueError",
          "evalue": "ignored",
          "traceback": [
            "\u001b[0;31m---------------------------------------------------------------------------\u001b[0m",
            "\u001b[0;31mKeyError\u001b[0m                                  Traceback (most recent call last)",
            "\u001b[0;32m/usr/local/lib/python3.6/dist-packages/sklearn/preprocessing/_label.py\u001b[0m in \u001b[0;36m_encode_python\u001b[0;34m(values, uniques, encode)\u001b[0m\n\u001b[1;32m     64\u001b[0m         \u001b[0;32mtry\u001b[0m\u001b[0;34m:\u001b[0m\u001b[0;34m\u001b[0m\u001b[0;34m\u001b[0m\u001b[0m\n\u001b[0;32m---> 65\u001b[0;31m             \u001b[0mencoded\u001b[0m \u001b[0;34m=\u001b[0m \u001b[0mnp\u001b[0m\u001b[0;34m.\u001b[0m\u001b[0marray\u001b[0m\u001b[0;34m(\u001b[0m\u001b[0;34m[\u001b[0m\u001b[0mtable\u001b[0m\u001b[0;34m[\u001b[0m\u001b[0mv\u001b[0m\u001b[0;34m]\u001b[0m \u001b[0;32mfor\u001b[0m \u001b[0mv\u001b[0m \u001b[0;32min\u001b[0m \u001b[0mvalues\u001b[0m\u001b[0;34m]\u001b[0m\u001b[0;34m)\u001b[0m\u001b[0;34m\u001b[0m\u001b[0;34m\u001b[0m\u001b[0m\n\u001b[0m\u001b[1;32m     66\u001b[0m         \u001b[0;32mexcept\u001b[0m \u001b[0mKeyError\u001b[0m \u001b[0;32mas\u001b[0m \u001b[0me\u001b[0m\u001b[0;34m:\u001b[0m\u001b[0;34m\u001b[0m\u001b[0;34m\u001b[0m\u001b[0m\n",
            "\u001b[0;32m/usr/local/lib/python3.6/dist-packages/sklearn/preprocessing/_label.py\u001b[0m in \u001b[0;36m<listcomp>\u001b[0;34m(.0)\u001b[0m\n\u001b[1;32m     64\u001b[0m         \u001b[0;32mtry\u001b[0m\u001b[0;34m:\u001b[0m\u001b[0;34m\u001b[0m\u001b[0;34m\u001b[0m\u001b[0m\n\u001b[0;32m---> 65\u001b[0;31m             \u001b[0mencoded\u001b[0m \u001b[0;34m=\u001b[0m \u001b[0mnp\u001b[0m\u001b[0;34m.\u001b[0m\u001b[0marray\u001b[0m\u001b[0;34m(\u001b[0m\u001b[0;34m[\u001b[0m\u001b[0mtable\u001b[0m\u001b[0;34m[\u001b[0m\u001b[0mv\u001b[0m\u001b[0;34m]\u001b[0m \u001b[0;32mfor\u001b[0m \u001b[0mv\u001b[0m \u001b[0;32min\u001b[0m \u001b[0mvalues\u001b[0m\u001b[0;34m]\u001b[0m\u001b[0;34m)\u001b[0m\u001b[0;34m\u001b[0m\u001b[0;34m\u001b[0m\u001b[0m\n\u001b[0m\u001b[1;32m     66\u001b[0m         \u001b[0;32mexcept\u001b[0m \u001b[0mKeyError\u001b[0m \u001b[0;32mas\u001b[0m \u001b[0me\u001b[0m\u001b[0;34m:\u001b[0m\u001b[0;34m\u001b[0m\u001b[0;34m\u001b[0m\u001b[0m\n",
            "\u001b[0;31mKeyError\u001b[0m: 'Fashion'",
            "\nDuring handling of the above exception, another exception occurred:\n",
            "\u001b[0;31mValueError\u001b[0m                                Traceback (most recent call last)",
            "\u001b[0;32m<ipython-input-153-17a89df1727e>\u001b[0m in \u001b[0;36m<module>\u001b[0;34m()\u001b[0m\n\u001b[1;32m      1\u001b[0m \u001b[0;31m# Apply the fitted encoder to the pandas column\u001b[0m\u001b[0;34m\u001b[0m\u001b[0;34m\u001b[0m\u001b[0;34m\u001b[0m\u001b[0m\n\u001b[0;32m----> 2\u001b[0;31m \u001b[0mkickstarter_2018\u001b[0m\u001b[0;34m[\u001b[0m\u001b[0mcolumn2\u001b[0m\u001b[0;34m]\u001b[0m \u001b[0;34m=\u001b[0m \u001b[0mle_currency\u001b[0m\u001b[0;34m.\u001b[0m\u001b[0mtransform\u001b[0m\u001b[0;34m(\u001b[0m\u001b[0mkickstarter_2018\u001b[0m\u001b[0;34m[\u001b[0m\u001b[0mcolumn2\u001b[0m\u001b[0;34m]\u001b[0m\u001b[0;34m)\u001b[0m  \u001b[0;31m# le aplica la transformación a toda la columna\u001b[0m\u001b[0;34m\u001b[0m\u001b[0;34m\u001b[0m\u001b[0m\n\u001b[0m\u001b[1;32m      3\u001b[0m \u001b[0mkickstarter_2018\u001b[0m\u001b[0;34m.\u001b[0m\u001b[0mhead\u001b[0m\u001b[0;34m(\u001b[0m\u001b[0;34m)\u001b[0m\u001b[0;34m\u001b[0m\u001b[0;34m\u001b[0m\u001b[0m\n",
            "\u001b[0;32m/usr/local/lib/python3.6/dist-packages/sklearn/preprocessing/_label.py\u001b[0m in \u001b[0;36mtransform\u001b[0;34m(self, y)\u001b[0m\n\u001b[1;32m    271\u001b[0m             \u001b[0;32mreturn\u001b[0m \u001b[0mnp\u001b[0m\u001b[0;34m.\u001b[0m\u001b[0marray\u001b[0m\u001b[0;34m(\u001b[0m\u001b[0;34m[\u001b[0m\u001b[0;34m]\u001b[0m\u001b[0;34m)\u001b[0m\u001b[0;34m\u001b[0m\u001b[0;34m\u001b[0m\u001b[0m\n\u001b[1;32m    272\u001b[0m \u001b[0;34m\u001b[0m\u001b[0m\n\u001b[0;32m--> 273\u001b[0;31m         \u001b[0m_\u001b[0m\u001b[0;34m,\u001b[0m \u001b[0my\u001b[0m \u001b[0;34m=\u001b[0m \u001b[0m_encode\u001b[0m\u001b[0;34m(\u001b[0m\u001b[0my\u001b[0m\u001b[0;34m,\u001b[0m \u001b[0muniques\u001b[0m\u001b[0;34m=\u001b[0m\u001b[0mself\u001b[0m\u001b[0;34m.\u001b[0m\u001b[0mclasses_\u001b[0m\u001b[0;34m,\u001b[0m \u001b[0mencode\u001b[0m\u001b[0;34m=\u001b[0m\u001b[0;32mTrue\u001b[0m\u001b[0;34m)\u001b[0m\u001b[0;34m\u001b[0m\u001b[0;34m\u001b[0m\u001b[0m\n\u001b[0m\u001b[1;32m    274\u001b[0m         \u001b[0;32mreturn\u001b[0m \u001b[0my\u001b[0m\u001b[0;34m\u001b[0m\u001b[0;34m\u001b[0m\u001b[0m\n\u001b[1;32m    275\u001b[0m \u001b[0;34m\u001b[0m\u001b[0m\n",
            "\u001b[0;32m/usr/local/lib/python3.6/dist-packages/sklearn/preprocessing/_label.py\u001b[0m in \u001b[0;36m_encode\u001b[0;34m(values, uniques, encode, check_unknown)\u001b[0m\n\u001b[1;32m    110\u001b[0m     \u001b[0;32mif\u001b[0m \u001b[0mvalues\u001b[0m\u001b[0;34m.\u001b[0m\u001b[0mdtype\u001b[0m \u001b[0;34m==\u001b[0m \u001b[0mobject\u001b[0m\u001b[0;34m:\u001b[0m\u001b[0;34m\u001b[0m\u001b[0;34m\u001b[0m\u001b[0m\n\u001b[1;32m    111\u001b[0m         \u001b[0;32mtry\u001b[0m\u001b[0;34m:\u001b[0m\u001b[0;34m\u001b[0m\u001b[0;34m\u001b[0m\u001b[0m\n\u001b[0;32m--> 112\u001b[0;31m             \u001b[0mres\u001b[0m \u001b[0;34m=\u001b[0m \u001b[0m_encode_python\u001b[0m\u001b[0;34m(\u001b[0m\u001b[0mvalues\u001b[0m\u001b[0;34m,\u001b[0m \u001b[0muniques\u001b[0m\u001b[0;34m,\u001b[0m \u001b[0mencode\u001b[0m\u001b[0;34m)\u001b[0m\u001b[0;34m\u001b[0m\u001b[0;34m\u001b[0m\u001b[0m\n\u001b[0m\u001b[1;32m    113\u001b[0m         \u001b[0;32mexcept\u001b[0m \u001b[0mTypeError\u001b[0m\u001b[0;34m:\u001b[0m\u001b[0;34m\u001b[0m\u001b[0;34m\u001b[0m\u001b[0m\n\u001b[1;32m    114\u001b[0m             \u001b[0;32mraise\u001b[0m \u001b[0mTypeError\u001b[0m\u001b[0;34m(\u001b[0m\u001b[0;34m\"argument must be a string or number\"\u001b[0m\u001b[0;34m)\u001b[0m\u001b[0;34m\u001b[0m\u001b[0;34m\u001b[0m\u001b[0m\n",
            "\u001b[0;32m/usr/local/lib/python3.6/dist-packages/sklearn/preprocessing/_label.py\u001b[0m in \u001b[0;36m_encode_python\u001b[0;34m(values, uniques, encode)\u001b[0m\n\u001b[1;32m     66\u001b[0m         \u001b[0;32mexcept\u001b[0m \u001b[0mKeyError\u001b[0m \u001b[0;32mas\u001b[0m \u001b[0me\u001b[0m\u001b[0;34m:\u001b[0m\u001b[0;34m\u001b[0m\u001b[0;34m\u001b[0m\u001b[0m\n\u001b[1;32m     67\u001b[0m             raise ValueError(\"y contains previously unseen labels: %s\"\n\u001b[0;32m---> 68\u001b[0;31m                              % str(e))\n\u001b[0m\u001b[1;32m     69\u001b[0m         \u001b[0;32mreturn\u001b[0m \u001b[0muniques\u001b[0m\u001b[0;34m,\u001b[0m \u001b[0mencoded\u001b[0m\u001b[0;34m\u001b[0m\u001b[0;34m\u001b[0m\u001b[0m\n\u001b[1;32m     70\u001b[0m     \u001b[0;32melse\u001b[0m\u001b[0;34m:\u001b[0m\u001b[0;34m\u001b[0m\u001b[0;34m\u001b[0m\u001b[0m\n",
            "\u001b[0;31mValueError\u001b[0m: y contains previously unseen labels: 'Fashion'"
          ]
        }
      ]
    },
    {
      "cell_type": "code",
      "metadata": {
        "id": "tp0IweJZ9g52",
        "colab_type": "code",
        "colab": {
          "base_uri": "https://localhost:8080/",
          "height": 462
        },
        "outputId": "49a3e41c-a751-4695-baa0-0eaec6b02ca3"
      },
      "source": [
        "# Reversing encoding\n",
        "kickstarter_2018[column2] = le.inverse_transform(kickstarter_2018[column2]) # transformación inversa de número a clases\n",
        "kickstarter_2018.head()"
      ],
      "execution_count": 151,
      "outputs": [
        {
          "output_type": "execute_result",
          "data": {
            "text/html": [
              "<div>\n",
              "<style scoped>\n",
              "    .dataframe tbody tr th:only-of-type {\n",
              "        vertical-align: middle;\n",
              "    }\n",
              "\n",
              "    .dataframe tbody tr th {\n",
              "        vertical-align: top;\n",
              "    }\n",
              "\n",
              "    .dataframe thead th {\n",
              "        text-align: right;\n",
              "    }\n",
              "</style>\n",
              "<table border=\"1\" class=\"dataframe\">\n",
              "  <thead>\n",
              "    <tr style=\"text-align: right;\">\n",
              "      <th></th>\n",
              "      <th>ID</th>\n",
              "      <th>name</th>\n",
              "      <th>category</th>\n",
              "      <th>main_category</th>\n",
              "      <th>currency</th>\n",
              "      <th>deadline</th>\n",
              "      <th>goal</th>\n",
              "      <th>launched</th>\n",
              "      <th>pledged</th>\n",
              "      <th>state</th>\n",
              "      <th>backers</th>\n",
              "      <th>country</th>\n",
              "      <th>usd_pledged</th>\n",
              "      <th>usd_pledged_real</th>\n",
              "      <th>usd_goal_real</th>\n",
              "      <th>name_weirdness</th>\n",
              "    </tr>\n",
              "  </thead>\n",
              "  <tbody>\n",
              "    <tr>\n",
              "      <th>0</th>\n",
              "      <td>1000002330</td>\n",
              "      <td>The Songs of Adelaide &amp; Abullah</td>\n",
              "      <td>Poetry</td>\n",
              "      <td>Publishing</td>\n",
              "      <td>Fashion</td>\n",
              "      <td>2015-10-09</td>\n",
              "      <td>1000.00</td>\n",
              "      <td>2015-08-11 12:12:28</td>\n",
              "      <td>0.00</td>\n",
              "      <td>failed</td>\n",
              "      <td>0</td>\n",
              "      <td>GB</td>\n",
              "      <td>0.00</td>\n",
              "      <td>0.00</td>\n",
              "      <td>1533.95</td>\n",
              "      <td>0</td>\n",
              "    </tr>\n",
              "    <tr>\n",
              "      <th>1</th>\n",
              "      <td>1000003930</td>\n",
              "      <td>Greeting From Earth: ZGAC Arts Capsule For ET</td>\n",
              "      <td>Narrative Film</td>\n",
              "      <td>Film &amp; Video</td>\n",
              "      <td>Technology</td>\n",
              "      <td>2017-11-01</td>\n",
              "      <td>30000.00</td>\n",
              "      <td>2017-09-02 04:43:57</td>\n",
              "      <td>2421.00</td>\n",
              "      <td>failed</td>\n",
              "      <td>15</td>\n",
              "      <td>US</td>\n",
              "      <td>100.00</td>\n",
              "      <td>2421.00</td>\n",
              "      <td>30000.00</td>\n",
              "      <td>0</td>\n",
              "    </tr>\n",
              "    <tr>\n",
              "      <th>2</th>\n",
              "      <td>1000004038</td>\n",
              "      <td>Where is Hank?</td>\n",
              "      <td>Narrative Film</td>\n",
              "      <td>Film &amp; Video</td>\n",
              "      <td>Technology</td>\n",
              "      <td>2013-02-26</td>\n",
              "      <td>45000.00</td>\n",
              "      <td>2013-01-12 00:20:50</td>\n",
              "      <td>220.00</td>\n",
              "      <td>failed</td>\n",
              "      <td>3</td>\n",
              "      <td>US</td>\n",
              "      <td>220.00</td>\n",
              "      <td>220.00</td>\n",
              "      <td>45000.00</td>\n",
              "      <td>0</td>\n",
              "    </tr>\n",
              "    <tr>\n",
              "      <th>3</th>\n",
              "      <td>1000007540</td>\n",
              "      <td>ToshiCapital Rekordz Needs Help to Complete Album</td>\n",
              "      <td>Music</td>\n",
              "      <td>Music</td>\n",
              "      <td>Technology</td>\n",
              "      <td>2012-04-16</td>\n",
              "      <td>5000.00</td>\n",
              "      <td>2012-03-17 03:24:11</td>\n",
              "      <td>1.00</td>\n",
              "      <td>failed</td>\n",
              "      <td>1</td>\n",
              "      <td>US</td>\n",
              "      <td>1.00</td>\n",
              "      <td>1.00</td>\n",
              "      <td>5000.00</td>\n",
              "      <td>0</td>\n",
              "    </tr>\n",
              "    <tr>\n",
              "      <th>4</th>\n",
              "      <td>1000011046</td>\n",
              "      <td>Community Film Project: The Art of Neighborhoo...</td>\n",
              "      <td>Film &amp; Video</td>\n",
              "      <td>Film &amp; Video</td>\n",
              "      <td>Technology</td>\n",
              "      <td>2015-08-29</td>\n",
              "      <td>19500.00</td>\n",
              "      <td>2015-07-04 08:35:03</td>\n",
              "      <td>1283.00</td>\n",
              "      <td>canceled</td>\n",
              "      <td>14</td>\n",
              "      <td>US</td>\n",
              "      <td>1283.00</td>\n",
              "      <td>1283.00</td>\n",
              "      <td>19500.00</td>\n",
              "      <td>0</td>\n",
              "    </tr>\n",
              "  </tbody>\n",
              "</table>\n",
              "</div>"
            ],
            "text/plain": [
              "           ID  ... name_weirdness\n",
              "0  1000002330  ...              0\n",
              "1  1000003930  ...              0\n",
              "2  1000004038  ...              0\n",
              "3  1000007540  ...              0\n",
              "4  1000011046  ...              0\n",
              "\n",
              "[5 rows x 16 columns]"
            ]
          },
          "metadata": {
            "tags": []
          },
          "execution_count": 151
        }
      ]
    },
    {
      "cell_type": "markdown",
      "metadata": {
        "id": "lA_CdvTW_YaV",
        "colab_type": "text"
      },
      "source": [
        "### Aplicar la opción 2 con currency"
      ]
    },
    {
      "cell_type": "code",
      "metadata": {
        "id": "mbY3CNhdJzVo",
        "colab_type": "code",
        "colab": {}
      },
      "source": [
        "# opción 2:\n",
        "from sklearn.preprocessing import LabelBinarizer\n",
        "other_column2 = 'currency'\n",
        "lb2 = LabelBinarizer()\n",
        "#lb2"
      ],
      "execution_count": 156,
      "outputs": []
    },
    {
      "cell_type": "code",
      "metadata": {
        "id": "AorYmqlE_YFQ",
        "colab_type": "code",
        "colab": {
          "base_uri": "https://localhost:8080/",
          "height": 395
        },
        "outputId": "095d58fd-04c4-43c1-b709-b00a0f87b1ce"
      },
      "source": [
        "lb_result_currency = lb2.fit_transform(kickstarter_2018[other_column2])\n",
        "pd.DataFrame(lb_result_currency, columns=((other_column2 + '_') + pd.Series(lb2.classes_))).head(10)"
      ],
      "execution_count": 157,
      "outputs": [
        {
          "output_type": "execute_result",
          "data": {
            "text/html": [
              "<div>\n",
              "<style scoped>\n",
              "    .dataframe tbody tr th:only-of-type {\n",
              "        vertical-align: middle;\n",
              "    }\n",
              "\n",
              "    .dataframe tbody tr th {\n",
              "        vertical-align: top;\n",
              "    }\n",
              "\n",
              "    .dataframe thead th {\n",
              "        text-align: right;\n",
              "    }\n",
              "</style>\n",
              "<table border=\"1\" class=\"dataframe\">\n",
              "  <thead>\n",
              "    <tr style=\"text-align: right;\">\n",
              "      <th></th>\n",
              "      <th>currency_Art</th>\n",
              "      <th>currency_Comics</th>\n",
              "      <th>currency_Crafts</th>\n",
              "      <th>currency_Dance</th>\n",
              "      <th>currency_Design</th>\n",
              "      <th>currency_Fashion</th>\n",
              "      <th>currency_Film &amp; Video</th>\n",
              "      <th>currency_Food</th>\n",
              "      <th>currency_Games</th>\n",
              "      <th>currency_Journalism</th>\n",
              "      <th>currency_Music</th>\n",
              "      <th>currency_Photography</th>\n",
              "      <th>currency_Publishing</th>\n",
              "      <th>currency_Technology</th>\n",
              "    </tr>\n",
              "  </thead>\n",
              "  <tbody>\n",
              "    <tr>\n",
              "      <th>0</th>\n",
              "      <td>0</td>\n",
              "      <td>0</td>\n",
              "      <td>0</td>\n",
              "      <td>0</td>\n",
              "      <td>0</td>\n",
              "      <td>1</td>\n",
              "      <td>0</td>\n",
              "      <td>0</td>\n",
              "      <td>0</td>\n",
              "      <td>0</td>\n",
              "      <td>0</td>\n",
              "      <td>0</td>\n",
              "      <td>0</td>\n",
              "      <td>0</td>\n",
              "    </tr>\n",
              "    <tr>\n",
              "      <th>1</th>\n",
              "      <td>0</td>\n",
              "      <td>0</td>\n",
              "      <td>0</td>\n",
              "      <td>0</td>\n",
              "      <td>0</td>\n",
              "      <td>0</td>\n",
              "      <td>0</td>\n",
              "      <td>0</td>\n",
              "      <td>0</td>\n",
              "      <td>0</td>\n",
              "      <td>0</td>\n",
              "      <td>0</td>\n",
              "      <td>0</td>\n",
              "      <td>1</td>\n",
              "    </tr>\n",
              "    <tr>\n",
              "      <th>2</th>\n",
              "      <td>0</td>\n",
              "      <td>0</td>\n",
              "      <td>0</td>\n",
              "      <td>0</td>\n",
              "      <td>0</td>\n",
              "      <td>0</td>\n",
              "      <td>0</td>\n",
              "      <td>0</td>\n",
              "      <td>0</td>\n",
              "      <td>0</td>\n",
              "      <td>0</td>\n",
              "      <td>0</td>\n",
              "      <td>0</td>\n",
              "      <td>1</td>\n",
              "    </tr>\n",
              "    <tr>\n",
              "      <th>3</th>\n",
              "      <td>0</td>\n",
              "      <td>0</td>\n",
              "      <td>0</td>\n",
              "      <td>0</td>\n",
              "      <td>0</td>\n",
              "      <td>0</td>\n",
              "      <td>0</td>\n",
              "      <td>0</td>\n",
              "      <td>0</td>\n",
              "      <td>0</td>\n",
              "      <td>0</td>\n",
              "      <td>0</td>\n",
              "      <td>0</td>\n",
              "      <td>1</td>\n",
              "    </tr>\n",
              "    <tr>\n",
              "      <th>4</th>\n",
              "      <td>0</td>\n",
              "      <td>0</td>\n",
              "      <td>0</td>\n",
              "      <td>0</td>\n",
              "      <td>0</td>\n",
              "      <td>0</td>\n",
              "      <td>0</td>\n",
              "      <td>0</td>\n",
              "      <td>0</td>\n",
              "      <td>0</td>\n",
              "      <td>0</td>\n",
              "      <td>0</td>\n",
              "      <td>0</td>\n",
              "      <td>1</td>\n",
              "    </tr>\n",
              "    <tr>\n",
              "      <th>5</th>\n",
              "      <td>0</td>\n",
              "      <td>0</td>\n",
              "      <td>0</td>\n",
              "      <td>0</td>\n",
              "      <td>0</td>\n",
              "      <td>0</td>\n",
              "      <td>0</td>\n",
              "      <td>0</td>\n",
              "      <td>0</td>\n",
              "      <td>0</td>\n",
              "      <td>0</td>\n",
              "      <td>0</td>\n",
              "      <td>0</td>\n",
              "      <td>1</td>\n",
              "    </tr>\n",
              "    <tr>\n",
              "      <th>6</th>\n",
              "      <td>0</td>\n",
              "      <td>0</td>\n",
              "      <td>0</td>\n",
              "      <td>0</td>\n",
              "      <td>0</td>\n",
              "      <td>0</td>\n",
              "      <td>0</td>\n",
              "      <td>0</td>\n",
              "      <td>0</td>\n",
              "      <td>0</td>\n",
              "      <td>0</td>\n",
              "      <td>0</td>\n",
              "      <td>0</td>\n",
              "      <td>1</td>\n",
              "    </tr>\n",
              "    <tr>\n",
              "      <th>7</th>\n",
              "      <td>0</td>\n",
              "      <td>0</td>\n",
              "      <td>0</td>\n",
              "      <td>0</td>\n",
              "      <td>0</td>\n",
              "      <td>0</td>\n",
              "      <td>0</td>\n",
              "      <td>0</td>\n",
              "      <td>0</td>\n",
              "      <td>0</td>\n",
              "      <td>0</td>\n",
              "      <td>0</td>\n",
              "      <td>0</td>\n",
              "      <td>1</td>\n",
              "    </tr>\n",
              "    <tr>\n",
              "      <th>8</th>\n",
              "      <td>0</td>\n",
              "      <td>0</td>\n",
              "      <td>0</td>\n",
              "      <td>0</td>\n",
              "      <td>0</td>\n",
              "      <td>0</td>\n",
              "      <td>0</td>\n",
              "      <td>0</td>\n",
              "      <td>0</td>\n",
              "      <td>0</td>\n",
              "      <td>0</td>\n",
              "      <td>0</td>\n",
              "      <td>0</td>\n",
              "      <td>1</td>\n",
              "    </tr>\n",
              "    <tr>\n",
              "      <th>9</th>\n",
              "      <td>0</td>\n",
              "      <td>0</td>\n",
              "      <td>0</td>\n",
              "      <td>0</td>\n",
              "      <td>0</td>\n",
              "      <td>0</td>\n",
              "      <td>0</td>\n",
              "      <td>0</td>\n",
              "      <td>0</td>\n",
              "      <td>0</td>\n",
              "      <td>0</td>\n",
              "      <td>0</td>\n",
              "      <td>0</td>\n",
              "      <td>1</td>\n",
              "    </tr>\n",
              "  </tbody>\n",
              "</table>\n",
              "</div>"
            ],
            "text/plain": [
              "   currency_Art  currency_Comics  ...  currency_Publishing  currency_Technology\n",
              "0             0                0  ...                    0                    0\n",
              "1             0                0  ...                    0                    1\n",
              "2             0                0  ...                    0                    1\n",
              "3             0                0  ...                    0                    1\n",
              "4             0                0  ...                    0                    1\n",
              "5             0                0  ...                    0                    1\n",
              "6             0                0  ...                    0                    1\n",
              "7             0                0  ...                    0                    1\n",
              "8             0                0  ...                    0                    1\n",
              "9             0                0  ...                    0                    1\n",
              "\n",
              "[10 rows x 14 columns]"
            ]
          },
          "metadata": {
            "tags": []
          },
          "execution_count": 157
        }
      ]
    },
    {
      "cell_type": "markdown",
      "metadata": {
        "colab_type": "text",
        "id": "c2qVOSsQIXUf"
      },
      "source": [
        "## 2.4. **Importante:** No cambiar los nombres de las variables de la fuente de origen\n"
      ]
    },
    {
      "cell_type": "markdown",
      "metadata": {
        "id": "E2Ptf3OZApdr",
        "colab_type": "text"
      },
      "source": [
        "# Opción para cambiar los nombres de columnas:\n"
      ]
    },
    {
      "cell_type": "code",
      "metadata": {
        "id": "1-qN4wbWAxlr",
        "colab_type": "code",
        "colab": {}
      },
      "source": [
        "# Cambio nombre Columna por indexn  (probar, código de un compañero)\n",
        "df.rename(columns={ df.columns[0]: \"Disculpame1\" }, inplace = True)"
      ],
      "execution_count": null,
      "outputs": []
    },
    {
      "cell_type": "markdown",
      "metadata": {
        "colab_type": "text",
        "id": "k9XvL-yMIXUf"
      },
      "source": [
        "## 2.5. Verificar la consistencia de las variables\n",
        "**Aplicar reglas de integridad**\n"
      ]
    },
    {
      "cell_type": "code",
      "metadata": {
        "colab_type": "code",
        "id": "y5W24vJwIXUf",
        "colab": {
          "base_uri": "https://localhost:8080/",
          "height": 462
        },
        "outputId": "c0735236-4df2-49bf-c7d9-3562041aff2e"
      },
      "source": [
        "kickstarter_2018.head()"
      ],
      "execution_count": null,
      "outputs": [
        {
          "output_type": "execute_result",
          "data": {
            "text/html": [
              "<div>\n",
              "<style scoped>\n",
              "    .dataframe tbody tr th:only-of-type {\n",
              "        vertical-align: middle;\n",
              "    }\n",
              "\n",
              "    .dataframe tbody tr th {\n",
              "        vertical-align: top;\n",
              "    }\n",
              "\n",
              "    .dataframe thead th {\n",
              "        text-align: right;\n",
              "    }\n",
              "</style>\n",
              "<table border=\"1\" class=\"dataframe\">\n",
              "  <thead>\n",
              "    <tr style=\"text-align: right;\">\n",
              "      <th></th>\n",
              "      <th>ID</th>\n",
              "      <th>name</th>\n",
              "      <th>category</th>\n",
              "      <th>main_category</th>\n",
              "      <th>currency</th>\n",
              "      <th>deadline</th>\n",
              "      <th>goal</th>\n",
              "      <th>launched</th>\n",
              "      <th>pledged</th>\n",
              "      <th>state</th>\n",
              "      <th>backers</th>\n",
              "      <th>country</th>\n",
              "      <th>usd_pledged</th>\n",
              "      <th>usd_pledged_real</th>\n",
              "      <th>usd_goal_real</th>\n",
              "      <th>name_weirdness</th>\n",
              "    </tr>\n",
              "  </thead>\n",
              "  <tbody>\n",
              "    <tr>\n",
              "      <th>0</th>\n",
              "      <td>1000002330</td>\n",
              "      <td>The Songs of Adelaide &amp; Abullah</td>\n",
              "      <td>Poetry</td>\n",
              "      <td>Publishing</td>\n",
              "      <td>Fashion</td>\n",
              "      <td>2015-10-09</td>\n",
              "      <td>1000.00</td>\n",
              "      <td>2015-08-11 12:12:28</td>\n",
              "      <td>0.00</td>\n",
              "      <td>failed</td>\n",
              "      <td>0</td>\n",
              "      <td>GB</td>\n",
              "      <td>0.00</td>\n",
              "      <td>0.00</td>\n",
              "      <td>1533.95</td>\n",
              "      <td>0</td>\n",
              "    </tr>\n",
              "    <tr>\n",
              "      <th>1</th>\n",
              "      <td>1000003930</td>\n",
              "      <td>Greeting From Earth: ZGAC Arts Capsule For ET</td>\n",
              "      <td>Narrative Film</td>\n",
              "      <td>Film &amp; Video</td>\n",
              "      <td>Technology</td>\n",
              "      <td>2017-11-01</td>\n",
              "      <td>30000.00</td>\n",
              "      <td>2017-09-02 04:43:57</td>\n",
              "      <td>2421.00</td>\n",
              "      <td>failed</td>\n",
              "      <td>15</td>\n",
              "      <td>US</td>\n",
              "      <td>100.00</td>\n",
              "      <td>2421.00</td>\n",
              "      <td>30000.00</td>\n",
              "      <td>0</td>\n",
              "    </tr>\n",
              "    <tr>\n",
              "      <th>2</th>\n",
              "      <td>1000004038</td>\n",
              "      <td>Where is Hank?</td>\n",
              "      <td>Narrative Film</td>\n",
              "      <td>Film &amp; Video</td>\n",
              "      <td>Technology</td>\n",
              "      <td>2013-02-26</td>\n",
              "      <td>45000.00</td>\n",
              "      <td>2013-01-12 00:20:50</td>\n",
              "      <td>220.00</td>\n",
              "      <td>failed</td>\n",
              "      <td>3</td>\n",
              "      <td>US</td>\n",
              "      <td>220.00</td>\n",
              "      <td>220.00</td>\n",
              "      <td>45000.00</td>\n",
              "      <td>0</td>\n",
              "    </tr>\n",
              "    <tr>\n",
              "      <th>3</th>\n",
              "      <td>1000007540</td>\n",
              "      <td>ToshiCapital Rekordz Needs Help to Complete Album</td>\n",
              "      <td>Music</td>\n",
              "      <td>Music</td>\n",
              "      <td>Technology</td>\n",
              "      <td>2012-04-16</td>\n",
              "      <td>5000.00</td>\n",
              "      <td>2012-03-17 03:24:11</td>\n",
              "      <td>1.00</td>\n",
              "      <td>failed</td>\n",
              "      <td>1</td>\n",
              "      <td>US</td>\n",
              "      <td>1.00</td>\n",
              "      <td>1.00</td>\n",
              "      <td>5000.00</td>\n",
              "      <td>0</td>\n",
              "    </tr>\n",
              "    <tr>\n",
              "      <th>4</th>\n",
              "      <td>1000011046</td>\n",
              "      <td>Community Film Project: The Art of Neighborhoo...</td>\n",
              "      <td>Film &amp; Video</td>\n",
              "      <td>Film &amp; Video</td>\n",
              "      <td>Technology</td>\n",
              "      <td>2015-08-29</td>\n",
              "      <td>19500.00</td>\n",
              "      <td>2015-07-04 08:35:03</td>\n",
              "      <td>1283.00</td>\n",
              "      <td>canceled</td>\n",
              "      <td>14</td>\n",
              "      <td>US</td>\n",
              "      <td>1283.00</td>\n",
              "      <td>1283.00</td>\n",
              "      <td>19500.00</td>\n",
              "      <td>0</td>\n",
              "    </tr>\n",
              "  </tbody>\n",
              "</table>\n",
              "</div>"
            ],
            "text/plain": [
              "           ID  ... name_weirdness\n",
              "0  1000002330  ...              0\n",
              "1  1000003930  ...              0\n",
              "2  1000004038  ...              0\n",
              "3  1000007540  ...              0\n",
              "4  1000011046  ...              0\n",
              "\n",
              "[5 rows x 16 columns]"
            ]
          },
          "metadata": {
            "tags": []
          },
          "execution_count": 90
        }
      ]
    },
    {
      "cell_type": "markdown",
      "metadata": {
        "colab_type": "text",
        "id": "4EAwb-5BIXUh"
      },
      "source": [
        "¿Hay **proyectos sin patrocinadores** pero con plata prometida? Esto puede ser un error ya que ¿cómo juntaron plata sin donaciones???"
      ]
    },
    {
      "cell_type": "code",
      "metadata": {
        "colab_type": "code",
        "id": "x0YWqWntIXUh",
        "colab": {
          "base_uri": "https://localhost:8080/",
          "height": 779
        },
        "outputId": "73e72b57-0243-4d99-bb6c-865298a1f7bb"
      },
      "source": [
        "kickstarter_2018[(kickstarter_2018.backers == 0) & (kickstarter_2018.usd_pledged > 0)]  # backers, es el núm. de patrocinadores"
      ],
      "execution_count": null,
      "outputs": [
        {
          "output_type": "execute_result",
          "data": {
            "text/html": [
              "<div>\n",
              "<style scoped>\n",
              "    .dataframe tbody tr th:only-of-type {\n",
              "        vertical-align: middle;\n",
              "    }\n",
              "\n",
              "    .dataframe tbody tr th {\n",
              "        vertical-align: top;\n",
              "    }\n",
              "\n",
              "    .dataframe thead th {\n",
              "        text-align: right;\n",
              "    }\n",
              "</style>\n",
              "<table border=\"1\" class=\"dataframe\">\n",
              "  <thead>\n",
              "    <tr style=\"text-align: right;\">\n",
              "      <th></th>\n",
              "      <th>ID</th>\n",
              "      <th>name</th>\n",
              "      <th>category</th>\n",
              "      <th>main_category</th>\n",
              "      <th>currency</th>\n",
              "      <th>deadline</th>\n",
              "      <th>goal</th>\n",
              "      <th>launched</th>\n",
              "      <th>pledged</th>\n",
              "      <th>state</th>\n",
              "      <th>backers</th>\n",
              "      <th>country</th>\n",
              "      <th>usd_pledged</th>\n",
              "      <th>usd_pledged_real</th>\n",
              "      <th>usd_goal_real</th>\n",
              "      <th>name_weirdness</th>\n",
              "    </tr>\n",
              "  </thead>\n",
              "  <tbody>\n",
              "    <tr>\n",
              "      <th>376</th>\n",
              "      <td>100173829</td>\n",
              "      <td>La Press: Make Soap at Home in 2 minutes. No C...</td>\n",
              "      <td>Gadgets</td>\n",
              "      <td>Technology</td>\n",
              "      <td>Comics</td>\n",
              "      <td>2017-11-11</td>\n",
              "      <td>40000.00</td>\n",
              "      <td>2017-09-12 05:11:01</td>\n",
              "      <td>0.00</td>\n",
              "      <td>failed</td>\n",
              "      <td>0</td>\n",
              "      <td>CA</td>\n",
              "      <td>86.46</td>\n",
              "      <td>0.00</td>\n",
              "      <td>31343.05</td>\n",
              "      <td>0</td>\n",
              "    </tr>\n",
              "    <tr>\n",
              "      <th>976</th>\n",
              "      <td>1004972393</td>\n",
              "      <td>AlwaysRemembered.com The new way to remember o...</td>\n",
              "      <td>Web</td>\n",
              "      <td>Technology</td>\n",
              "      <td>Art</td>\n",
              "      <td>2017-05-15</td>\n",
              "      <td>100000.00</td>\n",
              "      <td>2017-04-15 09:17:40</td>\n",
              "      <td>0.00</td>\n",
              "      <td>failed</td>\n",
              "      <td>0</td>\n",
              "      <td>AU</td>\n",
              "      <td>18.93</td>\n",
              "      <td>0.00</td>\n",
              "      <td>74371.56</td>\n",
              "      <td>0</td>\n",
              "    </tr>\n",
              "    <tr>\n",
              "      <th>1355</th>\n",
              "      <td>1006945199</td>\n",
              "      <td>Have your Cake and Eat it too!</td>\n",
              "      <td>Food</td>\n",
              "      <td>Food</td>\n",
              "      <td>Technology</td>\n",
              "      <td>2016-12-05</td>\n",
              "      <td>10000.00</td>\n",
              "      <td>2016-11-05 20:16:29</td>\n",
              "      <td>0.00</td>\n",
              "      <td>canceled</td>\n",
              "      <td>0</td>\n",
              "      <td>US</td>\n",
              "      <td>24.00</td>\n",
              "      <td>0.00</td>\n",
              "      <td>10000.00</td>\n",
              "      <td>0</td>\n",
              "    </tr>\n",
              "    <tr>\n",
              "      <th>3820</th>\n",
              "      <td>1019661678</td>\n",
              "      <td>Presidential Pareidolia</td>\n",
              "      <td>Digital Art</td>\n",
              "      <td>Art</td>\n",
              "      <td>Technology</td>\n",
              "      <td>2017-05-14</td>\n",
              "      <td>66600.00</td>\n",
              "      <td>2017-04-14 23:13:10</td>\n",
              "      <td>0.00</td>\n",
              "      <td>failed</td>\n",
              "      <td>0</td>\n",
              "      <td>US</td>\n",
              "      <td>25.00</td>\n",
              "      <td>0.00</td>\n",
              "      <td>66600.00</td>\n",
              "      <td>0</td>\n",
              "    </tr>\n",
              "    <tr>\n",
              "      <th>6196</th>\n",
              "      <td>1031663961</td>\n",
              "      <td>The Lite Bros. Series</td>\n",
              "      <td>Comics</td>\n",
              "      <td>Comics</td>\n",
              "      <td>Technology</td>\n",
              "      <td>2017-05-09</td>\n",
              "      <td>10000.00</td>\n",
              "      <td>2017-04-09 02:20:51</td>\n",
              "      <td>0.00</td>\n",
              "      <td>failed</td>\n",
              "      <td>0</td>\n",
              "      <td>US</td>\n",
              "      <td>25.00</td>\n",
              "      <td>0.00</td>\n",
              "      <td>10000.00</td>\n",
              "      <td>0</td>\n",
              "    </tr>\n",
              "    <tr>\n",
              "      <th>...</th>\n",
              "      <td>...</td>\n",
              "      <td>...</td>\n",
              "      <td>...</td>\n",
              "      <td>...</td>\n",
              "      <td>...</td>\n",
              "      <td>...</td>\n",
              "      <td>...</td>\n",
              "      <td>...</td>\n",
              "      <td>...</td>\n",
              "      <td>...</td>\n",
              "      <td>...</td>\n",
              "      <td>...</td>\n",
              "      <td>...</td>\n",
              "      <td>...</td>\n",
              "      <td>...</td>\n",
              "      <td>...</td>\n",
              "    </tr>\n",
              "    <tr>\n",
              "      <th>364867</th>\n",
              "      <td>928930112</td>\n",
              "      <td>Hitchhike for 5,610 miles and try to reach Ell...</td>\n",
              "      <td>Documentary</td>\n",
              "      <td>Film &amp; Video</td>\n",
              "      <td>Photography</td>\n",
              "      <td>2017-03-06</td>\n",
              "      <td>45000.00</td>\n",
              "      <td>2017-01-05 14:18:14</td>\n",
              "      <td>0.00</td>\n",
              "      <td>failed</td>\n",
              "      <td>0</td>\n",
              "      <td>SE</td>\n",
              "      <td>10.91</td>\n",
              "      <td>0.00</td>\n",
              "      <td>4983.11</td>\n",
              "      <td>0</td>\n",
              "    </tr>\n",
              "    <tr>\n",
              "      <th>365242</th>\n",
              "      <td>930939140</td>\n",
              "      <td>RetroNemesis Arcade Clothing Line</td>\n",
              "      <td>Apparel</td>\n",
              "      <td>Fashion</td>\n",
              "      <td>Technology</td>\n",
              "      <td>2017-05-12</td>\n",
              "      <td>750.00</td>\n",
              "      <td>2017-04-12 21:18:11</td>\n",
              "      <td>0.00</td>\n",
              "      <td>failed</td>\n",
              "      <td>0</td>\n",
              "      <td>US</td>\n",
              "      <td>25.00</td>\n",
              "      <td>0.00</td>\n",
              "      <td>750.00</td>\n",
              "      <td>0</td>\n",
              "    </tr>\n",
              "    <tr>\n",
              "      <th>368101</th>\n",
              "      <td>945359364</td>\n",
              "      <td>Painting the faces of strangers</td>\n",
              "      <td>Digital Art</td>\n",
              "      <td>Art</td>\n",
              "      <td>Fashion</td>\n",
              "      <td>2017-12-04</td>\n",
              "      <td>50.00</td>\n",
              "      <td>2017-11-03 23:48:24</td>\n",
              "      <td>0.00</td>\n",
              "      <td>failed</td>\n",
              "      <td>0</td>\n",
              "      <td>GB</td>\n",
              "      <td>53.12</td>\n",
              "      <td>0.00</td>\n",
              "      <td>67.08</td>\n",
              "      <td>0</td>\n",
              "    </tr>\n",
              "    <tr>\n",
              "      <th>369139</th>\n",
              "      <td>950767056</td>\n",
              "      <td>Sins Of A Son</td>\n",
              "      <td>Documentary</td>\n",
              "      <td>Film &amp; Video</td>\n",
              "      <td>Technology</td>\n",
              "      <td>2010-09-04</td>\n",
              "      <td>3500.00</td>\n",
              "      <td>2010-07-02 23:41:15</td>\n",
              "      <td>1.00</td>\n",
              "      <td>failed</td>\n",
              "      <td>0</td>\n",
              "      <td>US</td>\n",
              "      <td>1.00</td>\n",
              "      <td>1.00</td>\n",
              "      <td>3500.00</td>\n",
              "      <td>0</td>\n",
              "    </tr>\n",
              "    <tr>\n",
              "      <th>370655</th>\n",
              "      <td>958530198</td>\n",
              "      <td>DIY Easy To Hang Handmade Reclaimed Barn Wood ...</td>\n",
              "      <td>DIY</td>\n",
              "      <td>Crafts</td>\n",
              "      <td>Technology</td>\n",
              "      <td>2017-08-07</td>\n",
              "      <td>10000.00</td>\n",
              "      <td>2017-07-08 20:33:01</td>\n",
              "      <td>0.00</td>\n",
              "      <td>failed</td>\n",
              "      <td>0</td>\n",
              "      <td>US</td>\n",
              "      <td>100.00</td>\n",
              "      <td>0.00</td>\n",
              "      <td>10000.00</td>\n",
              "      <td>0</td>\n",
              "    </tr>\n",
              "  </tbody>\n",
              "</table>\n",
              "<p>315 rows × 16 columns</p>\n",
              "</div>"
            ],
            "text/plain": [
              "                ID  ... name_weirdness\n",
              "376      100173829  ...              0\n",
              "976     1004972393  ...              0\n",
              "1355    1006945199  ...              0\n",
              "3820    1019661678  ...              0\n",
              "6196    1031663961  ...              0\n",
              "...            ...  ...            ...\n",
              "364867   928930112  ...              0\n",
              "365242   930939140  ...              0\n",
              "368101   945359364  ...              0\n",
              "369139   950767056  ...              0\n",
              "370655   958530198  ...              0\n",
              "\n",
              "[315 rows x 16 columns]"
            ]
          },
          "metadata": {
            "tags": []
          },
          "execution_count": 91
        }
      ]
    },
    {
      "cell_type": "markdown",
      "metadata": {
        "colab_type": "text",
        "id": "8oFs6r9CIXUj"
      },
      "source": [
        "¿Hay proyecto no exitosos que pasaron el objetivo?"
      ]
    },
    {
      "cell_type": "code",
      "metadata": {
        "colab_type": "code",
        "id": "_5lPvwqYIXUj",
        "colab": {
          "base_uri": "https://localhost:8080/",
          "height": 1000
        },
        "outputId": "260133a3-d27a-4d5c-b133-dc3198cfe964"
      },
      "source": [
        "kickstarter_2018[(kickstarter_2018.state != 'successful') & (kickstarter_2018.pledged > kickstarter_2018.goal)]"
      ],
      "execution_count": null,
      "outputs": [
        {
          "output_type": "execute_result",
          "data": {
            "text/html": [
              "<div>\n",
              "<style scoped>\n",
              "    .dataframe tbody tr th:only-of-type {\n",
              "        vertical-align: middle;\n",
              "    }\n",
              "\n",
              "    .dataframe tbody tr th {\n",
              "        vertical-align: top;\n",
              "    }\n",
              "\n",
              "    .dataframe thead th {\n",
              "        text-align: right;\n",
              "    }\n",
              "</style>\n",
              "<table border=\"1\" class=\"dataframe\">\n",
              "  <thead>\n",
              "    <tr style=\"text-align: right;\">\n",
              "      <th></th>\n",
              "      <th>ID</th>\n",
              "      <th>name</th>\n",
              "      <th>category</th>\n",
              "      <th>main_category</th>\n",
              "      <th>currency</th>\n",
              "      <th>deadline</th>\n",
              "      <th>goal</th>\n",
              "      <th>launched</th>\n",
              "      <th>pledged</th>\n",
              "      <th>state</th>\n",
              "      <th>backers</th>\n",
              "      <th>country</th>\n",
              "      <th>usd_pledged</th>\n",
              "      <th>usd_pledged_real</th>\n",
              "      <th>usd_goal_real</th>\n",
              "      <th>name_weirdness</th>\n",
              "    </tr>\n",
              "  </thead>\n",
              "  <tbody>\n",
              "    <tr>\n",
              "      <th>328</th>\n",
              "      <td>100149523</td>\n",
              "      <td>Duncan Woods - Chameleon EP</td>\n",
              "      <td>Music</td>\n",
              "      <td>Music</td>\n",
              "      <td>Art</td>\n",
              "      <td>2015-08-25</td>\n",
              "      <td>4500.00</td>\n",
              "      <td>2015-08-04 12:05:17</td>\n",
              "      <td>4767.00</td>\n",
              "      <td>undefined</td>\n",
              "      <td>0</td>\n",
              "      <td>N,0\"</td>\n",
              "      <td>0.00</td>\n",
              "      <td>3402.08</td>\n",
              "      <td>3211.53</td>\n",
              "      <td>0</td>\n",
              "    </tr>\n",
              "    <tr>\n",
              "      <th>374</th>\n",
              "      <td>1001732009</td>\n",
              "      <td>DotPen : Redefines drawing and writing for sma...</td>\n",
              "      <td>Product Design</td>\n",
              "      <td>Design</td>\n",
              "      <td>Technology</td>\n",
              "      <td>2014-08-09</td>\n",
              "      <td>25000.00</td>\n",
              "      <td>2014-06-30 21:17:10</td>\n",
              "      <td>39693.00</td>\n",
              "      <td>suspended</td>\n",
              "      <td>647</td>\n",
              "      <td>US</td>\n",
              "      <td>39693.00</td>\n",
              "      <td>39693.00</td>\n",
              "      <td>25000.00</td>\n",
              "      <td>0</td>\n",
              "    </tr>\n",
              "    <tr>\n",
              "      <th>494</th>\n",
              "      <td>1002379225</td>\n",
              "      <td>The World's First Genuine, Intuitively-control...</td>\n",
              "      <td>Technology</td>\n",
              "      <td>Technology</td>\n",
              "      <td>Technology</td>\n",
              "      <td>2017-06-15</td>\n",
              "      <td>5000.00</td>\n",
              "      <td>2017-05-01 18:37:51</td>\n",
              "      <td>61416.00</td>\n",
              "      <td>canceled</td>\n",
              "      <td>103</td>\n",
              "      <td>US</td>\n",
              "      <td>13700.00</td>\n",
              "      <td>61416.00</td>\n",
              "      <td>5000.00</td>\n",
              "      <td>0</td>\n",
              "    </tr>\n",
              "    <tr>\n",
              "      <th>590</th>\n",
              "      <td>1002854072</td>\n",
              "      <td>Spycup turns your iPhone into a hidden camera ...</td>\n",
              "      <td>Gadgets</td>\n",
              "      <td>Technology</td>\n",
              "      <td>Comics</td>\n",
              "      <td>2015-12-19</td>\n",
              "      <td>5000.00</td>\n",
              "      <td>2015-11-19 17:26:34</td>\n",
              "      <td>6672.00</td>\n",
              "      <td>canceled</td>\n",
              "      <td>115</td>\n",
              "      <td>CA</td>\n",
              "      <td>5006.57</td>\n",
              "      <td>4810.38</td>\n",
              "      <td>3604.90</td>\n",
              "      <td>0</td>\n",
              "    </tr>\n",
              "    <tr>\n",
              "      <th>632</th>\n",
              "      <td>1003023003</td>\n",
              "      <td>The Making of Ashley Kelley's Debut Album</td>\n",
              "      <td>Music</td>\n",
              "      <td>Music</td>\n",
              "      <td>Technology</td>\n",
              "      <td>2015-04-09</td>\n",
              "      <td>3500.00</td>\n",
              "      <td>2015-03-10 20:06:13</td>\n",
              "      <td>3576.00</td>\n",
              "      <td>undefined</td>\n",
              "      <td>0</td>\n",
              "      <td>N,0\"</td>\n",
              "      <td>0.00</td>\n",
              "      <td>3576.00</td>\n",
              "      <td>3500.00</td>\n",
              "      <td>0</td>\n",
              "    </tr>\n",
              "    <tr>\n",
              "      <th>...</th>\n",
              "      <td>...</td>\n",
              "      <td>...</td>\n",
              "      <td>...</td>\n",
              "      <td>...</td>\n",
              "      <td>...</td>\n",
              "      <td>...</td>\n",
              "      <td>...</td>\n",
              "      <td>...</td>\n",
              "      <td>...</td>\n",
              "      <td>...</td>\n",
              "      <td>...</td>\n",
              "      <td>...</td>\n",
              "      <td>...</td>\n",
              "      <td>...</td>\n",
              "      <td>...</td>\n",
              "      <td>...</td>\n",
              "    </tr>\n",
              "    <tr>\n",
              "      <th>378114</th>\n",
              "      <td>997445060</td>\n",
              "      <td>The Every Day Carry Sling Belt (Canceled)</td>\n",
              "      <td>Fashion</td>\n",
              "      <td>Fashion</td>\n",
              "      <td>Technology</td>\n",
              "      <td>2012-05-28</td>\n",
              "      <td>1000.00</td>\n",
              "      <td>2012-04-28 07:12:06</td>\n",
              "      <td>1358.00</td>\n",
              "      <td>canceled</td>\n",
              "      <td>35</td>\n",
              "      <td>US</td>\n",
              "      <td>1358.00</td>\n",
              "      <td>1358.00</td>\n",
              "      <td>1000.00</td>\n",
              "      <td>0</td>\n",
              "    </tr>\n",
              "    <tr>\n",
              "      <th>378142</th>\n",
              "      <td>997554968</td>\n",
              "      <td>Susan Picking: Making Music with Kids in the S...</td>\n",
              "      <td>Music</td>\n",
              "      <td>Music</td>\n",
              "      <td>Technology</td>\n",
              "      <td>2015-03-01</td>\n",
              "      <td>8000.00</td>\n",
              "      <td>2015-01-31 20:58:01</td>\n",
              "      <td>8582.00</td>\n",
              "      <td>undefined</td>\n",
              "      <td>0</td>\n",
              "      <td>N,0\"</td>\n",
              "      <td>0.00</td>\n",
              "      <td>8582.00</td>\n",
              "      <td>8000.00</td>\n",
              "      <td>0</td>\n",
              "    </tr>\n",
              "    <tr>\n",
              "      <th>378219</th>\n",
              "      <td>997915422</td>\n",
              "      <td>Otter's First Full Length Album</td>\n",
              "      <td>Music</td>\n",
              "      <td>Music</td>\n",
              "      <td>Technology</td>\n",
              "      <td>2015-12-31</td>\n",
              "      <td>5000.00</td>\n",
              "      <td>2015-12-01 00:25:06</td>\n",
              "      <td>6065.26</td>\n",
              "      <td>undefined</td>\n",
              "      <td>0</td>\n",
              "      <td>N,0\"</td>\n",
              "      <td>0.00</td>\n",
              "      <td>6065.26</td>\n",
              "      <td>5000.00</td>\n",
              "      <td>0</td>\n",
              "    </tr>\n",
              "    <tr>\n",
              "      <th>378303</th>\n",
              "      <td>998319149</td>\n",
              "      <td>Emily 2050 - Short Film</td>\n",
              "      <td>Film &amp; Video</td>\n",
              "      <td>Film &amp; Video</td>\n",
              "      <td>Comics</td>\n",
              "      <td>2014-05-23</td>\n",
              "      <td>3000.00</td>\n",
              "      <td>2014-04-08 00:30:09</td>\n",
              "      <td>3102.00</td>\n",
              "      <td>undefined</td>\n",
              "      <td>0</td>\n",
              "      <td>N,0\"</td>\n",
              "      <td>0.00</td>\n",
              "      <td>2845.61</td>\n",
              "      <td>2752.04</td>\n",
              "      <td>0</td>\n",
              "    </tr>\n",
              "    <tr>\n",
              "      <th>378585</th>\n",
              "      <td>999610349</td>\n",
              "      <td>Lady Vendredi: Afrofuturist concept 12 inch EP</td>\n",
              "      <td>Music</td>\n",
              "      <td>Music</td>\n",
              "      <td>Fashion</td>\n",
              "      <td>2015-10-19</td>\n",
              "      <td>2000.00</td>\n",
              "      <td>2015-09-21 22:33:18</td>\n",
              "      <td>2125.00</td>\n",
              "      <td>undefined</td>\n",
              "      <td>0</td>\n",
              "      <td>N,0\"</td>\n",
              "      <td>0.00</td>\n",
              "      <td>3273.36</td>\n",
              "      <td>3080.81</td>\n",
              "      <td>0</td>\n",
              "    </tr>\n",
              "  </tbody>\n",
              "</table>\n",
              "<p>2952 rows × 16 columns</p>\n",
              "</div>"
            ],
            "text/plain": [
              "                ID  ... name_weirdness\n",
              "328      100149523  ...              0\n",
              "374     1001732009  ...              0\n",
              "494     1002379225  ...              0\n",
              "590     1002854072  ...              0\n",
              "632     1003023003  ...              0\n",
              "...            ...  ...            ...\n",
              "378114   997445060  ...              0\n",
              "378142   997554968  ...              0\n",
              "378219   997915422  ...              0\n",
              "378303   998319149  ...              0\n",
              "378585   999610349  ...              0\n",
              "\n",
              "[2952 rows x 16 columns]"
            ]
          },
          "metadata": {
            "tags": []
          },
          "execution_count": 92
        }
      ]
    },
    {
      "cell_type": "markdown",
      "metadata": {
        "colab_type": "text",
        "id": "JcmsJSYXIXUl"
      },
      "source": [
        "¿Cómo es, en promedio, la correlación entre el objetivo y la plata obtenida?"
      ]
    },
    {
      "cell_type": "code",
      "metadata": {
        "colab_type": "code",
        "id": "vAI0_9m-IXUl",
        "colab": {
          "base_uri": "https://localhost:8080/",
          "height": 265
        },
        "outputId": "2afdaf66-05f3-40bf-b79f-cd4a41b899b3"
      },
      "source": [
        "df = kickstarter_2018.groupby('state')[['goal','pledged']].aggregate('mean')\n",
        "df  # observamos el promedio de recaudación y de recaudado"
      ],
      "execution_count": null,
      "outputs": [
        {
          "output_type": "execute_result",
          "data": {
            "text/html": [
              "<div>\n",
              "<style scoped>\n",
              "    .dataframe tbody tr th:only-of-type {\n",
              "        vertical-align: middle;\n",
              "    }\n",
              "\n",
              "    .dataframe tbody tr th {\n",
              "        vertical-align: top;\n",
              "    }\n",
              "\n",
              "    .dataframe thead th {\n",
              "        text-align: right;\n",
              "    }\n",
              "</style>\n",
              "<table border=\"1\" class=\"dataframe\">\n",
              "  <thead>\n",
              "    <tr style=\"text-align: right;\">\n",
              "      <th></th>\n",
              "      <th>goal</th>\n",
              "      <th>pledged</th>\n",
              "    </tr>\n",
              "    <tr>\n",
              "      <th>state</th>\n",
              "      <th></th>\n",
              "      <th></th>\n",
              "    </tr>\n",
              "  </thead>\n",
              "  <tbody>\n",
              "    <tr>\n",
              "      <th>canceled</th>\n",
              "      <td>86193.06</td>\n",
              "      <td>2645.75</td>\n",
              "    </tr>\n",
              "    <tr>\n",
              "      <th>failed</th>\n",
              "      <td>67346.67</td>\n",
              "      <td>1426.99</td>\n",
              "    </tr>\n",
              "    <tr>\n",
              "      <th>live</th>\n",
              "      <td>76762.39</td>\n",
              "      <td>9085.24</td>\n",
              "    </tr>\n",
              "    <tr>\n",
              "      <th>successful</th>\n",
              "      <td>10162.96</td>\n",
              "      <td>24099.78</td>\n",
              "    </tr>\n",
              "    <tr>\n",
              "      <th>suspended</th>\n",
              "      <td>181467.75</td>\n",
              "      <td>10822.68</td>\n",
              "    </tr>\n",
              "    <tr>\n",
              "      <th>undefined</th>\n",
              "      <td>4405.39</td>\n",
              "      <td>2279.67</td>\n",
              "    </tr>\n",
              "  </tbody>\n",
              "</table>\n",
              "</div>"
            ],
            "text/plain": [
              "                goal  pledged\n",
              "state                        \n",
              "canceled    86193.06  2645.75\n",
              "failed      67346.67  1426.99\n",
              "live        76762.39  9085.24\n",
              "successful  10162.96 24099.78\n",
              "suspended  181467.75 10822.68\n",
              "undefined    4405.39  2279.67"
            ]
          },
          "metadata": {
            "tags": []
          },
          "execution_count": 95
        }
      ]
    },
    {
      "cell_type": "code",
      "metadata": {
        "id": "niv76i5dBqhq",
        "colab_type": "code",
        "colab": {
          "base_uri": "https://localhost:8080/",
          "height": 158
        },
        "outputId": "00d811f2-c758-4e26-b742-5765d9693a3f"
      },
      "source": [
        "df['pledged'] / df['goal']  # relación entre ambas variables\n"
      ],
      "execution_count": null,
      "outputs": [
        {
          "output_type": "execute_result",
          "data": {
            "text/plain": [
              "state\n",
              "canceled     0.03\n",
              "failed       0.02\n",
              "live         0.12\n",
              "successful   2.37\n",
              "suspended    0.06\n",
              "undefined    0.52\n",
              "dtype: float64"
            ]
          },
          "metadata": {
            "tags": []
          },
          "execution_count": 96
        }
      ]
    },
    {
      "cell_type": "markdown",
      "metadata": {
        "colab_type": "text",
        "id": "0alq6UDrIXUn"
      },
      "source": [
        "**¿Cuánta plata se obtiene en promedio por estado y categoría?**"
      ]
    },
    {
      "cell_type": "code",
      "metadata": {
        "colab_type": "code",
        "id": "ZDDTnENBIXUn",
        "colab": {
          "base_uri": "https://localhost:8080/",
          "height": 302
        },
        "outputId": "a67b0f6a-c8db-4b4f-8ff0-e251aec9b02d"
      },
      "source": [
        "kickstarter_2018.pivot_table(values='usd_pledged',index='state',columns='main_category')  # para hacer esto se debe pivotear la tabla"
      ],
      "execution_count": null,
      "outputs": [
        {
          "output_type": "execute_result",
          "data": {
            "text/html": [
              "<div>\n",
              "<style scoped>\n",
              "    .dataframe tbody tr th:only-of-type {\n",
              "        vertical-align: middle;\n",
              "    }\n",
              "\n",
              "    .dataframe tbody tr th {\n",
              "        vertical-align: top;\n",
              "    }\n",
              "\n",
              "    .dataframe thead th {\n",
              "        text-align: right;\n",
              "    }\n",
              "</style>\n",
              "<table border=\"1\" class=\"dataframe\">\n",
              "  <thead>\n",
              "    <tr style=\"text-align: right;\">\n",
              "      <th>main_category</th>\n",
              "      <th>Art</th>\n",
              "      <th>Comics</th>\n",
              "      <th>Crafts</th>\n",
              "      <th>Dance</th>\n",
              "      <th>Design</th>\n",
              "      <th>Fashion</th>\n",
              "      <th>Film &amp; Video</th>\n",
              "      <th>Food</th>\n",
              "      <th>Games</th>\n",
              "      <th>Journalism</th>\n",
              "      <th>Music</th>\n",
              "      <th>Photography</th>\n",
              "      <th>Publishing</th>\n",
              "      <th>Technology</th>\n",
              "      <th>Theater</th>\n",
              "    </tr>\n",
              "    <tr>\n",
              "      <th>state</th>\n",
              "      <th></th>\n",
              "      <th></th>\n",
              "      <th></th>\n",
              "      <th></th>\n",
              "      <th></th>\n",
              "      <th></th>\n",
              "      <th></th>\n",
              "      <th></th>\n",
              "      <th></th>\n",
              "      <th></th>\n",
              "      <th></th>\n",
              "      <th></th>\n",
              "      <th></th>\n",
              "      <th></th>\n",
              "      <th></th>\n",
              "    </tr>\n",
              "  </thead>\n",
              "  <tbody>\n",
              "    <tr>\n",
              "      <th>canceled</th>\n",
              "      <td>405.94</td>\n",
              "      <td>722.46</td>\n",
              "      <td>342.51</td>\n",
              "      <td>455.18</td>\n",
              "      <td>3361.22</td>\n",
              "      <td>996.49</td>\n",
              "      <td>1468.05</td>\n",
              "      <td>715.49</td>\n",
              "      <td>3312.50</td>\n",
              "      <td>198.61</td>\n",
              "      <td>585.91</td>\n",
              "      <td>418.70</td>\n",
              "      <td>451.11</td>\n",
              "      <td>3959.58</td>\n",
              "      <td>1472.81</td>\n",
              "    </tr>\n",
              "    <tr>\n",
              "      <th>failed</th>\n",
              "      <td>554.10</td>\n",
              "      <td>869.11</td>\n",
              "      <td>263.54</td>\n",
              "      <td>555.21</td>\n",
              "      <td>2353.08</td>\n",
              "      <td>686.00</td>\n",
              "      <td>1368.40</td>\n",
              "      <td>927.01</td>\n",
              "      <td>1970.92</td>\n",
              "      <td>452.95</td>\n",
              "      <td>557.37</td>\n",
              "      <td>565.53</td>\n",
              "      <td>539.22</td>\n",
              "      <td>2018.73</td>\n",
              "      <td>892.50</td>\n",
              "    </tr>\n",
              "    <tr>\n",
              "      <th>live</th>\n",
              "      <td>887.49</td>\n",
              "      <td>934.78</td>\n",
              "      <td>95.43</td>\n",
              "      <td>182.59</td>\n",
              "      <td>3559.01</td>\n",
              "      <td>443.48</td>\n",
              "      <td>336.93</td>\n",
              "      <td>1014.11</td>\n",
              "      <td>1678.80</td>\n",
              "      <td>762.78</td>\n",
              "      <td>434.78</td>\n",
              "      <td>832.48</td>\n",
              "      <td>1031.71</td>\n",
              "      <td>2028.49</td>\n",
              "      <td>479.18</td>\n",
              "    </tr>\n",
              "    <tr>\n",
              "      <th>successful</th>\n",
              "      <td>5420.99</td>\n",
              "      <td>9178.68</td>\n",
              "      <td>4053.92</td>\n",
              "      <td>4445.79</td>\n",
              "      <td>43545.99</td>\n",
              "      <td>15136.85</td>\n",
              "      <td>12403.29</td>\n",
              "      <td>14227.41</td>\n",
              "      <td>41643.05</td>\n",
              "      <td>8598.27</td>\n",
              "      <td>6283.11</td>\n",
              "      <td>7897.06</td>\n",
              "      <td>7257.91</td>\n",
              "      <td>67226.64</td>\n",
              "      <td>5289.17</td>\n",
              "    </tr>\n",
              "    <tr>\n",
              "      <th>suspended</th>\n",
              "      <td>436.70</td>\n",
              "      <td>347.47</td>\n",
              "      <td>201.33</td>\n",
              "      <td>320.43</td>\n",
              "      <td>11471.42</td>\n",
              "      <td>3539.29</td>\n",
              "      <td>2463.24</td>\n",
              "      <td>2708.65</td>\n",
              "      <td>2497.19</td>\n",
              "      <td>44.77</td>\n",
              "      <td>340.77</td>\n",
              "      <td>159.96</td>\n",
              "      <td>422.83</td>\n",
              "      <td>22953.52</td>\n",
              "      <td>57.08</td>\n",
              "    </tr>\n",
              "    <tr>\n",
              "      <th>undefined</th>\n",
              "      <td>nan</td>\n",
              "      <td>nan</td>\n",
              "      <td>nan</td>\n",
              "      <td>0.00</td>\n",
              "      <td>0.00</td>\n",
              "      <td>0.00</td>\n",
              "      <td>0.00</td>\n",
              "      <td>nan</td>\n",
              "      <td>0.00</td>\n",
              "      <td>nan</td>\n",
              "      <td>0.00</td>\n",
              "      <td>0.00</td>\n",
              "      <td>0.00</td>\n",
              "      <td>0.00</td>\n",
              "      <td>0.00</td>\n",
              "    </tr>\n",
              "  </tbody>\n",
              "</table>\n",
              "</div>"
            ],
            "text/plain": [
              "main_category     Art  Comics  Crafts  ...  Publishing  Technology  Theater\n",
              "state                                  ...                                 \n",
              "canceled       405.94  722.46  342.51  ...      451.11     3959.58  1472.81\n",
              "failed         554.10  869.11  263.54  ...      539.22     2018.73   892.50\n",
              "live           887.49  934.78   95.43  ...     1031.71     2028.49   479.18\n",
              "successful    5420.99 9178.68 4053.92  ...     7257.91    67226.64  5289.17\n",
              "suspended      436.70  347.47  201.33  ...      422.83    22953.52    57.08\n",
              "undefined         nan     nan     nan  ...        0.00        0.00     0.00\n",
              "\n",
              "[6 rows x 15 columns]"
            ]
          },
          "metadata": {
            "tags": []
          },
          "execution_count": 97
        }
      ]
    },
    {
      "cell_type": "markdown",
      "metadata": {
        "id": "VIAKnhAubCPX",
        "colab_type": "text"
      },
      "source": [
        "#### **Ejercicio 5**\n",
        "\n",
        "1. ¿Hay **proyecto éxitosos que no consiguieron el objetivo**? Si hay, ¿Qué porcentaje sí y cuál no?\n",
        "2. Calcular una tabla con la **cantidad de proyectos por categoría principal y estado**. (Debo pivotear la tabla ver ejemplo anterior)"
      ]
    },
    {
      "cell_type": "markdown",
      "metadata": {
        "id": "sOP1qBWrPkw1",
        "colab_type": "text"
      },
      "source": [
        "Si existen algunos proyectos que fueron exitosos y no alcanzaron a recaudar el objetivo."
      ]
    },
    {
      "cell_type": "code",
      "metadata": {
        "id": "jMoS4pbQO3gm",
        "colab_type": "code",
        "colab": {
          "base_uri": "https://localhost:8080/",
          "height": 462
        },
        "outputId": "f9315d29-2d07-464f-d7ff-13dc8c164eb3"
      },
      "source": [
        "df_exitosos= kickstarter_2018[(kickstarter_2018.state == 'successful') & (kickstarter_2018.pledged < kickstarter_2018.goal)]\n",
        "df_exitosos"
      ],
      "execution_count": 171,
      "outputs": [
        {
          "output_type": "execute_result",
          "data": {
            "text/html": [
              "<div>\n",
              "<style scoped>\n",
              "    .dataframe tbody tr th:only-of-type {\n",
              "        vertical-align: middle;\n",
              "    }\n",
              "\n",
              "    .dataframe tbody tr th {\n",
              "        vertical-align: top;\n",
              "    }\n",
              "\n",
              "    .dataframe thead th {\n",
              "        text-align: right;\n",
              "    }\n",
              "</style>\n",
              "<table border=\"1\" class=\"dataframe\">\n",
              "  <thead>\n",
              "    <tr style=\"text-align: right;\">\n",
              "      <th></th>\n",
              "      <th>ID</th>\n",
              "      <th>name</th>\n",
              "      <th>category</th>\n",
              "      <th>main_category</th>\n",
              "      <th>currency</th>\n",
              "      <th>deadline</th>\n",
              "      <th>goal</th>\n",
              "      <th>launched</th>\n",
              "      <th>pledged</th>\n",
              "      <th>state</th>\n",
              "      <th>backers</th>\n",
              "      <th>country</th>\n",
              "      <th>usd_pledged</th>\n",
              "      <th>usd_pledged_real</th>\n",
              "      <th>usd_goal_real</th>\n",
              "      <th>name_weirdness</th>\n",
              "    </tr>\n",
              "  </thead>\n",
              "  <tbody>\n",
              "    <tr>\n",
              "      <th>72483</th>\n",
              "      <td>1368992939</td>\n",
              "      <td>Santa's Sled</td>\n",
              "      <td>Art</td>\n",
              "      <td>Art</td>\n",
              "      <td>Technology</td>\n",
              "      <td>2012-08-27</td>\n",
              "      <td>3600.00</td>\n",
              "      <td>2012-07-26 03:31:28</td>\n",
              "      <td>3599.69</td>\n",
              "      <td>successful</td>\n",
              "      <td>64</td>\n",
              "      <td>US</td>\n",
              "      <td>3599.69</td>\n",
              "      <td>3599.69</td>\n",
              "      <td>3600.00</td>\n",
              "      <td>0</td>\n",
              "    </tr>\n",
              "    <tr>\n",
              "      <th>151490</th>\n",
              "      <td>1769772834</td>\n",
              "      <td>Borders of the Imagination - An Epic Sci-Fi/Fa...</td>\n",
              "      <td>Shorts</td>\n",
              "      <td>Film &amp; Video</td>\n",
              "      <td>Technology</td>\n",
              "      <td>2015-12-27</td>\n",
              "      <td>36000.00</td>\n",
              "      <td>2015-11-12 19:06:18</td>\n",
              "      <td>30716.00</td>\n",
              "      <td>successful</td>\n",
              "      <td>275</td>\n",
              "      <td>US</td>\n",
              "      <td>30716.00</td>\n",
              "      <td>30716.00</td>\n",
              "      <td>36000.00</td>\n",
              "      <td>0</td>\n",
              "    </tr>\n",
              "    <tr>\n",
              "      <th>232422</th>\n",
              "      <td>251325270</td>\n",
              "      <td>Documentary film about Les Blank.</td>\n",
              "      <td>Documentary</td>\n",
              "      <td>Film &amp; Video</td>\n",
              "      <td>Technology</td>\n",
              "      <td>2010-07-18</td>\n",
              "      <td>8000.00</td>\n",
              "      <td>2010-06-02 22:15:38</td>\n",
              "      <td>7999.65</td>\n",
              "      <td>successful</td>\n",
              "      <td>73</td>\n",
              "      <td>US</td>\n",
              "      <td>7999.65</td>\n",
              "      <td>7999.65</td>\n",
              "      <td>8000.00</td>\n",
              "      <td>0</td>\n",
              "    </tr>\n",
              "    <tr>\n",
              "      <th>275777</th>\n",
              "      <td>4732285</td>\n",
              "      <td>Insiders/Out: Exploring Outsider Art in America</td>\n",
              "      <td>Art</td>\n",
              "      <td>Art</td>\n",
              "      <td>Technology</td>\n",
              "      <td>2010-07-08</td>\n",
              "      <td>2000.00</td>\n",
              "      <td>2010-05-27 00:26:33</td>\n",
              "      <td>1999.66</td>\n",
              "      <td>successful</td>\n",
              "      <td>30</td>\n",
              "      <td>US</td>\n",
              "      <td>1999.66</td>\n",
              "      <td>1999.66</td>\n",
              "      <td>2000.00</td>\n",
              "      <td>0</td>\n",
              "    </tr>\n",
              "    <tr>\n",
              "      <th>335859</th>\n",
              "      <td>780863434</td>\n",
              "      <td>TUW Ruhla Watches - Comeback of a Legend</td>\n",
              "      <td>Product Design</td>\n",
              "      <td>Design</td>\n",
              "      <td>Design</td>\n",
              "      <td>2016-03-19</td>\n",
              "      <td>25000.00</td>\n",
              "      <td>2016-02-08 19:14:02</td>\n",
              "      <td>24892.50</td>\n",
              "      <td>successful</td>\n",
              "      <td>90</td>\n",
              "      <td>DE</td>\n",
              "      <td>27778.24</td>\n",
              "      <td>27765.07</td>\n",
              "      <td>27884.98</td>\n",
              "      <td>0</td>\n",
              "    </tr>\n",
              "  </tbody>\n",
              "</table>\n",
              "</div>"
            ],
            "text/plain": [
              "                ID  ... name_weirdness\n",
              "72483   1368992939  ...              0\n",
              "151490  1769772834  ...              0\n",
              "232422   251325270  ...              0\n",
              "275777     4732285  ...              0\n",
              "335859   780863434  ...              0\n",
              "\n",
              "[5 rows x 16 columns]"
            ]
          },
          "metadata": {
            "tags": []
          },
          "execution_count": 171
        }
      ]
    },
    {
      "cell_type": "markdown",
      "metadata": {
        "id": "pPRV6TjBPu8x",
        "colab_type": "text"
      },
      "source": [
        "¿ Cuál es el porcentaje de exitosos que alcanzaron el objetivo y el porcentaje de cuáles no?"
      ]
    },
    {
      "cell_type": "code",
      "metadata": {
        "id": "xp9lYkk-QBBj",
        "colab_type": "code",
        "colab": {
          "base_uri": "https://localhost:8080/",
          "height": 107
        },
        "outputId": "537977bc-d6b8-4ab7-ba45-4cc844010a41"
      },
      "source": [
        "df_exitosos_no= df_exitosos.ID.count()\n",
        "print(\"Cantidad de proyectos exitosos que no recaudaron el goal:\", df_exitosos_no)\n",
        "df_exitosos_si = kickstarter_2018[(kickstarter_2018.state == 'successful') & (kickstarter_2018.pledged >= kickstarter_2018.goal)].ID.count()\n",
        "print(\"Cantidad de proyectos exitosos que no recaudaron el goal:\", df_exitosos_si)\n",
        "df_exitosos_total= kickstarter_2018[(kickstarter_2018.state == 'successful')].ID.count()\n",
        "print(\"Cantidad de proyectos exitosos en total:\", df_exitosos_total)\n",
        "porcen_exitosos_no= round((df_exitosos_no/(df_exitosos_total) * 100), 3)\n",
        "porcen_exitosos_si = round((df_exitosos_si/(df_exitosos_total)* 100), 3)\n",
        "print(' El porcentaje de exitosos que alcanzaron el objetivo es de:',porcen_exitosos_si, ' % y de los que fueron exitosos y no alcanzaron:',porcen_exitosos_no,'%.')\n"
      ],
      "execution_count": 192,
      "outputs": [
        {
          "output_type": "stream",
          "text": [
            "Cantidad de proyectos exitosos que no recaudaron el goal: 5\n",
            "Cantidad de proyectos exitosos que no recaudaron el goal: 133951\n",
            "Cantidad de proyectos exitosos en total: 133956\n",
            " El porcentaje de exitosos que alcanzaron el objetivo es de: 99.996  % y de los que fueron exitosos y no alcanzaron: 0.004 %.\n"
          ],
          "name": "stdout"
        }
      ]
    },
    {
      "cell_type": "markdown",
      "metadata": {
        "id": "IFNWR8N6Y3ZQ",
        "colab_type": "text"
      },
      "source": [
        "Tabla con la cantidad de proyectos por categoría principal y estado"
      ]
    },
    {
      "cell_type": "code",
      "metadata": {
        "id": "cv4NfeMfY4So",
        "colab_type": "code",
        "colab": {}
      },
      "source": [
        "# terminar ejercicio se debe calcular la cantidad y luego pivotear\n",
        "df = kickstarter_2018.groupby('state')[['goal','pledged']].aggregate('mean')"
      ],
      "execution_count": 193,
      "outputs": []
    },
    {
      "cell_type": "markdown",
      "metadata": {
        "colab_type": "text",
        "id": "3ci4iq7MIXUq"
      },
      "source": [
        "## 2.6. Identificar y documentar valores atípicos/outliers\n"
      ]
    },
    {
      "cell_type": "markdown",
      "metadata": {
        "colab_type": "text",
        "id": "CFiuuPAlIXUq"
      },
      "source": [
        "Queremos analizar las características de los proyectos que obtienen dinero pero sin considerar los casos atípicos."
      ]
    },
    {
      "cell_type": "code",
      "metadata": {
        "colab_type": "code",
        "id": "krohU7VxIXUq",
        "colab": {
          "base_uri": "https://localhost:8080/",
          "height": 278
        },
        "outputId": "77f442ce-2bc7-4eca-ce6f-9e40cde3fb9b"
      },
      "source": [
        "%matplotlib inline\n",
        "kickstarter_2018.usd_pledged.hist();  # histograma de lo recaudado"
      ],
      "execution_count": 98,
      "outputs": [
        {
          "output_type": "display_data",
          "data": {
            "image/png": "[encoded data removed]",
            "text/plain": [
              "<Figure size 432x288 with 1 Axes>"
            ]
          },
          "metadata": {
            "tags": [],
            "needs_background": "light"
          }
        }
      ]
    },
    {
      "cell_type": "code",
      "metadata": {
        "colab_type": "code",
        "id": "4KNUgM_xIXUr",
        "colab": {
          "base_uri": "https://localhost:8080/",
          "height": 277
        },
        "outputId": "2a3d1592-ed0d-4bbd-9173-eb5cf29cd9f7"
      },
      "source": [
        "kickstarter_2018.boxplot(column='usd_pledged');  # gráfico de boxplot de lo recaudado para observar outliers"
      ],
      "execution_count": 100,
      "outputs": [
        {
          "output_type": "display_data",
          "data": {
            "image/png": "[encoded data removed]",
            "text/plain": [
              "<Figure size 432x288 with 1 Axes>"
            ]
          },
          "metadata": {
            "tags": [],
            "needs_background": "light"
          }
        }
      ]
    },
    {
      "cell_type": "markdown",
      "metadata": {
        "colab_type": "text",
        "id": "2JzBu_TmIXUw"
      },
      "source": [
        "\"There are many rules of thumb for how to define an outlier but there is no silver bullet. One rule of thumb is that any data point that is three standard deviations away from the mean of the same data point for all observations.\""
      ]
    },
    {
      "cell_type": "code",
      "metadata": {
        "colab_type": "code",
        "id": "crqXG6cQIXUx",
        "colab": {
          "base_uri": "https://localhost:8080/",
          "height": 779
        },
        "outputId": "95838f5f-e66e-44ea-c5de-3625aad3dc43"
      },
      "source": [
        "outliers = kickstarter_2018[kickstarter_2018.usd_pledged > (kickstarter_2018.usd_pledged.mean() + \n",
        "                                                            3 * kickstarter_2018.usd_pledged.std())]\n",
        "# cálculo los ourliers, es decir outliers serán aquellos mayores a la media más la() desviación estándar *3) de lo recaudado\n",
        "outliers"
      ],
      "execution_count": 99,
      "outputs": [
        {
          "output_type": "execute_result",
          "data": {
            "text/html": [
              "<div>\n",
              "<style scoped>\n",
              "    .dataframe tbody tr th:only-of-type {\n",
              "        vertical-align: middle;\n",
              "    }\n",
              "\n",
              "    .dataframe tbody tr th {\n",
              "        vertical-align: top;\n",
              "    }\n",
              "\n",
              "    .dataframe thead th {\n",
              "        text-align: right;\n",
              "    }\n",
              "</style>\n",
              "<table border=\"1\" class=\"dataframe\">\n",
              "  <thead>\n",
              "    <tr style=\"text-align: right;\">\n",
              "      <th></th>\n",
              "      <th>ID</th>\n",
              "      <th>name</th>\n",
              "      <th>category</th>\n",
              "      <th>main_category</th>\n",
              "      <th>currency</th>\n",
              "      <th>deadline</th>\n",
              "      <th>goal</th>\n",
              "      <th>launched</th>\n",
              "      <th>pledged</th>\n",
              "      <th>state</th>\n",
              "      <th>backers</th>\n",
              "      <th>country</th>\n",
              "      <th>usd_pledged</th>\n",
              "      <th>usd_pledged_real</th>\n",
              "      <th>usd_goal_real</th>\n",
              "      <th>name_weirdness</th>\n",
              "    </tr>\n",
              "  </thead>\n",
              "  <tbody>\n",
              "    <tr>\n",
              "      <th>154</th>\n",
              "      <td>1000629643</td>\n",
              "      <td>ODIN: Android 'Smart' Projector to Carry in Yo...</td>\n",
              "      <td>Hardware</td>\n",
              "      <td>Technology</td>\n",
              "      <td>Technology</td>\n",
              "      <td>2014-07-08</td>\n",
              "      <td>250000.00</td>\n",
              "      <td>2014-05-28 13:54:18</td>\n",
              "      <td>268192.00</td>\n",
              "      <td>successful</td>\n",
              "      <td>561</td>\n",
              "      <td>US</td>\n",
              "      <td>268192.00</td>\n",
              "      <td>268192.00</td>\n",
              "      <td>250000.00</td>\n",
              "      <td>0</td>\n",
              "    </tr>\n",
              "    <tr>\n",
              "      <th>175</th>\n",
              "      <td>1000725978</td>\n",
              "      <td>Air Bonsai | Create your \"little star\"</td>\n",
              "      <td>Product Design</td>\n",
              "      <td>Design</td>\n",
              "      <td>Technology</td>\n",
              "      <td>2016-03-01</td>\n",
              "      <td>80000.00</td>\n",
              "      <td>2016-01-21 12:18:00</td>\n",
              "      <td>843743.00</td>\n",
              "      <td>successful</td>\n",
              "      <td>3784</td>\n",
              "      <td>US</td>\n",
              "      <td>843743.00</td>\n",
              "      <td>843743.00</td>\n",
              "      <td>80000.00</td>\n",
              "      <td>0</td>\n",
              "    </tr>\n",
              "    <tr>\n",
              "      <th>330</th>\n",
              "      <td>1001502333</td>\n",
              "      <td>Pimax: The World's First 8K VR Headset</td>\n",
              "      <td>Hardware</td>\n",
              "      <td>Technology</td>\n",
              "      <td>Technology</td>\n",
              "      <td>2017-11-03</td>\n",
              "      <td>200000.00</td>\n",
              "      <td>2017-09-19 19:02:23</td>\n",
              "      <td>4236618.49</td>\n",
              "      <td>successful</td>\n",
              "      <td>5946</td>\n",
              "      <td>US</td>\n",
              "      <td>608194.00</td>\n",
              "      <td>4236618.49</td>\n",
              "      <td>200000.00</td>\n",
              "      <td>0</td>\n",
              "    </tr>\n",
              "    <tr>\n",
              "      <th>655</th>\n",
              "      <td>1003182869</td>\n",
              "      <td>RinseKit: The Revolutionary Portable Shower</td>\n",
              "      <td>Gadgets</td>\n",
              "      <td>Technology</td>\n",
              "      <td>Technology</td>\n",
              "      <td>2016-06-03</td>\n",
              "      <td>30000.00</td>\n",
              "      <td>2016-05-04 19:27:57</td>\n",
              "      <td>396299.00</td>\n",
              "      <td>successful</td>\n",
              "      <td>2412</td>\n",
              "      <td>US</td>\n",
              "      <td>396299.00</td>\n",
              "      <td>396299.00</td>\n",
              "      <td>30000.00</td>\n",
              "      <td>0</td>\n",
              "    </tr>\n",
              "    <tr>\n",
              "      <th>1185</th>\n",
              "      <td>1006008989</td>\n",
              "      <td>War for the Overworld</td>\n",
              "      <td>Video Games</td>\n",
              "      <td>Games</td>\n",
              "      <td>Fashion</td>\n",
              "      <td>2013-01-03</td>\n",
              "      <td>150000.00</td>\n",
              "      <td>2012-11-29 19:11:23</td>\n",
              "      <td>211371.50</td>\n",
              "      <td>successful</td>\n",
              "      <td>8351</td>\n",
              "      <td>GB</td>\n",
              "      <td>338527.51</td>\n",
              "      <td>338589.87</td>\n",
              "      <td>240280.65</td>\n",
              "      <td>0</td>\n",
              "    </tr>\n",
              "    <tr>\n",
              "      <th>...</th>\n",
              "      <td>...</td>\n",
              "      <td>...</td>\n",
              "      <td>...</td>\n",
              "      <td>...</td>\n",
              "      <td>...</td>\n",
              "      <td>...</td>\n",
              "      <td>...</td>\n",
              "      <td>...</td>\n",
              "      <td>...</td>\n",
              "      <td>...</td>\n",
              "      <td>...</td>\n",
              "      <td>...</td>\n",
              "      <td>...</td>\n",
              "      <td>...</td>\n",
              "      <td>...</td>\n",
              "      <td>...</td>\n",
              "    </tr>\n",
              "    <tr>\n",
              "      <th>377620</th>\n",
              "      <td>994834878</td>\n",
              "      <td>KP Duffle - The Ultimate Travel Bag</td>\n",
              "      <td>Product Design</td>\n",
              "      <td>Design</td>\n",
              "      <td>Technology</td>\n",
              "      <td>2016-03-04</td>\n",
              "      <td>15000.00</td>\n",
              "      <td>2016-01-19 17:00:36</td>\n",
              "      <td>624474.00</td>\n",
              "      <td>successful</td>\n",
              "      <td>3478</td>\n",
              "      <td>US</td>\n",
              "      <td>624474.00</td>\n",
              "      <td>624474.00</td>\n",
              "      <td>15000.00</td>\n",
              "      <td>0</td>\n",
              "    </tr>\n",
              "    <tr>\n",
              "      <th>377699</th>\n",
              "      <td>995248054</td>\n",
              "      <td>LYFE - Set your plants free</td>\n",
              "      <td>Product Design</td>\n",
              "      <td>Design</td>\n",
              "      <td>Technology</td>\n",
              "      <td>2016-07-01</td>\n",
              "      <td>80000.00</td>\n",
              "      <td>2016-06-01 18:53:37</td>\n",
              "      <td>328579.00</td>\n",
              "      <td>successful</td>\n",
              "      <td>1203</td>\n",
              "      <td>US</td>\n",
              "      <td>328579.00</td>\n",
              "      <td>328579.00</td>\n",
              "      <td>80000.00</td>\n",
              "      <td>0</td>\n",
              "    </tr>\n",
              "    <tr>\n",
              "      <th>377761</th>\n",
              "      <td>995551135</td>\n",
              "      <td>Infinity: Battlescape</td>\n",
              "      <td>Video Games</td>\n",
              "      <td>Games</td>\n",
              "      <td>Technology</td>\n",
              "      <td>2015-11-20</td>\n",
              "      <td>300000.00</td>\n",
              "      <td>2015-10-21 13:34:08</td>\n",
              "      <td>332620.81</td>\n",
              "      <td>successful</td>\n",
              "      <td>5828</td>\n",
              "      <td>US</td>\n",
              "      <td>332620.81</td>\n",
              "      <td>332620.81</td>\n",
              "      <td>300000.00</td>\n",
              "      <td>0</td>\n",
              "    </tr>\n",
              "    <tr>\n",
              "      <th>378084</th>\n",
              "      <td>997256071</td>\n",
              "      <td>SoftPanels LED Lights with Intelligent/Precise...</td>\n",
              "      <td>Camera Equipment</td>\n",
              "      <td>Technology</td>\n",
              "      <td>Technology</td>\n",
              "      <td>2016-05-08</td>\n",
              "      <td>30000.00</td>\n",
              "      <td>2016-04-08 22:18:23</td>\n",
              "      <td>394930.00</td>\n",
              "      <td>successful</td>\n",
              "      <td>213</td>\n",
              "      <td>US</td>\n",
              "      <td>394930.00</td>\n",
              "      <td>394930.00</td>\n",
              "      <td>30000.00</td>\n",
              "      <td>0</td>\n",
              "    </tr>\n",
              "    <tr>\n",
              "      <th>378285</th>\n",
              "      <td>99825633</td>\n",
              "      <td>Battle Systems™ Fantasy Dungeon Terrain</td>\n",
              "      <td>Tabletop Games</td>\n",
              "      <td>Games</td>\n",
              "      <td>Fashion</td>\n",
              "      <td>2014-09-21</td>\n",
              "      <td>21000.00</td>\n",
              "      <td>2014-08-22 21:00:15</td>\n",
              "      <td>198415.01</td>\n",
              "      <td>successful</td>\n",
              "      <td>1204</td>\n",
              "      <td>GB</td>\n",
              "      <td>328968.44</td>\n",
              "      <td>323583.63</td>\n",
              "      <td>34247.69</td>\n",
              "      <td>-1</td>\n",
              "    </tr>\n",
              "  </tbody>\n",
              "</table>\n",
              "<p>1201 rows × 16 columns</p>\n",
              "</div>"
            ],
            "text/plain": [
              "                ID  ... name_weirdness\n",
              "154     1000629643  ...              0\n",
              "175     1000725978  ...              0\n",
              "330     1001502333  ...              0\n",
              "655     1003182869  ...              0\n",
              "1185    1006008989  ...              0\n",
              "...            ...  ...            ...\n",
              "377620   994834878  ...              0\n",
              "377699   995248054  ...              0\n",
              "377761   995551135  ...              0\n",
              "378084   997256071  ...              0\n",
              "378285    99825633  ...             -1\n",
              "\n",
              "[1201 rows x 16 columns]"
            ]
          },
          "metadata": {
            "tags": []
          },
          "execution_count": 99
        }
      ]
    },
    {
      "cell_type": "code",
      "metadata": {
        "id": "A-pL647dbCPv",
        "colab_type": "code",
        "colab": {
          "base_uri": "https://localhost:8080/",
          "height": 267
        },
        "outputId": "34246877-5def-4f8d-b5f6-d6f2d68ad5db"
      },
      "source": [
        "kickstarter_2018.drop(outliers.index).boxplot(column='usd_pledged');  # gráfico de boxplot sin valores nulos para el valor recaudado"
      ],
      "execution_count": 101,
      "outputs": [
        {
          "output_type": "display_data",
          "data": {
            "image/png": "[encoded data removed]",
            "text/plain": [
              "<Figure size 432x288 with 1 Axes>"
            ]
          },
          "metadata": {
            "tags": [],
            "needs_background": "light"
          }
        }
      ]
    },
    {
      "cell_type": "code",
      "metadata": {
        "colab_type": "code",
        "id": "GUIlg7xXIXUz",
        "colab": {
          "base_uri": "https://localhost:8080/",
          "height": 301
        },
        "outputId": "2ab1d9b7-6bab-40fd-cfe0-a74d9a7b7b05"
      },
      "source": [
        "kickstarter_2018.drop(outliers.index).boxplot(column='usd_pledged',by='state'); # gráfico de"
      ],
      "execution_count": 102,
      "outputs": [
        {
          "output_type": "display_data",
          "data": {
            "image/png": "[encoded data removed]",
            "text/plain": [
              "<Figure size 432x288 with 1 Axes>"
            ]
          },
          "metadata": {
            "tags": [],
            "needs_background": "light"
          }
        }
      ]
    },
    {
      "cell_type": "markdown",
      "metadata": {
        "id": "hWspNfLRbCP4",
        "colab_type": "text"
      },
      "source": [
        "Analizar outliers por categorías"
      ]
    },
    {
      "cell_type": "code",
      "metadata": {
        "colab_type": "code",
        "id": "Q3sawM-JIXUx",
        "colab": {}
      },
      "source": [
        "kickstarter_2018.boxplot(column='usd_pledged',by='state');\n",
        "kickstarter_2018.boxplot(column='usd_goal_real',by='state');"
      ],
      "execution_count": null,
      "outputs": []
    },
    {
      "cell_type": "code",
      "metadata": {
        "id": "Uyltrb9YOTWM",
        "colab_type": "code",
        "colab": {
          "base_uri": "https://localhost:8080/",
          "height": 813
        },
        "outputId": "a6fa29dd-95a8-4b78-e1ca-7111fe0b20c6"
      },
      "source": [
        ""
      ],
      "execution_count": 158,
      "outputs": [
        {
          "output_type": "execute_result",
          "data": {
            "text/html": [
              "<div>\n",
              "<style scoped>\n",
              "    .dataframe tbody tr th:only-of-type {\n",
              "        vertical-align: middle;\n",
              "    }\n",
              "\n",
              "    .dataframe tbody tr th {\n",
              "        vertical-align: top;\n",
              "    }\n",
              "\n",
              "    .dataframe thead th {\n",
              "        text-align: right;\n",
              "    }\n",
              "</style>\n",
              "<table border=\"1\" class=\"dataframe\">\n",
              "  <thead>\n",
              "    <tr style=\"text-align: right;\">\n",
              "      <th></th>\n",
              "      <th>ID</th>\n",
              "      <th>name</th>\n",
              "      <th>category</th>\n",
              "      <th>main_category</th>\n",
              "      <th>currency</th>\n",
              "      <th>deadline</th>\n",
              "      <th>goal</th>\n",
              "      <th>launched</th>\n",
              "      <th>pledged</th>\n",
              "      <th>state</th>\n",
              "      <th>backers</th>\n",
              "      <th>country</th>\n",
              "      <th>usd_pledged</th>\n",
              "      <th>usd_pledged_real</th>\n",
              "      <th>usd_goal_real</th>\n",
              "      <th>name_weirdness</th>\n",
              "    </tr>\n",
              "  </thead>\n",
              "  <tbody>\n",
              "    <tr>\n",
              "      <th>29</th>\n",
              "      <td>100011318</td>\n",
              "      <td>My Moon - Animated Short Film</td>\n",
              "      <td>Animation</td>\n",
              "      <td>Film &amp; Video</td>\n",
              "      <td>Technology</td>\n",
              "      <td>2017-05-03</td>\n",
              "      <td>50000.00</td>\n",
              "      <td>2017-04-03 17:11:33</td>\n",
              "      <td>57577.31</td>\n",
              "      <td>successful</td>\n",
              "      <td>840</td>\n",
              "      <td>US</td>\n",
              "      <td>10120.00</td>\n",
              "      <td>57577.31</td>\n",
              "      <td>50000.00</td>\n",
              "      <td>0</td>\n",
              "    </tr>\n",
              "    <tr>\n",
              "      <th>32</th>\n",
              "      <td>1000120151</td>\n",
              "      <td>Feather Cast Furled Fly Fishing Leaders</td>\n",
              "      <td>Product Design</td>\n",
              "      <td>Design</td>\n",
              "      <td>Art</td>\n",
              "      <td>2015-08-22</td>\n",
              "      <td>2000.00</td>\n",
              "      <td>2015-07-23 03:09:43</td>\n",
              "      <td>2000.00</td>\n",
              "      <td>successful</td>\n",
              "      <td>18</td>\n",
              "      <td>AU</td>\n",
              "      <td>1473.62</td>\n",
              "      <td>1427.35</td>\n",
              "      <td>1427.35</td>\n",
              "      <td>0</td>\n",
              "    </tr>\n",
              "    <tr>\n",
              "      <th>41</th>\n",
              "      <td>1000153208</td>\n",
              "      <td>Phil Younger - Slow Down (Official Music Video)</td>\n",
              "      <td>Music</td>\n",
              "      <td>Music</td>\n",
              "      <td>Technology</td>\n",
              "      <td>2016-12-20</td>\n",
              "      <td>2100.00</td>\n",
              "      <td>2016-12-09 20:27:02</td>\n",
              "      <td>2100.00</td>\n",
              "      <td>successful</td>\n",
              "      <td>34</td>\n",
              "      <td>US</td>\n",
              "      <td>83.00</td>\n",
              "      <td>2100.00</td>\n",
              "      <td>2100.00</td>\n",
              "      <td>0</td>\n",
              "    </tr>\n",
              "    <tr>\n",
              "      <th>102</th>\n",
              "      <td>1000415969</td>\n",
              "      <td>Disaster Area: A Podcast</td>\n",
              "      <td>Radio &amp; Podcasts</td>\n",
              "      <td>Publishing</td>\n",
              "      <td>Technology</td>\n",
              "      <td>2016-12-28</td>\n",
              "      <td>1000.00</td>\n",
              "      <td>2016-11-28 17:58:04</td>\n",
              "      <td>1055.00</td>\n",
              "      <td>successful</td>\n",
              "      <td>19</td>\n",
              "      <td>US</td>\n",
              "      <td>0.00</td>\n",
              "      <td>1055.00</td>\n",
              "      <td>1000.00</td>\n",
              "      <td>0</td>\n",
              "    </tr>\n",
              "    <tr>\n",
              "      <th>116</th>\n",
              "      <td>1000490852</td>\n",
              "      <td>Carriage</td>\n",
              "      <td>Art</td>\n",
              "      <td>Art</td>\n",
              "      <td>Technology</td>\n",
              "      <td>2017-12-24</td>\n",
              "      <td>8000.00</td>\n",
              "      <td>2017-11-24 18:06:35</td>\n",
              "      <td>8360.00</td>\n",
              "      <td>successful</td>\n",
              "      <td>121</td>\n",
              "      <td>US</td>\n",
              "      <td>605.00</td>\n",
              "      <td>8360.00</td>\n",
              "      <td>8000.00</td>\n",
              "      <td>0</td>\n",
              "    </tr>\n",
              "    <tr>\n",
              "      <th>...</th>\n",
              "      <td>...</td>\n",
              "      <td>...</td>\n",
              "      <td>...</td>\n",
              "      <td>...</td>\n",
              "      <td>...</td>\n",
              "      <td>...</td>\n",
              "      <td>...</td>\n",
              "      <td>...</td>\n",
              "      <td>...</td>\n",
              "      <td>...</td>\n",
              "      <td>...</td>\n",
              "      <td>...</td>\n",
              "      <td>...</td>\n",
              "      <td>...</td>\n",
              "      <td>...</td>\n",
              "      <td>...</td>\n",
              "    </tr>\n",
              "    <tr>\n",
              "      <th>378567</th>\n",
              "      <td>999499675</td>\n",
              "      <td>Truly Gently presents Theatorium</td>\n",
              "      <td>Animation</td>\n",
              "      <td>Film &amp; Video</td>\n",
              "      <td>Comics</td>\n",
              "      <td>2013-12-12</td>\n",
              "      <td>5000.00</td>\n",
              "      <td>2013-11-15 15:59:13</td>\n",
              "      <td>5140.00</td>\n",
              "      <td>successful</td>\n",
              "      <td>58</td>\n",
              "      <td>CA</td>\n",
              "      <td>4907.96</td>\n",
              "      <td>4824.03</td>\n",
              "      <td>4692.63</td>\n",
              "      <td>0</td>\n",
              "    </tr>\n",
              "    <tr>\n",
              "      <th>378636</th>\n",
              "      <td>999877902</td>\n",
              "      <td>Little Saturday's Debut Album</td>\n",
              "      <td>Country &amp; Folk</td>\n",
              "      <td>Music</td>\n",
              "      <td>Comics</td>\n",
              "      <td>2014-12-17</td>\n",
              "      <td>5000.00</td>\n",
              "      <td>2014-11-17 17:50:12</td>\n",
              "      <td>5435.00</td>\n",
              "      <td>successful</td>\n",
              "      <td>78</td>\n",
              "      <td>CA</td>\n",
              "      <td>4814.88</td>\n",
              "      <td>4686.96</td>\n",
              "      <td>4311.83</td>\n",
              "      <td>0</td>\n",
              "    </tr>\n",
              "    <tr>\n",
              "      <th>378637</th>\n",
              "      <td>999878813</td>\n",
              "      <td>Ways to Look at the Moon</td>\n",
              "      <td>Shorts</td>\n",
              "      <td>Film &amp; Video</td>\n",
              "      <td>Technology</td>\n",
              "      <td>2017-10-13</td>\n",
              "      <td>10000.00</td>\n",
              "      <td>2017-08-29 06:57:28</td>\n",
              "      <td>10245.00</td>\n",
              "      <td>successful</td>\n",
              "      <td>123</td>\n",
              "      <td>US</td>\n",
              "      <td>145.00</td>\n",
              "      <td>10245.00</td>\n",
              "      <td>10000.00</td>\n",
              "      <td>0</td>\n",
              "    </tr>\n",
              "    <tr>\n",
              "      <th>378642</th>\n",
              "      <td>999929142</td>\n",
              "      <td>ÉPOUVANTAILS : 28mm Figurines de jeux pour KIN...</td>\n",
              "      <td>Tabletop Games</td>\n",
              "      <td>Games</td>\n",
              "      <td>Design</td>\n",
              "      <td>2017-10-31</td>\n",
              "      <td>1000.00</td>\n",
              "      <td>2017-10-04 11:26:44</td>\n",
              "      <td>1246.00</td>\n",
              "      <td>successful</td>\n",
              "      <td>35</td>\n",
              "      <td>FR</td>\n",
              "      <td>66.72</td>\n",
              "      <td>1452.47</td>\n",
              "      <td>1165.70</td>\n",
              "      <td>0</td>\n",
              "    </tr>\n",
              "    <tr>\n",
              "      <th>378652</th>\n",
              "      <td>999971898</td>\n",
              "      <td>Beach Wrestling Documentary</td>\n",
              "      <td>Documentary</td>\n",
              "      <td>Film &amp; Video</td>\n",
              "      <td>Journalism</td>\n",
              "      <td>2015-04-28</td>\n",
              "      <td>20000.00</td>\n",
              "      <td>2015-03-29 21:30:33</td>\n",
              "      <td>21500.00</td>\n",
              "      <td>successful</td>\n",
              "      <td>36</td>\n",
              "      <td>NO</td>\n",
              "      <td>2698.97</td>\n",
              "      <td>2875.83</td>\n",
              "      <td>2675.19</td>\n",
              "      <td>0</td>\n",
              "    </tr>\n",
              "  </tbody>\n",
              "</table>\n",
              "<p>26388 rows × 16 columns</p>\n",
              "</div>"
            ],
            "text/plain": [
              "                ID  ... name_weirdness\n",
              "29       100011318  ...              0\n",
              "32      1000120151  ...              0\n",
              "41      1000153208  ...              0\n",
              "102     1000415969  ...              0\n",
              "116     1000490852  ...              0\n",
              "...            ...  ...            ...\n",
              "378567   999499675  ...              0\n",
              "378636   999877902  ...              0\n",
              "378637   999878813  ...              0\n",
              "378642   999929142  ...              0\n",
              "378652   999971898  ...              0\n",
              "\n",
              "[26388 rows x 16 columns]"
            ]
          },
          "metadata": {
            "tags": []
          },
          "execution_count": 158
        }
      ]
    },
    {
      "cell_type": "markdown",
      "metadata": {
        "id": "CFK4zcNzbCP8",
        "colab_type": "text"
      },
      "source": [
        "#### Ejercicio 6\n",
        "\n",
        "Calcular los valores atípicos de 'usd_goal_real' y graficar los boxplots, con y sin estos valores por categoría"
      ]
    },
    {
      "cell_type": "code",
      "metadata": {
        "id": "maDR1db2N1qO",
        "colab_type": "code",
        "colab": {}
      },
      "source": [
        "kickstarter_2018[(kickstarter_2018.state == 'succesfull') & (kickstarter_2018.usd_pledged < goal)] "
      ],
      "execution_count": null,
      "outputs": []
    },
    {
      "cell_type": "markdown",
      "metadata": {
        "colab_type": "text",
        "id": "oGI_4tR0IXUz"
      },
      "source": [
        "## 2.7. Evaluar cómo comprimir los datos \n",
        "para su almacenamiento más eficiente.\n",
        "\n",
        "En la actualidad, en las nubes el almacenamiento no suele ser problema sino la velocidad para leerlo que suele ser determinante a la hora de determinar el formato de almacenamiento.\n"
      ]
    },
    {
      "cell_type": "markdown",
      "metadata": {
        "colab_type": "text",
        "id": "9y8QxZwdIXU0"
      },
      "source": [
        "## 2.8. Guardar el set de datos con un nombre informativo.\n"
      ]
    },
    {
      "cell_type": "markdown",
      "metadata": {
        "colab_type": "text",
        "id": "3aaOkntbIXU0"
      },
      "source": [
        "EL problema de la ingeniería de software"
      ]
    }
  ]
}